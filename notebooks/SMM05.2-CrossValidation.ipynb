{
 "cells": [
  {
   "cell_type": "markdown",
   "metadata": {
    "collapsed": true
   },
   "source": [
    "# Social Media Mining: Cross-Validation\n",
    "### Vincent Malic - Spring 2018\n",
    "## Module 5.1 Cross-Validation\n",
    "\n",
    "## Selecting model hyperparameters\n",
    "* Goal of statistical learning is to build models that **generalize well**\n",
    "* Split Iris dataset into train / test sets; use kNN classifier to predict Iris species\n",
    "* Select best value of ``k`` based on plot of accuracy of different models\n",
    "\n",
    "### CAUTION about select parameters\n",
    "* Choosing parameter values based on training set may lead to overfitting\n",
    "* Test set should *only* be used to evaluate performance of final model \n",
    "\n",
    "## Solution 1:  Training, Validation, and Test sets \n",
    "1. Split your data into training and testing data. Set the testing data aside, don't look at it until you're ready for a final evaluation. \n",
    "2. Split your *training* data into two sets: (a) Train on one, (b) evaluate model and adjust hyperparameters accordingly. \n",
    "\n",
    "### Validation set\n",
    "* https://en.wikipedia.org/wiki/Test_set#Validation_set \n",
    "* Use validation set to find the best hyperparameters according to performance on the validation set. \n",
    "* Researchers use 60/20/20 split: 60% training, 20% validatation, 20% test set. \n",
    "\n",
    "## Solution 2: K-Fold Cross Validation\n",
    "* Repeatedly sample your dataset, drawing off subsets of size k for validation:\n",
    "\n",
    "1. Randomly split your data, designating one piece as testing data. Set that aside. \n",
    "2. Shuffle the remaining (non-testing) data. \n",
    "3. Divide it into k equally-sized sets. Let's say in our case k is 10. We call these equally sized sets **folds**. \n",
    "4. Let the first 9 folds be the training set, and the 10th be the validation set. Train on the first 9 folds and get an evaluation metric like accuracy on the 10th. \n",
    "5. Then, let the 9th fold be the validation set. Train on folds 1-8 and 10, evaluate on the 9th. \n",
    "6. Then, let the 8th fold be the validation set. Train on sets 1-7 and 9-10, evaluate on the 8th. \n",
    "7. And so on, until you run out of folds. \n",
    "8. When your done, you have 10 accuracy values, one for each fold. Calculate the average of those accuracies and you have an idea of how your model performs on 10 different validation sets. \n",
    "\n",
    "#### Visualization of the 10-fold cross validation: \n",
    "\n",
    "<img src=\"http://ella.ils.indiana.edu/~vmalic/z639/10_fold_cv.png\">\n",
    "\n",
    "### How does this work? \n",
    "* With one validation set, we might overfit to the validation set. \n",
    "* By performing k-fold cross validation, we get multiple accuracies. \n",
    "* Take the average of multiple model accuracies for k-1 datasets. \n",
    "\n",
    "## Choosing K-folds (not neighbors)\n",
    "Consider number of samples in dataset:\n",
    "* For 1000-fold CV, each validation set will have small amount of data, accuracies may vary quite a bit. \n",
    "* 2-fold CV will have many samples in validation set, but only get two accuracies. \n",
    "* 5-fold or 10-fold CV commonly used. \n",
    "\n",
    "# K-fold Cross Validation in Scikit-Learn\n",
    "* Train kNN classifier Iris data, using ``k=5``. \n",
    "* Spllit data into 67/33 train test sets\n",
    "* With 150 samples, test set of 50. "
   ]
  },
  {
   "cell_type": "code",
   "execution_count": 1,
   "metadata": {},
   "outputs": [
    {
     "name": "stdout",
     "output_type": "stream",
     "text": [
      "(100, 4)\n",
      "(50, 4)\n"
     ]
    }
   ],
   "source": [
    "import numpy as np\n",
    "\n",
    "np.random.seed(3057)\n",
    "\n",
    "from sklearn.datasets import load_iris\n",
    "from sklearn.model_selection import train_test_split\n",
    "\n",
    "iris = load_iris()\n",
    "X = iris.data\n",
    "y = iris.target\n",
    "\n",
    "X_train, X_test, y_train, y_test = train_test_split(X, y, test_size=0.33, random_state=1234)\n",
    "print(X_train.shape)\n",
    "print(X_test.shape)"
   ]
  },
  {
   "cell_type": "markdown",
   "metadata": {},
   "source": [
    "### Initialize Nearest Neighbor Classifier."
   ]
  },
  {
   "cell_type": "code",
   "execution_count": 2,
   "metadata": {
    "collapsed": true
   },
   "outputs": [],
   "source": [
    "from sklearn.neighbors import KNeighborsClassifier\n",
    "\n",
    "clf = KNeighborsClassifier(n_neighbors=5)"
   ]
  },
  {
   "cell_type": "markdown",
   "metadata": {},
   "source": [
    "### Import ``cross_val_score``  function from sklearn \n",
    "Five parameters for ``cross_val_score``\n",
    "1. The untrained model. In our case, this is the variable ``clf``.\n",
    "2. The training data, ``X_train``. ``cross_val_score`` will generate the validation sets automatically.\n",
    "3. The training labels, ``y_train``. \n",
    "4. A parameter called ``scoring`` which takes a string as its value. This indicates *what kind of metric* you want to use. The string `accuracy` uses accuracy. The string ``r2`` will calculate R-squared for regression problems. A full list of strings for metrics you can use can be [found here](http://scikit-learn.org/stable/modules/model_evaluation.html#common-cases-predefined-values). \n",
    "5. A parameter called ``cv`` indicating the number of folds. \n",
    "\n",
    "### Perform 10-fold cross validation on Training data. \n",
    "* I'm going to use accuracy as the scoring metric (but I could use F1 scores or recall or whatever if I wanted).\n",
    "* ``cross_val_score`` teturns a list that is the same length as the parameter ``cv``. \n",
    "* Lists the evaluation metric obtained for each fold."
   ]
  },
  {
   "cell_type": "code",
   "execution_count": 3,
   "metadata": {},
   "outputs": [
    {
     "name": "stdout",
     "output_type": "stream",
     "text": [
      "[ 1.          1.          1.          0.8         0.88888889  0.88888889\n",
      "  1.          0.88888889  1.          1.        ]\n"
     ]
    }
   ],
   "source": [
    "from sklearn.model_selection import cross_val_score\n",
    "\n",
    "cv_scores = cross_val_score(clf, X_train, y_train, scoring=\"accuracy\", cv=10)\n",
    "print(cv_scores)"
   ]
  },
  {
   "cell_type": "markdown",
   "metadata": {},
   "source": [
    "### Take average of the Validation sets.\n",
    "* Some models did well, and some didn't do as well. \n",
    "* Composite score gives indication of how well classifier did over all folds:\n",
    "* Overall, we have pretty high score for ``k=5`` folds CV "
   ]
  },
  {
   "cell_type": "code",
   "execution_count": 4,
   "metadata": {},
   "outputs": [
    {
     "name": "stdout",
     "output_type": "stream",
     "text": [
      "0.946666666667\n"
     ]
    }
   ],
   "source": [
    "print(np.mean(cv_scores))"
   ]
  },
  {
   "cell_type": "markdown",
   "metadata": {},
   "source": [
    "# Use k-fold CV for Hyperparameter Optimization\n",
    "* Original problem: Find optimal value for ``k``?\n",
    "* First select a set of candidate values for ``k``. \n",
    "* E.g., every odd number from 1 to 50. "
   ]
  },
  {
   "cell_type": "code",
   "execution_count": 5,
   "metadata": {
    "collapsed": true
   },
   "outputs": [],
   "source": [
    "k_candidates = np.arange(1, 50, 2)"
   ]
  },
  {
   "cell_type": "markdown",
   "metadata": {},
   "source": [
    "## For *each hyperparameter candidate*\n",
    "* Run k-fold cross validation, using 10 folds for this example.  \n",
    "* Get and save the average accuracy attained during each CV. \n",
    "* Hyperparameter with highest average accuracy is optimal value for k. \n",
    "\n",
    "### Finally, using only that value of ``k``, \n",
    "* Evaluate on the held-out test data. \n",
    "* This is final accuracy you report to your boss or in research paper. \n",
    "* Do this using scikit-learn:"
   ]
  },
  {
   "cell_type": "code",
   "execution_count": 6,
   "metadata": {},
   "outputs": [],
   "source": [
    "average_accuracies = []\n",
    "\n",
    "for k in k_candidates:\n",
    "    clf = KNeighborsClassifier(n_neighbors=k)\n",
    "    cv_scores = cross_val_score(clf, X_train, y_train, scoring=\"accuracy\", cv=10)\n",
    "    average_accuracy = np.mean(cv_scores)\n",
    "    average_accuracies.append(average_accuracy)"
   ]
  },
  {
   "cell_type": "markdown",
   "metadata": {},
   "source": [
    "### Explore average accuracies for value of k using visualization."
   ]
  },
  {
   "cell_type": "code",
   "execution_count": 8,
   "metadata": {},
   "outputs": [
    {
     "data": {
      "image/png": "[encoded data removed]",
      "text/plain": [
       "<matplotlib.figure.Figure at 0x118107e48>"
      ]
     },
     "metadata": {},
     "output_type": "display_data"
    }
   ],
   "source": [
    "%matplotlib inline\n",
    "import matplotlib.pyplot as plt\n",
    "plt.ioff()\n",
    "\n",
    "plt.plot(k_candidates, average_accuracies)\n",
    "plt.title(\"Average 10-fold CV Accuracy\")\n",
    "plt.xlabel(\"Value for k in kNN\")\n",
    "plt.ylabel(\"Accuracy\")\n",
    "\n",
    "plt.show()"
   ]
  },
  {
   "cell_type": "markdown",
   "metadata": {},
   "source": [
    "### Optimal performance is between 5 and 20\n",
    "* Best value we achieved was at ``k=15``, with an accuracy of 96%.\n",
    "* Train our final classifier on all Training data with ``k=15``\n",
    "* See how well it performs on the held-out test data. "
   ]
  },
  {
   "cell_type": "code",
   "execution_count": 9,
   "metadata": {},
   "outputs": [
    {
     "name": "stdout",
     "output_type": "stream",
     "text": [
      "Final Test Set Accuracy:\n",
      "0.98\n"
     ]
    }
   ],
   "source": [
    "from sklearn.metrics import accuracy_score, confusion_matrix\n",
    "\n",
    "clf = KNeighborsClassifier(n_neighbors=15)\n",
    "clf.fit(X_train, y_train)\n",
    "y_pred = clf.predict(X_test)\n",
    "print(\"Final Test Set Accuracy:\")\n",
    "print(accuracy_score(y_test, y_pred))"
   ]
  },
  {
   "cell_type": "markdown",
   "metadata": {},
   "source": [
    "### 15-NN model generalized quite well\n",
    "* Cross-validation determined the best value of k\n",
    "* We are certain that the test data is truly unseen data. \n",
    "\n",
    "## Confusion Matrix:"
   ]
  },
  {
   "cell_type": "code",
   "execution_count": 10,
   "metadata": {},
   "outputs": [
    {
     "data": {
      "text/plain": [
       "array([[17,  0,  0],\n",
       "       [ 0, 16,  1],\n",
       "       [ 0,  0, 16]])"
      ]
     },
     "execution_count": 10,
     "metadata": {},
     "output_type": "execute_result"
    }
   ],
   "source": [
    "confusion_matrix(y_test, y_pred)"
   ]
  },
  {
   "cell_type": "markdown",
   "metadata": {},
   "source": [
    "### Evaluate Model on Test Set\n",
    "* Of 50 test samples, every one was classified correctly, except for one \n",
    "* A single instance of *Versicolor* erroneously classified as *Virginica*. \n",
    "\n",
    "\n",
    "## Use k-fold CV for different models (not just kNN)\n",
    "* Cross validation can be used to optimize *any* model that uses hyperparameters. \n",
    "\n",
    "### Hyperparameter ``C`` in SVM:  \n",
    "* Generate some candidates for ``C`` and find k-fold CV accuracies for each value. \n",
    "* Choose a value for ``C`` that gets the highest accuracy.\n",
    "\n",
    "### Non-numeric Hyperparameter in SVM: \n",
    "* Use k-fold CV with type of kernel (e.g., linear, rbf, or poly). \n",
    "* Same principle applies: Do k-fold CV for each of the kernels\n",
    "* Find value that has the best average accuracy."
   ]
  }
 ],
 "metadata": {
  "anaconda-cloud": {},
  "kernelspec": {
   "display_name": "Python 3",
   "language": "python",
   "name": "python3"
  },
  "language_info": {
   "codemirror_mode": {
    "name": "ipython",
    "version": 3
   },
   "file_extension": ".py",
   "mimetype": "text/x-python",
   "name": "python",
   "nbconvert_exporter": "python",
   "pygments_lexer": "ipython3",
   "version": "3.6.1"
  }
 },
 "nbformat": 4,
 "nbformat_minor": 1
}
