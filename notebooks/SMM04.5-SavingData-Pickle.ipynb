{
 "cells": [
  {
   "cell_type": "markdown",
   "metadata": {},
   "source": [
    "# Social Media Mining: Saving Data\n",
    "### Vincent Malic - Spring 2018\n",
    "\n",
    "## Part V. Saving Data as File with `Pickle` library\n",
    "There are many ways to save the data you've collected as a file onto your computer. When working on your final projects, you'll probably want to comparmentalize the code you use to *get* the data, the code you use to *process* it, and the code you use to *analyze* it. To accomplish this, you'll need a way to save your data *as files* so you have a persistent form of the data that you can pass from one piece of code to another (or from one person to another, if you're working in a group).\n",
    "\n",
    "In this tutorial, we'll cover one of the easier ways to save and load data, using a module called ``pickle``. Later on on the course, we'll learn how to use the data-structure library called ``pandas`` which will provide us with more options. \n",
    "\n",
    "## First, Get some Data. \n",
    "* Assign variables for API key and secret\n",
    "* Import Tweepy and assign key, secret to aliases"
   ]
  },
  {
   "cell_type": "code",
   "execution_count": 1,
   "metadata": {
    "collapsed": true
   },
   "outputs": [],
   "source": [
    "API_KEY = \"\"\n",
    "API_SECRET = \"\""
   ]
  },
  {
   "cell_type": "code",
   "execution_count": 2,
   "metadata": {
    "collapsed": true
   },
   "outputs": [],
   "source": [
    "import tweepy\n",
    "auth = tweepy.AppAuthHandler(API_KEY, API_SECRET)\n",
    "api = tweepy.API(auth, wait_on_rate_limit=True, wait_on_rate_limit_notify=True)"
   ]
  },
  {
   "cell_type": "markdown",
   "metadata": {},
   "source": [
    "### In homage of first study we discussed in class\n",
    "* Pull 100 tweets each from campaign accounts of Clinton and Trump. \n",
    "* Initialize empty lists\n",
    "* Iterate over tweepy.Cursor object, with user_timeline method, indicating user id\n",
    "* From user status, select text, favorite_count, retweet_count, status.source"
   ]
  },
  {
   "cell_type": "code",
   "execution_count": 3,
   "metadata": {
    "collapsed": true
   },
   "outputs": [],
   "source": [
    "clinton_tweets = []\n",
    "trump_tweets = []\n",
    "\n",
    "for status in tweepy.Cursor(api.user_timeline, id=\"HillaryClinton\").items(100):\n",
    "    clinton_tweets.append((status.text, status.favorite_count, status.retweet_count, status.source))\n",
    "    \n",
    "for status in tweepy.Cursor(api.user_timeline, id=\"realDonaldTrump\").items(100):\n",
    "    trump_tweets.append((status.text, status.favorite_count, status.retweet_count, status.source))"
   ]
  },
  {
   "cell_type": "code",
   "execution_count": 5,
   "metadata": {},
   "outputs": [
    {
     "name": "stdout",
     "output_type": "stream",
     "text": [
      "('Tune in today at 2:30pm ET/11:30am PT! https://t.co/rnrRfjlsAI', 9299, 1512, 'Twitter for iPhone')\n",
      "**************************************************\n",
      "('Thank you to Sue Kruczek, who lost her wonderful and talented son Nick to the Opioid scourge, for your kind words w… https://t.co/0kIdepXBdi', 62961, 12798, 'Twitter for iPhone')\n"
     ]
    }
   ],
   "source": [
    "print(clinton_tweets[1])\n",
    "print(\"*\"*50)\n",
    "print(trump_tweets[1])"
   ]
  },
  {
   "cell_type": "markdown",
   "metadata": {},
   "source": [
    "### Now we've got data. \n",
    "* 100 tweets from Clinton and Trump, for each tweet we have 4 features: text, favorite count, retweet count, and source. \n",
    "* Now, we want to save it and be able to load data to whatever other programs we write to process and analyze the text, without having to run this data-getting algorithm again. \n",
    "* How do we do that?\n",
    "\n",
    "## Use the ``pickle`` module \n",
    "* Save data in a binary file on our computer. \n",
    "* Import module with alias ``pkl``  "
   ]
  },
  {
   "cell_type": "code",
   "execution_count": 6,
   "metadata": {
    "collapsed": true
   },
   "outputs": [],
   "source": [
    "import pickle as pkl"
   ]
  },
  {
   "cell_type": "markdown",
   "metadata": {},
   "source": [
    "## Save your data as a file:\n",
    "* Two arguments; first argument is the name of \n",
    "* Second argument is a function, open(), that itself takes two arguments \n",
    "* Enter the file name you want to save it to `.pkl`, and ``wb`` means WRITE, BINARY. \n",
    "* Save  Clinton tweets to clinton.pkl and the Trump tweets to trump.pkl.\n",
    "```\n",
    "pkl.dump([the variable you want to save], open([the name of the file to save to], \"wb\"))\n",
    "```"
   ]
  },
  {
   "cell_type": "code",
   "execution_count": 7,
   "metadata": {
    "collapsed": true
   },
   "outputs": [],
   "source": [
    "pkl.dump(clinton_tweets, open(\"clinton.pkl\", \"wb\"))\n",
    "pkl.dump(trump_tweets, open(\"trump.pkl\", \"wb\"))"
   ]
  },
  {
   "cell_type": "markdown",
   "metadata": {},
   "source": [
    "Now I'm going to use some Python code to delete the ``clinton_tweets`` and ``trump_tweets`` variables from Python."
   ]
  },
  {
   "cell_type": "code",
   "execution_count": 8,
   "metadata": {
    "collapsed": true
   },
   "outputs": [],
   "source": [
    "del clinton_tweets\n",
    "del trump_tweets"
   ]
  },
  {
   "cell_type": "markdown",
   "metadata": {},
   "source": [
    "The data we collected is gone, vanished."
   ]
  },
  {
   "cell_type": "code",
   "execution_count": 9,
   "metadata": {},
   "outputs": [
    {
     "ename": "NameError",
     "evalue": "name 'clinton_tweets' is not defined",
     "output_type": "error",
     "traceback": [
      "\u001b[0;31m---------------------------------------------------------------------------\u001b[0m",
      "\u001b[0;31mNameError\u001b[0m                                 Traceback (most recent call last)",
      "\u001b[0;32m<ipython-input-9-88cd9b4e7db2>\u001b[0m in \u001b[0;36m<module>\u001b[0;34m()\u001b[0m\n\u001b[0;32m----> 1\u001b[0;31m \u001b[0mclinton_tweets\u001b[0m\u001b[0;34m\u001b[0m\u001b[0m\n\u001b[0m",
      "\u001b[0;31mNameError\u001b[0m: name 'clinton_tweets' is not defined"
     ]
    }
   ],
   "source": [
    "clinton_tweets"
   ]
  },
  {
   "cell_type": "markdown",
   "metadata": {},
   "source": [
    "## Retreive the data from file\n",
    "* All we have to do is load it. \n",
    "* `pkl.load(open([the name of the file to load], \"rb\"))`\n",
    "\n",
    "### Look at second argument of open() function\n",
    "* Use pkl `load` method, with `open()` function\n",
    "* Arguments: indicate file name to read, and ``rb`` means READ, BINARY\n",
    "* CAUTION: do not mistake using ``rb`` when WRITING a pickle and ``wb`` when READING a pickle. \n",
    "\n",
    "##### Avoid at all costs!!!"
   ]
  },
  {
   "cell_type": "code",
   "execution_count": 10,
   "metadata": {
    "collapsed": true
   },
   "outputs": [],
   "source": [
    "new_clinton = pkl.load(open(\"clinton.pkl\", \"rb\"))\n",
    "new_trump = pkl.load(open(\"trump.pkl\", \"rb\"))"
   ]
  },
  {
   "cell_type": "markdown",
   "metadata": {},
   "source": [
    "### Our data is back."
   ]
  },
  {
   "cell_type": "code",
   "execution_count": 12,
   "metadata": {},
   "outputs": [
    {
     "name": "stdout",
     "output_type": "stream",
     "text": [
      "('Tune in today at 2:30pm ET/11:30am PT! https://t.co/rnrRfjlsAI', 9299, 1512, 'Twitter for iPhone')\n",
      "**************************************************\n",
      "('Thank you to Sue Kruczek, who lost her wonderful and talented son Nick to the Opioid scourge, for your kind words w… https://t.co/0kIdepXBdi', 62961, 12798, 'Twitter for iPhone')\n"
     ]
    }
   ],
   "source": [
    "print(new_clinton[1])\n",
    "print(\"*\"*50)\n",
    "print(new_trump[1])"
   ]
  },
  {
   "cell_type": "code",
   "execution_count": null,
   "metadata": {
    "collapsed": true
   },
   "outputs": [],
   "source": []
  }
 ],
 "metadata": {
  "anaconda-cloud": {},
  "kernelspec": {
   "display_name": "Python 3",
   "language": "python",
   "name": "python3"
  },
  "language_info": {
   "codemirror_mode": {
    "name": "ipython",
    "version": 3
   },
   "file_extension": ".py",
   "mimetype": "text/x-python",
   "name": "python",
   "nbconvert_exporter": "python",
   "pygments_lexer": "ipython3",
   "version": "3.6.1"
  }
 },
 "nbformat": 4,
 "nbformat_minor": 1
}
