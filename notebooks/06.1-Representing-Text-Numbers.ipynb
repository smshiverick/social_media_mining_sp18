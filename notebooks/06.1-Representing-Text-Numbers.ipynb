{
 "cells": [
  {
   "cell_type": "markdown",
   "metadata": {},
   "source": [
    "# Social Media Mining: Text and Numbers\n",
    "### Vincent Malic - Spring 2018\n",
    "\n",
    "## Part I. Representing Text as Numbers\n",
    "* Dataset of entirely categorical features that we will use.\n",
    "* Four instances, 3 features, categorical text responses\n",
    "* Represent it numerically using method of one-hot encoding."
   ]
  },
  {
   "cell_type": "code",
   "execution_count": 1,
   "metadata": {},
   "outputs": [
    {
     "data": {
      "text/html": [
       "<div>\n",
       "<style>\n",
       "    .dataframe thead tr:only-child th {\n",
       "        text-align: right;\n",
       "    }\n",
       "\n",
       "    .dataframe thead th {\n",
       "        text-align: left;\n",
       "    }\n",
       "\n",
       "    .dataframe tbody tr th {\n",
       "        vertical-align: top;\n",
       "    }\n",
       "</style>\n",
       "<table border=\"1\" class=\"dataframe\">\n",
       "  <thead>\n",
       "    <tr style=\"text-align: right;\">\n",
       "      <th></th>\n",
       "      <th>gender</th>\n",
       "      <th>continent</th>\n",
       "      <th>browser</th>\n",
       "    </tr>\n",
       "  </thead>\n",
       "  <tbody>\n",
       "    <tr>\n",
       "      <th>0</th>\n",
       "      <td>male</td>\n",
       "      <td>Europe</td>\n",
       "      <td>Internet Explorer</td>\n",
       "    </tr>\n",
       "    <tr>\n",
       "      <th>1</th>\n",
       "      <td>female</td>\n",
       "      <td>Europe</td>\n",
       "      <td>Firefox</td>\n",
       "    </tr>\n",
       "    <tr>\n",
       "      <th>2</th>\n",
       "      <td>male</td>\n",
       "      <td>Asia</td>\n",
       "      <td>Internet Explorer</td>\n",
       "    </tr>\n",
       "    <tr>\n",
       "      <th>3</th>\n",
       "      <td>male</td>\n",
       "      <td>Asia</td>\n",
       "      <td>Internet Explorer</td>\n",
       "    </tr>\n",
       "    <tr>\n",
       "      <th>4</th>\n",
       "      <td>female</td>\n",
       "      <td>North America</td>\n",
       "      <td>Chrome</td>\n",
       "    </tr>\n",
       "    <tr>\n",
       "      <th>5</th>\n",
       "      <td>female</td>\n",
       "      <td>North America</td>\n",
       "      <td>Firefox</td>\n",
       "    </tr>\n",
       "  </tbody>\n",
       "</table>\n",
       "</div>"
      ],
      "text/plain": [
       "   gender      continent            browser\n",
       "0    male         Europe  Internet Explorer\n",
       "1  female         Europe            Firefox\n",
       "2    male           Asia  Internet Explorer\n",
       "3    male           Asia  Internet Explorer\n",
       "4  female  North America             Chrome\n",
       "5  female  North America            Firefox"
      ]
     },
     "execution_count": 1,
     "metadata": {},
     "output_type": "execute_result"
    }
   ],
   "source": [
    "import pandas as pd\n",
    "\n",
    "df = pd.DataFrame([\n",
    "        [\"male\", \"Europe\", \"Internet Explorer\"],\n",
    "        [\"female\", \"Europe\", \"Firefox\"],\n",
    "        [\"male\", \"Asia\", \"Internet Explorer\"],\n",
    "        [\"male\", \"Asia\", \"Internet Explorer\"],\n",
    "        [\"female\", \"North America\", \"Chrome\"],\n",
    "        [\"female\", \"North America\", \"Firefox\"]\n",
    "    ], columns=[\"gender\", \"continent\", \"browser\"])\n",
    "\n",
    "df"
   ]
  },
  {
   "cell_type": "markdown",
   "metadata": {},
   "source": [
    "## One-hot encoding: Label binarization (dummy coding)\n",
    "For a given categorical feature (e.g., \"Continent\") with $n$ possible labels, \n",
    "* For each label, make $n$ new features, one for each label. \n",
    "* Feature takes a value of $1$ that corresponds to the label of datapoint, and $0$ Otherwise\n",
    "* Use sklearn tool called ``LabelBinarizer``."
   ]
  },
  {
   "cell_type": "code",
   "execution_count": 2,
   "metadata": {
    "collapsed": true
   },
   "outputs": [],
   "source": [
    "from sklearn.preprocessing import LabelBinarizer\n",
    "lb = LabelBinarizer()"
   ]
  },
  {
   "cell_type": "markdown",
   "metadata": {},
   "source": [
    "Use `Label Binarizer instance` created, ``lb``, on ``continent`` feature to demonstrate one-hot encoding. "
   ]
  },
  {
   "cell_type": "code",
   "execution_count": 3,
   "metadata": {
    "collapsed": true
   },
   "outputs": [],
   "source": [
    "new_cont = lb.fit_transform(df['continent'])"
   ]
  },
  {
   "cell_type": "code",
   "execution_count": 4,
   "metadata": {},
   "outputs": [
    {
     "data": {
      "text/plain": [
       "array([[0, 1, 0],\n",
       "       [0, 1, 0],\n",
       "       [1, 0, 0],\n",
       "       [1, 0, 0],\n",
       "       [0, 0, 1],\n",
       "       [0, 0, 1]])"
      ]
     },
     "execution_count": 4,
     "metadata": {},
     "output_type": "execute_result"
    }
   ],
   "source": [
    "new_cont"
   ]
  },
  {
   "cell_type": "markdown",
   "metadata": {},
   "source": [
    "### Label binarizer created three new features (columns). \n",
    "* Each column corresponds to one of the three possible labels: Europe, Asia, North America. \n",
    "* In ``new_cont``, second column Europe has a value of 1, while other two have values of 0. \n",
    "* In the 3rd row, the first column (Asia) has a value of 1 and the other two have values of 0. \n",
    "\n",
    "Whatever your label was in original data, you get a value of 1 in the column corresponding to that label in the one-hot encoding, and a 0 in the other columns. \n",
    "\n",
    "### Can use one-hot encoding on a feature with many labels. \n",
    "* With new representation, may be hard to figure out which column corresponds to which label. \n",
    "* Fortunately, the Label Binarizer object - in this case ``lb`` - stores that information. "
   ]
  },
  {
   "cell_type": "code",
   "execution_count": 5,
   "metadata": {},
   "outputs": [
    {
     "data": {
      "text/plain": [
       "array(['Asia', 'Europe', 'North America'], \n",
       "      dtype='<U13')"
      ]
     },
     "execution_count": 5,
     "metadata": {},
     "output_type": "execute_result"
    }
   ],
   "source": [
    "lb.classes_"
   ]
  },
  {
   "cell_type": "markdown",
   "metadata": {},
   "source": [
    "## Dummy Variable encoding\n",
    "* First column represents Asia\n",
    "* Second column represents Europe\n",
    "* Third represents North America \n",
    "\n",
    "### Convert the one-hot encoding variables into a data frame."
   ]
  },
  {
   "cell_type": "code",
   "execution_count": 6,
   "metadata": {},
   "outputs": [
    {
     "data": {
      "text/html": [
       "<div>\n",
       "<style>\n",
       "    .dataframe thead tr:only-child th {\n",
       "        text-align: right;\n",
       "    }\n",
       "\n",
       "    .dataframe thead th {\n",
       "        text-align: left;\n",
       "    }\n",
       "\n",
       "    .dataframe tbody tr th {\n",
       "        vertical-align: top;\n",
       "    }\n",
       "</style>\n",
       "<table border=\"1\" class=\"dataframe\">\n",
       "  <thead>\n",
       "    <tr style=\"text-align: right;\">\n",
       "      <th></th>\n",
       "      <th>Asia</th>\n",
       "      <th>Europe</th>\n",
       "      <th>North America</th>\n",
       "    </tr>\n",
       "  </thead>\n",
       "  <tbody>\n",
       "    <tr>\n",
       "      <th>0</th>\n",
       "      <td>0</td>\n",
       "      <td>1</td>\n",
       "      <td>0</td>\n",
       "    </tr>\n",
       "    <tr>\n",
       "      <th>1</th>\n",
       "      <td>0</td>\n",
       "      <td>1</td>\n",
       "      <td>0</td>\n",
       "    </tr>\n",
       "    <tr>\n",
       "      <th>2</th>\n",
       "      <td>1</td>\n",
       "      <td>0</td>\n",
       "      <td>0</td>\n",
       "    </tr>\n",
       "    <tr>\n",
       "      <th>3</th>\n",
       "      <td>1</td>\n",
       "      <td>0</td>\n",
       "      <td>0</td>\n",
       "    </tr>\n",
       "    <tr>\n",
       "      <th>4</th>\n",
       "      <td>0</td>\n",
       "      <td>0</td>\n",
       "      <td>1</td>\n",
       "    </tr>\n",
       "    <tr>\n",
       "      <th>5</th>\n",
       "      <td>0</td>\n",
       "      <td>0</td>\n",
       "      <td>1</td>\n",
       "    </tr>\n",
       "  </tbody>\n",
       "</table>\n",
       "</div>"
      ],
      "text/plain": [
       "   Asia  Europe  North America\n",
       "0     0       1              0\n",
       "1     0       1              0\n",
       "2     1       0              0\n",
       "3     1       0              0\n",
       "4     0       0              1\n",
       "5     0       0              1"
      ]
     },
     "execution_count": 6,
     "metadata": {},
     "output_type": "execute_result"
    }
   ],
   "source": [
    "new_cont = pd.DataFrame(new_cont, columns=lb.classes_, index=df.index)\n",
    "new_cont"
   ]
  },
  {
   "cell_type": "markdown",
   "metadata": {},
   "source": [
    "## Join dummy variables to original dataFrame"
   ]
  },
  {
   "cell_type": "code",
   "execution_count": 7,
   "metadata": {
    "collapsed": true
   },
   "outputs": [],
   "source": [
    "df = df.join(new_cont)"
   ]
  },
  {
   "cell_type": "code",
   "execution_count": 8,
   "metadata": {},
   "outputs": [
    {
     "data": {
      "text/html": [
       "<div>\n",
       "<style>\n",
       "    .dataframe thead tr:only-child th {\n",
       "        text-align: right;\n",
       "    }\n",
       "\n",
       "    .dataframe thead th {\n",
       "        text-align: left;\n",
       "    }\n",
       "\n",
       "    .dataframe tbody tr th {\n",
       "        vertical-align: top;\n",
       "    }\n",
       "</style>\n",
       "<table border=\"1\" class=\"dataframe\">\n",
       "  <thead>\n",
       "    <tr style=\"text-align: right;\">\n",
       "      <th></th>\n",
       "      <th>gender</th>\n",
       "      <th>continent</th>\n",
       "      <th>browser</th>\n",
       "      <th>Asia</th>\n",
       "      <th>Europe</th>\n",
       "      <th>North America</th>\n",
       "    </tr>\n",
       "  </thead>\n",
       "  <tbody>\n",
       "    <tr>\n",
       "      <th>0</th>\n",
       "      <td>male</td>\n",
       "      <td>Europe</td>\n",
       "      <td>Internet Explorer</td>\n",
       "      <td>0</td>\n",
       "      <td>1</td>\n",
       "      <td>0</td>\n",
       "    </tr>\n",
       "    <tr>\n",
       "      <th>1</th>\n",
       "      <td>female</td>\n",
       "      <td>Europe</td>\n",
       "      <td>Firefox</td>\n",
       "      <td>0</td>\n",
       "      <td>1</td>\n",
       "      <td>0</td>\n",
       "    </tr>\n",
       "    <tr>\n",
       "      <th>2</th>\n",
       "      <td>male</td>\n",
       "      <td>Asia</td>\n",
       "      <td>Internet Explorer</td>\n",
       "      <td>1</td>\n",
       "      <td>0</td>\n",
       "      <td>0</td>\n",
       "    </tr>\n",
       "    <tr>\n",
       "      <th>3</th>\n",
       "      <td>male</td>\n",
       "      <td>Asia</td>\n",
       "      <td>Internet Explorer</td>\n",
       "      <td>1</td>\n",
       "      <td>0</td>\n",
       "      <td>0</td>\n",
       "    </tr>\n",
       "    <tr>\n",
       "      <th>4</th>\n",
       "      <td>female</td>\n",
       "      <td>North America</td>\n",
       "      <td>Chrome</td>\n",
       "      <td>0</td>\n",
       "      <td>0</td>\n",
       "      <td>1</td>\n",
       "    </tr>\n",
       "    <tr>\n",
       "      <th>5</th>\n",
       "      <td>female</td>\n",
       "      <td>North America</td>\n",
       "      <td>Firefox</td>\n",
       "      <td>0</td>\n",
       "      <td>0</td>\n",
       "      <td>1</td>\n",
       "    </tr>\n",
       "  </tbody>\n",
       "</table>\n",
       "</div>"
      ],
      "text/plain": [
       "   gender      continent            browser  Asia  Europe  North America\n",
       "0    male         Europe  Internet Explorer     0       1              0\n",
       "1  female         Europe            Firefox     0       1              0\n",
       "2    male           Asia  Internet Explorer     1       0              0\n",
       "3    male           Asia  Internet Explorer     1       0              0\n",
       "4  female  North America             Chrome     0       0              1\n",
       "5  female  North America            Firefox     0       0              1"
      ]
     },
     "execution_count": 8,
     "metadata": {},
     "output_type": "execute_result"
    }
   ],
   "source": [
    "df"
   ]
  },
  {
   "cell_type": "markdown",
   "metadata": {},
   "source": [
    "# Convert Browser feature into one-hot encoding:\n",
    "* Initialize Label Binarizer as lb\n",
    "* Create new browser object, convert to dataframe, with column heading from lb\n",
    "* Join dummy variable lables and new data into DataFrame object"
   ]
  },
  {
   "cell_type": "code",
   "execution_count": 9,
   "metadata": {},
   "outputs": [
    {
     "data": {
      "text/html": [
       "<div>\n",
       "<style>\n",
       "    .dataframe thead tr:only-child th {\n",
       "        text-align: right;\n",
       "    }\n",
       "\n",
       "    .dataframe thead th {\n",
       "        text-align: left;\n",
       "    }\n",
       "\n",
       "    .dataframe tbody tr th {\n",
       "        vertical-align: top;\n",
       "    }\n",
       "</style>\n",
       "<table border=\"1\" class=\"dataframe\">\n",
       "  <thead>\n",
       "    <tr style=\"text-align: right;\">\n",
       "      <th></th>\n",
       "      <th>gender</th>\n",
       "      <th>continent</th>\n",
       "      <th>browser</th>\n",
       "      <th>Asia</th>\n",
       "      <th>Europe</th>\n",
       "      <th>North America</th>\n",
       "      <th>Chrome</th>\n",
       "      <th>Firefox</th>\n",
       "      <th>Internet Explorer</th>\n",
       "    </tr>\n",
       "  </thead>\n",
       "  <tbody>\n",
       "    <tr>\n",
       "      <th>0</th>\n",
       "      <td>male</td>\n",
       "      <td>Europe</td>\n",
       "      <td>Internet Explorer</td>\n",
       "      <td>0</td>\n",
       "      <td>1</td>\n",
       "      <td>0</td>\n",
       "      <td>0</td>\n",
       "      <td>0</td>\n",
       "      <td>1</td>\n",
       "    </tr>\n",
       "    <tr>\n",
       "      <th>1</th>\n",
       "      <td>female</td>\n",
       "      <td>Europe</td>\n",
       "      <td>Firefox</td>\n",
       "      <td>0</td>\n",
       "      <td>1</td>\n",
       "      <td>0</td>\n",
       "      <td>0</td>\n",
       "      <td>1</td>\n",
       "      <td>0</td>\n",
       "    </tr>\n",
       "    <tr>\n",
       "      <th>2</th>\n",
       "      <td>male</td>\n",
       "      <td>Asia</td>\n",
       "      <td>Internet Explorer</td>\n",
       "      <td>1</td>\n",
       "      <td>0</td>\n",
       "      <td>0</td>\n",
       "      <td>0</td>\n",
       "      <td>0</td>\n",
       "      <td>1</td>\n",
       "    </tr>\n",
       "    <tr>\n",
       "      <th>3</th>\n",
       "      <td>male</td>\n",
       "      <td>Asia</td>\n",
       "      <td>Internet Explorer</td>\n",
       "      <td>1</td>\n",
       "      <td>0</td>\n",
       "      <td>0</td>\n",
       "      <td>0</td>\n",
       "      <td>0</td>\n",
       "      <td>1</td>\n",
       "    </tr>\n",
       "    <tr>\n",
       "      <th>4</th>\n",
       "      <td>female</td>\n",
       "      <td>North America</td>\n",
       "      <td>Chrome</td>\n",
       "      <td>0</td>\n",
       "      <td>0</td>\n",
       "      <td>1</td>\n",
       "      <td>1</td>\n",
       "      <td>0</td>\n",
       "      <td>0</td>\n",
       "    </tr>\n",
       "    <tr>\n",
       "      <th>5</th>\n",
       "      <td>female</td>\n",
       "      <td>North America</td>\n",
       "      <td>Firefox</td>\n",
       "      <td>0</td>\n",
       "      <td>0</td>\n",
       "      <td>1</td>\n",
       "      <td>0</td>\n",
       "      <td>1</td>\n",
       "      <td>0</td>\n",
       "    </tr>\n",
       "  </tbody>\n",
       "</table>\n",
       "</div>"
      ],
      "text/plain": [
       "   gender      continent            browser  Asia  Europe  North America  \\\n",
       "0    male         Europe  Internet Explorer     0       1              0   \n",
       "1  female         Europe            Firefox     0       1              0   \n",
       "2    male           Asia  Internet Explorer     1       0              0   \n",
       "3    male           Asia  Internet Explorer     1       0              0   \n",
       "4  female  North America             Chrome     0       0              1   \n",
       "5  female  North America            Firefox     0       0              1   \n",
       "\n",
       "   Chrome  Firefox  Internet Explorer  \n",
       "0       0        0                  1  \n",
       "1       0        1                  0  \n",
       "2       0        0                  1  \n",
       "3       0        0                  1  \n",
       "4       1        0                  0  \n",
       "5       0        1                  0  "
      ]
     },
     "execution_count": 9,
     "metadata": {},
     "output_type": "execute_result"
    }
   ],
   "source": [
    "lb = LabelBinarizer()\n",
    "new_browser = lb.fit_transform(df['browser'])\n",
    "new_browser = pd.DataFrame(new_browser, columns=lb.classes_, index=df.index)\n",
    "df = df.join(new_browser)\n",
    "df"
   ]
  },
  {
   "cell_type": "markdown",
   "metadata": {},
   "source": [
    "## Create binary labels for Gender:\n",
    "* Single column column with value of `1` representing `male`, `0` for `female`. \n",
    "* With browser and continent, we had three labels, converted into three new features."
   ]
  },
  {
   "cell_type": "code",
   "execution_count": 10,
   "metadata": {},
   "outputs": [
    {
     "data": {
      "text/plain": [
       "array([[1],\n",
       "       [0],\n",
       "       [1],\n",
       "       [1],\n",
       "       [0],\n",
       "       [0]])"
      ]
     },
     "execution_count": 10,
     "metadata": {},
     "output_type": "execute_result"
    }
   ],
   "source": [
    "lb = LabelBinarizer()\n",
    "new_gender = lb.fit_transform(df['gender'])\n",
    "new_gender"
   ]
  },
  {
   "cell_type": "markdown",
   "metadata": {},
   "source": [
    "## With Two mutually-exclusive labels \n",
    "* Only need single column to store two-labels: **male** == **not female**. \n",
    "* Designation **has feature A** logical equivalent of **does not have feature B**. \n",
    "* Indicates whether a data point *has* or *does not have* one of the labels. "
   ]
  },
  {
   "cell_type": "code",
   "execution_count": 11,
   "metadata": {},
   "outputs": [
    {
     "data": {
      "text/plain": [
       "array(['female', 'male'], \n",
       "      dtype='<U6')"
      ]
     },
     "execution_count": 11,
     "metadata": {},
     "output_type": "execute_result"
    }
   ],
   "source": [
    "lb.classes_"
   ]
  },
  {
   "cell_type": "markdown",
   "metadata": {},
   "source": [
    "### Sklearn arbitrarily represents female by 0 and male by 1\n",
    "* Add this to original dataFrame. "
   ]
  },
  {
   "cell_type": "code",
   "execution_count": 12,
   "metadata": {},
   "outputs": [
    {
     "data": {
      "text/html": [
       "<div>\n",
       "<style>\n",
       "    .dataframe thead tr:only-child th {\n",
       "        text-align: right;\n",
       "    }\n",
       "\n",
       "    .dataframe thead th {\n",
       "        text-align: left;\n",
       "    }\n",
       "\n",
       "    .dataframe tbody tr th {\n",
       "        vertical-align: top;\n",
       "    }\n",
       "</style>\n",
       "<table border=\"1\" class=\"dataframe\">\n",
       "  <thead>\n",
       "    <tr style=\"text-align: right;\">\n",
       "      <th></th>\n",
       "      <th>bgender</th>\n",
       "    </tr>\n",
       "  </thead>\n",
       "  <tbody>\n",
       "    <tr>\n",
       "      <th>0</th>\n",
       "      <td>1</td>\n",
       "    </tr>\n",
       "    <tr>\n",
       "      <th>1</th>\n",
       "      <td>0</td>\n",
       "    </tr>\n",
       "    <tr>\n",
       "      <th>2</th>\n",
       "      <td>1</td>\n",
       "    </tr>\n",
       "    <tr>\n",
       "      <th>3</th>\n",
       "      <td>1</td>\n",
       "    </tr>\n",
       "    <tr>\n",
       "      <th>4</th>\n",
       "      <td>0</td>\n",
       "    </tr>\n",
       "    <tr>\n",
       "      <th>5</th>\n",
       "      <td>0</td>\n",
       "    </tr>\n",
       "  </tbody>\n",
       "</table>\n",
       "</div>"
      ],
      "text/plain": [
       "   bgender\n",
       "0        1\n",
       "1        0\n",
       "2        1\n",
       "3        1\n",
       "4        0\n",
       "5        0"
      ]
     },
     "execution_count": 12,
     "metadata": {},
     "output_type": "execute_result"
    }
   ],
   "source": [
    "new_gender = pd.DataFrame(new_gender, columns=['bgender'], index=df.index)\n",
    "new_gender"
   ]
  },
  {
   "cell_type": "code",
   "execution_count": 13,
   "metadata": {},
   "outputs": [],
   "source": [
    "df = df.join(new_gender)"
   ]
  },
  {
   "cell_type": "code",
   "execution_count": 14,
   "metadata": {},
   "outputs": [
    {
     "data": {
      "text/html": [
       "<div>\n",
       "<style>\n",
       "    .dataframe thead tr:only-child th {\n",
       "        text-align: right;\n",
       "    }\n",
       "\n",
       "    .dataframe thead th {\n",
       "        text-align: left;\n",
       "    }\n",
       "\n",
       "    .dataframe tbody tr th {\n",
       "        vertical-align: top;\n",
       "    }\n",
       "</style>\n",
       "<table border=\"1\" class=\"dataframe\">\n",
       "  <thead>\n",
       "    <tr style=\"text-align: right;\">\n",
       "      <th></th>\n",
       "      <th>gender</th>\n",
       "      <th>continent</th>\n",
       "      <th>browser</th>\n",
       "      <th>Asia</th>\n",
       "      <th>Europe</th>\n",
       "      <th>North America</th>\n",
       "      <th>Chrome</th>\n",
       "      <th>Firefox</th>\n",
       "      <th>Internet Explorer</th>\n",
       "      <th>bgender</th>\n",
       "    </tr>\n",
       "  </thead>\n",
       "  <tbody>\n",
       "    <tr>\n",
       "      <th>0</th>\n",
       "      <td>male</td>\n",
       "      <td>Europe</td>\n",
       "      <td>Internet Explorer</td>\n",
       "      <td>0</td>\n",
       "      <td>1</td>\n",
       "      <td>0</td>\n",
       "      <td>0</td>\n",
       "      <td>0</td>\n",
       "      <td>1</td>\n",
       "      <td>1</td>\n",
       "    </tr>\n",
       "    <tr>\n",
       "      <th>1</th>\n",
       "      <td>female</td>\n",
       "      <td>Europe</td>\n",
       "      <td>Firefox</td>\n",
       "      <td>0</td>\n",
       "      <td>1</td>\n",
       "      <td>0</td>\n",
       "      <td>0</td>\n",
       "      <td>1</td>\n",
       "      <td>0</td>\n",
       "      <td>0</td>\n",
       "    </tr>\n",
       "    <tr>\n",
       "      <th>2</th>\n",
       "      <td>male</td>\n",
       "      <td>Asia</td>\n",
       "      <td>Internet Explorer</td>\n",
       "      <td>1</td>\n",
       "      <td>0</td>\n",
       "      <td>0</td>\n",
       "      <td>0</td>\n",
       "      <td>0</td>\n",
       "      <td>1</td>\n",
       "      <td>1</td>\n",
       "    </tr>\n",
       "    <tr>\n",
       "      <th>3</th>\n",
       "      <td>male</td>\n",
       "      <td>Asia</td>\n",
       "      <td>Internet Explorer</td>\n",
       "      <td>1</td>\n",
       "      <td>0</td>\n",
       "      <td>0</td>\n",
       "      <td>0</td>\n",
       "      <td>0</td>\n",
       "      <td>1</td>\n",
       "      <td>1</td>\n",
       "    </tr>\n",
       "    <tr>\n",
       "      <th>4</th>\n",
       "      <td>female</td>\n",
       "      <td>North America</td>\n",
       "      <td>Chrome</td>\n",
       "      <td>0</td>\n",
       "      <td>0</td>\n",
       "      <td>1</td>\n",
       "      <td>1</td>\n",
       "      <td>0</td>\n",
       "      <td>0</td>\n",
       "      <td>0</td>\n",
       "    </tr>\n",
       "    <tr>\n",
       "      <th>5</th>\n",
       "      <td>female</td>\n",
       "      <td>North America</td>\n",
       "      <td>Firefox</td>\n",
       "      <td>0</td>\n",
       "      <td>0</td>\n",
       "      <td>1</td>\n",
       "      <td>0</td>\n",
       "      <td>1</td>\n",
       "      <td>0</td>\n",
       "      <td>0</td>\n",
       "    </tr>\n",
       "  </tbody>\n",
       "</table>\n",
       "</div>"
      ],
      "text/plain": [
       "   gender      continent            browser  Asia  Europe  North America  \\\n",
       "0    male         Europe  Internet Explorer     0       1              0   \n",
       "1  female         Europe            Firefox     0       1              0   \n",
       "2    male           Asia  Internet Explorer     1       0              0   \n",
       "3    male           Asia  Internet Explorer     1       0              0   \n",
       "4  female  North America             Chrome     0       0              1   \n",
       "5  female  North America            Firefox     0       0              1   \n",
       "\n",
       "   Chrome  Firefox  Internet Explorer  bgender  \n",
       "0       0        0                  1        1  \n",
       "1       0        1                  0        0  \n",
       "2       0        0                  1        1  \n",
       "3       0        0                  1        1  \n",
       "4       1        0                  0        0  \n",
       "5       0        1                  0        0  "
      ]
     },
     "execution_count": 14,
     "metadata": {},
     "output_type": "execute_result"
    }
   ],
   "source": [
    "df"
   ]
  },
  {
   "cell_type": "markdown",
   "metadata": {},
   "source": [
    "## Extract only numerical features to DF\n",
    "* Categorical features have been converted into numerical features. \n",
    "* Using pandas subsetting we can extract only numerical features \n",
    "* Creates valid dataset to use with a machine learning algorithm (linear regression)."
   ]
  },
  {
   "cell_type": "code",
   "execution_count": 15,
   "metadata": {},
   "outputs": [
    {
     "data": {
      "text/html": [
       "<div>\n",
       "<style>\n",
       "    .dataframe thead tr:only-child th {\n",
       "        text-align: right;\n",
       "    }\n",
       "\n",
       "    .dataframe thead th {\n",
       "        text-align: left;\n",
       "    }\n",
       "\n",
       "    .dataframe tbody tr th {\n",
       "        vertical-align: top;\n",
       "    }\n",
       "</style>\n",
       "<table border=\"1\" class=\"dataframe\">\n",
       "  <thead>\n",
       "    <tr style=\"text-align: right;\">\n",
       "      <th></th>\n",
       "      <th>Asia</th>\n",
       "      <th>Europe</th>\n",
       "      <th>North America</th>\n",
       "      <th>Chrome</th>\n",
       "      <th>Firefox</th>\n",
       "      <th>Internet Explorer</th>\n",
       "      <th>bgender</th>\n",
       "    </tr>\n",
       "  </thead>\n",
       "  <tbody>\n",
       "    <tr>\n",
       "      <th>0</th>\n",
       "      <td>0</td>\n",
       "      <td>1</td>\n",
       "      <td>0</td>\n",
       "      <td>0</td>\n",
       "      <td>0</td>\n",
       "      <td>1</td>\n",
       "      <td>1</td>\n",
       "    </tr>\n",
       "    <tr>\n",
       "      <th>1</th>\n",
       "      <td>0</td>\n",
       "      <td>1</td>\n",
       "      <td>0</td>\n",
       "      <td>0</td>\n",
       "      <td>1</td>\n",
       "      <td>0</td>\n",
       "      <td>0</td>\n",
       "    </tr>\n",
       "    <tr>\n",
       "      <th>2</th>\n",
       "      <td>1</td>\n",
       "      <td>0</td>\n",
       "      <td>0</td>\n",
       "      <td>0</td>\n",
       "      <td>0</td>\n",
       "      <td>1</td>\n",
       "      <td>1</td>\n",
       "    </tr>\n",
       "    <tr>\n",
       "      <th>3</th>\n",
       "      <td>1</td>\n",
       "      <td>0</td>\n",
       "      <td>0</td>\n",
       "      <td>0</td>\n",
       "      <td>0</td>\n",
       "      <td>1</td>\n",
       "      <td>1</td>\n",
       "    </tr>\n",
       "    <tr>\n",
       "      <th>4</th>\n",
       "      <td>0</td>\n",
       "      <td>0</td>\n",
       "      <td>1</td>\n",
       "      <td>1</td>\n",
       "      <td>0</td>\n",
       "      <td>0</td>\n",
       "      <td>0</td>\n",
       "    </tr>\n",
       "    <tr>\n",
       "      <th>5</th>\n",
       "      <td>0</td>\n",
       "      <td>0</td>\n",
       "      <td>1</td>\n",
       "      <td>0</td>\n",
       "      <td>1</td>\n",
       "      <td>0</td>\n",
       "      <td>0</td>\n",
       "    </tr>\n",
       "  </tbody>\n",
       "</table>\n",
       "</div>"
      ],
      "text/plain": [
       "   Asia  Europe  North America  Chrome  Firefox  Internet Explorer  bgender\n",
       "0     0       1              0       0        0                  1        1\n",
       "1     0       1              0       0        1                  0        0\n",
       "2     1       0              0       0        0                  1        1\n",
       "3     1       0              0       0        0                  1        1\n",
       "4     0       0              1       1        0                  0        0\n",
       "5     0       0              1       0        1                  0        0"
      ]
     },
     "execution_count": 15,
     "metadata": {},
     "output_type": "execute_result"
    }
   ],
   "source": [
    "to_algo = df[[\"Asia\", \"Europe\", \"North America\", \"Chrome\", \"Firefox\", \"Internet Explorer\", \"bgender\"]]\n",
    "to_algo"
   ]
  },
  {
   "cell_type": "markdown",
   "metadata": {},
   "source": [
    "# Representing Raw Text Numerically\n",
    "* Use **vector space model** to represent raw text numerically. \n",
    "* use ``CountVectorizer`` to make a vector space model representation of a set of texts."
   ]
  },
  {
   "cell_type": "code",
   "execution_count": 16,
   "metadata": {
    "collapsed": true
   },
   "outputs": [],
   "source": [
    "texts = [\n",
    "\"We went to the bank to get some money. Usually, there is a lot of money there. But today, the bank had no money.\",\n",
    "\"At the bank, there are a lot of people who work with money. The store money, count money, and try to make more money from their money.\",\n",
    "\"We like to take walks along the bank, because the view of the water is beautiful. But today, unfortunately, the water had overran the bank and so we couldn't walk.\",\n",
    "\"We drove our boat through the water next to the left bank of the river. There were people standing on the bank waving at us, and some were out in the water swimming.\"\n",
    "]"
   ]
  },
  {
   "cell_type": "code",
   "execution_count": 17,
   "metadata": {
    "collapsed": true
   },
   "outputs": [],
   "source": [
    "from sklearn.feature_extraction.text import CountVectorizer"
   ]
  },
  {
   "cell_type": "code",
   "execution_count": 18,
   "metadata": {
    "collapsed": true
   },
   "outputs": [],
   "source": [
    "cv = CountVectorizer()"
   ]
  },
  {
   "cell_type": "code",
   "execution_count": 19,
   "metadata": {},
   "outputs": [
    {
     "data": {
      "text/plain": [
       "<4x59 sparse matrix of type '<class 'numpy.int64'>'\n",
       "\twith 87 stored elements in Compressed Sparse Row format>"
      ]
     },
     "execution_count": 19,
     "metadata": {},
     "output_type": "execute_result"
    }
   ],
   "source": [
    "vectors = cv.fit_transform(texts)\n",
    "vectors"
   ]
  },
  {
   "cell_type": "markdown",
   "metadata": {},
   "source": [
    "### The output is a sparse matrix. \n",
    "* This is a valid input to all sklearn methods, including ``.fit``, ``cross_val_scores``, and ``.train_test_split``. \n",
    "* For purposes of instruction only, we convert it into an np.array using ``toarray``."
   ]
  },
  {
   "cell_type": "code",
   "execution_count": 20,
   "metadata": {},
   "outputs": [],
   "source": [
    "vectors = vectors.toarray()"
   ]
  },
  {
   "cell_type": "code",
   "execution_count": 21,
   "metadata": {},
   "outputs": [
    {
     "data": {
      "text/plain": [
       "array([0, 0, 0, 0, 2, 0, 0, 0, 1, 0, 0, 0, 0, 1, 1, 0, 1, 0, 0, 1, 0, 3, 0,\n",
       "       0, 1, 1, 0, 0, 0, 0, 0, 0, 0, 1, 0, 0, 0, 0, 2, 0, 2, 0, 2, 1, 0, 0,\n",
       "       0, 1, 0, 0, 0, 0, 0, 1, 1, 0, 0, 0, 0], dtype=int64)"
      ]
     },
     "execution_count": 21,
     "metadata": {},
     "output_type": "execute_result"
    }
   ],
   "source": [
    "vectors[0, :]"
   ]
  },
  {
   "cell_type": "markdown",
   "metadata": {},
   "source": [
    "Each column of ``vectors`` corresponds to a word in the text corpus. Each row corresponds to a text. This is the row corresponding to the first text. It shows that it had zero instances of word 0. It had zero instances of word 1. It had 2 instances of word 4.\n",
    "\n",
    "To know which column corresponds to which word, the Count Vectorizer object has an attribute called ``.vocabulary_``. "
   ]
  },
  {
   "cell_type": "code",
   "execution_count": 22,
   "metadata": {},
   "outputs": [
    {
     "data": {
      "text/plain": [
       "{'along': 0,\n",
       " 'and': 1,\n",
       " 'are': 2,\n",
       " 'at': 3,\n",
       " 'bank': 4,\n",
       " 'beautiful': 5,\n",
       " 'because': 6,\n",
       " 'boat': 7,\n",
       " 'but': 8,\n",
       " 'couldn': 9,\n",
       " 'count': 10,\n",
       " 'drove': 11,\n",
       " 'from': 12,\n",
       " 'get': 13,\n",
       " 'had': 14,\n",
       " 'in': 15,\n",
       " 'is': 16,\n",
       " 'left': 17,\n",
       " 'like': 18,\n",
       " 'lot': 19,\n",
       " 'make': 20,\n",
       " 'money': 21,\n",
       " 'more': 22,\n",
       " 'next': 23,\n",
       " 'no': 24,\n",
       " 'of': 25,\n",
       " 'on': 26,\n",
       " 'our': 27,\n",
       " 'out': 28,\n",
       " 'overran': 29,\n",
       " 'people': 30,\n",
       " 'river': 31,\n",
       " 'so': 32,\n",
       " 'some': 33,\n",
       " 'standing': 34,\n",
       " 'store': 35,\n",
       " 'swimming': 36,\n",
       " 'take': 37,\n",
       " 'the': 38,\n",
       " 'their': 39,\n",
       " 'there': 40,\n",
       " 'through': 41,\n",
       " 'to': 42,\n",
       " 'today': 43,\n",
       " 'try': 44,\n",
       " 'unfortunately': 45,\n",
       " 'us': 46,\n",
       " 'usually': 47,\n",
       " 'view': 48,\n",
       " 'walk': 49,\n",
       " 'walks': 50,\n",
       " 'water': 51,\n",
       " 'waving': 52,\n",
       " 'we': 53,\n",
       " 'went': 54,\n",
       " 'were': 55,\n",
       " 'who': 56,\n",
       " 'with': 57,\n",
       " 'work': 58}"
      ]
     },
     "execution_count": 22,
     "metadata": {},
     "output_type": "execute_result"
    }
   ],
   "source": [
    "cv.vocabulary_"
   ]
  },
  {
   "cell_type": "markdown",
   "metadata": {},
   "source": [
    "# Use Count Vectorizer with Twitter data\n",
    "* Use Tweepy to get latest 500 tweets from IUB, assigned to tweet_texts\n",
    "* Create a list of strings representing the text from those 500 tweets\n",
    "* Use CountVectorizer function, fit_transform to represent text from tweets"
   ]
  },
  {
   "cell_type": "code",
   "execution_count": 23,
   "metadata": {},
   "outputs": [],
   "source": [
    "API_KEY = \"\"\n",
    "API_SECRET = \"\"\n",
    "import tweepy\n",
    "auth = tweepy.AppAuthHandler(API_KEY, API_SECRET)\n",
    "api = tweepy.API(auth, wait_on_rate_limit=True, wait_on_rate_limit_notify=True)\n",
    "\n",
    "c = tweepy.Cursor(api.user_timeline, id=\"IUBloomington\")\n",
    "\n",
    "tweet_texts = []\n",
    "\n",
    "for tweet in c.items(500):\n",
    "    tweet_texts.append(tweet.text)"
   ]
  },
  {
   "cell_type": "code",
   "execution_count": 24,
   "metadata": {},
   "outputs": [
    {
     "data": {
      "text/plain": [
       "[\"While other schools offer study abroad, IU is among the nation's top universities for both number of Fulbright Stud… https://t.co/e7IAcOoy54\",\n",
       " \"RT @IndianaUniv: President's Update: New developments in Indiana University's ongoing commitment to improving Hoosier health and well-being…\",\n",
       " 'RT @BTNLiveBIG: Researchers @IUBloomington are saving lives by teaching kids in #Vietnam how to #swim safely. \\n\\nhttps://t.co/IxNYd7I6WZ htt…',\n",
       " 'Tonight, be part of an important discussion about the experiences that people of color have with law enforcement --… https://t.co/CkpQvfyJQo',\n",
       " \"RT @IUNewsroom: IU professor Jeffrey White will discuss his personal experiences of Arctic climate warming for this year's @IUBloomington D…\"]"
      ]
     },
     "execution_count": 24,
     "metadata": {},
     "output_type": "execute_result"
    }
   ],
   "source": [
    "tweet_texts[:5]"
   ]
  },
  {
   "cell_type": "markdown",
   "metadata": {},
   "source": [
    "### Resulting matrix has 500 rows with 2700 features\n",
    "* Each element is the count of a particular word\n",
    "* Vocabulary method returns library with word: count pairs\n",
    "* Convert tweet to vectors and look at word frequency (sparse matrix)"
   ]
  },
  {
   "cell_type": "code",
   "execution_count": 25,
   "metadata": {},
   "outputs": [
    {
     "data": {
      "text/plain": [
       "(500, 2738)"
      ]
     },
     "execution_count": 25,
     "metadata": {},
     "output_type": "execute_result"
    }
   ],
   "source": [
    "cv = CountVectorizer()\n",
    "vectors = cv.fit_transform(tweet_texts)\n",
    "\n",
    "vectors.shape"
   ]
  },
  {
   "cell_type": "code",
   "execution_count": 26,
   "metadata": {},
   "outputs": [],
   "source": [
    "#cv.vocabulary_"
   ]
  },
  {
   "cell_type": "code",
   "execution_count": 27,
   "metadata": {},
   "outputs": [
    {
     "name": "stdout",
     "output_type": "stream",
     "text": [
      "[<1x2738 sparse matrix of type '<class 'numpy.int64'>'\n",
      "\twith 22 stored elements in Compressed Sparse Row format>]\n"
     ]
    }
   ],
   "source": [
    "tweet0 = vectors[0, :]\n",
    "print(list(tweet0))"
   ]
  },
  {
   "cell_type": "markdown",
   "metadata": {},
   "source": [
    "## Problems with Count Vectors\n",
    "* Every word is equal, has its own element, and frequency count\n",
    "* Important words (\"basketball\") given equal importance as unimportant articles (\"the\")\n",
    "* Don't account for the length of the text (proportion or occurence within tweet text)"
   ]
  },
  {
   "cell_type": "markdown",
   "metadata": {},
   "source": [
    "# TF-IDF: Term Frequency-Inverse Document Freqency\n",
    "* TF-IDF weight puts more emphasis on words that are characteristic to a document.\n",
    "* `tfidf(w, d, D) = tf(w, d)*idf(w, D)`\n",
    "\n",
    "### EXAMPLE:  1000 Documents\n",
    "* Sample document with 150 instances of *the*, 20 instances of *astrophysics*. \n",
    "\n",
    "## Term Frequency (TF)\n",
    "* `tf(word,document)= number of times w appears in d / totoal number of words in d`\n",
    "* Word `the` occurs many times in document (high TF)\n",
    "* By contrast, the *astrophysics* has low TF, used only rarely\n",
    "\n",
    "##  Inverse Document Freqency: Proportion\n",
    "* `idf(w,D) = log (number of documents in D / number of documents in D that have word w)`\n",
    "* Word `the` also appears in *many other documents* (low IDF), \n",
    "* `astrophysics` does not appear in that many documents (high IDF).  \n",
    "\n",
    "### Intuition of TF-IDF: \n",
    "* Low IDF for `the` dilutes high TF, resulting in overall low TFIDF score \n",
    "* High IDF for `astrophysics` overcomes low TF, resulting in higher TFIDF score\n",
    "\n",
    "\n",
    "## Scikit-Learn module `TF-IDF` \n",
    "* Once you understand the difference between count vectorizing and TF-IDF vectorizing, \n",
    "* Use sklearn is essentially the same. "
   ]
  },
  {
   "cell_type": "code",
   "execution_count": 28,
   "metadata": {},
   "outputs": [
    {
     "data": {
      "text/plain": [
       "array([ 0.        ,  0.        ,  0.        ,  0.        ,  0.24006301,\n",
       "        0.        ,  0.        ,  0.        ,  0.18134668,  0.        ,\n",
       "        0.        ,  0.        ,  0.        ,  0.23001526,  0.18134668,\n",
       "        0.        ,  0.18134668,  0.        ,  0.        ,  0.18134668,\n",
       "        0.        ,  0.54404003,  0.        ,  0.        ,  0.23001526,\n",
       "        0.12003151,  0.        ,  0.        ,  0.        ,  0.        ,\n",
       "        0.        ,  0.        ,  0.        ,  0.18134668,  0.        ,\n",
       "        0.        ,  0.        ,  0.        ,  0.24006301,  0.        ,\n",
       "        0.29363153,  0.        ,  0.24006301,  0.18134668,  0.        ,\n",
       "        0.        ,  0.        ,  0.23001526,  0.        ,  0.        ,\n",
       "        0.        ,  0.        ,  0.        ,  0.14681576,  0.23001526,\n",
       "        0.        ,  0.        ,  0.        ,  0.        ])"
      ]
     },
     "execution_count": 28,
     "metadata": {},
     "output_type": "execute_result"
    }
   ],
   "source": [
    "from sklearn.feature_extraction.text import TfidfVectorizer\n",
    "tv = TfidfVectorizer()\n",
    "vectors = tv.fit_transform(texts)\n",
    "vectors = vectors.toarray()\n",
    "vectors[0,:]"
   ]
  },
  {
   "cell_type": "markdown",
   "metadata": {},
   "source": [
    "## Each element in vector corresponds to a word in corpus\n",
    "* Vector element represents the *TF-IDF weightinf of that word* rather than frequency in word text "
   ]
  }
 ],
 "metadata": {
  "anaconda-cloud": {},
  "kernelspec": {
   "display_name": "Python 3",
   "language": "python",
   "name": "python3"
  },
  "language_info": {
   "codemirror_mode": {
    "name": "ipython",
    "version": 3
   },
   "file_extension": ".py",
   "mimetype": "text/x-python",
   "name": "python",
   "nbconvert_exporter": "python",
   "pygments_lexer": "ipython3",
   "version": "3.6.1"
  }
 },
 "nbformat": 4,
 "nbformat_minor": 1
}
