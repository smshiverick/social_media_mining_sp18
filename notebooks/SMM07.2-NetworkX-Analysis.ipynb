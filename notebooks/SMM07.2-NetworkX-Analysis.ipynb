{
 "cells": [
  {
   "cell_type": "markdown",
   "metadata": {},
   "source": [
    "# Social Media Mining: Network Analysis\n",
    "### Vincent Malic - Spring 2018\n",
    "\n",
    "# Module 7.2 NetworkX\n",
    "\n",
    "\n",
    "## Create Graph object \n",
    "* Import module and assign graph object to alias G"
   ]
  },
  {
   "cell_type": "code",
   "execution_count": 1,
   "metadata": {},
   "outputs": [
    {
     "data": {
      "text/plain": [
       "<networkx.classes.graph.Graph at 0x1068ec9e8>"
      ]
     },
     "execution_count": 1,
     "metadata": {},
     "output_type": "execute_result"
    }
   ],
   "source": [
    "import networkx as nx\n",
    "\n",
    "G = nx.Graph()\n",
    "G"
   ]
  },
  {
   "cell_type": "markdown",
   "metadata": {},
   "source": [
    "## Populate Graph with Nodes and Edges\n",
    "* Identify objects of interest\n",
    "* Depict relationships between them\n",
    "* Add multiple nodes at same time by passing list of items"
   ]
  },
  {
   "cell_type": "code",
   "execution_count": 2,
   "metadata": {
    "collapsed": true
   },
   "outputs": [],
   "source": [
    "# add single node\n",
    "G.add_node(\"Jacie\")"
   ]
  },
  {
   "cell_type": "code",
   "execution_count": 3,
   "metadata": {
    "collapsed": true
   },
   "outputs": [],
   "source": [
    "# add list of nodes\n",
    "G.add_nodes_from([\"John\", \"Juan\", \"Jack\", \"Julia\", \"Jade\", \"Jeff\"])"
   ]
  },
  {
   "cell_type": "markdown",
   "metadata": {},
   "source": [
    "### Define edges between nodes\n",
    "* Set of relatoinships between nodes in graph\n",
    "* Indicate start and end points for the connection\n",
    "* Add multiple edges at same time by adding list of tuples (pairs)"
   ]
  },
  {
   "cell_type": "code",
   "execution_count": 4,
   "metadata": {
    "collapsed": true
   },
   "outputs": [],
   "source": [
    "G.add_edge(\"Jacie\", \"John\")"
   ]
  },
  {
   "cell_type": "code",
   "execution_count": 5,
   "metadata": {
    "collapsed": true
   },
   "outputs": [],
   "source": [
    "G.add_edges_from([(\"Jacie\", \"Juan\"), (\"John\", \"Juan\"), (\"Juan\", \"Julia\"), (\"Juan\", \"Jade\"), (\"Jack\", \"Julia\"), (\"Julia\", \"Jeff\"), (\"Jade\", \"Jeff\")])"
   ]
  },
  {
   "cell_type": "markdown",
   "metadata": {},
   "source": [
    "## Examine Graph Properties\n",
    "* Number of nodes and edges\n",
    "* Get a list of nodes, or list of edges\n",
    "* Identify neighbors of nodes in the network"
   ]
  },
  {
   "cell_type": "code",
   "execution_count": 6,
   "metadata": {},
   "outputs": [
    {
     "data": {
      "text/plain": [
       "7"
      ]
     },
     "execution_count": 6,
     "metadata": {},
     "output_type": "execute_result"
    }
   ],
   "source": [
    "G.number_of_nodes()"
   ]
  },
  {
   "cell_type": "code",
   "execution_count": 7,
   "metadata": {},
   "outputs": [
    {
     "data": {
      "text/plain": [
       "8"
      ]
     },
     "execution_count": 7,
     "metadata": {},
     "output_type": "execute_result"
    }
   ],
   "source": [
    "G.number_of_edges()"
   ]
  },
  {
   "cell_type": "code",
   "execution_count": 8,
   "metadata": {},
   "outputs": [
    {
     "data": {
      "text/plain": [
       "['Jacie', 'John', 'Juan', 'Jack', 'Julia', 'Jade', 'Jeff']"
      ]
     },
     "execution_count": 8,
     "metadata": {},
     "output_type": "execute_result"
    }
   ],
   "source": [
    "G.nodes()"
   ]
  },
  {
   "cell_type": "code",
   "execution_count": 9,
   "metadata": {},
   "outputs": [
    {
     "data": {
      "text/plain": [
       "[('Jacie', 'John'),\n",
       " ('Jacie', 'Juan'),\n",
       " ('John', 'Juan'),\n",
       " ('Juan', 'Julia'),\n",
       " ('Juan', 'Jade'),\n",
       " ('Jack', 'Julia'),\n",
       " ('Julia', 'Jeff'),\n",
       " ('Jade', 'Jeff')]"
      ]
     },
     "execution_count": 9,
     "metadata": {},
     "output_type": "execute_result"
    }
   ],
   "source": [
    "G.edges()"
   ]
  },
  {
   "cell_type": "code",
   "execution_count": 10,
   "metadata": {},
   "outputs": [
    {
     "data": {
      "text/plain": [
       "['Jacie', 'John', 'Julia', 'Jade']"
      ]
     },
     "execution_count": 10,
     "metadata": {},
     "output_type": "execute_result"
    }
   ],
   "source": [
    "G.neighbors(\"Juan\")"
   ]
  },
  {
   "cell_type": "markdown",
   "metadata": {},
   "source": [
    "## Store Graph Attributes (nodes, edges) \n",
    "* Useful for comparing attributes of different graphs\n",
    "* Tracking changes in single graph over time\n",
    "* Multiple graphs could have different attribute values"
   ]
  },
  {
   "cell_type": "code",
   "execution_count": 11,
   "metadata": {},
   "outputs": [
    {
     "data": {
      "text/plain": [
       "{'week_number': 1}"
      ]
     },
     "execution_count": 11,
     "metadata": {},
     "output_type": "execute_result"
    }
   ],
   "source": [
    "G.graph['week_number'] = 1\n",
    "G.graph"
   ]
  },
  {
   "cell_type": "code",
   "execution_count": 12,
   "metadata": {},
   "outputs": [
    {
     "data": {
      "text/plain": [
       "{'graph_id': 12345, 'manager': 'Willard', 'week_number': 1}"
      ]
     },
     "execution_count": 12,
     "metadata": {},
     "output_type": "execute_result"
    }
   ],
   "source": [
    "G.graph['graph_id'] = 12345\n",
    "G.graph['manager'] = \"Willard\"\n",
    "G.graph"
   ]
  },
  {
   "cell_type": "markdown",
   "metadata": {},
   "source": [
    "## Attributes for Individual nodes\n",
    "* Identify node, label attribute, and assign attribute value\n",
    "* Dictionary contains attributes: `Juan` has `age` equal to `29`"
   ]
  },
  {
   "cell_type": "code",
   "execution_count": 13,
   "metadata": {},
   "outputs": [
    {
     "data": {
      "text/plain": [
       "{'age': 29}"
      ]
     },
     "execution_count": 13,
     "metadata": {},
     "output_type": "execute_result"
    }
   ],
   "source": [
    "G.node[\"Juan\"][\"age\"] = 29\n",
    "G.node[\"Juan\"]"
   ]
  },
  {
   "cell_type": "markdown",
   "metadata": {},
   "source": [
    "### Add several nodes to graph with same attributes\n",
    "* Indicate list of nodes to be added,\n",
    "* Add attribute and value to be assinged to all new nodes: course=`Z639`"
   ]
  },
  {
   "cell_type": "code",
   "execution_count": 14,
   "metadata": {
    "collapsed": true
   },
   "outputs": [],
   "source": [
    "G.add_nodes_from([\"Herakles\", \"Rut\", \"Teodosio\", \"Priscila\", \"Kornelia\"], course=\"Z639\")"
   ]
  },
  {
   "cell_type": "code",
   "execution_count": 15,
   "metadata": {},
   "outputs": [
    {
     "data": {
      "text/plain": [
       "'Z639'"
      ]
     },
     "execution_count": 15,
     "metadata": {},
     "output_type": "execute_result"
    }
   ],
   "source": [
    "G.node['Herakles']['course']"
   ]
  },
  {
   "cell_type": "code",
   "execution_count": 16,
   "metadata": {},
   "outputs": [
    {
     "data": {
      "text/plain": [
       "'Z639'"
      ]
     },
     "execution_count": 16,
     "metadata": {},
     "output_type": "execute_result"
    }
   ],
   "source": [
    "G.node['Teodosio']['course']"
   ]
  },
  {
   "cell_type": "markdown",
   "metadata": {},
   "source": [
    "### Edges can have Attributes of particular values\n",
    "* Start with graph object, indicate edge start point and end points\n",
    "* Assign edge weight as an attribute\n",
    "* Assign weights for multiple edges as a list, indicating weight as attribute"
   ]
  },
  {
   "cell_type": "code",
   "execution_count": 17,
   "metadata": {},
   "outputs": [
    {
     "data": {
      "text/plain": [
       "{'weight': 2.5}"
      ]
     },
     "execution_count": 17,
     "metadata": {},
     "output_type": "execute_result"
    }
   ],
   "source": [
    "G.edge[\"Jacie\"][\"John\"]['weight'] = 2.5\n",
    "G.edge[\"Jacie\"][\"John\"]"
   ]
  },
  {
   "cell_type": "code",
   "execution_count": 18,
   "metadata": {
    "collapsed": true
   },
   "outputs": [],
   "source": [
    "G.add_edges_from([(\"Teodosio\", \"Herakles\"), (\"Teodosio\", \"Kornelia\")], weight=5.0)"
   ]
  },
  {
   "cell_type": "code",
   "execution_count": 19,
   "metadata": {},
   "outputs": [
    {
     "data": {
      "text/plain": [
       "5.0"
      ]
     },
     "execution_count": 19,
     "metadata": {},
     "output_type": "execute_result"
    }
   ],
   "source": [
    "G.edge['Kornelia']['Teodosio']['weight']"
   ]
  },
  {
   "cell_type": "markdown",
   "metadata": {},
   "source": [
    "# Adding attributes to nodes not in graph\n",
    "* We add an edge for two new nodes (not included)\n",
    "* NetworkX will add newly created nodes to the graph"
   ]
  },
  {
   "cell_type": "code",
   "execution_count": 20,
   "metadata": {
    "collapsed": true
   },
   "outputs": [],
   "source": [
    "G.add_edge(\"Larry\", \"Mary\")"
   ]
  },
  {
   "cell_type": "code",
   "execution_count": 21,
   "metadata": {},
   "outputs": [
    {
     "data": {
      "text/plain": [
       "['Jacie',\n",
       " 'John',\n",
       " 'Juan',\n",
       " 'Jack',\n",
       " 'Julia',\n",
       " 'Jade',\n",
       " 'Jeff',\n",
       " 'Herakles',\n",
       " 'Rut',\n",
       " 'Teodosio',\n",
       " 'Priscila',\n",
       " 'Kornelia',\n",
       " 'Larry',\n",
       " 'Mary']"
      ]
     },
     "execution_count": 21,
     "metadata": {},
     "output_type": "execute_result"
    }
   ],
   "source": [
    "G.nodes()"
   ]
  },
  {
   "cell_type": "code",
   "execution_count": 22,
   "metadata": {},
   "outputs": [
    {
     "data": {
      "text/plain": [
       "[('Jacie', 'John'),\n",
       " ('Jacie', 'Juan'),\n",
       " ('John', 'Juan'),\n",
       " ('Juan', 'Julia'),\n",
       " ('Juan', 'Jade'),\n",
       " ('Jack', 'Julia'),\n",
       " ('Julia', 'Jeff'),\n",
       " ('Jade', 'Jeff'),\n",
       " ('Herakles', 'Teodosio'),\n",
       " ('Teodosio', 'Kornelia'),\n",
       " ('Larry', 'Mary')]"
      ]
     },
     "execution_count": 22,
     "metadata": {},
     "output_type": "execute_result"
    }
   ],
   "source": [
    "G.edges()"
   ]
  },
  {
   "cell_type": "markdown",
   "metadata": {},
   "source": [
    "## Undirected vs. Directed Graphs\n",
    "* Undirected graph has bidirectional edges between nodes A-->B, B-->A\n",
    "* Directed graph has directional edge between nodes: A-->B, B-->C\n",
    "* Create directed graph by indicating direction of connections"
   ]
  },
  {
   "cell_type": "code",
   "execution_count": 23,
   "metadata": {},
   "outputs": [
    {
     "data": {
      "text/plain": [
       "{'weight': 5.0}"
      ]
     },
     "execution_count": 23,
     "metadata": {},
     "output_type": "execute_result"
    }
   ],
   "source": [
    "G.edge[\"Mary\"][\"Larry\"]['weight'] = 5.0\n",
    "G.edge[\"Larry\"][\"Mary\"]"
   ]
  },
  {
   "cell_type": "code",
   "execution_count": 24,
   "metadata": {},
   "outputs": [
    {
     "data": {
      "text/plain": [
       "['Jacie',\n",
       " 'John',\n",
       " 'Juan',\n",
       " 'Jack',\n",
       " 'Julia',\n",
       " 'Jade',\n",
       " 'Jeff',\n",
       " 'Herakles',\n",
       " 'Rut',\n",
       " 'Teodosio',\n",
       " 'Priscila',\n",
       " 'Kornelia',\n",
       " 'Larry',\n",
       " 'Mary']"
      ]
     },
     "execution_count": 24,
     "metadata": {},
     "output_type": "execute_result"
    }
   ],
   "source": [
    "# Networkx has method called DiGraph for directed graphs\n",
    "DG = nx.DiGraph()\n",
    "\n",
    "DG.add_nodes_from(G.nodes())\n",
    "DG.nodes()"
   ]
  },
  {
   "cell_type": "markdown",
   "metadata": {},
   "source": [
    "## Links in Directed graphs are not reciprocal\n",
    "* If we add edge from Julia to Kornelia, Kornelia is neighbor of Julia\n",
    "* BUT, Kornelia is not a neighbor of Julia; Neighbors not applicable to DG\n",
    "* Use `predecessors` function to identify linked nodes in DG: "
   ]
  },
  {
   "cell_type": "code",
   "execution_count": 25,
   "metadata": {},
   "outputs": [
    {
     "data": {
      "text/plain": [
       "['Kornelia']"
      ]
     },
     "execution_count": 25,
     "metadata": {},
     "output_type": "execute_result"
    }
   ],
   "source": [
    "DG.add_edge(\"Julia\", \"Kornelia\")\n",
    "DG.neighbors(\"Julia\")"
   ]
  },
  {
   "cell_type": "code",
   "execution_count": 26,
   "metadata": {},
   "outputs": [
    {
     "data": {
      "text/plain": [
       "[]"
      ]
     },
     "execution_count": 26,
     "metadata": {},
     "output_type": "execute_result"
    }
   ],
   "source": [
    "DG.neighbors(\"Kornelia\")"
   ]
  },
  {
   "cell_type": "code",
   "execution_count": 27,
   "metadata": {},
   "outputs": [
    {
     "data": {
      "text/plain": [
       "['Julia']"
      ]
     },
     "execution_count": 27,
     "metadata": {},
     "output_type": "execute_result"
    }
   ],
   "source": [
    "DG.predecessors(\"Kornelia\")"
   ]
  },
  {
   "cell_type": "markdown",
   "metadata": {},
   "source": [
    "### Twitter Example of DG is follower network (and `retweets`)\n",
    "* Julia can follow Kornelia, but Kornelia does not follow Julia\n",
    "* Kornelia can follow Julia, but Julia does not follow Kornelia \n",
    "\n",
    "## Add attribute to directional edge\n",
    "* Attribute added to edge from Kornelia to Julia is NOT reciprocal\n",
    "* In bigraph, we have two separate edges pointing in opposite direction \n",
    "* Modifying attributes of one does not modify attributes of the other."
   ]
  },
  {
   "cell_type": "code",
   "execution_count": 28,
   "metadata": {
    "collapsed": true
   },
   "outputs": [],
   "source": [
    "DG.add_edge(\"Kornelia\", \"Julia\")\n",
    "DG.edge[\"Julia\"][\"Kornelia\"]['weight'] = 5.0"
   ]
  },
  {
   "cell_type": "code",
   "execution_count": 29,
   "metadata": {},
   "outputs": [
    {
     "data": {
      "text/plain": [
       "{'weight': 5.0}"
      ]
     },
     "execution_count": 29,
     "metadata": {},
     "output_type": "execute_result"
    }
   ],
   "source": [
    "DG.edge[\"Julia\"][\"Kornelia\"]"
   ]
  },
  {
   "cell_type": "code",
   "execution_count": 30,
   "metadata": {},
   "outputs": [
    {
     "data": {
      "text/plain": [
       "{}"
      ]
     },
     "execution_count": 30,
     "metadata": {},
     "output_type": "execute_result"
    }
   ],
   "source": [
    "DG.edge[\"Kornelia\"][\"Julia\"]"
   ]
  },
  {
   "cell_type": "markdown",
   "metadata": {},
   "source": [
    "# EXAMPLE: Build Network from Twitter data\n",
    "`Ego network` is seeded with a single individual on which network is grown. \n",
    "* Start from `vqmalic` account, get all accounts who follow Vincent.\n",
    "* Create empty list, add tuple for each relationship in form: (follower's screen name, \"vqmalic\").\n",
    "\n",
    "## Get **all my follower's followers**\n",
    "* Add those relationships to the edge list.\n",
    "* Breadth-first search will grow exponentially very fast, particularly if someone who follows me has a huge amount of followers. \n",
    "* Instead of using the ``Cursor`` object, use normal API calls which will only get the first 25 followers per user. \n",
    "\n",
    "### For a project,  use Cursor method\n",
    "* Process would take a considerable amount of time. "
   ]
  },
  {
   "cell_type": "code",
   "execution_count": 31,
   "metadata": {},
   "outputs": [],
   "source": [
    "API_KEY = \"\"\n",
    "API_SECRET = \"\"\n",
    "\n",
    "import tweepy\n",
    "auth = tweepy.AppAuthHandler(API_KEY, API_SECRET)\n",
    "api = tweepy.API(auth, wait_on_rate_limit=True, wait_on_rate_limit_notify=True)"
   ]
  },
  {
   "cell_type": "markdown",
   "metadata": {},
   "source": [
    "### Iterate over twitter followers, capture, store edges in list\n",
    "* Initialize empty list to store edges, set seed as starting point for network\n",
    "* Iterate over followers, capture screen name, append their followers to edges\n",
    "* Try...except is a way to catch errors due to privacy settings\n",
    "* Iterate through followers of followers\n"
   ]
  },
  {
   "cell_type": "code",
   "execution_count": 32,
   "metadata": {},
   "outputs": [
    {
     "name": "stdout",
     "output_type": "stream",
     "text": [
      "Not authorized, skipping.\n"
     ]
    }
   ],
   "source": [
    "edges = []\n",
    "\n",
    "ego = api.get_user(\"vqmalic\")\n",
    "\n",
    "for follower in ego.followers():\n",
    "    follower_sn = follower.screen_name\n",
    "    edges.append((follower_sn, \"vqmalic\"))\n",
    "    try:\n",
    "        for follower2 in follower.followers():\n",
    "            follower2_sn = follower2.screen_name\n",
    "            edges.append((follower2_sn, follower_sn))\n",
    "    except:\n",
    "        print(\"Not authorized, skipping.\")"
   ]
  },
  {
   "cell_type": "code",
   "execution_count": 33,
   "metadata": {},
   "outputs": [
    {
     "data": {
      "text/plain": [
       "355"
      ]
     },
     "execution_count": 33,
     "metadata": {},
     "output_type": "execute_result"
    }
   ],
   "source": [
    "len(edges)"
   ]
  },
  {
   "cell_type": "code",
   "execution_count": 34,
   "metadata": {},
   "outputs": [
    {
     "data": {
      "text/plain": [
       "[('seanshiverick', 'vqmalic'),\n",
       " ('Dal_DealFinder', 'seanshiverick'),\n",
       " ('expertmodels', 'seanshiverick'),\n",
       " ('heytammyy', 'seanshiverick'),\n",
       " ('shiversea', 'vqmalic')]"
      ]
     },
     "execution_count": 34,
     "metadata": {},
     "output_type": "execute_result"
    }
   ],
   "source": [
    "edges[:5]"
   ]
  },
  {
   "cell_type": "markdown",
   "metadata": {},
   "source": [
    "## Returns list of Tuples, as Directed Graph\n",
    "* Create DG object\n",
    "* Add edges from list of edges from followers, and followers of\n",
    "* Examine attributes of directed network, visualize graph in Matplotlib "
   ]
  },
  {
   "cell_type": "code",
   "execution_count": 35,
   "metadata": {
    "collapsed": true
   },
   "outputs": [],
   "source": [
    "DG = nx.DiGraph()\n",
    "DG.add_edges_from(edges)"
   ]
  },
  {
   "cell_type": "code",
   "execution_count": 36,
   "metadata": {},
   "outputs": [
    {
     "data": {
      "text/plain": [
       "344"
      ]
     },
     "execution_count": 36,
     "metadata": {},
     "output_type": "execute_result"
    }
   ],
   "source": [
    "DG.number_of_nodes()"
   ]
  },
  {
   "cell_type": "code",
   "execution_count": 37,
   "metadata": {},
   "outputs": [
    {
     "data": {
      "text/plain": [
       "355"
      ]
     },
     "execution_count": 37,
     "metadata": {},
     "output_type": "execute_result"
    }
   ],
   "source": [
    "DG.number_of_edges()"
   ]
  },
  {
   "cell_type": "code",
   "execution_count": 38,
   "metadata": {},
   "outputs": [
    {
     "name": "stderr",
     "output_type": "stream",
     "text": [
      "//anaconda/lib/python3.6/site-packages/networkx/drawing/nx_pylab.py:126: MatplotlibDeprecationWarning: pyplot.hold is deprecated.\n",
      "    Future behavior will be consistent with the long-time default:\n",
      "    plot commands add elements without first clearing the\n",
      "    Axes and/or Figure.\n",
      "  b = plt.ishold()\n",
      "//anaconda/lib/python3.6/site-packages/networkx/drawing/nx_pylab.py:138: MatplotlibDeprecationWarning: pyplot.hold is deprecated.\n",
      "    Future behavior will be consistent with the long-time default:\n",
      "    plot commands add elements without first clearing the\n",
      "    Axes and/or Figure.\n",
      "  plt.hold(b)\n",
      "//anaconda/lib/python3.6/site-packages/matplotlib/__init__.py:917: UserWarning: axes.hold is deprecated. Please remove it from your matplotlibrc and/or style files.\n",
      "  warnings.warn(self.msg_depr_set % key)\n",
      "//anaconda/lib/python3.6/site-packages/matplotlib/rcsetup.py:152: UserWarning: axes.hold is deprecated, will be removed in 3.0\n",
      "  warnings.warn(\"axes.hold is deprecated, will be removed in 3.0\")\n"
     ]
    },
    {
     "data": {
      "image/png": "[encoded data removed]",
      "text/plain": [
       "<matplotlib.figure.Figure at 0x10f18a6a0>"
      ]
     },
     "metadata": {},
     "output_type": "display_data"
    }
   ],
   "source": [
    "# Create visual of graph in matplotlib (not best for graph visualization)\n",
    "\n",
    "%matplotlib inline\n",
    "import matplotlib.pyplot as plt\n",
    "nx.draw(DG)\n",
    "plt.show()"
   ]
  }
 ],
 "metadata": {
  "kernelspec": {
   "display_name": "Python 3",
   "language": "python",
   "name": "python3"
  },
  "language_info": {
   "codemirror_mode": {
    "name": "ipython",
    "version": 3
   },
   "file_extension": ".py",
   "mimetype": "text/x-python",
   "name": "python",
   "nbconvert_exporter": "python",
   "pygments_lexer": "ipython3",
   "version": "3.6.1"
  }
 },
 "nbformat": 4,
 "nbformat_minor": 2
}
