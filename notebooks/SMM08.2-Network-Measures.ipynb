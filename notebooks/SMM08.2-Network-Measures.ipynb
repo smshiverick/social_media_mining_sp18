{
 "cells": [
  {
   "cell_type": "markdown",
   "metadata": {},
   "source": [
    "# Social Media Mining: Network Measures\n",
    "### Vincent Malic - Spring 2018\n",
    "\n",
    "# Module 8.2 Network Measures\n",
    "* Make an undirected graph that we'll use to demonstrate network measures. "
   ]
  },
  {
   "cell_type": "code",
   "execution_count": 1,
   "metadata": {
    "collapsed": true
   },
   "outputs": [],
   "source": [
    "import networkx as nx\n",
    "\n",
    "G = nx.Graph()\n",
    "\n",
    "G.add_edges_from(\n",
    "    [\n",
    "        (\"a\", \"b\"),\n",
    "        (\"a\", \"d\"),\n",
    "        (\"a\", \"f\"),\n",
    "        (\"b\", \"g\"),\n",
    "        (\"b\", \"d\"),\n",
    "        (\"b\", \"a\"),\n",
    "        (\"b\", \"e\"),\n",
    "        (\"c\", \"d\"),\n",
    "        (\"c\", \"h\"),\n",
    "        (\"d\", \"a\"),\n",
    "        (\"d\", \"b\"),\n",
    "        (\"d\", \"c\"),\n",
    "        (\"d\", \"e\"),\n",
    "        (\"d\", \"f\"),\n",
    "        (\"d\", \"g\"),\n",
    "        (\"e\", \"b\"),\n",
    "        (\"e\", \"d\"),\n",
    "        (\"e\", \"g\"),\n",
    "        (\"f\", \"a\"),\n",
    "        (\"f\", \"d\"),\n",
    "        (\"f\", \"g\"),\n",
    "        (\"f\", \"h\"),\n",
    "        (\"g\", \"e\"),\n",
    "        (\"g\", \"b\"),\n",
    "        (\"g\", \"f\"),\n",
    "        (\"g\", \"h\"),\n",
    "        (\"h\", \"g\"),\n",
    "        (\"h\", \"f\"),\n",
    "        (\"h\", \"c\"),\n",
    "        (\"h\", \"r\"),\n",
    "        (\"h\", \"i\"),\n",
    "        (\"i\", \"h\"),\n",
    "        (\"i\", \"p\"),\n",
    "        (\"i\", \"j\"),\n",
    "        (\"i\", \"n\"),\n",
    "        (\"j\", \"p\"),\n",
    "        (\"j\", \"m\"),\n",
    "        (\"j\", \"l\"),\n",
    "        (\"j\", \"k\"),\n",
    "        (\"j\", \"o\"),\n",
    "        (\"j\", \"n\"),\n",
    "        (\"j\", \"i\"),\n",
    "        (\"k\", \"j\"),\n",
    "        (\"k\", \"l\"),\n",
    "        (\"k\", \"p\"),\n",
    "        (\"l\", \"m\"),\n",
    "        (\"l\", \"k\"),\n",
    "        (\"l\", \"j\"),\n",
    "        (\"m\", \"l\"),\n",
    "        (\"m\", \"j\"),\n",
    "        (\"m\", \"q\"),\n",
    "        (\"n\", \"i\"),\n",
    "        (\"n\", \"j\"),\n",
    "        (\"n\", \"o\"),\n",
    "        (\"o\", \"n\"),\n",
    "        (\"o\", \"j\"),\n",
    "        (\"p\", \"i\"),\n",
    "        (\"p\", \"j\"),\n",
    "        (\"p\", \"k\"),\n",
    "        (\"q\", \"m\"),\n",
    "        (\"q\", \"s\"),\n",
    "        (\"r\", \"h\"),\n",
    "        (\"s\", \"q\")   \n",
    "    ]\n",
    ")"
   ]
  },
  {
   "cell_type": "code",
   "execution_count": 2,
   "metadata": {},
   "outputs": [
    {
     "data": {
      "image/png": "[encoded data removed]",
      "text/plain": [
       "<matplotlib.figure.Figure at 0x10be99978>"
      ]
     },
     "metadata": {},
     "output_type": "display_data"
    }
   ],
   "source": [
    "%matplotlib inline\n",
    "import matplotlib.pyplot as plt\n",
    "\n",
    "pos = nx.spring_layout(G, iterations=100)\n",
    "nx.draw_networkx_nodes(G, pos, node_size = 300)\n",
    "nx.draw_networkx_edges(G, pos)\n",
    "nx.draw_networkx_labels(G, pos, font_size=10)\n",
    "plt.axis(\"off\")\n",
    "plt.show()"
   ]
  },
  {
   "cell_type": "markdown",
   "metadata": {},
   "source": [
    "## Degree of a node \n",
    "* Count of the number of edges a node has. \n",
    "* Use ``degree`` method on a graph to obtain the degree of any given node. "
   ]
  },
  {
   "cell_type": "code",
   "execution_count": 3,
   "metadata": {},
   "outputs": [
    {
     "data": {
      "text/plain": [
       "3"
      ]
     },
     "execution_count": 3,
     "metadata": {},
     "output_type": "execute_result"
    }
   ],
   "source": [
    "G.degree(\"k\")"
   ]
  },
  {
   "cell_type": "markdown",
   "metadata": {},
   "source": [
    "# Directed network\n",
    "Distinguishes edges that originate **from** a node from edges that point **to** a node. \n",
    "* **Outdegree** of a node is a count of the number of edges originating from a node\n",
    "* **indegree** is the number of edges that point to a node. \n",
    "\n",
    "## Use networkx function to generate a random directed graph.\n",
    "* Totally feasible for a node to have very different indegrees and outdegrees."
   ]
  },
  {
   "cell_type": "code",
   "execution_count": 4,
   "metadata": {
    "collapsed": true
   },
   "outputs": [],
   "source": [
    "DG = nx.erdos_renyi_graph(100, 0.4, directed=True)"
   ]
  },
  {
   "cell_type": "code",
   "execution_count": 5,
   "metadata": {},
   "outputs": [
    {
     "name": "stdout",
     "output_type": "stream",
     "text": [
      "39\n",
      "38\n"
     ]
    }
   ],
   "source": [
    "# indegree of node 37\n",
    "print(DG.in_degree(37))\n",
    "\n",
    "# outdegree of node 37\n",
    "print(DG.out_degree(37))"
   ]
  },
  {
   "cell_type": "markdown",
   "metadata": {},
   "source": [
    "# Weighted Network\n",
    "* Each of the edges has a number corresponding to that edge's weight. \n",
    "* Degree of node is **sum of weights of edges that node is connected to**. \n",
    "\n",
    "## Generate an undirected, weighted graph. "
   ]
  },
  {
   "cell_type": "code",
   "execution_count": 6,
   "metadata": {
    "collapsed": true
   },
   "outputs": [],
   "source": [
    "import numpy as np\n",
    "WG = nx.erdos_renyi_graph(100, 0.4)\n",
    "for edge in WG.edges():\n",
    "    WG.edge[edge[0]][edge[1]]['weight'] = np.random.randint(0, 10)"
   ]
  },
  {
   "cell_type": "markdown",
   "metadata": {},
   "source": [
    "## Get weighted degree of node\n",
    "* Specify the **name of the edge attribute that contains the weight**. \n",
    "* In our case, the name of this attribute is ``weight``. "
   ]
  },
  {
   "cell_type": "code",
   "execution_count": 7,
   "metadata": {},
   "outputs": [
    {
     "data": {
      "text/plain": [
       "{1: {'weight': 6},\n",
       " 2: {'weight': 1},\n",
       " 5: {'weight': 9},\n",
       " 6: {'weight': 9},\n",
       " 7: {'weight': 8},\n",
       " 9: {'weight': 0},\n",
       " 12: {'weight': 9},\n",
       " 13: {'weight': 2},\n",
       " 19: {'weight': 6},\n",
       " 20: {'weight': 5},\n",
       " 23: {'weight': 8},\n",
       " 24: {'weight': 4},\n",
       " 25: {'weight': 8},\n",
       " 27: {'weight': 5},\n",
       " 30: {'weight': 1},\n",
       " 35: {'weight': 7},\n",
       " 36: {'weight': 2},\n",
       " 38: {'weight': 5},\n",
       " 39: {'weight': 5},\n",
       " 41: {'weight': 1},\n",
       " 46: {'weight': 0},\n",
       " 49: {'weight': 6},\n",
       " 51: {'weight': 3},\n",
       " 53: {'weight': 4},\n",
       " 54: {'weight': 4},\n",
       " 55: {'weight': 6},\n",
       " 58: {'weight': 2},\n",
       " 59: {'weight': 8},\n",
       " 61: {'weight': 1},\n",
       " 64: {'weight': 6},\n",
       " 66: {'weight': 5},\n",
       " 67: {'weight': 7},\n",
       " 68: {'weight': 2},\n",
       " 69: {'weight': 6},\n",
       " 70: {'weight': 4},\n",
       " 72: {'weight': 7},\n",
       " 78: {'weight': 8},\n",
       " 80: {'weight': 2},\n",
       " 81: {'weight': 2},\n",
       " 82: {'weight': 1},\n",
       " 87: {'weight': 8},\n",
       " 88: {'weight': 4},\n",
       " 90: {'weight': 1},\n",
       " 92: {'weight': 5},\n",
       " 95: {'weight': 7},\n",
       " 98: {'weight': 7}}"
      ]
     },
     "execution_count": 7,
     "metadata": {},
     "output_type": "execute_result"
    }
   ],
   "source": [
    "# The edges of node 37\n",
    "WG.edge[37]"
   ]
  },
  {
   "cell_type": "markdown",
   "metadata": {},
   "source": [
    "### What is degree of node 37?"
   ]
  },
  {
   "cell_type": "code",
   "execution_count": 8,
   "metadata": {},
   "outputs": [
    {
     "data": {
      "text/plain": [
       "217"
      ]
     },
     "execution_count": 8,
     "metadata": {},
     "output_type": "execute_result"
    }
   ],
   "source": [
    "WG.degree(37, weight=\"weight\") # designate the name of the edge attribute with the parameter weight"
   ]
  },
  {
   "cell_type": "markdown",
   "metadata": {},
   "source": [
    "# Degree Centrality\n",
    "* Quantifies importance of a node is to simply take into account how many edges they have. \n",
    "* A node with a lot of edges is important, a node with fewer edges is less important. \n",
    "\n",
    "## Networkx function ``degree_centrality`` \n",
    "* Calculates the *normalized degree* for every node in a graph. \n",
    "* Normalized by the highest number of connections a node may possibly have: \n",
    "* If the number of nodes in a network is $n$, then degree centrality is normalized by $n-1$."
   ]
  },
  {
   "cell_type": "code",
   "execution_count": 9,
   "metadata": {},
   "outputs": [
    {
     "data": {
      "text/plain": [
       "{'a': 0.16666666666666666,\n",
       " 'b': 0.2222222222222222,\n",
       " 'c': 0.1111111111111111,\n",
       " 'd': 0.3333333333333333,\n",
       " 'e': 0.16666666666666666,\n",
       " 'f': 0.2222222222222222,\n",
       " 'g': 0.2777777777777778,\n",
       " 'h': 0.2777777777777778,\n",
       " 'i': 0.2222222222222222,\n",
       " 'j': 0.38888888888888884,\n",
       " 'k': 0.16666666666666666,\n",
       " 'l': 0.16666666666666666,\n",
       " 'm': 0.16666666666666666,\n",
       " 'n': 0.16666666666666666,\n",
       " 'o': 0.1111111111111111,\n",
       " 'p': 0.16666666666666666,\n",
       " 'q': 0.1111111111111111,\n",
       " 'r': 0.05555555555555555,\n",
       " 's': 0.05555555555555555}"
      ]
     },
     "execution_count": 9,
     "metadata": {},
     "output_type": "execute_result"
    }
   ],
   "source": [
    "nx.degree_centrality(G)"
   ]
  },
  {
   "cell_type": "markdown",
   "metadata": {},
   "source": [
    "#### In terms of Degree Centrality, node \"j\" is most important\" \n",
    "* Node J has normalized degree centrality of 0.39, hub of the community on left\n",
    "* Node D has second highest degree centrality of 0.33, and is hub of community on right\n"
   ]
  },
  {
   "cell_type": "code",
   "execution_count": 10,
   "metadata": {},
   "outputs": [
    {
     "data": {
      "image/png": "[encoded data removed]",
      "text/plain": [
       "<matplotlib.figure.Figure at 0x1104dc5f8>"
      ]
     },
     "metadata": {},
     "output_type": "display_data"
    }
   ],
   "source": [
    "nx.draw_networkx_nodes(G, pos, node_size = 300)\n",
    "nx.draw_networkx_edges(G, pos)\n",
    "nx.draw_networkx_labels(G, pos, font_size=10)\n",
    "plt.axis(\"off\")\n",
    "plt.show()"
   ]
  },
  {
   "cell_type": "code",
   "execution_count": 11,
   "metadata": {},
   "outputs": [
    {
     "data": {
      "text/plain": [
       "7"
      ]
     },
     "execution_count": 11,
     "metadata": {},
     "output_type": "execute_result"
    }
   ],
   "source": [
    "G.degree(\"j\")"
   ]
  },
  {
   "cell_type": "markdown",
   "metadata": {},
   "source": [
    "# Graph visualization \n",
    "* Node j is connected to many other nodes, and has a degree of 7, the highest in the graph. \n",
    "\n",
    "## Meaning of Degree Centrality \n",
    "Highly dependent on your network, and what is *important* in your dataset:\n",
    "* A Facebook Friend Network: nodes are Facebook users, and a link exists between two users if they are Facebook friends. Degree centrality represents *how popular* a person is. The higher the centrality, the more friends the user has. \n",
    "* A Network of intervenous drug users: Nodes are IV drug users, edge exists if two people have reported they share needles. The person with the highest degree centrality is the person who shares needles with the most people.\n",
    "* Hashtag Cooccurrence: A node is a hashtag, and an edge exists between two hashtags if they have been used together in the same tweet. The hashtag with the highest degree centrality is a *versatile* hashtag; it can be used in many situations."
   ]
  },
  {
   "cell_type": "markdown",
   "metadata": {},
   "source": [
    "# Closeness Centrality\n",
    "* Measure of how close a node is to **all other nodes in the network**.\n",
    "* Distance to other nodes in the network is the measures of importance or centrality\n",
    "\n",
    "### \"Six Degrees of Kevin Bacon\" Game\n",
    "Goal is to take less than six steps (degrees) to reach Kevin Bacon. \n",
    "* Name an actor - `Michael Caine`; and then name someone this actor has acted with in a movie: \n",
    "* Then, find a person who has acted with Actor B in a movie: Actor C. \n",
    "* Repeat until you finally arrive at Kevin Bacon. \n",
    "\n",
    "## Algorithm for Closeness Centrality:\n",
    "1. For selected node A, **find the length of the shortest path between it and all other nodes in the network**. \n",
    "2. Take the average of those lengths. \n",
    "3. The average is normalized by dividing the **longest possible path in the network** by this average. \n",
    "\n",
    "### For a given network with $n$ nodes:\n",
    "* The longest possible path is $n-1$ \n",
    "* A hypothetical scenario where if you had to get from node A to B, you have to cross through *all other nodes* in network.\n",
    "* Normalization is used to get the scale right: \n",
    "  * A higher number means the node is **closer** to other nodes, \n",
    "  * A lower number means a node is **further away**."
   ]
  },
  {
   "cell_type": "code",
   "execution_count": 12,
   "metadata": {},
   "outputs": [
    {
     "data": {
      "text/plain": [
       "{'a': 0.2903225806451613,\n",
       " 'b': 0.29508196721311475,\n",
       " 'c': 0.34615384615384615,\n",
       " 'd': 0.3050847457627119,\n",
       " 'e': 0.2903225806451613,\n",
       " 'f': 0.36,\n",
       " 'g': 0.3673469387755102,\n",
       " 'h': 0.45,\n",
       " 'i': 0.46153846153846156,\n",
       " 'j': 0.42857142857142855,\n",
       " 'k': 0.3157894736842105,\n",
       " 'l': 0.32727272727272727,\n",
       " 'm': 0.3333333333333333,\n",
       " 'n': 0.375,\n",
       " 'o': 0.3103448275862069,\n",
       " 'p': 0.375,\n",
       " 'q': 0.2608695652173913,\n",
       " 'r': 0.3157894736842105,\n",
       " 's': 0.20930232558139536}"
      ]
     },
     "execution_count": 12,
     "metadata": {},
     "output_type": "execute_result"
    }
   ],
   "source": [
    "nx.closeness_centrality(G)"
   ]
  },
  {
   "cell_type": "markdown",
   "metadata": {},
   "source": [
    "### Node `i` has highest closeness centrality, followed by node `h`.\n",
    "* `i` doesn't have highest degree, but it is closer to all the other nodes on average \n",
    "\n",
    "## Examples of Closeness Centrality\n",
    "* Facebook friend network: the person with the highest closeness centrality is the person who is a short distance from *all* the people in the network. If the person with the highest closeness centrality shares a post, it has a higher potential to *eventually be seen by everyone in the network*.\n",
    "* IV user network: if this person contracts a disease from IV drug usage, there's more of a risk that everyone in the network will also contract the disease in a shorter period of time. \n",
    "* Hashtag cooccurence network: the hashtag with the highest closeness centrality is not necessarily popular, but it is probably *very general and non-specific*. It has very broad meaning, shortest distance to other hashtags (e.g., politics, fashion, food, cities, etc.) "
   ]
  },
  {
   "cell_type": "code",
   "execution_count": 13,
   "metadata": {},
   "outputs": [
    {
     "data": {
      "image/png": "[encoded data removed]",
      "text/plain": [
       "<matplotlib.figure.Figure at 0x1104dc518>"
      ]
     },
     "metadata": {},
     "output_type": "display_data"
    }
   ],
   "source": [
    "nx.draw_networkx_nodes(G, pos, node_size = 300)\n",
    "nx.draw_networkx_edges(G, pos)\n",
    "nx.draw_networkx_labels(G, pos, font_size=10)\n",
    "plt.axis(\"off\")\n",
    "plt.show()"
   ]
  },
  {
   "cell_type": "markdown",
   "metadata": {},
   "source": [
    "### NOTE: IMPORTANT LIMITATION IS RUNTIME:\n",
    "** Calculation of closeness centrality scales very poorly with network size**. \n",
    "* To get closeness centrality of *every node* in a network, need to calculate $\\frac{n \\cdot (n-1)}{2}$ distances. \n",
    "* Furthermore, need to find the *shortest* distance; the larger the network, the more possible paths there are between two given nodes. \n",
    "  * For graph with 100,000 nodes, calculate 4,999,950,000 distances, and for each distance, it may have to explore a very large number of paths. \n",
    "  * For very large network (big data) calculating ``closeness_centrality`` may take a very long time. (may want to use subset of nodes.)\n",
    "\n",
    "## Measure of Centrality\n",
    "* Degree centrality: defined by how many links a node has\n",
    "* Closeness centrality: defined by how close a node is to all other nodes in the network. \n",
    "* Betweenness centrality: what makes a node important is *how in-between* it is."
   ]
  },
  {
   "cell_type": "markdown",
   "metadata": {
    "collapsed": true
   },
   "source": [
    "# Betweenness Centrality\n",
    "* To calculate betweenness centrality is taking *every pair of nodes* and finding the shortest path between them. \n",
    "* Next, find the betweenness centrality of a given node, calculate *the fraction of all these shotest paths that include this node*. \n",
    "\n",
    "## Meaning of Betweenness Centrality\n",
    "* Intuitively, a node $X$ has a high betweenness centrality if when traveling from one node to another node in a network, one often has to pass through node $X$. \n",
    "* Conceptualually, nodes with high betweenness centrality are *bridge nodes*. \n",
    "* To cross from one area of network to another, you have to go through these nodes."
   ]
  },
  {
   "cell_type": "code",
   "execution_count": 14,
   "metadata": {},
   "outputs": [
    {
     "data": {
      "text/plain": [
       "{'a': 0.0021786492374727667,\n",
       " 'b': 0.005446623093681917,\n",
       " 'c': 0.026143790849673193,\n",
       " 'd': 0.037037037037037035,\n",
       " 'e': 0.0,\n",
       " 'f': 0.10675381263616555,\n",
       " 'g': 0.18845315904139442,\n",
       " 'h': 0.5751633986928105,\n",
       " 'i': 0.5326797385620915,\n",
       " 'j': 0.434640522875817,\n",
       " 'k': 0.0032679738562091504,\n",
       " 'l': 0.00980392156862745,\n",
       " 'm': 0.20915032679738563,\n",
       " 'n': 0.032679738562091505,\n",
       " 'o': 0.0,\n",
       " 'p': 0.032679738562091505,\n",
       " 'q': 0.11111111111111112,\n",
       " 'r': 0.0,\n",
       " 's': 0.0}"
      ]
     },
     "execution_count": 14,
     "metadata": {},
     "output_type": "execute_result"
    }
   ],
   "source": [
    "nx.betweenness_centrality(G)"
   ]
  },
  {
   "cell_type": "markdown",
   "metadata": {},
   "source": [
    "### Node `h` has the highest betweenness centrality"
   ]
  },
  {
   "cell_type": "code",
   "execution_count": 15,
   "metadata": {},
   "outputs": [
    {
     "data": {
      "image/png": "[encoded data removed]",
      "text/plain": [
       "<matplotlib.figure.Figure at 0x11083ee10>"
      ]
     },
     "metadata": {},
     "output_type": "display_data"
    }
   ],
   "source": [
    "nx.draw_networkx_nodes(G, pos, node_size = 300)\n",
    "nx.draw_networkx_edges(G, pos)\n",
    "nx.draw_networkx_labels(G, pos, font_size=10)\n",
    "plt.axis(\"off\")\n",
    "plt.show()"
   ]
  },
  {
   "cell_type": "markdown",
   "metadata": {},
   "source": [
    "## Comparing Measures of Centrality\n",
    "* Node `h` has highest **betweenness centrality**; to reach node r from *any other node*, one most pass through h. Node h is the bridge or \"gate keeper,\" so to speak. \n",
    "* Node `i` has highest **closeness centrality**, is closer to all other nodes in network, on average, and also has high betweenness centrality\n",
    "* Nodes `i` and `h` link the community centered on node j to the community centered on node d; to travel from one community to the other, one *must* travel through nodes i and h.\n",
    "\n",
    "### Additional connecting nodes\n",
    "* Node `j` also has a high betweenness centrality, to get to node `i`, nodes `k`, `l`, `m`, `o`, `n`, must pass through j.\n",
    "* Node `m` has high betweenness centrality; one must pass through node `m` to get to nodes `q` and `s`, but node `m` does not have high degree centrality or closeness centrality.\n",
    "\n",
    "## Examples of Beweenness Centrality\n",
    "* Facebook network: node with a high betweenness centrality *links different communities*. Person majoring in both chemistry and art, is friends with people from both departments; info traveling from chemistry student to art student, passes through double major. \n",
    "* IV drug user network: People in neighborhood A tend to share needles among themselves, and people in neighbor B tend to share needles among themselves; Individual with high betweenness centrality who shares needles with a person in neighborhood B and neighborhood A. \n",
    "* Hashtag cooccurrence network: a hashtag with high betweenness centrality tends to occur alongside unexpected combinations of hashtags; politics hashtags cluster together, and food hashtags cluster together, but some hashtag occurs with *both* politics and food hashtags.\n",
    "\n",
    "### IMPORTANT NOTE ON RUNTIME: \n",
    "** Calculating betweenness centrality scales poorly with network size.** \n",
    "* Networkx ``betweenness_centrality`` method has parameter ``k``, that takes an integer.\n",
    "* Pass ``k`` to **estimate** betweenness centrality from ``k`` samples, instead of all them. \n",
    "* Estimation; the higher ``k`` is, the more accurate the estimation, but takes more time."
   ]
  },
  {
   "cell_type": "markdown",
   "metadata": {},
   "source": [
    "# Eigenvector (EV) Centrality\n",
    "* Not all links are created equally, some links more important, have more weight than others\n",
    "* Citation network: paper may be cited few times, by *important papers by important authors*, those citations are considered hihgly valuable, than citations by *low-ranked papers* \n",
    "\n",
    "## Basic Idea of Eigenvector (EV) centrality\n",
    "** A node with link from another node with many links, will be more important**.\n",
    "* Example: Google's PageRank algorithm ranks Google Search results is variation of EV centrality.\n",
    "* Webpage A receives 5 incoming links from highly connected web pages (e.g., BBC, NYT)\n",
    "* Webpage A receives 1000 incoming links from minor pages with few connections. \n",
    "\n",
    "PageRank Algorithm at work:\n",
    "<img src=\"https://upload.wikimedia.org/wikipedia/commons/f/fb/PageRanks-Example.svg\">\n",
    "\n",
    "### EV Centrality in Action:\n",
    "* Node `B` has an indegree of 6, and so does node `E`. \n",
    "* Node `E` receives incoming links mostly from minor nodes with few incoming links.\n",
    "* PageRank gives `B` higher rank because it receives incoming links from higher rated nodes. \n",
    "* Node C has indegree of 1, but PageRank is high because incoming node is from important node.\n",
    "\n",
    "### Calculate Eigenvector Centrality using NetworkX:"
   ]
  },
  {
   "cell_type": "code",
   "execution_count": 16,
   "metadata": {},
   "outputs": [
    {
     "data": {
      "text/plain": [
       "{'a': 0.28618176306341425,\n",
       " 'b': 0.35996294011123425,\n",
       " 'c': 0.18140671187622603,\n",
       " 'd': 0.46467020048465585,\n",
       " 'e': 0.3040836189463251,\n",
       " 'f': 0.3548434410782794,\n",
       " 'g': 0.4286246181260994,\n",
       " 'h': 0.28298333308967794,\n",
       " 'i': 0.1327556499891029,\n",
       " 'j': 0.11722740340935621,\n",
       " 'k': 0.059696930852567005,\n",
       " 'l': 0.05366165312911117,\n",
       " 'm': 0.04423183819559999,\n",
       " 'n': 0.07178371718524408,\n",
       " 'o': 0.04586179444984825,\n",
       " 'p': 0.07514071770955313,\n",
       " 'q': 0.01140392759564362,\n",
       " 'r': 0.06866167801486518,\n",
       " 's': 0.002767084867422452}"
      ]
     },
     "execution_count": 16,
     "metadata": {},
     "output_type": "execute_result"
    }
   ],
   "source": [
    "nx.eigenvector_centrality(G)"
   ]
  },
  {
   "cell_type": "markdown",
   "metadata": {},
   "source": [
    "### Node d has the highest eigenvector centrality (0.46)\n",
    "* Followed by node g (0.42) and node b (0.36)."
   ]
  },
  {
   "cell_type": "code",
   "execution_count": 17,
   "metadata": {},
   "outputs": [
    {
     "data": {
      "image/png": "[encoded data removed]",
      "text/plain": [
       "<matplotlib.figure.Figure at 0x1109593c8>"
      ]
     },
     "metadata": {},
     "output_type": "display_data"
    }
   ],
   "source": [
    "nx.draw_networkx_nodes(G, pos, node_size = 300)\n",
    "nx.draw_networkx_edges(G, pos)\n",
    "nx.draw_networkx_labels(G, pos, font_size=10)\n",
    "plt.axis(\"off\")\n",
    "plt.show()"
   ]
  },
  {
   "cell_type": "markdown",
   "metadata": {},
   "source": [
    "## Examples of Eigenvector Centrality\n",
    "* Nodes `d` and `j` have similar degrees, but eigenvector centrality for node `d` is higher.\n",
    "* Nodes that \"support\" node `d` have more incoming links, so their \"support\" counts for more.\n",
    "* Nodes that \"support\" node `j` by linking to it themselves don't have many links. \n",
    "\n",
    "### Facebook friend network: \n",
    "* User with a high eigenvector centrality is \"friends with people who themselves have a lot of friends.\" \n",
    "* With Eigenvector centrality, we can differentiate two different types of \"popularity.\" If someone has a high degree centrality but a low eigenvector centrality, they have a lot of friends, but those friends don't possess a lot of connections themselves.\n",
    "\n",
    "### IV drug user network:\n",
    "* User with high eigenvector centrality shares needles with other people who share a lot of needles, and are very high-risk.\n",
    "* Someone with high degree centrality may be at low risk *if* the people they share needles with do not themselves share with many other people.\n",
    "\n",
    "### Hashtag cooccurrence network: \n",
    "* Hashtag with a high eigenvector centrality is used often with *other* popular hashtags. \n",
    "* Hashtag may not have a high degree centrality, but in that case the few hashtags it does occur with are popular and widely used. "
   ]
  },
  {
   "cell_type": "markdown",
   "metadata": {},
   "source": [
    "## Correlations between Measure of Centrality\n",
    "Sometime a node with high degree centrality can also have a high closeness, betweenness, and eigenvector centrality: \n",
    "* EXAMPLE: Tight knit community may have single dominant node at center of network. \n",
    "* Hub has high degree centrality (lot of links), closeness centrality (closest to every node), betweenness centrality (bridges nodes A to Z) and eigenvector centrality (links to important others).\n",
    "* But this is rarely the case\n",
    "\n",
    "This image from the Wikipedia page is illustrative:\n",
    "* A is Betweenness Centrality, \n",
    "* B is Closeness Centrality, \n",
    "* C is Eigenvector Centrality, \n",
    "* D is Degree centrality\n",
    "\n",
    "<img src=\"https://upload.wikimedia.org/wikipedia/commons/1/11/6_centrality_measures.png\">\n",
    "\n",
    "### Interpretation of Centrality Measures \n",
    "* Closeness Centrality (B) is high for nodes in \"middle\" of the network\n",
    "* Betweenness Centrality is high for nodes that link different dense regions of the network. \n",
    "* Degree centrality (D) highlights the \"hubs\" of different communities.\n",
    "* Eigenvector Centrality (C) favors the grouping on the lower right, seeing all other parts of the network as not important.\n",
    "\n",
    "Truly the only way to determine if these measures are correlated is simply to calculate them for the dataset you are working with. "
   ]
  }
 ],
 "metadata": {
  "anaconda-cloud": {},
  "kernelspec": {
   "display_name": "Python 3",
   "language": "python",
   "name": "python3"
  },
  "language_info": {
   "codemirror_mode": {
    "name": "ipython",
    "version": 3
   },
   "file_extension": ".py",
   "mimetype": "text/x-python",
   "name": "python",
   "nbconvert_exporter": "python",
   "pygments_lexer": "ipython3",
   "version": "3.6.1"
  }
 },
 "nbformat": 4,
 "nbformat_minor": 1
}
