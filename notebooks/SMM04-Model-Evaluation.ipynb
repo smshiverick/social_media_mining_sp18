{
 "cells": [
  {
   "cell_type": "markdown",
   "metadata": {},
   "source": [
    "# Social Media Mining: Evaluation\n",
    "### Vincent Malic - Spring 2018\n",
    "\n",
    "## Model Evaluation\n",
    "* Use scikit-learn for simple and multiple regression as well as classification using k-Nearest Neighbors. \n",
    "* Set of training data $\\mathbf{X} \\in \\mathbb{R}^{(n \\times d)}$ where $n$ is number of samples and $d$ is number of attributes/features. \n",
    "* Set of labels or target values $\\mathbf{y} \\in \\mathbb{R}^{n}$ that represent the value we want to predict the model. \n",
    "* Initialize a new, empty scikit learn model, train it using ``fit``, and fit the model to the data\n",
    "* Predict the label $y$ for a new, unseen set of features. \n",
    "\n",
    "### How well does the model represent the relationship in the data?\n",
    "* Related to concepts of generalizability and overfitting. \n",
    "* Several metrics used for quantifying model performance. \n",
    "\n",
    "## Goal of Generalizability\n",
    "* Trained model's ability to perform well on new, unseen data. \n",
    "* Want model to explains relation between **all potential** data points, not *just* the data points in the training set. \n",
    "\n",
    "## Problem of Overfitting\n",
    "* Model fit to training set does not reflect actual relation between IV, DV.\n",
    "* Test how well a model generalizes to new **unseen data**. \n",
    "* If the model is does not generalize, it may overfit training data."
   ]
  },
  {
   "cell_type": "markdown",
   "metadata": {},
   "source": [
    "## Train-Test Split\n",
    "* We divide the into training set and test set (\"unseen data\") \n",
    "* Dataset has 1000 data points, and we use 80%/20% train-test split \n",
    "* Randomly sample 80% of the data points (800) provides training data. \n",
    "* Remaining 20% (200 points) will be the test data.\n",
    "\n",
    "### Use Synthetic Dataset on Heights, Weights\n",
    "* Same data we worked with in the Simple Linear Regression notebook.  \n",
    "* Use LinearRegression package from linear-model library\n",
    "* Set random seed"
   ]
  },
  {
   "cell_type": "code",
   "execution_count": 1,
   "metadata": {
    "collapsed": true
   },
   "outputs": [],
   "source": [
    "from sklearn.linear_model import LinearRegression\n",
    "import numpy as np\n",
    "\n",
    "%matplotlib inline\n",
    "\n",
    "import matplotlib.pyplot as plt\n",
    "plt.style.use(\"ggplot\")\n",
    "plt.ioff()\n",
    "\n",
    "np.random.seed(3057)\n",
    "heights = np.random.normal(113, 20, 1000)\n",
    "noise = np.random.normal(0, 5, 1000)\n",
    "weights = 25.39 + .34 * heights + noise\n",
    "heights = heights.reshape(-1, 1)\n",
    "weights = weights.reshape(-1, 1)"
   ]
  },
  {
   "cell_type": "markdown",
   "metadata": {},
   "source": [
    "## Use Train-Test method in Scikit-learn\n",
    "* Fit the model on the training set. \n",
    "* Make predictions on the \"unseen\" test set.\n",
    "* If model predicts test set well, it should perform well on test data\n",
    "\n",
    "#### Import ``train_test_split`` from ``sklearn.model_selection``."
   ]
  },
  {
   "cell_type": "code",
   "execution_count": 2,
   "metadata": {
    "collapsed": true
   },
   "outputs": [],
   "source": [
    "from sklearn.model_selection import train_test_split"
   ]
  },
  {
   "cell_type": "markdown",
   "metadata": {},
   "source": [
    "### Three Arguments provides 4 return values \n",
    "* `training data`, `training labels`, proportion of data allocated to test set\n",
    "* `training set data`, `test set data`, `training set labels`, `test set labels`. \n",
    "* Use tuple assignment to capture return values of function in variables with intuitive names.\n",
    "\n",
    "### Split data into train and test sets. \n",
    "* Training set has 800 samples, the test set has 200 samples. \n",
    "* Fit the model to the training data "
   ]
  },
  {
   "cell_type": "code",
   "execution_count": 3,
   "metadata": {
    "collapsed": true
   },
   "outputs": [],
   "source": [
    "heights_train, heights_test, weights_train, weights_test = train_test_split(heights, weights, test_size=0.2)"
   ]
  },
  {
   "cell_type": "code",
   "execution_count": 4,
   "metadata": {},
   "outputs": [
    {
     "name": "stdout",
     "output_type": "stream",
     "text": [
      "(800, 1)\n",
      "(200, 1)\n"
     ]
    }
   ],
   "source": [
    "print(heights_train.shape)\n",
    "print(heights_test.shape)"
   ]
  },
  {
   "cell_type": "markdown",
   "metadata": {},
   "source": [
    "## Fit model to Training set\n",
    "* Initialize empty linear regression model\n",
    "* Pass the training data for height_train and weight_train features\n",
    "* Create scatterplot to show the relationship"
   ]
  },
  {
   "cell_type": "code",
   "execution_count": 6,
   "metadata": {},
   "outputs": [
    {
     "data": {
      "image/png": "[encoded data removed]",
      "text/plain": [
       "<matplotlib.figure.Figure at 0x111def198>"
      ]
     },
     "execution_count": 6,
     "metadata": {},
     "output_type": "execute_result"
    }
   ],
   "source": [
    "lr = LinearRegression()\n",
    "lr.fit(heights_train, weights_train)\n",
    "\n",
    "fig, ax = plt.subplots()\n",
    "ax.set_xlabel(\"Height,cm\")\n",
    "ax.set_ylabel(\"Weight, kg\")\n",
    "ax.scatter(heights_train, weights_train, color=\"blue\")\n",
    "xmin, xmax = ax.get_xlim()\n",
    "ax.plot([xmin, xmax], [lr.predict(xmin)[0][0], lr.predict(xmax)[0][0]], linewidth=3, color=\"red\")\n",
    "ax.set_xlim([xmin, xmax])\n",
    "fig"
   ]
  },
  {
   "cell_type": "markdown",
   "metadata": {},
   "source": [
    "This plot may look similar to the one in the first notebook, but there are only 800 data points here, not 1000. 200 have been set aside in the test set. The red line - the model - is only trained on the 800 data points in the training set. \n",
    "\n",
    "\n",
    "## Use Predict method to test model with Test set\n",
    "* See how well model performs on the unseen test data, ``heights_test``, ``weights_test``. \n",
    "* Ask model to predict weights given the heights in ``heights_test``\n",
    "* Compare predicted weights to the actual weights in ``weights_test``. "
   ]
  },
  {
   "cell_type": "code",
   "execution_count": 7,
   "metadata": {},
   "outputs": [
    {
     "name": "stdout",
     "output_type": "stream",
     "text": [
      "[[ 65.22902827]\n",
      " [ 64.75584824]\n",
      " [ 70.31820014]\n",
      " [ 59.34266733]\n",
      " [ 65.39356362]]\n",
      "**************************************************\n",
      "[[ 74.37035378]\n",
      " [ 66.80354693]\n",
      " [ 68.55201111]\n",
      " [ 67.91885942]\n",
      " [ 65.92296377]]\n"
     ]
    }
   ],
   "source": [
    "weights_predicted = lr.predict(heights_test)\n",
    "print(weights_predicted[:5])\n",
    "print('*'*50)\n",
    "print(weights_test[:5])"
   ]
  },
  {
   "cell_type": "markdown",
   "metadata": {},
   "source": [
    "The model predicted that...\n",
    "* For the first datapoint in the test data, the model predicts the first alien will weigh 65.23 kg, but in reality, the first alien weights 74.37.\n",
    "* For second datapoint, weights 64.76, but in reality the second weighs 66.80. On one hand, there are some differences; on the other hand, the predictions aren't too shabby. \n",
    "\n",
    "#### How can we quantify this difference?"
   ]
  },
  {
   "cell_type": "markdown",
   "metadata": {},
   "source": [
    "# Mean Squared Error\n",
    "* Difference between the value predicted by the model and the actual value is known as the *residual* or *error*. \n",
    "* Good model should have small residuals - i.e., predictions close to reality. \n",
    "\n",
    "### Average the Sum of Squared Deviations\n",
    "* For each data point in the test set, take the error (the difference between prediction and reality) and square it. \n",
    "* Squaring each difference scores (above mean, below mean), remove positive, negative values \n",
    "* We want a measure of distance from prediction, how *far* each point is from regression line \n",
    "* Sum and take average across all data points, divide by square root of n\n",
    "* MSE provides single value that represents ``quality`` of the model. Lower is better.\n",
    "\n",
    "### Use Scikit learn method to obtain mean squared error of model for test data"
   ]
  },
  {
   "cell_type": "code",
   "execution_count": 8,
   "metadata": {
    "collapsed": true
   },
   "outputs": [],
   "source": [
    "from sklearn.metrics import mean_squared_error"
   ]
  },
  {
   "cell_type": "markdown",
   "metadata": {},
   "source": [
    "### ``mean_squared_error`` method takes two arguments:\n",
    "* First, provide the true values for each data point: in our case, the true weights in the dataset. \n",
    "* Then, provide the *predicted* values for each datapoint: in our case, the weights predicted by the model when we input the test heights. "
   ]
  },
  {
   "cell_type": "code",
   "execution_count": 9,
   "metadata": {},
   "outputs": [
    {
     "data": {
      "text/plain": [
       "22.109118875692197"
      ]
     },
     "execution_count": 9,
     "metadata": {},
     "output_type": "execute_result"
    }
   ],
   "source": [
    "MSE = mean_squared_error(weights_test, weights_predicted)\n",
    "MSE"
   ]
  },
  {
   "cell_type": "code",
   "execution_count": 10,
   "metadata": {},
   "outputs": [
    {
     "data": {
      "text/plain": [
       "4.7020334830466908"
      ]
     },
     "execution_count": 10,
     "metadata": {},
     "output_type": "execute_result"
    }
   ],
   "source": [
    "np.sqrt(MSE)"
   ]
  },
  {
   "cell_type": "markdown",
   "metadata": {},
   "source": [
    "The mean squared error on the test data is 22.11. That means that on average, the predicted weights were $\\sqrt{22.11} = 4.70$ kg away from the actual value. Not bad! Remember, this is on the test data, so the model didn't see this data during training."
   ]
  },
  {
   "cell_type": "markdown",
   "metadata": {},
   "source": [
    "# R Squared\n",
    "\n",
    "So, the MSE on the test data is 22.11. So what? Is that good or bad? We have one number in a vacuum, it's not very helpful. It would be more helpful if we could compare 22.11 to something else. It would be helpful if there were some sort of *baseline* against which we can say our model performed \"better\" or \"worse.\" What's a good baseline?\n",
    "\n",
    "In regression, the most commonly used baseline is simply the average value of the dependent variable. \n",
    "\n",
    "## Imagine a really naive, unsophisticated model \n",
    "* Model simply outputs the *average value of all the weights* every time, no matter what height you give it. \n",
    "* If weights are normally distributed, then most of the weights will be near the average. Here's how such a \"model\" would look: "
   ]
  },
  {
   "cell_type": "code",
   "execution_count": 13,
   "metadata": {},
   "outputs": [
    {
     "data": {
      "image/png": "[encoded data removed]",
      "text/plain": [
       "<matplotlib.figure.Figure at 0x111def198>"
      ]
     },
     "execution_count": 13,
     "metadata": {},
     "output_type": "execute_result"
    }
   ],
   "source": [
    "fig.clf()\n",
    "ax = fig.add_subplot(111)\n",
    "ax.set_xlabel(\"Height,cm\")\n",
    "ax.set_ylabel(\"Weight, kg\")\n",
    "ax.scatter(heights_train, weights_train, color=\"blue\")\n",
    "xmin, xmax = ax.get_xlim()\n",
    "ax.plot([xmin, xmax], [np.mean(weights_train), np.mean(weights_train)], linewidth=3, color=\"red\")\n",
    "ax.set_xlim([xmin, xmax])\n",
    "fig"
   ]
  },
  {
   "cell_type": "markdown",
   "metadata": {},
   "source": [
    "As you can see, such a model would perform poorly on estimating the weights of the tallest and shortest aliens, but for aliens that are average height (e.g., most of them) then guessing the average weight is not too far off. \n",
    "\n",
    "### Naive model provides a baseline. \n",
    "* Guessing the mean is an unsophisticated model that requires only a single calculation. \n",
    "* If our model does better than this, good. If not, then there's no reason not to use the mean as a model. \n",
    "\n",
    "## The Coefficient of determination $R^2$. \n",
    "* The value of $R^2$ is one minus the MSE of the model divided by the MSE of the mean. \n",
    "* If $R^2$ equals 0, then your model is doing no better than the mean. \n",
    "* If it greater than 0, your model is doing better than the mean. \n",
    "* If $R^2$ is equal to 1, it means your model is perfect - so we'll never see this. \n",
    "\n",
    "### Use scikit learn  $R^2$score method to obtain $R^2$"
   ]
  },
  {
   "cell_type": "code",
   "execution_count": 15,
   "metadata": {
    "collapsed": true
   },
   "outputs": [],
   "source": [
    "from sklearn.metrics import r2_score"
   ]
  },
  {
   "cell_type": "markdown",
   "metadata": {},
   "source": [
    "### Arguments for ``r2_score`` \n",
    "* ``r2_score`` takes the true values and predicted values as its argument."
   ]
  },
  {
   "cell_type": "code",
   "execution_count": 16,
   "metadata": {},
   "outputs": [
    {
     "name": "stdout",
     "output_type": "stream",
     "text": [
      "0.656153105061\n"
     ]
    }
   ],
   "source": [
    "r2 = r2_score(weights_test, weights_predicted)\n",
    "print(r2)"
   ]
  },
  {
   "cell_type": "markdown",
   "metadata": {},
   "source": [
    "With $R^2 = 0.66$, we know our model performs significantly better than guessing the average. It's not a value of 1, but as I said, no model is perfect so that's not the value we're expecting. "
   ]
  },
  {
   "cell_type": "markdown",
   "metadata": {},
   "source": [
    "# Evaluating Classifiers\n",
    "\n",
    "### For Regression models...\n",
    "* In regression we're predicting a continuous number \n",
    "* Calculate MSE and R squared for the test set when we're making \n",
    "\n",
    "### For Classification models...\n",
    "* In classification, we're predicting a discrete variable, label, category, or class, \n",
    "* Using example of k-NN classifier for the iris data, with train-test split. \n",
    "* Fit model on the train data and evaluate on the test data. ($k = 5$) "
   ]
  },
  {
   "cell_type": "code",
   "execution_count": 17,
   "metadata": {
    "collapsed": true
   },
   "outputs": [],
   "source": [
    "from matplotlib.colors import ListedColormap\n",
    "from sklearn.neighbors import KNeighborsClassifier\n",
    "from sklearn import datasets\n",
    "\n",
    "cmap_light = ListedColormap([\"#FFAAAA\", \"#AAFFAA\", \"#AAAAFF\"])\n",
    "cmap_bold = ListedColormap([\"#FF0000\", \"#00FF00\", \"#0000FF\"])\n",
    "\n",
    "iris = datasets.load_iris()\n",
    "X = iris.data[:, :2]\n",
    "y = iris.target"
   ]
  },
  {
   "cell_type": "markdown",
   "metadata": {},
   "source": [
    "Let's divide the data in to training and testing sets, using sklearn's handy method. I'm going to make the test size a little bigger: one third of the data we have. "
   ]
  },
  {
   "cell_type": "code",
   "execution_count": 18,
   "metadata": {},
   "outputs": [
    {
     "name": "stdout",
     "output_type": "stream",
     "text": [
      "(100, 2)\n",
      "(50, 2)\n"
     ]
    }
   ],
   "source": [
    "X_train, X_test, y_train, y_test = train_test_split(X, y, test_size = 0.33)\n",
    "print(X_train.shape)\n",
    "print(X_test.shape)"
   ]
  },
  {
   "cell_type": "markdown",
   "metadata": {},
   "source": [
    "There are 100 instances in the training set and 50 instances in the test set. "
   ]
  },
  {
   "cell_type": "code",
   "execution_count": 24,
   "metadata": {},
   "outputs": [
    {
     "data": {
      "text/plain": [
       "KNeighborsClassifier(algorithm='auto', leaf_size=30, metric='minkowski',\n",
       "           metric_params=None, n_jobs=1, n_neighbors=5, p=2,\n",
       "           weights='uniform')"
      ]
     },
     "execution_count": 24,
     "metadata": {},
     "output_type": "execute_result"
    }
   ],
   "source": [
    "clf = KNeighborsClassifier(n_neighbors=5)\n",
    "clf.fit(X_train, y_train)"
   ]
  },
  {
   "cell_type": "code",
   "execution_count": 25,
   "metadata": {
    "collapsed": true
   },
   "outputs": [],
   "source": [
    "### Plot Classifier Decision Boundary"
   ]
  },
  {
   "cell_type": "code",
   "execution_count": 19,
   "metadata": {},
   "outputs": [
    {
     "data": {
      "image/png": "[encoded data removed]",
      "text/plain": [
       "<matplotlib.figure.Figure at 0x111def198>"
      ]
     },
     "execution_count": 19,
     "metadata": {},
     "output_type": "execute_result"
    }
   ],
   "source": [
    "fig.clf()\n",
    "ax = fig.add_subplot(111)\n",
    "x_min, x_max = X[:,0].min() - 1, X[:,0].max() + 1\n",
    "y_min, y_max = X[:,1].min() - 1, X[:,1].max() + 1\n",
    "xx, yy = np.meshgrid(np.arange(x_min, x_max, 0.02), np.arange(y_min, y_max, 0.02))\n",
    "Z = clf.predict(np.c_[xx.ravel(), yy.ravel()])\n",
    "Z = Z.reshape(xx.shape)\n",
    "ax.pcolormesh(xx, yy, Z, cmap=cmap_light)\n",
    "ax.scatter(X[:,0], X[:,1], c=y, cmap=cmap_bold, s=40)\n",
    "ax.set_xlim(xx.min(), xx.max())\n",
    "ax.set_ylim(yy.min(), yy.max())\n",
    "ax.set_xlabel(\"Sepal Length\")\n",
    "ax.set_ylabel(\"Sepal Width\")\n",
    "fig.set_size_inches(12.5, 7.5)\n",
    "fig"
   ]
  },
  {
   "cell_type": "markdown",
   "metadata": {},
   "source": [
    "Using the classifier's ``predict`` method, let's see what labels the classifier would assign to the *unseen* test data. "
   ]
  },
  {
   "cell_type": "code",
   "execution_count": 21,
   "metadata": {},
   "outputs": [
    {
     "data": {
      "text/plain": [
       "array([0, 1, 0, 2, 0, 1, 1, 0, 0, 1, 1, 0, 0, 2, 0, 0, 2, 0, 2, 0, 2, 1, 2,\n",
       "       2, 0, 1, 0, 1, 1, 2, 0, 1, 2, 0, 0, 2, 1, 1, 0, 2, 1, 2, 1, 0, 1, 2,\n",
       "       0, 0, 2, 0])"
      ]
     },
     "execution_count": 21,
     "metadata": {},
     "output_type": "execute_result"
    }
   ],
   "source": [
    "y_predicted = clf.predict(X_test)\n",
    "y_predicted[:50]"
   ]
  },
  {
   "cell_type": "code",
   "execution_count": 26,
   "metadata": {},
   "outputs": [
    {
     "data": {
      "text/plain": [
       "array([0, 1, 0, 2, 0, 1, 1, 0, 0, 2, 2, 0, 0, 1, 0, 0, 2, 0, 2, 2, 2, 1, 1,\n",
       "       2, 0, 1, 0, 1, 1, 1, 0, 1, 1, 0, 0, 2, 1, 2, 0, 2, 1, 2, 2, 0, 1, 2,\n",
       "       0, 0, 2, 0])"
      ]
     },
     "execution_count": 26,
     "metadata": {},
     "output_type": "execute_result"
    }
   ],
   "source": [
    "y_test[:50]"
   ]
  },
  {
   "cell_type": "markdown",
   "metadata": {},
   "source": [
    "# Accuracy\n",
    "* Compare predicted labels model generated for test data to the true labels \n",
    "* Metric of classifer performance: percentage of samples correctly classified\n",
    "* scikit learn method takes true labels and predicted labels as arguments "
   ]
  },
  {
   "cell_type": "code",
   "execution_count": 22,
   "metadata": {},
   "outputs": [
    {
     "name": "stdout",
     "output_type": "stream",
     "text": [
      "0.82\n"
     ]
    }
   ],
   "source": [
    "from sklearn.metrics import accuracy_score\n",
    "accuracy = accuracy_score(y_test, y_predicted)\n",
    "print(accuracy)"
   ]
  },
  {
   "cell_type": "markdown",
   "metadata": {},
   "source": [
    "#### Model accuracy is 82%, \n",
    "* The model correctly classified 41 out of 50 samples in test\n",
    "\n",
    "### What is baseline for comparison? \n",
    "* Imagine \"dummy classifier\" that guesses entirely at random. \n",
    "* With 3 labels to choose from, a random classifier may be right 1/3rd of the time (33%) \n",
    "* Observed model accuracy of 0.82, is better than random baseline of 0.33.\n",
    "\n",
    "# Confusion Matrix"
   ]
  },
  {
   "cell_type": "markdown",
   "metadata": {},
   "source": [
    "* Confusion matrix has 3 rows and 3 columns - 1 for each of the labels in the test set\n",
    "* Each of rows and columns represent iris species: I. setosa, I. versicolor, I. virginica, \n",
    "* The rows represent the TRUE labels and columns represent PREDICTED labels."
   ]
  },
  {
   "cell_type": "code",
   "execution_count": 23,
   "metadata": {},
   "outputs": [
    {
     "name": "stdout",
     "output_type": "stream",
     "text": [
      "[[20  0  0]\n",
      " [ 0 11  4]\n",
      " [ 1  4 10]]\n"
     ]
    }
   ],
   "source": [
    "from sklearn.metrics import confusion_matrix\n",
    "\n",
    "print(confusion_matrix(y_test, y_predicted))"
   ]
  },
  {
   "cell_type": "markdown",
   "metadata": {},
   "source": [
    "### Interpretation of Confusion Table\n",
    "* Row 1, column 1: model assigned 20 samples the label *Setosa*, with true label *Setosa*. \n",
    "* Row 3, column 1: model predicted 1 sample as *Setosa*, whose true label was *Virginica*. \n",
    "* Values on the diagonal of matrix represent **correct classifications**.\n",
    "\n",
    "## Misclassification Errors\n",
    "* 4 *Versicolor* flowers incorrectly labeled as *Virginica*. \n",
    "* 4 *Virginica*. flowers incorrectly labeled as *Versicolor* \n",
    "* 1 *Virginica*. flowers incorrectly labeled as *Setosa* "
   ]
  },
  {
   "cell_type": "markdown",
   "metadata": {},
   "source": [
    "# Precision and Recall\n",
    "* 15 instances of *Virginica* in test data - this is the sum of the third row\n",
    "* 10 correctly classified, 4 classified as *Versicolor*, 1 as *I. Setosa*\n",
    "\n",
    "## False positives and True negatives\n",
    "* True Positive: sample classified as *Virginica* and true label *Virginica*. \n",
    "* False Positive: sample classified as *Virginica* but true label was *not* *Virgnica*. \n",
    "* True Negative: item NOT classified as *Virgnica*, and true label was also not *Virgnica*. * * False Negative: sample NOT classified as *Virginica*, but true label is *Virgniica*. \n",
    "\n",
    "### Goal: maximize TRUE pos/neg and minimize FALSE pos/neg \n",
    "For this sample of *Virginica*, there are:\n",
    "* 10 true positives\n",
    "* 4 false positives\n",
    "* 31 true negatives\n",
    "* 5 false negatives\n",
    "\n",
    "## Calculate model's *Precision* for *Virginica*. \n",
    "* Of all instances labeled as *Virgnica*, how many were *actually* *Virgnica*?\n",
    "* Number of true positives, divided by number of true positive and false positives:\n",
    "\n",
    "$$\\frac{\\text{TP}}{\\text{TP+FP}}$$"
   ]
  },
  {
   "cell_type": "markdown",
   "metadata": {},
   "source": [
    "## Calculate model *Recall* for *Virginica*. \n",
    "* Of all instances *actually* *Virginica*, how many correctly labeled as *Virginica*?\n",
    "* Number of true positives, divided by number of true positives and false negatives\n",
    "* How good is the coverage of the model?\n",
    "\n",
    "$$\\frac{\\text{TP}}{\\text{TP}+\\text{FN}}$$\n",
    "\n",
    "\n",
    "### Precision and Recall often at odds. \n",
    "* Typically have high precision and low recall, or the other way around. \n",
    "\n",
    "### Careful classifier model \n",
    "* Only labels something as *Virginica* if it's very sure. \n",
    "* Has **high precision**, because of the ones it labeled, both were right. \n",
    "* But **low recall**, overly cautious it missed many true instances of *I. virginica*.\n",
    "\n",
    "### Dumb classifier model\n",
    "* :abels **everything** as *I. virginica*.\n",
    "* Has **high recall** - it correctly identified *every* instance of *I. virgnica* in the set. * But **low precision** - of all instances labeled *I. virginica*, many were wrong. \n",
    "\n",
    "As always, scikit-learn has built-in methods for getting precision and recall. "
   ]
  },
  {
   "cell_type": "code",
   "execution_count": 28,
   "metadata": {
    "collapsed": true
   },
   "outputs": [],
   "source": [
    "from sklearn.metrics import precision_score\n",
    "from sklearn.metrics import recall_score"
   ]
  },
  {
   "cell_type": "markdown",
   "metadata": {},
   "source": [
    "### NOTE: precision and recall can be calculated *only with respect to a given label*. \n",
    "* In the example above, recall and precision with respect to label 2, *I. virginica*. \n",
    "\n",
    "## Function arguments and parameters\n",
    "* Functions take as arguments: true labels for test set, predicted labels, average (none)\n",
    "* Functions will return 3 values, recall or precision with respect to *each label*. \n",
    "* Providing a value of ``None`` to `average` parameter suppresses some of more complicated behavior this function can do. "
   ]
  },
  {
   "cell_type": "code",
   "execution_count": 29,
   "metadata": {},
   "outputs": [
    {
     "name": "stdout",
     "output_type": "stream",
     "text": [
      "[ 0.95238095  0.73333333  0.71428571]\n"
     ]
    }
   ],
   "source": [
    "precision = precision_score(y_test, y_predicted, average=None)\n",
    "print(precision)"
   ]
  },
  {
   "cell_type": "code",
   "execution_count": 30,
   "metadata": {},
   "outputs": [
    {
     "name": "stdout",
     "output_type": "stream",
     "text": [
      "[ 1.          0.73333333  0.66666667]\n"
     ]
    }
   ],
   "source": [
    "recall = recall_score(y_test, y_predicted, average=None)\n",
    "print(recall)"
   ]
  },
  {
   "cell_type": "markdown",
   "metadata": {},
   "source": [
    "Here, we can see that the classifier performed most poorly with the 3rd label, *I. virginica*. \n",
    "\n",
    "The precision was 0.71: of the instances that the classifier labeled *I. virginica*, only 71% of them were actually *I. virginica*. \n",
    "\n",
    "The recall was 0.67: of *all* the instances of *I. virginica*, it only correctly labeled 67% of them. "
   ]
  },
  {
   "cell_type": "code",
   "execution_count": 38,
   "metadata": {},
   "outputs": [
    {
     "data": {
      "text/plain": [
       "0.79999999999999993"
      ]
     },
     "execution_count": 38,
     "metadata": {},
     "output_type": "execute_result"
    }
   ],
   "source": [
    "np.mean(precision)"
   ]
  },
  {
   "cell_type": "code",
   "execution_count": 40,
   "metadata": {},
   "outputs": [
    {
     "data": {
      "text/plain": [
       "0.79999999999999993"
      ]
     },
     "execution_count": 40,
     "metadata": {},
     "output_type": "execute_result"
    }
   ],
   "source": [
    "precision_score(y_test, y_predicted, average=\"macro\")"
   ]
  },
  {
   "cell_type": "markdown",
   "metadata": {},
   "source": [
    "We can take the average of prediction scores across label categories, or we can indicate the weighted average using the precision_score method. "
   ]
  },
  {
   "cell_type": "code",
   "execution_count": 35,
   "metadata": {},
   "outputs": [
    {
     "data": {
      "text/plain": [
       "0.81523809523809521"
      ]
     },
     "execution_count": 35,
     "metadata": {},
     "output_type": "execute_result"
    }
   ],
   "source": [
    "precision_score(y_test, y_predicted, average=\"weighted\")"
   ]
  },
  {
   "cell_type": "markdown",
   "metadata": {},
   "source": [
    "# F1 Score\n",
    "* F1 metric combines both precision and recall, as a harmonic mean \n",
    "* Frequently used as a way to evaluate classifiers. It's calculated as follows:\n",
    "\n",
    "$$ F_1 = 2 \\cdot \\frac{\\text{precision}\\cdot\\text{recall}}{\\text{precision}+\\text{recall}}$$\n",
    "\n",
    "As usual, we can use scikit-learn:"
   ]
  },
  {
   "cell_type": "code",
   "execution_count": 31,
   "metadata": {},
   "outputs": [
    {
     "data": {
      "text/plain": [
       "array([ 0.97560976,  0.73333333,  0.68965517])"
      ]
     },
     "execution_count": 31,
     "metadata": {},
     "output_type": "execute_result"
    }
   ],
   "source": [
    "from sklearn.metrics import f1_score\n",
    "\n",
    "f1_score(y_test, y_predicted, average=None)"
   ]
  },
  {
   "cell_type": "markdown",
   "metadata": {},
   "source": [
    "This provides the F1 score for *each* category. Finally, to zero in on 1 single number to represent the quality of the classifier, we can get the *weighted average* of each of these F1 scores. It's *weighted* because in many situations you don't want to count the F1 scores equally, particularly since the distribution of labels may not be uniform."
   ]
  },
  {
   "cell_type": "code",
   "execution_count": 37,
   "metadata": {},
   "outputs": [
    {
     "data": {
      "text/plain": [
       "0.7995327539482292"
      ]
     },
     "execution_count": 37,
     "metadata": {},
     "output_type": "execute_result"
    }
   ],
   "source": [
    "f1_score(y_test, y_predicted, average=\"macro\")"
   ]
  },
  {
   "cell_type": "code",
   "execution_count": 36,
   "metadata": {},
   "outputs": [
    {
     "data": {
      "text/plain": [
       "0.81714045416316228"
      ]
     },
     "execution_count": 36,
     "metadata": {},
     "output_type": "execute_result"
    }
   ],
   "source": [
    "f1_score(y_test, y_predicted, average=\"weighted\")"
   ]
  },
  {
   "cell_type": "markdown",
   "metadata": {
    "collapsed": true
   },
   "source": [
    "F1 scores range from 0 to 1. It turns out here that the F1 score I got was quite similar to the accuracy in general, but keep in mind that this isn't always the case. \n",
    "\n",
    "Much research published nowadays report F1 scores to demonstrate how effective their methods are, so I highly recommend using F1 scores on your final project if your developing a classifier. "
   ]
  }
 ],
 "metadata": {
  "anaconda-cloud": {},
  "kernelspec": {
   "display_name": "Python 3",
   "language": "python",
   "name": "python3"
  },
  "language_info": {
   "codemirror_mode": {
    "name": "ipython",
    "version": 3
   },
   "file_extension": ".py",
   "mimetype": "text/x-python",
   "name": "python",
   "nbconvert_exporter": "python",
   "pygments_lexer": "ipython3",
   "version": "3.6.1"
  }
 },
 "nbformat": 4,
 "nbformat_minor": 1
}
