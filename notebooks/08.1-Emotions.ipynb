{
 "cells": [
  {
   "cell_type": "markdown",
   "metadata": {},
   "source": [
    "# Social Media Mining: Emotion\n",
    "### Vincent Malic - Spring 2018\n",
    "\n",
    "## Basic Emotions\n",
    "* Define emotion for use with data mining algorithm\n",
    "* Anger, fear, sadness, happiness, disgust, surprise\n",
    "\n",
    "# Module 8.1 Emotion\n",
    "* Use same set of 5000 tweets we collected for last week's lecture on sentiment. \n",
    "* 2500 tweets from Clinton twitter account, and 2500 tweets from Trump account."
   ]
  },
  {
   "cell_type": "code",
   "execution_count": 1,
   "metadata": {},
   "outputs": [],
   "source": [
    "import pandas as pd\n",
    "df = pd.read_csv(\"sentimentanalysis.csv\", index_col=0, encoding=\"latin1\")"
   ]
  },
  {
   "cell_type": "code",
   "execution_count": 2,
   "metadata": {},
   "outputs": [
    {
     "data": {
      "text/html": [
       "<div>\n",
       "<style>\n",
       "    .dataframe thead tr:only-child th {\n",
       "        text-align: right;\n",
       "    }\n",
       "\n",
       "    .dataframe thead th {\n",
       "        text-align: left;\n",
       "    }\n",
       "\n",
       "    .dataframe tbody tr th {\n",
       "        vertical-align: top;\n",
       "    }\n",
       "</style>\n",
       "<table border=\"1\" class=\"dataframe\">\n",
       "  <thead>\n",
       "    <tr style=\"text-align: right;\">\n",
       "      <th></th>\n",
       "      <th>user</th>\n",
       "      <th>text</th>\n",
       "      <th>source</th>\n",
       "      <th>fav</th>\n",
       "      <th>rt</th>\n",
       "    </tr>\n",
       "  </thead>\n",
       "  <tbody>\n",
       "    <tr>\n",
       "      <th>0</th>\n",
       "      <td>realDonaldTrump</td>\n",
       "      <td>Remember, don't believe \"sources said\" by the ...</td>\n",
       "      <td>Twitter for Android</td>\n",
       "      <td>8572</td>\n",
       "      <td>3616</td>\n",
       "    </tr>\n",
       "    <tr>\n",
       "      <th>1</th>\n",
       "      <td>realDonaldTrump</td>\n",
       "      <td>Did Crooked Hillary help disgusting (check out...</td>\n",
       "      <td>Twitter for Android</td>\n",
       "      <td>12930</td>\n",
       "      <td>5628</td>\n",
       "    </tr>\n",
       "    <tr>\n",
       "      <th>2</th>\n",
       "      <td>realDonaldTrump</td>\n",
       "      <td>Using Alicia M in the debate as a paragon of v...</td>\n",
       "      <td>Twitter for Android</td>\n",
       "      <td>12738</td>\n",
       "      <td>5209</td>\n",
       "    </tr>\n",
       "    <tr>\n",
       "      <th>3</th>\n",
       "      <td>realDonaldTrump</td>\n",
       "      <td>Wow, Crooked Hillary was duped and used by my ...</td>\n",
       "      <td>Twitter for Android</td>\n",
       "      <td>13210</td>\n",
       "      <td>5205</td>\n",
       "    </tr>\n",
       "    <tr>\n",
       "      <th>4</th>\n",
       "      <td>realDonaldTrump</td>\n",
       "      <td>Anytime you see a story about me or my campaig...</td>\n",
       "      <td>Twitter for Android</td>\n",
       "      <td>21316</td>\n",
       "      <td>9147</td>\n",
       "    </tr>\n",
       "  </tbody>\n",
       "</table>\n",
       "</div>"
      ],
      "text/plain": [
       "              user                                               text  \\\n",
       "0  realDonaldTrump  Remember, don't believe \"sources said\" by the ...   \n",
       "1  realDonaldTrump  Did Crooked Hillary help disgusting (check out...   \n",
       "2  realDonaldTrump  Using Alicia M in the debate as a paragon of v...   \n",
       "3  realDonaldTrump  Wow, Crooked Hillary was duped and used by my ...   \n",
       "4  realDonaldTrump  Anytime you see a story about me or my campaig...   \n",
       "\n",
       "                source    fav    rt  \n",
       "0  Twitter for Android   8572  3616  \n",
       "1  Twitter for Android  12930  5628  \n",
       "2  Twitter for Android  12738  5209  \n",
       "3  Twitter for Android  13210  5205  \n",
       "4  Twitter for Android  21316  9147  "
      ]
     },
     "execution_count": 2,
     "metadata": {},
     "output_type": "execute_result"
    }
   ],
   "source": [
    "df.head()"
   ]
  },
  {
   "cell_type": "markdown",
   "metadata": {},
   "source": [
    "## Use NRC emotion lexicon as a pre-existing knowledge base\n",
    "* Identify words in tweets with association for one of 8 Ekman emotions. \n",
    "* Download `NRC-emotion-lexicon` text file and read lexicon into our pandas as data frame. \n",
    "\n",
    "### Note: column values in ``.txt`` file separated by tabs.\n",
    "* Pass argument called ``sep=\"\\t\"`` to indicate file is tab separated (not comma separated). \n",
    "* The first 46 rows of dataset are metadata pass argument, ``skiprows=45``, to skip rows 0-45."
   ]
  },
  {
   "cell_type": "code",
   "execution_count": 3,
   "metadata": {},
   "outputs": [],
   "source": [
    "nrc = pd.read_csv(\"NRC-emotion-lexicon-wordlevel-alphabetized-v0.92.txt\", sep=\"\\t\", names=[\"word\", \"emotion\", \"association\"], skiprows=45)"
   ]
  },
  {
   "cell_type": "markdown",
   "metadata": {},
   "source": [
    "## Look at NRC file format "
   ]
  },
  {
   "cell_type": "code",
   "execution_count": 4,
   "metadata": {},
   "outputs": [
    {
     "data": {
      "text/html": [
       "<div>\n",
       "<style>\n",
       "    .dataframe thead tr:only-child th {\n",
       "        text-align: right;\n",
       "    }\n",
       "\n",
       "    .dataframe thead th {\n",
       "        text-align: left;\n",
       "    }\n",
       "\n",
       "    .dataframe tbody tr th {\n",
       "        vertical-align: top;\n",
       "    }\n",
       "</style>\n",
       "<table border=\"1\" class=\"dataframe\">\n",
       "  <thead>\n",
       "    <tr style=\"text-align: right;\">\n",
       "      <th></th>\n",
       "      <th>word</th>\n",
       "      <th>emotion</th>\n",
       "      <th>association</th>\n",
       "    </tr>\n",
       "  </thead>\n",
       "  <tbody>\n",
       "    <tr>\n",
       "      <th>0</th>\n",
       "      <td>aback</td>\n",
       "      <td>anger</td>\n",
       "      <td>0</td>\n",
       "    </tr>\n",
       "    <tr>\n",
       "      <th>1</th>\n",
       "      <td>aback</td>\n",
       "      <td>anticipation</td>\n",
       "      <td>0</td>\n",
       "    </tr>\n",
       "    <tr>\n",
       "      <th>2</th>\n",
       "      <td>aback</td>\n",
       "      <td>disgust</td>\n",
       "      <td>0</td>\n",
       "    </tr>\n",
       "    <tr>\n",
       "      <th>3</th>\n",
       "      <td>aback</td>\n",
       "      <td>fear</td>\n",
       "      <td>0</td>\n",
       "    </tr>\n",
       "    <tr>\n",
       "      <th>4</th>\n",
       "      <td>aback</td>\n",
       "      <td>joy</td>\n",
       "      <td>0</td>\n",
       "    </tr>\n",
       "    <tr>\n",
       "      <th>5</th>\n",
       "      <td>aback</td>\n",
       "      <td>negative</td>\n",
       "      <td>0</td>\n",
       "    </tr>\n",
       "    <tr>\n",
       "      <th>6</th>\n",
       "      <td>aback</td>\n",
       "      <td>positive</td>\n",
       "      <td>0</td>\n",
       "    </tr>\n",
       "    <tr>\n",
       "      <th>7</th>\n",
       "      <td>aback</td>\n",
       "      <td>sadness</td>\n",
       "      <td>0</td>\n",
       "    </tr>\n",
       "    <tr>\n",
       "      <th>8</th>\n",
       "      <td>aback</td>\n",
       "      <td>surprise</td>\n",
       "      <td>0</td>\n",
       "    </tr>\n",
       "    <tr>\n",
       "      <th>9</th>\n",
       "      <td>aback</td>\n",
       "      <td>trust</td>\n",
       "      <td>0</td>\n",
       "    </tr>\n",
       "    <tr>\n",
       "      <th>10</th>\n",
       "      <td>abacus</td>\n",
       "      <td>anger</td>\n",
       "      <td>0</td>\n",
       "    </tr>\n",
       "    <tr>\n",
       "      <th>11</th>\n",
       "      <td>abacus</td>\n",
       "      <td>anticipation</td>\n",
       "      <td>0</td>\n",
       "    </tr>\n",
       "    <tr>\n",
       "      <th>12</th>\n",
       "      <td>abacus</td>\n",
       "      <td>disgust</td>\n",
       "      <td>0</td>\n",
       "    </tr>\n",
       "    <tr>\n",
       "      <th>13</th>\n",
       "      <td>abacus</td>\n",
       "      <td>fear</td>\n",
       "      <td>0</td>\n",
       "    </tr>\n",
       "    <tr>\n",
       "      <th>14</th>\n",
       "      <td>abacus</td>\n",
       "      <td>joy</td>\n",
       "      <td>0</td>\n",
       "    </tr>\n",
       "    <tr>\n",
       "      <th>15</th>\n",
       "      <td>abacus</td>\n",
       "      <td>negative</td>\n",
       "      <td>0</td>\n",
       "    </tr>\n",
       "    <tr>\n",
       "      <th>16</th>\n",
       "      <td>abacus</td>\n",
       "      <td>positive</td>\n",
       "      <td>0</td>\n",
       "    </tr>\n",
       "    <tr>\n",
       "      <th>17</th>\n",
       "      <td>abacus</td>\n",
       "      <td>sadness</td>\n",
       "      <td>0</td>\n",
       "    </tr>\n",
       "    <tr>\n",
       "      <th>18</th>\n",
       "      <td>abacus</td>\n",
       "      <td>surprise</td>\n",
       "      <td>0</td>\n",
       "    </tr>\n",
       "    <tr>\n",
       "      <th>19</th>\n",
       "      <td>abacus</td>\n",
       "      <td>trust</td>\n",
       "      <td>1</td>\n",
       "    </tr>\n",
       "    <tr>\n",
       "      <th>20</th>\n",
       "      <td>abandon</td>\n",
       "      <td>anger</td>\n",
       "      <td>0</td>\n",
       "    </tr>\n",
       "    <tr>\n",
       "      <th>21</th>\n",
       "      <td>abandon</td>\n",
       "      <td>anticipation</td>\n",
       "      <td>0</td>\n",
       "    </tr>\n",
       "    <tr>\n",
       "      <th>22</th>\n",
       "      <td>abandon</td>\n",
       "      <td>disgust</td>\n",
       "      <td>0</td>\n",
       "    </tr>\n",
       "    <tr>\n",
       "      <th>23</th>\n",
       "      <td>abandon</td>\n",
       "      <td>fear</td>\n",
       "      <td>1</td>\n",
       "    </tr>\n",
       "    <tr>\n",
       "      <th>24</th>\n",
       "      <td>abandon</td>\n",
       "      <td>joy</td>\n",
       "      <td>0</td>\n",
       "    </tr>\n",
       "  </tbody>\n",
       "</table>\n",
       "</div>"
      ],
      "text/plain": [
       "       word       emotion  association\n",
       "0     aback         anger            0\n",
       "1     aback  anticipation            0\n",
       "2     aback       disgust            0\n",
       "3     aback          fear            0\n",
       "4     aback           joy            0\n",
       "5     aback      negative            0\n",
       "6     aback      positive            0\n",
       "7     aback       sadness            0\n",
       "8     aback      surprise            0\n",
       "9     aback         trust            0\n",
       "10   abacus         anger            0\n",
       "11   abacus  anticipation            0\n",
       "12   abacus       disgust            0\n",
       "13   abacus          fear            0\n",
       "14   abacus           joy            0\n",
       "15   abacus      negative            0\n",
       "16   abacus      positive            0\n",
       "17   abacus       sadness            0\n",
       "18   abacus      surprise            0\n",
       "19   abacus         trust            1\n",
       "20  abandon         anger            0\n",
       "21  abandon  anticipation            0\n",
       "22  abandon       disgust            0\n",
       "23  abandon          fear            1\n",
       "24  abandon           joy            0"
      ]
     },
     "execution_count": 4,
     "metadata": {},
     "output_type": "execute_result"
    }
   ],
   "source": [
    "nrc.head(25)"
   ]
  },
  {
   "cell_type": "markdown",
   "metadata": {},
   "source": [
    "# NRC emotion lexicon format\n",
    "* Each word in NRC (e.g., \"aback\", \"abacus\") has a row with *all 8* Ekman emotions *and* the values \"positive\" and \"negative\", which correspond to the sentiment polarity of the word. \n",
    "* Third column: value of ``1`` indicates a relationship between word and emotion/sentiment, (e.g., `abacus`, `trust`, `1`), value of 0 means *no* relationship. . \n",
    "\n",
    "## Filter data to only keep rows where third column == 1. "
   ]
  },
  {
   "cell_type": "code",
   "execution_count": 5,
   "metadata": {},
   "outputs": [],
   "source": [
    "nrc = nrc[nrc[\"association\"] == 1]"
   ]
  },
  {
   "cell_type": "markdown",
   "metadata": {},
   "source": [
    "## Remove pos./neg. sentiment markers \n",
    "* Remove all rows where second column == ``positive`` or == ``negative``, leaving only emotions.\n",
    "* Select the rows that do not include rows with positive or negative in second column"
   ]
  },
  {
   "cell_type": "code",
   "execution_count": 6,
   "metadata": {},
   "outputs": [
    {
     "data": {
      "text/html": [
       "<div>\n",
       "<style>\n",
       "    .dataframe thead tr:only-child th {\n",
       "        text-align: right;\n",
       "    }\n",
       "\n",
       "    .dataframe thead th {\n",
       "        text-align: left;\n",
       "    }\n",
       "\n",
       "    .dataframe tbody tr th {\n",
       "        vertical-align: top;\n",
       "    }\n",
       "</style>\n",
       "<table border=\"1\" class=\"dataframe\">\n",
       "  <thead>\n",
       "    <tr style=\"text-align: right;\">\n",
       "      <th></th>\n",
       "      <th>word</th>\n",
       "      <th>emotion</th>\n",
       "      <th>association</th>\n",
       "    </tr>\n",
       "  </thead>\n",
       "  <tbody>\n",
       "    <tr>\n",
       "      <th>19</th>\n",
       "      <td>abacus</td>\n",
       "      <td>trust</td>\n",
       "      <td>1</td>\n",
       "    </tr>\n",
       "    <tr>\n",
       "      <th>23</th>\n",
       "      <td>abandon</td>\n",
       "      <td>fear</td>\n",
       "      <td>1</td>\n",
       "    </tr>\n",
       "    <tr>\n",
       "      <th>27</th>\n",
       "      <td>abandon</td>\n",
       "      <td>sadness</td>\n",
       "      <td>1</td>\n",
       "    </tr>\n",
       "    <tr>\n",
       "      <th>30</th>\n",
       "      <td>abandoned</td>\n",
       "      <td>anger</td>\n",
       "      <td>1</td>\n",
       "    </tr>\n",
       "    <tr>\n",
       "      <th>33</th>\n",
       "      <td>abandoned</td>\n",
       "      <td>fear</td>\n",
       "      <td>1</td>\n",
       "    </tr>\n",
       "    <tr>\n",
       "      <th>37</th>\n",
       "      <td>abandoned</td>\n",
       "      <td>sadness</td>\n",
       "      <td>1</td>\n",
       "    </tr>\n",
       "    <tr>\n",
       "      <th>40</th>\n",
       "      <td>abandonment</td>\n",
       "      <td>anger</td>\n",
       "      <td>1</td>\n",
       "    </tr>\n",
       "    <tr>\n",
       "      <th>43</th>\n",
       "      <td>abandonment</td>\n",
       "      <td>fear</td>\n",
       "      <td>1</td>\n",
       "    </tr>\n",
       "    <tr>\n",
       "      <th>47</th>\n",
       "      <td>abandonment</td>\n",
       "      <td>sadness</td>\n",
       "      <td>1</td>\n",
       "    </tr>\n",
       "    <tr>\n",
       "      <th>48</th>\n",
       "      <td>abandonment</td>\n",
       "      <td>surprise</td>\n",
       "      <td>1</td>\n",
       "    </tr>\n",
       "    <tr>\n",
       "      <th>89</th>\n",
       "      <td>abbot</td>\n",
       "      <td>trust</td>\n",
       "      <td>1</td>\n",
       "    </tr>\n",
       "    <tr>\n",
       "      <th>133</th>\n",
       "      <td>abduction</td>\n",
       "      <td>fear</td>\n",
       "      <td>1</td>\n",
       "    </tr>\n",
       "    <tr>\n",
       "      <th>137</th>\n",
       "      <td>abduction</td>\n",
       "      <td>sadness</td>\n",
       "      <td>1</td>\n",
       "    </tr>\n",
       "    <tr>\n",
       "      <th>138</th>\n",
       "      <td>abduction</td>\n",
       "      <td>surprise</td>\n",
       "      <td>1</td>\n",
       "    </tr>\n",
       "    <tr>\n",
       "      <th>152</th>\n",
       "      <td>aberration</td>\n",
       "      <td>disgust</td>\n",
       "      <td>1</td>\n",
       "    </tr>\n",
       "    <tr>\n",
       "      <th>170</th>\n",
       "      <td>abhor</td>\n",
       "      <td>anger</td>\n",
       "      <td>1</td>\n",
       "    </tr>\n",
       "    <tr>\n",
       "      <th>172</th>\n",
       "      <td>abhor</td>\n",
       "      <td>disgust</td>\n",
       "      <td>1</td>\n",
       "    </tr>\n",
       "    <tr>\n",
       "      <th>173</th>\n",
       "      <td>abhor</td>\n",
       "      <td>fear</td>\n",
       "      <td>1</td>\n",
       "    </tr>\n",
       "    <tr>\n",
       "      <th>180</th>\n",
       "      <td>abhorrent</td>\n",
       "      <td>anger</td>\n",
       "      <td>1</td>\n",
       "    </tr>\n",
       "    <tr>\n",
       "      <th>182</th>\n",
       "      <td>abhorrent</td>\n",
       "      <td>disgust</td>\n",
       "      <td>1</td>\n",
       "    </tr>\n",
       "    <tr>\n",
       "      <th>183</th>\n",
       "      <td>abhorrent</td>\n",
       "      <td>fear</td>\n",
       "      <td>1</td>\n",
       "    </tr>\n",
       "    <tr>\n",
       "      <th>212</th>\n",
       "      <td>abject</td>\n",
       "      <td>disgust</td>\n",
       "      <td>1</td>\n",
       "    </tr>\n",
       "    <tr>\n",
       "      <th>242</th>\n",
       "      <td>abnormal</td>\n",
       "      <td>disgust</td>\n",
       "      <td>1</td>\n",
       "    </tr>\n",
       "    <tr>\n",
       "      <th>270</th>\n",
       "      <td>abolish</td>\n",
       "      <td>anger</td>\n",
       "      <td>1</td>\n",
       "    </tr>\n",
       "    <tr>\n",
       "      <th>292</th>\n",
       "      <td>abominable</td>\n",
       "      <td>disgust</td>\n",
       "      <td>1</td>\n",
       "    </tr>\n",
       "  </tbody>\n",
       "</table>\n",
       "</div>"
      ],
      "text/plain": [
       "            word   emotion  association\n",
       "19        abacus     trust            1\n",
       "23       abandon      fear            1\n",
       "27       abandon   sadness            1\n",
       "30     abandoned     anger            1\n",
       "33     abandoned      fear            1\n",
       "37     abandoned   sadness            1\n",
       "40   abandonment     anger            1\n",
       "43   abandonment      fear            1\n",
       "47   abandonment   sadness            1\n",
       "48   abandonment  surprise            1\n",
       "89         abbot     trust            1\n",
       "133    abduction      fear            1\n",
       "137    abduction   sadness            1\n",
       "138    abduction  surprise            1\n",
       "152   aberration   disgust            1\n",
       "170        abhor     anger            1\n",
       "172        abhor   disgust            1\n",
       "173        abhor      fear            1\n",
       "180    abhorrent     anger            1\n",
       "182    abhorrent   disgust            1\n",
       "183    abhorrent      fear            1\n",
       "212       abject   disgust            1\n",
       "242     abnormal   disgust            1\n",
       "270      abolish     anger            1\n",
       "292   abominable   disgust            1"
      ]
     },
     "execution_count": 6,
     "metadata": {},
     "output_type": "execute_result"
    }
   ],
   "source": [
    "nrc = nrc[nrc['emotion'].isin(['positive', 'negative']) == False]\n",
    "nrc.head(25)"
   ]
  },
  {
   "cell_type": "markdown",
   "metadata": {},
   "source": [
    "### Count how many words representing each emotion are in each tweet \n",
    "* Start with a single tweet.\n",
    "* Unfortunately, we don't have a Python equivalent of the AFINN module \n",
    "* Perform the counting using the natural language tool kit (NLTK)"
   ]
  },
  {
   "cell_type": "code",
   "execution_count": 7,
   "metadata": {},
   "outputs": [
    {
     "name": "stdout",
     "output_type": "stream",
     "text": [
      "RT @AndraDayMusic: I was honored to be a part of history at the DNC. Hillary Clinton is an inspiration for women everywhere.\r\n",
      "https://t.co/E",
      "\n"
     ]
    }
   ],
   "source": [
    "tweet = df.iloc[3442, :]\n",
    "print(tweet.text)"
   ]
  },
  {
   "cell_type": "markdown",
   "metadata": {},
   "source": [
    "# Tokenize tweet text with NLTK\n",
    "* Use ``TweetTokenizer``to split tweet string into separate words,  \n",
    "* Splits Twitter-specific words, like mentions and hashtags. \n",
    "* Use factory method ``TweetTokenizer`` to create an instance of tokenizer called, ``tt``."
   ]
  },
  {
   "cell_type": "code",
   "execution_count": 8,
   "metadata": {},
   "outputs": [
    {
     "name": "stdout",
     "output_type": "stream",
     "text": [
      "['RT', '@AndraDayMusic', ':', 'I', 'was', 'honored', 'to', 'be', 'a', 'part', 'of', 'history', 'at', 'the', 'DNC', '.', 'Hillary', 'Clinton', 'is', 'an', 'inspiration', 'for', 'women', 'everywhere', '.', 'https://t.co/E']\n"
     ]
    }
   ],
   "source": [
    "from nltk.tokenize import TweetTokenizer\n",
    "\n",
    "tt = TweetTokenizer()\n",
    "\n",
    "tokenized = tt.tokenize(tweet.text)\n",
    "print(tokenized)"
   ]
  },
  {
   "cell_type": "markdown",
   "metadata": {},
   "source": [
    "## Put all words in `lowercase` in tokenized tweet.\n",
    "* All words in the NRC are lower-case. \n",
    "* If ``Abhor``, with a capital ``A``, is in the text, it won't be found in the NRC: Python thinks ``Abhor`` and ``abhor`` are different words. \n",
    "* Use list comprehension to apply lower() function for each x in tokenized"
   ]
  },
  {
   "cell_type": "code",
   "execution_count": 9,
   "metadata": {},
   "outputs": [
    {
     "name": "stdout",
     "output_type": "stream",
     "text": [
      "['rt', '@andradaymusic', ':', 'i', 'was', 'honored', 'to', 'be', 'a', 'part', 'of', 'history', 'at', 'the', 'dnc', '.', 'hillary', 'clinton', 'is', 'an', 'inspiration', 'for', 'women', 'everywhere', '.', 'https://t.co/e']\n"
     ]
    }
   ],
   "source": [
    "tokenized = [x.lower() for x in tokenized]\n",
    "print(tokenized)"
   ]
  },
  {
   "cell_type": "markdown",
   "metadata": {},
   "source": [
    "## Go through all tokens \n",
    "* Count how many times emotion words appear. \n",
    "* Make an inventory of the emotions available to us.\n",
    "* Save as a list, inventory of emotions"
   ]
  },
  {
   "cell_type": "code",
   "execution_count": 11,
   "metadata": {},
   "outputs": [
    {
     "name": "stdout",
     "output_type": "stream",
     "text": [
      "['sadness', 'anticipation', 'anger', 'joy', 'disgust', 'surprise', 'fear', 'trust']\n"
     ]
    }
   ],
   "source": [
    "emotions = list(set(nrc['emotion']))\n",
    "print(emotions)"
   ]
  },
  {
   "cell_type": "markdown",
   "metadata": {},
   "source": [
    "### Use ordering of  ``emotions`` list and create a **count vector** for each tweet. \n",
    "* Represent each tweet as vector of length 9, \n",
    "* Where the first element is the count of how many trust words occurred in it\n",
    "* Second element is count of how many anticipation words occurred in it, etc. \n",
    "\n",
    "## Iterate through the tweets \n",
    "Create two dictionaries: \n",
    "* First, to indicate, **given an index number, what is its corresponding emotion** \n",
    "* Second, will indicate, **given an emotion, what is its corresponding index number**. \n",
    "* For i in range of lenth of emotions, set value of item to index, key emotion to index"
   ]
  },
  {
   "cell_type": "code",
   "execution_count": 12,
   "metadata": {
    "collapsed": true
   },
   "outputs": [],
   "source": [
    "index2emotion = {}\n",
    "emotion2index = {}\n",
    "\n",
    "for i in range(len(emotions)):\n",
    "    index2emotion[i] = emotions[i]\n",
    "    emotion2index[emotions[i]] = i"
   ]
  },
  {
   "cell_type": "markdown",
   "metadata": {},
   "source": [
    "### With these two dictionaries, \n",
    "* Given an index, we can obtain an emotion, and \n",
    "* Given an emotion, we can obtain its index."
   ]
  },
  {
   "cell_type": "code",
   "execution_count": 13,
   "metadata": {},
   "outputs": [
    {
     "name": "stdout",
     "output_type": "stream",
     "text": [
      "['sadness', 'anticipation', 'anger', 'joy', 'disgust', 'surprise', 'fear', 'trust']\n"
     ]
    }
   ],
   "source": [
    "print(emotions)"
   ]
  },
  {
   "cell_type": "code",
   "execution_count": 14,
   "metadata": {},
   "outputs": [
    {
     "data": {
      "text/plain": [
       "6"
      ]
     },
     "execution_count": 14,
     "metadata": {},
     "output_type": "execute_result"
    }
   ],
   "source": [
    "# What is the position index of the emotion \"fear\"?\n",
    "emotion2index['fear']"
   ]
  },
  {
   "cell_type": "code",
   "execution_count": 15,
   "metadata": {},
   "outputs": [
    {
     "data": {
      "text/plain": [
       "'fear'"
      ]
     },
     "execution_count": 15,
     "metadata": {},
     "output_type": "execute_result"
    }
   ],
   "source": [
    "# What emotion is associated with position index 6?\n",
    "index2emotion[6]"
   ]
  },
  {
   "cell_type": "code",
   "execution_count": 17,
   "metadata": {},
   "outputs": [
    {
     "data": {
      "text/plain": [
       "['rt',\n",
       " '@andradaymusic',\n",
       " ':',\n",
       " 'i',\n",
       " 'was',\n",
       " 'honored',\n",
       " 'to',\n",
       " 'be',\n",
       " 'a',\n",
       " 'part',\n",
       " 'of',\n",
       " 'history',\n",
       " 'at',\n",
       " 'the',\n",
       " 'dnc',\n",
       " '.',\n",
       " 'hillary',\n",
       " 'clinton',\n",
       " 'is',\n",
       " 'an',\n",
       " 'inspiration',\n",
       " 'for',\n",
       " 'women',\n",
       " 'everywhere',\n",
       " '.',\n",
       " 'https://t.co/e']"
      ]
     },
     "execution_count": 17,
     "metadata": {},
     "output_type": "execute_result"
    }
   ],
   "source": [
    "tokenized"
   ]
  },
  {
   "cell_type": "markdown",
   "metadata": {},
   "source": [
    "## Initialize empty count vector for single tweet we're working with. \n",
    "* We're going to initialize all values to 0."
   ]
  },
  {
   "cell_type": "code",
   "execution_count": 16,
   "metadata": {},
   "outputs": [
    {
     "name": "stdout",
     "output_type": "stream",
     "text": [
      "[0, 0, 0, 0, 0, 0, 0, 0]\n"
     ]
    }
   ],
   "source": [
    "cv = [0] * len(emotions)\n",
    "print(cv)"
   ]
  },
  {
   "cell_type": "markdown",
   "metadata": {},
   "source": [
    "## Iterate through each word in tokenized tweet,\n",
    "* Find what emotions are associated with it in the ``nrc`` data frame. \n",
    "* Subset NRC to contain ONLY the rows associated with *this* word\n",
    "* Isolate the column emotion from sub; these are the emotions associated with this word\n",
    "  * e represents one of the emotions associated with this token\n",
    "  * What is the position index associated with this emotion?\n",
    "  * Increment the variable cv at *this* position index by 1"
   ]
  },
  {
   "cell_type": "code",
   "execution_count": 18,
   "metadata": {
    "collapsed": true
   },
   "outputs": [],
   "source": [
    "for token in tokenized:                     # iterate through each word in list\n",
    "    sub = nrc[nrc['word'] == token]         # subset nrc dataframe to select rows with word\n",
    "    \n",
    "    token_emotions = sub['emotion']         # get emotion associated with that word\n",
    "    for e in token_emotions:                # for each emotion\n",
    "        \n",
    "        position_index = emotion2index[e]   # find its potition\n",
    "\n",
    "        cv[position_index] += 1             # Update position index, increment by one"
   ]
  },
  {
   "cell_type": "markdown",
   "metadata": {},
   "source": [
    "### Take a look at what happened to ``cv``. \n",
    "* Look up emotion associated with each emotion: anticipation, joy\n",
    "* All values are 0 except for index 1 element and index 5. \n",
    "* Shows us how many times an emotional word occured in the tweet. "
   ]
  },
  {
   "cell_type": "code",
   "execution_count": 19,
   "metadata": {},
   "outputs": [
    {
     "data": {
      "text/plain": [
       "[0, 1, 0, 1, 0, 0, 0, 0]"
      ]
     },
     "execution_count": 19,
     "metadata": {},
     "output_type": "execute_result"
    }
   ],
   "source": [
    "cv"
   ]
  },
  {
   "cell_type": "code",
   "execution_count": 22,
   "metadata": {},
   "outputs": [
    {
     "data": {
      "text/plain": [
       "'anticipation'"
      ]
     },
     "execution_count": 22,
     "metadata": {},
     "output_type": "execute_result"
    }
   ],
   "source": [
    "index2emotion[1]"
   ]
  },
  {
   "cell_type": "code",
   "execution_count": 23,
   "metadata": {},
   "outputs": [
    {
     "data": {
      "text/plain": [
       "'joy'"
      ]
     },
     "execution_count": 23,
     "metadata": {},
     "output_type": "execute_result"
    }
   ],
   "source": [
    "index2emotion[3]"
   ]
  },
  {
   "cell_type": "markdown",
   "metadata": {},
   "source": [
    "# Package everything above into a function\n",
    "* Repeat this process for all 5000 tweets. \n",
    "\n",
    "### Repeat this code, has to run for function to work\n",
    "* We need two dictionaries, word associated with position index, index associated with word\n",
    "* Name the function, takes a single argument, runs code, returns count vector `cv`"
   ]
  },
  {
   "cell_type": "code",
   "execution_count": 24,
   "metadata": {
    "collapsed": true
   },
   "outputs": [],
   "source": [
    "emotions = list(set(nrc['emotion']))\n",
    "index2emotion = {}\n",
    "emotion2index = {}\n",
    "for i in range(len(emotions)):\n",
    "    index2emotion[i] = emotions[i]\n",
    "    emotion2index[emotions[i]] = i\n",
    "    \n",
    "# Here is the function\n",
    "# Assumes that a TweetTokenizer called tt has been made\n",
    "# and that the NRC lexicon has been imported as nrc\n",
    "def makeEmoVector(tweettext):\n",
    "    cv = [0] * len(emotions)\n",
    "    tokenized = tt.tokenize(tweettext)\n",
    "    tokenized = [x.lower() for x in tokenized]\n",
    "    for token in tokenized:\n",
    "        sub = nrc[nrc['word'] == token]\n",
    "        token_emotions = sub['emotion']\n",
    "        for e in token_emotions:\n",
    "            position_index = emotion2index[e]\n",
    "            cv[position_index] += 1\n",
    "    return cv"
   ]
  },
  {
   "cell_type": "markdown",
   "metadata": {},
   "source": [
    "### Take arbitrary tweet and represent it as emotion vector: "
   ]
  },
  {
   "cell_type": "code",
   "execution_count": 26,
   "metadata": {},
   "outputs": [
    {
     "data": {
      "text/plain": [
       "[0, 0, 0, 1, 0, 0, 0, 2]"
      ]
     },
     "execution_count": 26,
     "metadata": {},
     "output_type": "execute_result"
    }
   ],
   "source": [
    "tweettext = df.iloc[4231, :]['text']\n",
    "makeEmoVector(tweettext)"
   ]
  },
  {
   "cell_type": "markdown",
   "metadata": {},
   "source": [
    "## Use this function, create an emotion vector for every tweet. \n",
    "* Make empty list called emotion vectors,\n",
    "* Iterate through every tweet, and create emotion vector for every text\n",
    "* Append that emotion vector to that empty list"
   ]
  },
  {
   "cell_type": "code",
   "execution_count": 27,
   "metadata": {},
   "outputs": [],
   "source": [
    "emotion_vectors = []\n",
    "for text in df['text']:\n",
    "    emotion_vector = makeEmoVector(text)\n",
    "    emotion_vectors.append(emotion_vector)"
   ]
  },
  {
   "cell_type": "markdown",
   "metadata": {},
   "source": [
    "## Make emotion vectors in to a data frame\n",
    "* Make sure that indices for ev are same for the indices for data"
   ]
  },
  {
   "cell_type": "code",
   "execution_count": 28,
   "metadata": {},
   "outputs": [
    {
     "data": {
      "text/html": [
       "<div>\n",
       "<style>\n",
       "    .dataframe thead tr:only-child th {\n",
       "        text-align: right;\n",
       "    }\n",
       "\n",
       "    .dataframe thead th {\n",
       "        text-align: left;\n",
       "    }\n",
       "\n",
       "    .dataframe tbody tr th {\n",
       "        vertical-align: top;\n",
       "    }\n",
       "</style>\n",
       "<table border=\"1\" class=\"dataframe\">\n",
       "  <thead>\n",
       "    <tr style=\"text-align: right;\">\n",
       "      <th></th>\n",
       "      <th>sadness</th>\n",
       "      <th>anticipation</th>\n",
       "      <th>anger</th>\n",
       "      <th>joy</th>\n",
       "      <th>disgust</th>\n",
       "      <th>surprise</th>\n",
       "      <th>fear</th>\n",
       "      <th>trust</th>\n",
       "    </tr>\n",
       "  </thead>\n",
       "  <tbody>\n",
       "    <tr>\n",
       "      <th>0</th>\n",
       "      <td>1</td>\n",
       "      <td>0</td>\n",
       "      <td>1</td>\n",
       "      <td>0</td>\n",
       "      <td>1</td>\n",
       "      <td>0</td>\n",
       "      <td>0</td>\n",
       "      <td>0</td>\n",
       "    </tr>\n",
       "    <tr>\n",
       "      <th>1</th>\n",
       "      <td>0</td>\n",
       "      <td>1</td>\n",
       "      <td>1</td>\n",
       "      <td>1</td>\n",
       "      <td>1</td>\n",
       "      <td>0</td>\n",
       "      <td>1</td>\n",
       "      <td>1</td>\n",
       "    </tr>\n",
       "    <tr>\n",
       "      <th>2</th>\n",
       "      <td>1</td>\n",
       "      <td>1</td>\n",
       "      <td>1</td>\n",
       "      <td>1</td>\n",
       "      <td>1</td>\n",
       "      <td>0</td>\n",
       "      <td>1</td>\n",
       "      <td>2</td>\n",
       "    </tr>\n",
       "    <tr>\n",
       "      <th>3</th>\n",
       "      <td>1</td>\n",
       "      <td>1</td>\n",
       "      <td>1</td>\n",
       "      <td>1</td>\n",
       "      <td>1</td>\n",
       "      <td>1</td>\n",
       "      <td>1</td>\n",
       "      <td>1</td>\n",
       "    </tr>\n",
       "    <tr>\n",
       "      <th>4</th>\n",
       "      <td>0</td>\n",
       "      <td>0</td>\n",
       "      <td>0</td>\n",
       "      <td>0</td>\n",
       "      <td>0</td>\n",
       "      <td>0</td>\n",
       "      <td>0</td>\n",
       "      <td>0</td>\n",
       "    </tr>\n",
       "  </tbody>\n",
       "</table>\n",
       "</div>"
      ],
      "text/plain": [
       "   sadness  anticipation  anger  joy  disgust  surprise  fear  trust\n",
       "0        1             0      1    0        1         0     0      0\n",
       "1        0             1      1    1        1         0     1      1\n",
       "2        1             1      1    1        1         0     1      2\n",
       "3        1             1      1    1        1         1     1      1\n",
       "4        0             0      0    0        0         0     0      0"
      ]
     },
     "execution_count": 28,
     "metadata": {},
     "output_type": "execute_result"
    }
   ],
   "source": [
    "ev = pd.DataFrame(emotion_vectors, index=df.index, columns=emotions)\n",
    "ev.head()"
   ]
  },
  {
   "cell_type": "markdown",
   "metadata": {},
   "source": [
    "## Merge this data frame with DF of original tweets. "
   ]
  },
  {
   "cell_type": "code",
   "execution_count": 29,
   "metadata": {},
   "outputs": [
    {
     "data": {
      "text/html": [
       "<div>\n",
       "<style>\n",
       "    .dataframe thead tr:only-child th {\n",
       "        text-align: right;\n",
       "    }\n",
       "\n",
       "    .dataframe thead th {\n",
       "        text-align: left;\n",
       "    }\n",
       "\n",
       "    .dataframe tbody tr th {\n",
       "        vertical-align: top;\n",
       "    }\n",
       "</style>\n",
       "<table border=\"1\" class=\"dataframe\">\n",
       "  <thead>\n",
       "    <tr style=\"text-align: right;\">\n",
       "      <th></th>\n",
       "      <th>user</th>\n",
       "      <th>text</th>\n",
       "      <th>source</th>\n",
       "      <th>fav</th>\n",
       "      <th>rt</th>\n",
       "      <th>sadness</th>\n",
       "      <th>anticipation</th>\n",
       "      <th>anger</th>\n",
       "      <th>joy</th>\n",
       "      <th>disgust</th>\n",
       "      <th>surprise</th>\n",
       "      <th>fear</th>\n",
       "      <th>trust</th>\n",
       "    </tr>\n",
       "  </thead>\n",
       "  <tbody>\n",
       "    <tr>\n",
       "      <th>0</th>\n",
       "      <td>realDonaldTrump</td>\n",
       "      <td>Remember, don't believe \"sources said\" by the ...</td>\n",
       "      <td>Twitter for Android</td>\n",
       "      <td>8572</td>\n",
       "      <td>3616</td>\n",
       "      <td>1</td>\n",
       "      <td>0</td>\n",
       "      <td>1</td>\n",
       "      <td>0</td>\n",
       "      <td>1</td>\n",
       "      <td>0</td>\n",
       "      <td>0</td>\n",
       "      <td>0</td>\n",
       "    </tr>\n",
       "    <tr>\n",
       "      <th>1</th>\n",
       "      <td>realDonaldTrump</td>\n",
       "      <td>Did Crooked Hillary help disgusting (check out...</td>\n",
       "      <td>Twitter for Android</td>\n",
       "      <td>12930</td>\n",
       "      <td>5628</td>\n",
       "      <td>0</td>\n",
       "      <td>1</td>\n",
       "      <td>1</td>\n",
       "      <td>1</td>\n",
       "      <td>1</td>\n",
       "      <td>0</td>\n",
       "      <td>1</td>\n",
       "      <td>1</td>\n",
       "    </tr>\n",
       "    <tr>\n",
       "      <th>2</th>\n",
       "      <td>realDonaldTrump</td>\n",
       "      <td>Using Alicia M in the debate as a paragon of v...</td>\n",
       "      <td>Twitter for Android</td>\n",
       "      <td>12738</td>\n",
       "      <td>5209</td>\n",
       "      <td>1</td>\n",
       "      <td>1</td>\n",
       "      <td>1</td>\n",
       "      <td>1</td>\n",
       "      <td>1</td>\n",
       "      <td>0</td>\n",
       "      <td>1</td>\n",
       "      <td>2</td>\n",
       "    </tr>\n",
       "    <tr>\n",
       "      <th>3</th>\n",
       "      <td>realDonaldTrump</td>\n",
       "      <td>Wow, Crooked Hillary was duped and used by my ...</td>\n",
       "      <td>Twitter for Android</td>\n",
       "      <td>13210</td>\n",
       "      <td>5205</td>\n",
       "      <td>1</td>\n",
       "      <td>1</td>\n",
       "      <td>1</td>\n",
       "      <td>1</td>\n",
       "      <td>1</td>\n",
       "      <td>1</td>\n",
       "      <td>1</td>\n",
       "      <td>1</td>\n",
       "    </tr>\n",
       "    <tr>\n",
       "      <th>4</th>\n",
       "      <td>realDonaldTrump</td>\n",
       "      <td>Anytime you see a story about me or my campaig...</td>\n",
       "      <td>Twitter for Android</td>\n",
       "      <td>21316</td>\n",
       "      <td>9147</td>\n",
       "      <td>0</td>\n",
       "      <td>0</td>\n",
       "      <td>0</td>\n",
       "      <td>0</td>\n",
       "      <td>0</td>\n",
       "      <td>0</td>\n",
       "      <td>0</td>\n",
       "      <td>0</td>\n",
       "    </tr>\n",
       "  </tbody>\n",
       "</table>\n",
       "</div>"
      ],
      "text/plain": [
       "              user                                               text  \\\n",
       "0  realDonaldTrump  Remember, don't believe \"sources said\" by the ...   \n",
       "1  realDonaldTrump  Did Crooked Hillary help disgusting (check out...   \n",
       "2  realDonaldTrump  Using Alicia M in the debate as a paragon of v...   \n",
       "3  realDonaldTrump  Wow, Crooked Hillary was duped and used by my ...   \n",
       "4  realDonaldTrump  Anytime you see a story about me or my campaig...   \n",
       "\n",
       "                source    fav    rt  sadness  anticipation  anger  joy  \\\n",
       "0  Twitter for Android   8572  3616        1             0      1    0   \n",
       "1  Twitter for Android  12930  5628        0             1      1    1   \n",
       "2  Twitter for Android  12738  5209        1             1      1    1   \n",
       "3  Twitter for Android  13210  5205        1             1      1    1   \n",
       "4  Twitter for Android  21316  9147        0             0      0    0   \n",
       "\n",
       "   disgust  surprise  fear  trust  \n",
       "0        1         0     0      0  \n",
       "1        1         0     1      1  \n",
       "2        1         0     1      2  \n",
       "3        1         1     1      1  \n",
       "4        0         0     0      0  "
      ]
     },
     "execution_count": 29,
     "metadata": {},
     "output_type": "execute_result"
    }
   ],
   "source": [
    "df = df.join(ev)\n",
    "df.head()"
   ]
  },
  {
   "cell_type": "markdown",
   "metadata": {},
   "source": [
    "### NOTE: *At the level of a tweet*\n",
    "* This method will probably produce some visible inaccurate judgements. \n",
    "* By assigning emotions to tweets based on presence/absence of words, bound to be errors. \n",
    "\n",
    "### \"noise\" can be washed out by viewing things in aggregate.\n",
    "* Use Pandas to see how emotions show up across *all* of tweets by each of candidates.\n",
    "* Group all tweets together by each candidate that wrote the tweet with groupby() method.\n",
    "* Groupby user, select emotions, and aggregate or sum the scores across all tweets"
   ]
  },
  {
   "cell_type": "code",
   "execution_count": 30,
   "metadata": {
    "collapsed": true
   },
   "outputs": [],
   "source": [
    "cand_group = df.groupby(\"user\")"
   ]
  },
  {
   "cell_type": "code",
   "execution_count": 31,
   "metadata": {},
   "outputs": [
    {
     "data": {
      "text/html": [
       "<div>\n",
       "<style>\n",
       "    .dataframe thead tr:only-child th {\n",
       "        text-align: right;\n",
       "    }\n",
       "\n",
       "    .dataframe thead th {\n",
       "        text-align: left;\n",
       "    }\n",
       "\n",
       "    .dataframe tbody tr th {\n",
       "        vertical-align: top;\n",
       "    }\n",
       "</style>\n",
       "<table border=\"1\" class=\"dataframe\">\n",
       "  <thead>\n",
       "    <tr style=\"text-align: right;\">\n",
       "      <th></th>\n",
       "      <th>sadness</th>\n",
       "      <th>anticipation</th>\n",
       "      <th>anger</th>\n",
       "      <th>joy</th>\n",
       "      <th>disgust</th>\n",
       "      <th>surprise</th>\n",
       "      <th>fear</th>\n",
       "      <th>trust</th>\n",
       "    </tr>\n",
       "    <tr>\n",
       "      <th>user</th>\n",
       "      <th></th>\n",
       "      <th></th>\n",
       "      <th></th>\n",
       "      <th></th>\n",
       "      <th></th>\n",
       "      <th></th>\n",
       "      <th></th>\n",
       "      <th></th>\n",
       "    </tr>\n",
       "  </thead>\n",
       "  <tbody>\n",
       "    <tr>\n",
       "      <th>HillaryClinton</th>\n",
       "      <td>810</td>\n",
       "      <td>1236</td>\n",
       "      <td>852</td>\n",
       "      <td>966</td>\n",
       "      <td>352</td>\n",
       "      <td>1077</td>\n",
       "      <td>939</td>\n",
       "      <td>1865</td>\n",
       "    </tr>\n",
       "    <tr>\n",
       "      <th>realDonaldTrump</th>\n",
       "      <td>862</td>\n",
       "      <td>970</td>\n",
       "      <td>897</td>\n",
       "      <td>818</td>\n",
       "      <td>545</td>\n",
       "      <td>727</td>\n",
       "      <td>810</td>\n",
       "      <td>1467</td>\n",
       "    </tr>\n",
       "  </tbody>\n",
       "</table>\n",
       "</div>"
      ],
      "text/plain": [
       "                 sadness  anticipation  anger  joy  disgust  surprise  fear  \\\n",
       "user                                                                          \n",
       "HillaryClinton       810          1236    852  966      352      1077   939   \n",
       "realDonaldTrump      862           970    897  818      545       727   810   \n",
       "\n",
       "                 trust  \n",
       "user                    \n",
       "HillaryClinton    1865  \n",
       "realDonaldTrump   1467  "
      ]
     },
     "execution_count": 31,
     "metadata": {},
     "output_type": "execute_result"
    }
   ],
   "source": [
    "emo_counts = cand_group[emotions].agg(\"sum\")\n",
    "emo_counts"
   ]
  },
  {
   "cell_type": "markdown",
   "metadata": {},
   "source": [
    "## Perform an initial comparison of emotions\n",
    "* Normalized these counts according to the total number of words used. \n",
    "* Possible that the two candidates used different amounts of words. \n",
    "* Get the total number of words tweeted by each candidate."
   ]
  },
  {
   "cell_type": "code",
   "execution_count": 32,
   "metadata": {},
   "outputs": [
    {
     "name": "stdout",
     "output_type": "stream",
     "text": [
      "55583\n"
     ]
    }
   ],
   "source": [
    "clintoncount = 0\n",
    "clintonsub = df[df['user'] == \"HillaryClinton\"]\n",
    "for text in clintonsub['text']:\n",
    "    clintoncount += len(tt.tokenize(text))\n",
    "print(clintoncount)"
   ]
  },
  {
   "cell_type": "code",
   "execution_count": 33,
   "metadata": {},
   "outputs": [
    {
     "name": "stdout",
     "output_type": "stream",
     "text": [
      "51413\n"
     ]
    }
   ],
   "source": [
    "trumpcount = 0\n",
    "trumpsub = df[df['user'] == \"realDonaldTrump\"]\n",
    "for text in trumpsub['text']:\n",
    "    trumpcount += len(tt.tokenize(text))\n",
    "print(trumpcount)"
   ]
  },
  {
   "cell_type": "markdown",
   "metadata": {},
   "source": [
    "## Use Pandas function ``divide``\n",
    "* Divide each row in the emotion sums table by the total number of words."
   ]
  },
  {
   "cell_type": "code",
   "execution_count": 34,
   "metadata": {},
   "outputs": [
    {
     "data": {
      "text/html": [
       "<div>\n",
       "<style>\n",
       "    .dataframe thead tr:only-child th {\n",
       "        text-align: right;\n",
       "    }\n",
       "\n",
       "    .dataframe thead th {\n",
       "        text-align: left;\n",
       "    }\n",
       "\n",
       "    .dataframe tbody tr th {\n",
       "        vertical-align: top;\n",
       "    }\n",
       "</style>\n",
       "<table border=\"1\" class=\"dataframe\">\n",
       "  <thead>\n",
       "    <tr style=\"text-align: right;\">\n",
       "      <th></th>\n",
       "      <th>sadness</th>\n",
       "      <th>anticipation</th>\n",
       "      <th>anger</th>\n",
       "      <th>joy</th>\n",
       "      <th>disgust</th>\n",
       "      <th>surprise</th>\n",
       "      <th>fear</th>\n",
       "      <th>trust</th>\n",
       "    </tr>\n",
       "    <tr>\n",
       "      <th>user</th>\n",
       "      <th></th>\n",
       "      <th></th>\n",
       "      <th></th>\n",
       "      <th></th>\n",
       "      <th></th>\n",
       "      <th></th>\n",
       "      <th></th>\n",
       "      <th></th>\n",
       "    </tr>\n",
       "  </thead>\n",
       "  <tbody>\n",
       "    <tr>\n",
       "      <th>HillaryClinton</th>\n",
       "      <td>0.014573</td>\n",
       "      <td>0.022237</td>\n",
       "      <td>0.015328</td>\n",
       "      <td>0.017379</td>\n",
       "      <td>0.006333</td>\n",
       "      <td>0.019376</td>\n",
       "      <td>0.016894</td>\n",
       "      <td>0.033553</td>\n",
       "    </tr>\n",
       "    <tr>\n",
       "      <th>realDonaldTrump</th>\n",
       "      <td>0.016766</td>\n",
       "      <td>0.018867</td>\n",
       "      <td>0.017447</td>\n",
       "      <td>0.015910</td>\n",
       "      <td>0.010600</td>\n",
       "      <td>0.014140</td>\n",
       "      <td>0.015755</td>\n",
       "      <td>0.028534</td>\n",
       "    </tr>\n",
       "  </tbody>\n",
       "</table>\n",
       "</div>"
      ],
      "text/plain": [
       "                  sadness  anticipation     anger       joy   disgust  \\\n",
       "user                                                                    \n",
       "HillaryClinton   0.014573      0.022237  0.015328  0.017379  0.006333   \n",
       "realDonaldTrump  0.016766      0.018867  0.017447  0.015910  0.010600   \n",
       "\n",
       "                 surprise      fear     trust  \n",
       "user                                           \n",
       "HillaryClinton   0.019376  0.016894  0.033553  \n",
       "realDonaldTrump  0.014140  0.015755  0.028534  "
      ]
     },
     "execution_count": 34,
     "metadata": {},
     "output_type": "execute_result"
    }
   ],
   "source": [
    "emo_counts_normalized = emo_counts.divide([clintoncount, trumpcount], axis=\"rows\")\n",
    "emo_counts_normalized"
   ]
  },
  {
   "cell_type": "markdown",
   "metadata": {},
   "source": [
    "## Create visualization of table \n",
    "* If you imported matplotlib, you can use functions in Pandas for visualization of data frames \n",
    "* (http://pandas.pydata.org/pandas-docs/stable/visualization.html). \n",
    "* To display bar chart, first need to flip data frame for emotions in rows, candidates  columns, with Pandas function ``transpose()``. "
   ]
  },
  {
   "cell_type": "code",
   "execution_count": 35,
   "metadata": {},
   "outputs": [
    {
     "data": {
      "text/plain": [
       "<matplotlib.axes._subplots.AxesSubplot at 0x1184bb5f8>"
      ]
     },
     "execution_count": 35,
     "metadata": {},
     "output_type": "execute_result"
    },
    {
     "data": {
      "image/png": "[encoded data removed]",
      "text/plain": [
       "<matplotlib.figure.Figure at 0x118434b38>"
      ]
     },
     "metadata": {},
     "output_type": "display_data"
    }
   ],
   "source": [
    "%matplotlib inline\n",
    "import matplotlib\n",
    "matplotlib.style.use('ggplot')\n",
    "import matplotlib.pyplot as plt\n",
    "\n",
    "emo_counts_normalized.transpose().plot.bar()"
   ]
  },
  {
   "cell_type": "markdown",
   "metadata": {},
   "source": [
    "### Plot summary\n",
    "* Clinton seems to use words associated with trust, anticipation, and surprise more\n",
    "* Trump has a lead in words expressing disgust\n",
    "* Other values are a bit more even. \n",
    "\n",
    "### Explore differences in tweet source in Trump's tweets, \n",
    "* Doing something similar to the study we explored in the first lecture."
   ]
  },
  {
   "cell_type": "code",
   "execution_count": 36,
   "metadata": {},
   "outputs": [
    {
     "data": {
      "text/html": [
       "<div>\n",
       "<style>\n",
       "    .dataframe thead tr:only-child th {\n",
       "        text-align: right;\n",
       "    }\n",
       "\n",
       "    .dataframe thead th {\n",
       "        text-align: left;\n",
       "    }\n",
       "\n",
       "    .dataframe tbody tr th {\n",
       "        vertical-align: top;\n",
       "    }\n",
       "</style>\n",
       "<table border=\"1\" class=\"dataframe\">\n",
       "  <thead>\n",
       "    <tr style=\"text-align: right;\">\n",
       "      <th></th>\n",
       "      <th>sadness</th>\n",
       "      <th>anticipation</th>\n",
       "      <th>anger</th>\n",
       "      <th>joy</th>\n",
       "      <th>disgust</th>\n",
       "      <th>surprise</th>\n",
       "      <th>fear</th>\n",
       "      <th>trust</th>\n",
       "    </tr>\n",
       "    <tr>\n",
       "      <th>source</th>\n",
       "      <th></th>\n",
       "      <th></th>\n",
       "      <th></th>\n",
       "      <th></th>\n",
       "      <th></th>\n",
       "      <th></th>\n",
       "      <th></th>\n",
       "      <th></th>\n",
       "    </tr>\n",
       "  </thead>\n",
       "  <tbody>\n",
       "    <tr>\n",
       "      <th>Twitter for Android</th>\n",
       "      <td>539</td>\n",
       "      <td>562</td>\n",
       "      <td>570</td>\n",
       "      <td>479</td>\n",
       "      <td>366</td>\n",
       "      <td>453</td>\n",
       "      <td>504</td>\n",
       "      <td>828</td>\n",
       "    </tr>\n",
       "    <tr>\n",
       "      <th>Twitter for iPhone</th>\n",
       "      <td>247</td>\n",
       "      <td>346</td>\n",
       "      <td>251</td>\n",
       "      <td>292</td>\n",
       "      <td>139</td>\n",
       "      <td>222</td>\n",
       "      <td>231</td>\n",
       "      <td>530</td>\n",
       "    </tr>\n",
       "  </tbody>\n",
       "</table>\n",
       "</div>"
      ],
      "text/plain": [
       "                     sadness  anticipation  anger  joy  disgust  surprise  \\\n",
       "source                                                                      \n",
       "Twitter for Android      539           562    570  479      366       453   \n",
       "Twitter for iPhone       247           346    251  292      139       222   \n",
       "\n",
       "                     fear  trust  \n",
       "source                            \n",
       "Twitter for Android   504    828  \n",
       "Twitter for iPhone    231    530  "
      ]
     },
     "execution_count": 36,
     "metadata": {},
     "output_type": "execute_result"
    }
   ],
   "source": [
    "trump = df[df['user'] == \"realDonaldTrump\"]\n",
    "trump = trump[trump['source'].isin([\"Twitter for Android\", \"Twitter for iPhone\"])]\n",
    "source_group = trump.groupby(\"source\")\n",
    "emo_aggs = source_group[emotions].agg(\"sum\")\n",
    "emo_aggs"
   ]
  },
  {
   "cell_type": "code",
   "execution_count": 37,
   "metadata": {},
   "outputs": [
    {
     "name": "stdout",
     "output_type": "stream",
     "text": [
      "Android word_count: 28878\n",
      "iPhone word count: 18601\n"
     ]
    }
   ],
   "source": [
    "android_count = 0\n",
    "\n",
    "for text in trump[trump['source'] == \"Twitter for Android\"]['text']:\n",
    "    android_count += len(tt.tokenize(text))\n",
    "    \n",
    "iphone_count = 0\n",
    "\n",
    "for text in trump[trump['source'] == \"Twitter for iPhone\"]['text']:\n",
    "    iphone_count += len(tt.tokenize(text))\n",
    "    \n",
    "print(\"Android word_count: \" + str(android_count))\n",
    "print(\"iPhone word count: \" + str(iphone_count))"
   ]
  },
  {
   "cell_type": "code",
   "execution_count": 38,
   "metadata": {},
   "outputs": [
    {
     "data": {
      "text/plain": [
       "<matplotlib.axes._subplots.AxesSubplot at 0x11b852ba8>"
      ]
     },
     "execution_count": 38,
     "metadata": {},
     "output_type": "execute_result"
    },
    {
     "data": {
      "image/png": "[encoded data removed]",
      "text/plain": [
       "<matplotlib.figure.Figure at 0x11b8c4da0>"
      ]
     },
     "metadata": {},
     "output_type": "display_data"
    }
   ],
   "source": [
    "emo_aggs_normalized = emo_aggs.divide([android_count, iphone_count], axis=\"rows\")\n",
    "emo_aggs_normalized.transpose().plot.bar()"
   ]
  },
  {
   "cell_type": "markdown",
   "metadata": {},
   "source": [
    "### Similar to David Robinson's analysis, we can see that\n",
    "* Android user writes significantly more angry tweets than the iPhone user. \n",
    "* This also seems to be the case for anger, disgust, sadness, and fear, as well. "
   ]
  }
 ],
 "metadata": {
  "anaconda-cloud": {},
  "kernelspec": {
   "display_name": "Python 3",
   "language": "python",
   "name": "python3"
  },
  "language_info": {
   "codemirror_mode": {
    "name": "ipython",
    "version": 3
   },
   "file_extension": ".py",
   "mimetype": "text/x-python",
   "name": "python",
   "nbconvert_exporter": "python",
   "pygments_lexer": "ipython3",
   "version": "3.6.1"
  }
 },
 "nbformat": 4,
 "nbformat_minor": 1
}
