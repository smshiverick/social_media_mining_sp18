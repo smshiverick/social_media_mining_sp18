{
 "cells": [
  {
   "cell_type": "markdown",
   "metadata": {},
   "source": [
    "# Social Media Mining: Putting it all Together\n",
    "### Vincent Malic - Spring 2018\n",
    "\n",
    "## Module 6.3. Putting It all Together\n",
    "* Demonstration of the KDD process from start to finish - but in miniature. \n",
    "* Use this notebook to familiarize yourself with how all the steps fit together, \n",
    "* Note: you will do more in-depth research for your final project**.\n",
    "\n",
    "### Basic idea: Research Question \n",
    "* Can we train a model to distinguish Tweets from Android and iPhone on Twitter account?\n",
    "* Hypothesis assumes that language used by Android and iPhone users is different enough (statistically) that we can distinguish them. \n",
    "* Following Robinson's analysis: To detect two distinct writers on the Twitter account separating the signal from noise\n",
    "\n",
    "### Use Tweepy to get 1000 most recent Tweets from realDT's Twitter account. \n",
    "* As I iterate, I am collecting only the Tweet text and Tweet source. "
   ]
  },
  {
   "cell_type": "code",
   "execution_count": 1,
   "metadata": {
    "collapsed": true
   },
   "outputs": [],
   "source": [
    "API_KEY = \"\"\n",
    "API_SECRET = \"\"\n",
    "import tweepy\n",
    "auth = tweepy.AppAuthHandler(API_KEY, API_SECRET)\n",
    "api = tweepy.API(auth, wait_on_rate_limit=True, wait_on_rate_limit_notify=True)\n",
    "\n",
    "c = tweepy.Cursor(api.user_timeline, id=\"realDonaldTrump\")\n",
    "\n",
    "tweet_data = []\n",
    "\n",
    "for tweet in c.items(1000):\n",
    "    tweet_data.append([tweet.text, tweet.source])"
   ]
  },
  {
   "cell_type": "code",
   "execution_count": 2,
   "metadata": {},
   "outputs": [
    {
     "data": {
      "text/plain": [
       "[['RT @WhiteHouse: Merit-based immigration reform will benefit American workers and relieve the strain imposed by our current system on Federa…',\n",
       "  'Twitter for iPhone'],\n",
       " ['RT @VollrathTammie: @realDonaldTrump @FoxNews https://t.co/sERi7Vyh5I',\n",
       "  'Twitter for iPhone']]"
      ]
     },
     "execution_count": 2,
     "metadata": {},
     "output_type": "execute_result"
    }
   ],
   "source": [
    "tweet_data[:2]"
   ]
  },
  {
   "cell_type": "markdown",
   "metadata": {},
   "source": [
    "I'm going to convert the data into a Pandas data frame for ease of data manipulation. "
   ]
  },
  {
   "cell_type": "code",
   "execution_count": 3,
   "metadata": {},
   "outputs": [
    {
     "data": {
      "text/html": [
       "<div>\n",
       "<style>\n",
       "    .dataframe thead tr:only-child th {\n",
       "        text-align: right;\n",
       "    }\n",
       "\n",
       "    .dataframe thead th {\n",
       "        text-align: left;\n",
       "    }\n",
       "\n",
       "    .dataframe tbody tr th {\n",
       "        vertical-align: top;\n",
       "    }\n",
       "</style>\n",
       "<table border=\"1\" class=\"dataframe\">\n",
       "  <thead>\n",
       "    <tr style=\"text-align: right;\">\n",
       "      <th></th>\n",
       "      <th>text</th>\n",
       "      <th>source</th>\n",
       "    </tr>\n",
       "  </thead>\n",
       "  <tbody>\n",
       "    <tr>\n",
       "      <th>0</th>\n",
       "      <td>RT @WhiteHouse: Merit-based immigration reform...</td>\n",
       "      <td>Twitter for iPhone</td>\n",
       "    </tr>\n",
       "    <tr>\n",
       "      <th>1</th>\n",
       "      <td>RT @VollrathTammie: @realDonaldTrump @FoxNews ...</td>\n",
       "      <td>Twitter for iPhone</td>\n",
       "    </tr>\n",
       "    <tr>\n",
       "      <th>2</th>\n",
       "      <td>RT @FoxNews: President @realDonaldTrump on Dem...</td>\n",
       "      <td>Twitter for iPhone</td>\n",
       "    </tr>\n",
       "    <tr>\n",
       "      <th>3</th>\n",
       "      <td>RT @FoxNews: President @realDonaldTrump on DAC...</td>\n",
       "      <td>Twitter for iPhone</td>\n",
       "    </tr>\n",
       "    <tr>\n",
       "      <th>4</th>\n",
       "      <td>I will be interviewed by @JudgeJeanine on @Fox...</td>\n",
       "      <td>Twitter for iPhone</td>\n",
       "    </tr>\n",
       "  </tbody>\n",
       "</table>\n",
       "</div>"
      ],
      "text/plain": [
       "                                                text              source\n",
       "0  RT @WhiteHouse: Merit-based immigration reform...  Twitter for iPhone\n",
       "1  RT @VollrathTammie: @realDonaldTrump @FoxNews ...  Twitter for iPhone\n",
       "2  RT @FoxNews: President @realDonaldTrump on Dem...  Twitter for iPhone\n",
       "3  RT @FoxNews: President @realDonaldTrump on DAC...  Twitter for iPhone\n",
       "4  I will be interviewed by @JudgeJeanine on @Fox...  Twitter for iPhone"
      ]
     },
     "execution_count": 3,
     "metadata": {},
     "output_type": "execute_result"
    }
   ],
   "source": [
    "import pandas as pd\n",
    "\n",
    "df = pd.DataFrame(tweet_data, columns=[\"text\", \"source\"])\n",
    "df.head()"
   ]
  },
  {
   "cell_type": "markdown",
   "metadata": {},
   "source": [
    "## Use ``groupby`` feature to get aggregate statistics about Tweet source."
   ]
  },
  {
   "cell_type": "code",
   "execution_count": 4,
   "metadata": {
    "collapsed": true
   },
   "outputs": [],
   "source": [
    "source_group = df.groupby(\"source\")"
   ]
  },
  {
   "cell_type": "code",
   "execution_count": 5,
   "metadata": {},
   "outputs": [
    {
     "data": {
      "text/plain": [
       "source\n",
       "Media Studio           44\n",
       "Twitter Web Client     33\n",
       "Twitter for iPad       29\n",
       "Twitter for iPhone    894\n",
       "Name: source, dtype: int64"
      ]
     },
     "execution_count": 5,
     "metadata": {},
     "output_type": "execute_result"
    }
   ],
   "source": [
    "source_group[\"source\"].agg(\"count\")"
   ]
  },
  {
   "cell_type": "markdown",
   "metadata": {},
   "source": [
    "### Only want  Tweets from Media Studio or iPhone \n",
    "* Filter out everything not from either of these sources "
   ]
  },
  {
   "cell_type": "code",
   "execution_count": 6,
   "metadata": {
    "collapsed": true
   },
   "outputs": [],
   "source": [
    "df = df[df[\"source\"] != \"Media Studio\"]\n",
    "df = df[df[\"source\"] != \"Twitter for IPad\"]"
   ]
  },
  {
   "cell_type": "code",
   "execution_count": 7,
   "metadata": {
    "collapsed": true
   },
   "outputs": [],
   "source": [
    "df = df[df['source'].isin([\"Twitter Web Client\", \"Twitter for iPhone\"])]"
   ]
  },
  {
   "cell_type": "code",
   "execution_count": 8,
   "metadata": {},
   "outputs": [
    {
     "data": {
      "text/plain": [
       "(927, 2)"
      ]
     },
     "execution_count": 8,
     "metadata": {},
     "output_type": "execute_result"
    }
   ],
   "source": [
    "df.shape"
   ]
  },
  {
   "cell_type": "code",
   "execution_count": 9,
   "metadata": {},
   "outputs": [
    {
     "data": {
      "text/html": [
       "<div>\n",
       "<style>\n",
       "    .dataframe thead tr:only-child th {\n",
       "        text-align: right;\n",
       "    }\n",
       "\n",
       "    .dataframe thead th {\n",
       "        text-align: left;\n",
       "    }\n",
       "\n",
       "    .dataframe tbody tr th {\n",
       "        vertical-align: top;\n",
       "    }\n",
       "</style>\n",
       "<table border=\"1\" class=\"dataframe\">\n",
       "  <thead>\n",
       "    <tr style=\"text-align: right;\">\n",
       "      <th></th>\n",
       "      <th>text</th>\n",
       "      <th>source</th>\n",
       "    </tr>\n",
       "  </thead>\n",
       "  <tbody>\n",
       "    <tr>\n",
       "      <th>0</th>\n",
       "      <td>RT @WhiteHouse: Merit-based immigration reform...</td>\n",
       "      <td>Twitter for iPhone</td>\n",
       "    </tr>\n",
       "    <tr>\n",
       "      <th>1</th>\n",
       "      <td>RT @VollrathTammie: @realDonaldTrump @FoxNews ...</td>\n",
       "      <td>Twitter for iPhone</td>\n",
       "    </tr>\n",
       "    <tr>\n",
       "      <th>2</th>\n",
       "      <td>RT @FoxNews: President @realDonaldTrump on Dem...</td>\n",
       "      <td>Twitter for iPhone</td>\n",
       "    </tr>\n",
       "    <tr>\n",
       "      <th>3</th>\n",
       "      <td>RT @FoxNews: President @realDonaldTrump on DAC...</td>\n",
       "      <td>Twitter for iPhone</td>\n",
       "    </tr>\n",
       "    <tr>\n",
       "      <th>4</th>\n",
       "      <td>I will be interviewed by @JudgeJeanine on @Fox...</td>\n",
       "      <td>Twitter for iPhone</td>\n",
       "    </tr>\n",
       "  </tbody>\n",
       "</table>\n",
       "</div>"
      ],
      "text/plain": [
       "                                                text              source\n",
       "0  RT @WhiteHouse: Merit-based immigration reform...  Twitter for iPhone\n",
       "1  RT @VollrathTammie: @realDonaldTrump @FoxNews ...  Twitter for iPhone\n",
       "2  RT @FoxNews: President @realDonaldTrump on Dem...  Twitter for iPhone\n",
       "3  RT @FoxNews: President @realDonaldTrump on DAC...  Twitter for iPhone\n",
       "4  I will be interviewed by @JudgeJeanine on @Fox...  Twitter for iPhone"
      ]
     },
     "execution_count": 9,
     "metadata": {},
     "output_type": "execute_result"
    }
   ],
   "source": [
    "df.head()"
   ]
  },
  {
   "cell_type": "markdown",
   "metadata": {},
   "source": [
    "### Of the original 1000 datapoints, 925 remain.\n",
    "\n",
    "## Use an SVM\n",
    "* Represent each Tweet using the vector space model, weighted by TF-IDF.\n",
    "* Sklearn does the heavy lifting for us."
   ]
  },
  {
   "cell_type": "code",
   "execution_count": 10,
   "metadata": {
    "collapsed": true
   },
   "outputs": [],
   "source": [
    "from sklearn.feature_extraction.text import TfidfVectorizer"
   ]
  },
  {
   "cell_type": "code",
   "execution_count": 11,
   "metadata": {
    "collapsed": true
   },
   "outputs": [],
   "source": [
    "tv = TfidfVectorizer()"
   ]
  },
  {
   "cell_type": "code",
   "execution_count": 12,
   "metadata": {
    "collapsed": true
   },
   "outputs": [],
   "source": [
    "X = tv.fit_transform(df['text'])"
   ]
  },
  {
   "cell_type": "code",
   "execution_count": 13,
   "metadata": {},
   "outputs": [
    {
     "data": {
      "text/plain": [
       "(927, 3897)"
      ]
     },
     "execution_count": 13,
     "metadata": {},
     "output_type": "execute_result"
    }
   ],
   "source": [
    "X.shape"
   ]
  },
  {
   "cell_type": "markdown",
   "metadata": {},
   "source": [
    "### There are 3897 unique words in this dataset. \n",
    "* Each Tweet is now represented by a vector with 3439 elements in it. \n",
    "* Each element is a word, represented by its TF-IDF weight.\n",
    "\n",
    "## Create Test-Train split \n",
    "* X is a sparse vector, which is valid input for any sklearn function. \n",
    "* Create a train-test split."
   ]
  },
  {
   "cell_type": "code",
   "execution_count": 14,
   "metadata": {
    "collapsed": true
   },
   "outputs": [],
   "source": [
    "y = df['source']\n",
    "from sklearn.model_selection import train_test_split\n",
    "\n",
    "X_train, X_test, y_train, y_test = train_test_split(X, y, test_size=0.2, random_state=3057)"
   ]
  },
  {
   "cell_type": "code",
   "execution_count": 15,
   "metadata": {},
   "outputs": [
    {
     "data": {
      "text/plain": [
       "(741, 3897)"
      ]
     },
     "execution_count": 15,
     "metadata": {},
     "output_type": "execute_result"
    }
   ],
   "source": [
    "X_train.shape"
   ]
  },
  {
   "cell_type": "code",
   "execution_count": 16,
   "metadata": {},
   "outputs": [
    {
     "data": {
      "text/plain": [
       "(186, 3897)"
      ]
     },
     "execution_count": 16,
     "metadata": {},
     "output_type": "execute_result"
    }
   ],
   "source": [
    "X_test.shape"
   ]
  },
  {
   "cell_type": "markdown",
   "metadata": {},
   "source": [
    "## Fit model to Training set and evaluate model performance\n",
    "* Use sklearn fit() and accuracy_score() methods"
   ]
  },
  {
   "cell_type": "code",
   "execution_count": 17,
   "metadata": {},
   "outputs": [
    {
     "name": "stdout",
     "output_type": "stream",
     "text": [
      "0.94623655914\n"
     ]
    }
   ],
   "source": [
    "from sklearn.svm import SVC\n",
    "clf = SVC(kernel=\"linear\")\n",
    "clf.fit(X_train, y_train)\n",
    "y_pred = clf.predict(X_test)\n",
    "\n",
    "from sklearn.metrics import accuracy_score, confusion_matrix\n",
    "\n",
    "print(accuracy_score(y_test, y_pred))"
   ]
  },
  {
   "cell_type": "markdown",
   "metadata": {},
   "source": [
    "### Model accuracy is 94.62%\n",
    "* A random baseline would attain an accuracy of 50%. "
   ]
  },
  {
   "cell_type": "code",
   "execution_count": 18,
   "metadata": {},
   "outputs": [
    {
     "name": "stdout",
     "output_type": "stream",
     "text": [
      "Counter({'Twitter for iPhone': 176, 'Twitter Web Client': 10})\n"
     ]
    }
   ],
   "source": [
    "from collections import Counter\n",
    "print(Counter(y_test))"
   ]
  },
  {
   "cell_type": "code",
   "execution_count": 19,
   "metadata": {},
   "outputs": [
    {
     "data": {
      "text/plain": [
       "0.5271739130434783"
      ]
     },
     "execution_count": 19,
     "metadata": {},
     "output_type": "execute_result"
    }
   ],
   "source": [
    "97/(97+87)"
   ]
  },
  {
   "cell_type": "markdown",
   "metadata": {},
   "source": [
    "### Dummy classifier that guesses majority label (iPhone) would get accuracy of 52%. \n",
    "* We can be quite confident that the Android and iPhone Tweets are written by different people, \n",
    "* as the nature of the Tweets are different enough such that an algorithm can divide them with 82% accuracy."
   ]
  },
  {
   "cell_type": "code",
   "execution_count": 20,
   "metadata": {},
   "outputs": [
    {
     "data": {
      "text/plain": [
       "array([[  0,  10],\n",
       "       [  0, 176]])"
      ]
     },
     "execution_count": 20,
     "metadata": {},
     "output_type": "execute_result"
    }
   ],
   "source": [
    "confusion_matrix(y_test, y_pred)"
   ]
  },
  {
   "cell_type": "markdown",
   "metadata": {},
   "source": [
    "Of the Android tweets, 84 were classified correctly and 3 incorrectly.\n",
    "\n",
    "Of the iPhone tweets, 85 were classified correctly and 12 incorrectly.\n",
    "\n",
    "# Important Note\n",
    "* This shows you the KDD process from start to finish: \n",
    "* idea (research question), data collection, data transformation, fitting, evaluating, and interpreting the model. \n",
    "* Provides a blueprint for how to move forward with your final project.\n",
    "\n",
    "## Final project will be much more extensive: \n",
    "1. Your final project should be **grounded by relevant background research**. Provide context to what you are trying to do and position your research with respect to other studies. \n",
    "2. **Include more features for powerful model**.\n",
    "3. **Try more than one model** as appropriate for your data; include other models (e.g., Naive Bayes and Logistic Regression) to attain better accuracies. \n",
    "4. **Work on optimizing hyperparameters** (e.g., hyperparameter C). \n",
    "5. **Interpret and explain what your results mean**. If you get a model that works well, explain why you believe this is the case and what it means for your domain of interest. If you are unable to get a model that works well, you should try to find out why things didn't work out."
   ]
  }
 ],
 "metadata": {
  "anaconda-cloud": {},
  "kernelspec": {
   "display_name": "Python 3",
   "language": "python",
   "name": "python3"
  },
  "language_info": {
   "codemirror_mode": {
    "name": "ipython",
    "version": 3
   },
   "file_extension": ".py",
   "mimetype": "text/x-python",
   "name": "python",
   "nbconvert_exporter": "python",
   "pygments_lexer": "ipython3",
   "version": "3.6.1"
  }
 },
 "nbformat": 4,
 "nbformat_minor": 1
}
