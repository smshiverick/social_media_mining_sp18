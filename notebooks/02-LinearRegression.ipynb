{
 "cells": [
  {
   "cell_type": "markdown",
   "metadata": {},
   "source": [
    "# Social Media Mining: Linear Regression \n",
    "### Vincent Malic - Spring 2018\n",
    "\n",
    "## Part I. Simple Linear Regression \n",
    "* Only one `independent variable` and one `dependent variable.` \n",
    "* Both variables are continuous real numbers \n",
    "* DV is represented by ``y`` IVs are represented by``x`` \n",
    "\n",
    "### Supervised learning\n",
    "* Goal of data mining and statistical learning is to find patterns in data\n",
    "* Pattern is some `relationship` between IVs and DV \n",
    "* Relationship between ``x`` and ``y`` is represented as linear equation:  \n",
    "\n",
    "$y = \\beta_0 + \\beta_1x$\n",
    "\n",
    "### Regression Coefficients and line of best fit\n",
    "* $\\beta_0$ is the intercept \n",
    "* $\\beta_1$ is the slope\n",
    "* Equation estimates the coefficients to provide a line that best fits the data. "
   ]
  },
  {
   "cell_type": "markdown",
   "metadata": {},
   "source": [
    "## 1.1 Importing Libraries\n",
    "* Numpy is really versatile and we don't know what tools we'll need from it. \n",
    "* Import the whole library using the alias ``np``.\n",
    "* Matplotlib used for visualization"
   ]
  },
  {
   "cell_type": "code",
   "execution_count": 1,
   "metadata": {
    "collapsed": true
   },
   "outputs": [],
   "source": [
    "import numpy as np\n",
    "\n",
    "%matplotlib inline\n",
    "\n",
    "import matplotlib.pyplot as plt\n",
    "plt.style.use(\"ggplot\")\n",
    "plt.ioff()"
   ]
  },
  {
   "cell_type": "markdown",
   "metadata": {},
   "source": [
    "## 1.2 Import Parts of a Library\n",
    "* Use ``from`` keyword and name of library or sublibrary method is in.\n",
    "* Follow with ``import`` and the name of the method you want. \n",
    "* The method gets imported into the environment with its name only. \n",
    "* NOTE: **don't have to use dot notation** with this method "
   ]
  },
  {
   "cell_type": "code",
   "execution_count": 2,
   "metadata": {},
   "outputs": [
    {
     "data": {
      "text/plain": [
       "1.0"
      ]
     },
     "execution_count": 2,
     "metadata": {},
     "output_type": "execute_result"
    }
   ],
   "source": [
    "from numpy import round\n",
    "\n",
    "x = 0.7\n",
    "round(x) "
   ]
  },
  {
   "cell_type": "markdown",
   "metadata": {},
   "source": [
    "## 1.3 Import LinearRegression from Scikit-learn\n",
    "Libraries are organized hierarchically and have \"sub-libraries\":\n",
    "* Scikit-learn sublibrary ``linear_model`` contains all its linear models \n",
    "* From ``sklearn`` sublibrary ``linear_model``, import the method ``LinearRegression``"
   ]
  },
  {
   "cell_type": "code",
   "execution_count": 3,
   "metadata": {
    "collapsed": true
   },
   "outputs": [],
   "source": [
    "from sklearn.linear_model import LinearRegression "
   ]
  },
  {
   "cell_type": "markdown",
   "metadata": {},
   "source": [
    "## Step 2. Create Synthetic Dataset\n",
    "* Synthetic dataset is artifical set of features we artificially create. \n",
    "* Can specify exact relationship between independent and dependent variables. \n",
    "* Determine how well the model estimates data, compared to true relationship. \n",
    "* NOTE: With real world data, we won't know true relationship between IV(s) and DV. \n",
    "\n",
    "## 2.1 Set Random Seed\n",
    "* To generate *same* random numbers each time, by designating the seed that numpy builds the random numbers from. \n",
    "* Non-random random numbers - somewhat of a contradiction in terms. \n",
    "* When developing your code, you can also set a seed so during development you're getting consistent results. \n",
    "* When done developing, run code without a seed to see if your model holds under truly random conditions.\n",
    "\n",
    "### Random Seed method \n",
    "* Takes any number as its argument, just pick one (e.g., \"432\"). \n",
    "* Random numbers generated from the same seed will be the same, no matter who runs it and on what computer its run. "
   ]
  },
  {
   "cell_type": "code",
   "execution_count": 4,
   "metadata": {
    "collapsed": true
   },
   "outputs": [],
   "source": [
    "np.random.seed(3057) "
   ]
  },
  {
   "cell_type": "markdown",
   "metadata": {},
   "source": [
    "## Heights\n",
    "First, let's generate the heights - the independent variable, the variable we can measure and observe. \n",
    "\n",
    "Numpy's ``normal`` method takes 3 arguments: the mean, the standard deviation, and the amount of samples. Let's say our aliens have a mean weight of 113 centimeters and the standard deviation - the spread around the mean - is 20. We'll generate 1000 samples."
   ]
  },
  {
   "cell_type": "code",
   "execution_count": 5,
   "metadata": {
    "collapsed": true
   },
   "outputs": [],
   "source": [
    "heights = np.random.normal(113, 20, 1000)"
   ]
  },
  {
   "cell_type": "markdown",
   "metadata": {},
   "source": [
    "### Data Type: Numpy Array\n",
    "\n",
    "The return value of the numpy function ``normal`` is a new datatype: a numpy array."
   ]
  },
  {
   "cell_type": "code",
   "execution_count": 6,
   "metadata": {},
   "outputs": [
    {
     "data": {
      "text/plain": [
       "numpy.ndarray"
      ]
     },
     "execution_count": 6,
     "metadata": {},
     "output_type": "execute_result"
    }
   ],
   "source": [
    "type(heights)"
   ]
  },
  {
   "cell_type": "markdown",
   "metadata": {},
   "source": [
    "A numpy array is simply a special datatype representing a sequence of numbers. It's not super different from a list; one major difference is that behind-the-scenes numpy is storing the numbers in a way that makes it easier to perform mathematical calculations. Another advantage of numpy arrays is that you can perform *element-wise operations* with them. \n",
    "\n",
    "For example, say you have two arrays $a$ and $b$ and you want a third array that contains the sum of each element from $a$ and $b$. With numpy arrays, you can just add them together and get that result. This is much harder to do with standard python lists."
   ]
  },
  {
   "cell_type": "code",
   "execution_count": 7,
   "metadata": {},
   "outputs": [
    {
     "data": {
      "text/plain": [
       "array([5, 7, 9])"
      ]
     },
     "execution_count": 7,
     "metadata": {},
     "output_type": "execute_result"
    }
   ],
   "source": [
    "a = np.array([1, 2, 3])\n",
    "b = np.array([4, 5, 6])\n",
    "a + b"
   ]
  },
  {
   "cell_type": "markdown",
   "metadata": {},
   "source": [
    "Let's take a peek into the heights that were generated."
   ]
  },
  {
   "cell_type": "code",
   "execution_count": 8,
   "metadata": {},
   "outputs": [
    {
     "data": {
      "text/plain": [
       "array([ 148.26301872,   91.34628367,   98.86534678,  121.27570413,\n",
       "        132.90888021,  110.90806279,   97.15524614,  101.22194439,\n",
       "        117.06305949,   89.42646663,  109.1472841 ,  117.23600416,\n",
       "        110.75196824,   92.74526348,   81.04960924,   90.22069866,\n",
       "         83.11044862,  114.01626913,  148.77695432,  109.8186788 ,\n",
       "         85.80658636,  109.60275771,  111.82411747,  103.86530328,\n",
       "        122.79091825])"
      ]
     },
     "execution_count": 8,
     "metadata": {},
     "output_type": "execute_result"
    }
   ],
   "source": [
    "heights[:25]"
   ]
  },
  {
   "cell_type": "markdown",
   "metadata": {},
   "source": [
    "As you can see, the heights are clustered around 113, but there's a spread. Some aliens are taller, some are shorter. \n",
    "\n",
    "# Weights\n",
    "\n",
    "Now, let's generate the weights. Here's where the synethic part comes in: we're going to generate the heights directly from the weights, using a linear equation: $\\text{weight} = 25.39 + .34 \\cdot \\text{height} + \\epsilon$. I've just made these numbers up. $25.39$ will be the intercept, $\\beta_0$, and $.34$ will be the slope, $\\beta_1$. \n",
    "\n",
    "The $\\epsilon$ represents the natural variation that occurs when a relationship isn't *exactly* linear. After all, there may be short aliens that are heavier and tall aliens that are lighter. Such aliens deviate from the linear trend, but the trend still holds. These deviations are also known as *noise*"
   ]
  },
  {
   "cell_type": "code",
   "execution_count": 9,
   "metadata": {},
   "outputs": [
    {
     "data": {
      "text/plain": [
       "array([ 81.17100334,  48.97108237,  62.2181163 ,  66.26756442,\n",
       "        75.61767378,  58.8070338 ,  64.23941426,  62.1639173 ,\n",
       "        65.0945943 ,  59.43164309,  70.72328823,  65.87809307,\n",
       "        63.63342536,  62.03837866,  45.56990758,  48.74590021,\n",
       "        58.55908425,  58.97574389,  81.06447808,  59.06207191,\n",
       "        60.00121301,  62.73816287,  67.45546926,  60.07201005,  60.42053209])"
      ]
     },
     "execution_count": 9,
     "metadata": {},
     "output_type": "execute_result"
    }
   ],
   "source": [
    "noise = np.random.normal(0, 5, 1000) # Introduce some noise into the dependent variable. Noise is a numpy array of length 1000. \n",
    "weights = 25.39 + .34 * heights + noise # Heights are generated from weights via a linear function. Noise is added.\n",
    "weights[:25] # Peeking into heights"
   ]
  },
  {
   "cell_type": "markdown",
   "metadata": {},
   "source": [
    "The first alien is 148.26 cm tall and weighs 81.17 kg. The second alien is 91.35 cm tall and weighs 48.97 kg. We can visualize all the heights and weights by plotting them."
   ]
  },
  {
   "cell_type": "code",
   "execution_count": 20,
   "metadata": {},
   "outputs": [
    {
     "data": {
      "image/png": "[encoded data removed]",
      "text/plain": [
       "<matplotlib.figure.Figure at 0x112486fd0>"
      ]
     },
     "execution_count": 20,
     "metadata": {},
     "output_type": "execute_result"
    }
   ],
   "source": [
    "fig, ax = plt.subplots()\n",
    "ax.set_xlabel(\"Height,cm\")\n",
    "ax.set_ylabel(\"Weight, kg\")\n",
    "ax.scatter(heights, weights, color=\"blue\")\n",
    "fig"
   ]
  },
  {
   "cell_type": "markdown",
   "metadata": {
    "collapsed": true
   },
   "source": [
    "There's a linear relationship here, but because of the noise the points are not *exactly* in a line. Now let's pretend we don't know about that function we use to generate heights from weights. We just have a list of heights and a list of weights - no equation or model to relate the two. Now, we'll use linear regression to find a good *fit* for the data.\n",
    "\n",
    "# Initializing an Empty Linear Regresson Model\n",
    "\n",
    "First, we have to make an *instance* of the model. The scikit-learn method ``LinearRegression`` is not a model, instead, it's a factory for making models. You can imagine a scenario where you might be experimenting with multiple models at the same time. What happens here is we *call the method ``LinearRegression``*, and its return value is a single, empty Linear Regression model. It's \"empty\" because it hasn't been trained yet. We'll save that model in a variable we can refer to."
   ]
  },
  {
   "cell_type": "code",
   "execution_count": 11,
   "metadata": {},
   "outputs": [
    {
     "data": {
      "text/plain": [
       "sklearn.linear_model.base.LinearRegression"
      ]
     },
     "execution_count": 11,
     "metadata": {},
     "output_type": "execute_result"
    }
   ],
   "source": [
    "lr = LinearRegression()\n",
    "type(lr) # lr is an empty linear regression model"
   ]
  },
  {
   "cell_type": "markdown",
   "metadata": {},
   "source": [
    "# Training the Model\n",
    "\n",
    "Now, we have to train the model. The model has a method called ``fit`` that takes, as its arguments, the independent and dependent variables. Remember, for us, the IV is height and the DV is weight. Calling the ``fit`` method with the data as arguments prompts scikit-learn to train the model.\n",
    "\n",
    "One problem we have to deal with here is that Linear Regression models, by their function definition, must take an array of arrays as their arguments. Right now, heights and weights are arrays of numbers."
   ]
  },
  {
   "cell_type": "code",
   "execution_count": 12,
   "metadata": {},
   "outputs": [
    {
     "name": "stdout",
     "output_type": "stream",
     "text": [
      "[ 148.26301872   91.34628367   98.86534678  121.27570413  132.90888021]\n",
      "[ 81.17100334  48.97108237  62.2181163   66.26756442  75.61767378]\n"
     ]
    }
   ],
   "source": [
    "print(heights[:5])\n",
    "print(weights[:5])"
   ]
  },
  {
   "cell_type": "markdown",
   "metadata": {},
   "source": [
    "Here, I'm going to use a numpy method called ``reshape``, which when passed ``(-1, 1)`` as arguments will turn an array of numbers into an array of arrays."
   ]
  },
  {
   "cell_type": "code",
   "execution_count": 13,
   "metadata": {},
   "outputs": [
    {
     "name": "stdout",
     "output_type": "stream",
     "text": [
      "[[ 148.26301872]\n",
      " [  91.34628367]\n",
      " [  98.86534678]\n",
      " [ 121.27570413]\n",
      " [ 132.90888021]]\n",
      "[[ 81.17100334]\n",
      " [ 48.97108237]\n",
      " [ 62.2181163 ]\n",
      " [ 66.26756442]\n",
      " [ 75.61767378]]\n"
     ]
    }
   ],
   "source": [
    "heights = heights.reshape(-1, 1)\n",
    "weights = weights.reshape(-1, 1)\n",
    "print(heights[:5])\n",
    "print(weights[:5])"
   ]
  },
  {
   "cell_type": "markdown",
   "metadata": {},
   "source": [
    "The data is the same, but now each datapoint is inside its own array of length 1. Now we are ready to call the ``fit`` function on the model. This trains the model. The first argument is the independent variable, the second one is the dependent variable we're trying to predict. "
   ]
  },
  {
   "cell_type": "code",
   "execution_count": 14,
   "metadata": {},
   "outputs": [
    {
     "data": {
      "text/plain": [
       "LinearRegression(copy_X=True, fit_intercept=True, n_jobs=1, normalize=False)"
      ]
     },
     "execution_count": 14,
     "metadata": {},
     "output_type": "execute_result"
    }
   ],
   "source": [
    "lr.fit(heights, weights)"
   ]
  },
  {
   "cell_type": "markdown",
   "metadata": {},
   "source": [
    "That's it! The model is now trained. Scikit-learn did all the math behind the scenes and found the best-fit linear model. Now we're interested in seeing the results. Remember, all lines are described in terms of their slope and intercept - the coefficients of the equation. They now exist, in the ``lr`` regression model, we just have to pull them out."
   ]
  },
  {
   "cell_type": "markdown",
   "metadata": {},
   "source": [
    "# Getting the Coefficients\n",
    "\n",
    "Once you have called the ``fit`` function, the results are stored in the model: in our case, they are stored in the variable ``lr``, which represents the model we made. The intercept is stored in the model in an attribute called ``intercept_``. Like with methods, we use dot notation to access attributes."
   ]
  },
  {
   "cell_type": "code",
   "execution_count": 15,
   "metadata": {},
   "outputs": [
    {
     "name": "stdout",
     "output_type": "stream",
     "text": [
      "[ 25.1977965]\n"
     ]
    }
   ],
   "source": [
    "print(lr.intercept_)"
   ]
  },
  {
   "cell_type": "markdown",
   "metadata": {},
   "source": [
    "The coefficients are stored in an attribute in the Linear Regression model called ``coef_``."
   ]
  },
  {
   "cell_type": "code",
   "execution_count": 16,
   "metadata": {},
   "outputs": [
    {
     "name": "stdout",
     "output_type": "stream",
     "text": [
      "[[ 0.34268353]]\n"
     ]
    }
   ],
   "source": [
    "print(lr.coef_)"
   ]
  },
  {
   "cell_type": "markdown",
   "metadata": {},
   "source": [
    "How well did this Linear Regression model do? Remember, we generated the heights artificially from the formula $\\text{weight} = 25.39 + 0.34 \\cdot \\text{height} + \\epsilon$. In other words, the coefficient $\\beta_0 = 25.39$ and the coefficient $\\beta_1 = 0.34$. Our Linear Regression model, *not knowing what the generating function was*, estimated $\\hat{\\beta_0} = 25.20$ and $\\hat{\\beta_1} = 0.3427$. Not bad at all!\n",
    "\n",
    "We can visualize the model itself by drawing the line on the plot of the data. Remember, the model is simply estimates of the coefficients, which in turn are simply the slope and intercept of a specific line. Therefore, this line can be drawn. "
   ]
  },
  {
   "cell_type": "code",
   "execution_count": 21,
   "metadata": {},
   "outputs": [
    {
     "data": {
      "image/png": "[encoded data removed]",
      "text/plain": [
       "<matplotlib.figure.Figure at 0x112486fd0>"
      ]
     },
     "execution_count": 21,
     "metadata": {},
     "output_type": "execute_result"
    }
   ],
   "source": [
    "fig.clf()\n",
    "ax = fig.add_subplot(111)\n",
    "ax.set_xlabel(\"Heights,cm\")\n",
    "ax.set_ylabel(\"Weights,kg\")\n",
    "ax.scatter(heights, weights, color=\"blue\")\n",
    "xmin, xmax = ax.get_xlim()\n",
    "ax.plot([xmin, xmax], [lr.predict(xmin)[0][0], lr.predict(xmax)[0][0]], linewidth=3, color=\"red\")\n",
    "ax.set_xlim([xmin, xmax])\n",
    "fig"
   ]
  },
  {
   "cell_type": "markdown",
   "metadata": {},
   "source": [
    "The red line is a visualization of the model found by Linear Regression: the line that best fits the data. This is simulated data, but like real-world data, in this situation very few points lie *exactly* on the models line. However, scikit-learn has found the best fit. \n",
    "\n",
    "# Predicting New, Unseen Data with Our Model\n",
    "\n",
    "Returning to our alien, scale-crisis scenario: now we have a model. We have found a pattern in the data - in the list of heights and weights. That pattern is a linear relationship between heights and weights. Know a height, and you have a reasonable prediction of a weight. \n",
    "\n",
    "Someone new comes in, and the doctor needs to know their weight. But all the scales are broken. With our model, however, we can come up with a decent estimate of the weight. \n",
    "\n",
    "Once you have trained your model using the ``fit`` method, you'll be able to use a new method on the classifier called ``predict``. If you provide this method with the independent variable, it will output the model's estimate of the dependent variable.\n",
    "\n",
    "Let's say an alien comes in and it is 102 cm tall. Using our model, we estimate its weight. "
   ]
  },
  {
   "cell_type": "code",
   "execution_count": 18,
   "metadata": {},
   "outputs": [
    {
     "name": "stdout",
     "output_type": "stream",
     "text": [
      "[[ 60.15151699]]\n"
     ]
    }
   ],
   "source": [
    "estimated_weight = lr.predict(102)\n",
    "print(estimated_weight)"
   ]
  },
  {
   "cell_type": "markdown",
   "metadata": {},
   "source": [
    "The ``predict`` method can handle a list of heights. If 5 aliens come in and we need to estimate their weights:"
   ]
  },
  {
   "cell_type": "code",
   "execution_count": 19,
   "metadata": {
    "scrolled": true
   },
   "outputs": [
    {
     "data": {
      "text/plain": [
       "array([[ 60.15151699],\n",
       "       [ 76.94301017],\n",
       "       [ 56.72468165],\n",
       "       [ 39.93318847]])"
      ]
     },
     "execution_count": 19,
     "metadata": {},
     "output_type": "execute_result"
    }
   ],
   "source": [
    "estimated_weights = lr.predict([[102], [151], [92], [43]])\n",
    "estimated_weights"
   ]
  },
  {
   "cell_type": "markdown",
   "metadata": {},
   "source": [
    "Now you know how to create an empty Linear Regression model, train it, describe the learned model in terms of its coefficients, and make predictions on new, unseen data, using scikit-learn."
   ]
  },
  {
   "cell_type": "markdown",
   "metadata": {},
   "source": [
    "# Multiple Regression\n",
    "* Four predictors variables, features based on synthetic data\n",
    "* Single target outcome variables based on predictors and noise (error)\n",
    "\n",
    "## Step 1. Create the Data"
   ]
  },
  {
   "cell_type": "code",
   "execution_count": 25,
   "metadata": {
    "collapsed": true
   },
   "outputs": [],
   "source": [
    "np.random.seed(9216)\n",
    "\n",
    "x1 = np.random.normal(5, 10, 1000)\n",
    "x2 = np.random.normal(-2.45, 4, 1000)\n",
    "x3 = np.random.normal(57.8, 14, 1000)\n",
    "x4 = np.random.normal(31.4, 20, 1000)\n",
    "\n",
    "y = 10 + 0.5*x1 - 0.7*x2 + 12*x3 + 4.2*x4\n",
    "\n",
    "noise = np.random.normal(0, 10, 1000)\n",
    "\n",
    "y = y + noise"
   ]
  },
  {
   "cell_type": "code",
   "execution_count": 26,
   "metadata": {},
   "outputs": [
    {
     "name": "stdout",
     "output_type": "stream",
     "text": [
      "-3.81914859115\n",
      "-0.889918726856\n",
      "53.6680138441\n",
      "38.813064092\n"
     ]
    }
   ],
   "source": [
    "print(x1[0])\n",
    "print(x2[0])\n",
    "print(x3[0])\n",
    "print(x4[0])"
   ]
  },
  {
   "cell_type": "code",
   "execution_count": 33,
   "metadata": {},
   "outputs": [
    {
     "data": {
      "text/plain": [
       "810.42736888447678"
      ]
     },
     "execution_count": 33,
     "metadata": {},
     "output_type": "execute_result"
    }
   ],
   "source": [
    "y[0]"
   ]
  },
  {
   "cell_type": "markdown",
   "metadata": {},
   "source": [
    "## Step 2. Combine features into array\n",
    "* First, need to create lists of lists\n",
    "* Then, need to transpose the matrix, so features are in columns"
   ]
  },
  {
   "cell_type": "code",
   "execution_count": 34,
   "metadata": {},
   "outputs": [
    {
     "data": {
      "text/plain": [
       "sklearn.linear_model.base.LinearRegression"
      ]
     },
     "execution_count": 34,
     "metadata": {},
     "output_type": "execute_result"
    }
   ],
   "source": [
    "lr = LinearRegression()\n",
    "type(lr)"
   ]
  },
  {
   "cell_type": "code",
   "execution_count": 35,
   "metadata": {},
   "outputs": [
    {
     "data": {
      "text/plain": [
       "(4, 1000)"
      ]
     },
     "execution_count": 35,
     "metadata": {},
     "output_type": "execute_result"
    }
   ],
   "source": [
    "X = np.array([x1, x2, x3, x4])\n",
    "X.shape"
   ]
  },
  {
   "cell_type": "code",
   "execution_count": 37,
   "metadata": {},
   "outputs": [
    {
     "data": {
      "text/plain": [
       "(1000, 4)"
      ]
     },
     "execution_count": 37,
     "metadata": {},
     "output_type": "execute_result"
    }
   ],
   "source": [
    "X = np.transpose(X)\n",
    "X.shape"
   ]
  },
  {
   "cell_type": "code",
   "execution_count": 38,
   "metadata": {},
   "outputs": [
    {
     "data": {
      "text/plain": [
       "array([[ -3.81914859,  -0.88991873,  53.66801384,  38.81306409],\n",
       "       [  3.21665202,  -5.10366395,  44.51421288,  51.31930515],\n",
       "       [ 13.25139355,  -1.99399843,  63.95832489,  32.65571066],\n",
       "       [  3.34980234,   1.3460251 ,  22.4937569 ,   0.57547326],\n",
       "       [  0.88206081,   1.17477565,  63.10216672,  56.66324692]])"
      ]
     },
     "execution_count": 38,
     "metadata": {},
     "output_type": "execute_result"
    }
   ],
   "source": [
    "X[:5]"
   ]
  },
  {
   "cell_type": "markdown",
   "metadata": {},
   "source": [
    "## Step 3. Fit Model to training data\n",
    "* Obtain the intercept and coefficients of regression equation"
   ]
  },
  {
   "cell_type": "code",
   "execution_count": 40,
   "metadata": {},
   "outputs": [
    {
     "data": {
      "text/plain": [
       "LinearRegression(copy_X=True, fit_intercept=True, n_jobs=1, normalize=False)"
      ]
     },
     "execution_count": 40,
     "metadata": {},
     "output_type": "execute_result"
    }
   ],
   "source": [
    "lr.fit(X, y)"
   ]
  },
  {
   "cell_type": "code",
   "execution_count": 41,
   "metadata": {},
   "outputs": [
    {
     "data": {
      "text/plain": [
       "11.828092118839436"
      ]
     },
     "execution_count": 41,
     "metadata": {},
     "output_type": "execute_result"
    }
   ],
   "source": [
    "lr.intercept_"
   ]
  },
  {
   "cell_type": "code",
   "execution_count": 42,
   "metadata": {},
   "outputs": [
    {
     "data": {
      "text/plain": [
       "array([  0.44653135,  -0.67876566,  11.98323056,   4.18135938])"
      ]
     },
     "execution_count": 42,
     "metadata": {},
     "output_type": "execute_result"
    }
   ],
   "source": [
    "lr.coef_"
   ]
  },
  {
   "cell_type": "markdown",
   "metadata": {},
   "source": [
    "### Look at original function used to generate the data\n",
    "* y = 10 + 0.5*x1 - 0.7*x2 + 12*x3 + 4.2*x4\n",
    "* Compare coefficients obtained in model to given coeffs \n",
    "```\n",
    "Intercept: 10\n",
    "B_1 = 0.5\n",
    "B_2 = 0.7\n",
    "B_3 = 12\n",
    "B_4 = 4.2\n",
    "```\n",
    "\n",
    "### Use predict method to obtain estimated Y-value\n",
    "* Enter set of X-values as input"
   ]
  },
  {
   "cell_type": "code",
   "execution_count": 43,
   "metadata": {},
   "outputs": [
    {
     "name": "stderr",
     "output_type": "stream",
     "text": [
      "//anaconda/lib/python3.6/site-packages/sklearn/utils/validation.py:395: DeprecationWarning: Passing 1d arrays as data is deprecated in 0.17 and will raise ValueError in 0.19. Reshape your data either using X.reshape(-1, 1) if your data has a single feature or X.reshape(1, -1) if it contains a single sample.\n",
      "  DeprecationWarning)\n"
     ]
    },
    {
     "data": {
      "text/plain": [
       "array([ 63.59222134])"
      ]
     },
     "execution_count": 43,
     "metadata": {},
     "output_type": "execute_result"
    }
   ],
   "source": [
    "lr.predict([1,2,3,4])"
   ]
  },
  {
   "cell_type": "code",
   "execution_count": null,
   "metadata": {
    "collapsed": true
   },
   "outputs": [],
   "source": []
  }
 ],
 "metadata": {
  "anaconda-cloud": {},
  "kernelspec": {
   "display_name": "Python 3",
   "language": "python",
   "name": "python3"
  },
  "language_info": {
   "codemirror_mode": {
    "name": "ipython",
    "version": 3
   },
   "file_extension": ".py",
   "mimetype": "text/x-python",
   "name": "python",
   "nbconvert_exporter": "python",
   "pygments_lexer": "ipython3",
   "version": "3.6.1"
  }
 },
 "nbformat": 4,
 "nbformat_minor": 1
}
