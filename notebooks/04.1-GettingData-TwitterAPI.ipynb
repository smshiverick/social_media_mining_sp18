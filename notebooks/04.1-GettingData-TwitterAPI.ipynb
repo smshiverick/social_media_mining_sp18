{
 "cells": [
  {
   "cell_type": "markdown",
   "metadata": {},
   "source": [
    "# Social Media Mining: Twitter API\n",
    "### Vincent Malic - Spring 2018\n",
    "\n",
    "## Part I. Getting Data with Twitter API\n",
    "\n",
    "### 1.1 Create Authorization and Credentials for API\n",
    "* Save API key and API secret in variables\n",
    "* Import Tweepy library\n",
    "* Make \"auth\" object containing credentials to access API\n",
    "* Create \"api\" object using tweepy\n",
    "\n",
    "### Use tweepy `api` method to create instance with three parameters:\n",
    "* auth object\n",
    "* wait_on_rate_limit=True\n",
    "* wait_on_rate_limit_notify=True"
   ]
  },
  {
   "cell_type": "code",
   "execution_count": 1,
   "metadata": {
    "collapsed": true
   },
   "outputs": [],
   "source": [
    "API_KEY = \"\"\n",
    "API_SECRET = \"\""
   ]
  },
  {
   "cell_type": "code",
   "execution_count": 2,
   "metadata": {
    "collapsed": true
   },
   "outputs": [],
   "source": [
    "import tweepy"
   ]
  },
  {
   "cell_type": "code",
   "execution_count": 3,
   "metadata": {
    "collapsed": true
   },
   "outputs": [],
   "source": [
    "auth = tweepy.AppAuthHandler(API_KEY, API_SECRET)\n",
    "api = tweepy.API(auth, wait_on_rate_limit=True, wait_on_rate_limit_notify=True)"
   ]
  },
  {
   "cell_type": "markdown",
   "metadata": {},
   "source": [
    "### Now we are ready to use api to get Twitter data\n",
    "* Use get_user() method, with one argument, name of user to get data from\n",
    "* Will return and object that represents the IUBloomington user\n",
    "* Assign that output to variable called \"user\""
   ]
  },
  {
   "cell_type": "code",
   "execution_count": 4,
   "metadata": {
    "collapsed": true
   },
   "outputs": [],
   "source": [
    "user = api.get_user(\"IUBloomington\")"
   ]
  },
  {
   "cell_type": "markdown",
   "metadata": {},
   "source": [
    "### User object contains a lot of information\n",
    "* Want to look at pieces of the user object: name\n",
    "* Other attributes: `location`, `time_zone`, `friends_count`, `user.followers_count`"
   ]
  },
  {
   "cell_type": "code",
   "execution_count": 5,
   "metadata": {},
   "outputs": [
    {
     "data": {
      "text/plain": [
       "'Indiana University'"
      ]
     },
     "execution_count": 5,
     "metadata": {},
     "output_type": "execute_result"
    }
   ],
   "source": [
    "user.name"
   ]
  },
  {
   "cell_type": "code",
   "execution_count": 6,
   "metadata": {},
   "outputs": [
    {
     "data": {
      "text/plain": [
       "'Bloomington, IN'"
      ]
     },
     "execution_count": 6,
     "metadata": {},
     "output_type": "execute_result"
    }
   ],
   "source": [
    "user.location"
   ]
  },
  {
   "cell_type": "code",
   "execution_count": 7,
   "metadata": {},
   "outputs": [
    {
     "data": {
      "text/plain": [
       "'Eastern Time (US & Canada)'"
      ]
     },
     "execution_count": 7,
     "metadata": {},
     "output_type": "execute_result"
    }
   ],
   "source": [
    "user.time_zone"
   ]
  },
  {
   "cell_type": "code",
   "execution_count": 8,
   "metadata": {},
   "outputs": [
    {
     "data": {
      "text/plain": [
       "631"
      ]
     },
     "execution_count": 8,
     "metadata": {},
     "output_type": "execute_result"
    }
   ],
   "source": [
    "user.friends_count"
   ]
  },
  {
   "cell_type": "code",
   "execution_count": 9,
   "metadata": {},
   "outputs": [
    {
     "data": {
      "text/plain": [
       "210813"
      ]
     },
     "execution_count": 9,
     "metadata": {},
     "output_type": "execute_result"
    }
   ],
   "source": [
    "user.followers_count"
   ]
  },
  {
   "cell_type": "markdown",
   "metadata": {},
   "source": [
    "### Use `dir()` method to find Attributes and Methods?\n",
    "* `dir()` function will print out all attributes and methods available to object\n",
    "* alternately, `created_at` method, to find when the account was created\n",
    "* `user.name` returns a string object of the user's name"
   ]
  },
  {
   "cell_type": "code",
   "execution_count": 10,
   "metadata": {},
   "outputs": [
    {
     "data": {
      "text/plain": [
       "['__class__',\n",
       " '__delattr__',\n",
       " '__dict__',\n",
       " '__dir__',\n",
       " '__doc__',\n",
       " '__eq__',\n",
       " '__format__',\n",
       " '__ge__',\n",
       " '__getattribute__',\n",
       " '__getstate__',\n",
       " '__gt__',\n",
       " '__hash__',\n",
       " '__init__',\n",
       " '__init_subclass__',\n",
       " '__le__',\n",
       " '__lt__',\n",
       " '__module__',\n",
       " '__ne__',\n",
       " '__new__',\n",
       " '__reduce__',\n",
       " '__reduce_ex__',\n",
       " '__repr__',\n",
       " '__setattr__',\n",
       " '__sizeof__',\n",
       " '__str__',\n",
       " '__subclasshook__',\n",
       " '__weakref__',\n",
       " '_api',\n",
       " '_json',\n",
       " 'contributors_enabled',\n",
       " 'created_at',\n",
       " 'default_profile',\n",
       " 'default_profile_image',\n",
       " 'description',\n",
       " 'entities',\n",
       " 'favourites_count',\n",
       " 'follow',\n",
       " 'follow_request_sent',\n",
       " 'followers',\n",
       " 'followers_count',\n",
       " 'followers_ids',\n",
       " 'following',\n",
       " 'friends',\n",
       " 'friends_count',\n",
       " 'geo_enabled',\n",
       " 'has_extended_profile',\n",
       " 'id',\n",
       " 'id_str',\n",
       " 'is_translation_enabled',\n",
       " 'is_translator',\n",
       " 'lang',\n",
       " 'listed_count',\n",
       " 'lists',\n",
       " 'lists_memberships',\n",
       " 'lists_subscriptions',\n",
       " 'location',\n",
       " 'name',\n",
       " 'notifications',\n",
       " 'parse',\n",
       " 'parse_list',\n",
       " 'profile_background_color',\n",
       " 'profile_background_image_url',\n",
       " 'profile_background_image_url_https',\n",
       " 'profile_background_tile',\n",
       " 'profile_banner_url',\n",
       " 'profile_image_url',\n",
       " 'profile_image_url_https',\n",
       " 'profile_link_color',\n",
       " 'profile_location',\n",
       " 'profile_sidebar_border_color',\n",
       " 'profile_sidebar_fill_color',\n",
       " 'profile_text_color',\n",
       " 'profile_use_background_image',\n",
       " 'protected',\n",
       " 'screen_name',\n",
       " 'status',\n",
       " 'statuses_count',\n",
       " 'time_zone',\n",
       " 'timeline',\n",
       " 'translator_type',\n",
       " 'unfollow',\n",
       " 'url',\n",
       " 'utc_offset',\n",
       " 'verified']"
      ]
     },
     "execution_count": 10,
     "metadata": {},
     "output_type": "execute_result"
    }
   ],
   "source": [
    "dir(user)"
   ]
  },
  {
   "cell_type": "code",
   "execution_count": 11,
   "metadata": {},
   "outputs": [
    {
     "data": {
      "text/plain": [
       "datetime.datetime(2008, 12, 29, 20, 18, 36)"
      ]
     },
     "execution_count": 11,
     "metadata": {},
     "output_type": "execute_result"
    }
   ],
   "source": [
    "user.created_at"
   ]
  },
  {
   "cell_type": "code",
   "execution_count": 12,
   "metadata": {},
   "outputs": [
    {
     "data": {
      "text/plain": [
       "'Indiana University'"
      ]
     },
     "execution_count": 12,
     "metadata": {},
     "output_type": "execute_result"
    }
   ],
   "source": [
    "user.name"
   ]
  },
  {
   "cell_type": "markdown",
   "metadata": {},
   "source": [
    "# Summary Information about User and Followers\n",
    "* `user.followers()` function does not require any parameters\n",
    "* Returns a list of dictionaries, assigned to iu followers\n",
    "* iterate through list of all people who follow IUBloomington"
   ]
  },
  {
   "cell_type": "code",
   "execution_count": 13,
   "metadata": {},
   "outputs": [
    {
     "name": "stdout",
     "output_type": "stream",
     "text": [
      "Gretchen Lightfoot\n",
      "RYT-500, devoted yoga practitioner, hiker, daughter, wife, mother, avid reader\n",
      "**************************************************\n",
      "Brad Taylor\n",
      "Mishawaka Football #39🏈\n",
      "**************************************************\n",
      "david vandeventer\n",
      "\n",
      "**************************************************\n",
      "Science on Tap\n",
      "An educational outreach non-profit bringing scientists from IU to the greater Bloomington community through casual, 60-min.  science discussions over brew!🌱🍻\n",
      "**************************************************\n",
      "Micki Knuckles\n",
      "~mom~wife~nurse~\n",
      "**************************************************\n",
      "Alice Burnette\n",
      "Proverbs 3:5-6 • MHS • Live Life Laughing #KingdomWorker\n",
      "**************************************************\n",
      "Jess\n",
      "vhs '19 // yike\n",
      "**************************************************\n",
      "Morgan Seeman\n",
      "I’m just out here to have a good time with a stinker named Jake\n",
      "**************************************************\n",
      "Morgan Howard\n",
      "\n",
      "**************************************************\n",
      "Rorschach Wang\n",
      "How can we sing the songs of the LORD while in a foreign land?\n",
      "**************************************************\n"
     ]
    }
   ],
   "source": [
    "iufollowers = user.followers()\n",
    "\n",
    "for f in iufollowers[:10]:\n",
    "    print(f.name)\n",
    "    print(f.description)\n",
    "    print(\"*\"*50)"
   ]
  },
  {
   "cell_type": "markdown",
   "metadata": {},
   "source": [
    "### Summary of Geospatial location of IUB Friends\n",
    "* Create an empty list to store geolocation information\n",
    "* Iterate through list of IUBloomington friends\n",
    "* Append location to list of friends, print out location data"
   ]
  },
  {
   "cell_type": "code",
   "execution_count": 14,
   "metadata": {},
   "outputs": [],
   "source": [
    "geolocations = []\n",
    "\n",
    "for f in user.friends():\n",
    "    l = f.location \n",
    "    geolocations.append(l)\n",
    "    "
   ]
  },
  {
   "cell_type": "code",
   "execution_count": 15,
   "metadata": {},
   "outputs": [
    {
     "data": {
      "text/plain": [
       "['Bloomington, IN',\n",
       " 'Bloomington, IN',\n",
       " 'Bloomington IN',\n",
       " 'Bloomington, IN',\n",
       " 'Jacobs School of Music',\n",
       " 'Bloomington, IN',\n",
       " '',\n",
       " 'Indiana University',\n",
       " 'Indiana, USA',\n",
       " 'Cardwell, Montana',\n",
       " 'Bloomington, Indiana',\n",
       " 'Bloomington, IN',\n",
       " 'Bloomington, IN',\n",
       " 'Bloomington, IN',\n",
       " 'Bloomington, IN',\n",
       " 'Bloomington ',\n",
       " 'Bloomington, IN',\n",
       " 'Indiana University Bloomington',\n",
       " 'Bloomington, IN',\n",
       " 'Indiana, USA']"
      ]
     },
     "execution_count": 15,
     "metadata": {},
     "output_type": "execute_result"
    }
   ],
   "source": [
    "geolocations[:25]"
   ]
  },
  {
   "cell_type": "markdown",
   "metadata": {},
   "source": [
    "# Explore Tweet Attributes\n",
    "* Behind the scenes, Twitter refers to tweets as \"statuses\"\n",
    "* Use `get_status()` method to get information about particular status\n",
    "* Save data as status object for particular tweet, by taking url number as argument\n"
   ]
  },
  {
   "cell_type": "code",
   "execution_count": 16,
   "metadata": {
    "collapsed": true
   },
   "outputs": [],
   "source": [
    "status = api.get_status(962421117850963968)"
   ]
  },
  {
   "cell_type": "code",
   "execution_count": 17,
   "metadata": {},
   "outputs": [
    {
     "data": {
      "text/plain": [
       "['__class__',\n",
       " '__delattr__',\n",
       " '__dict__',\n",
       " '__dir__',\n",
       " '__doc__',\n",
       " '__eq__',\n",
       " '__format__',\n",
       " '__ge__',\n",
       " '__getattribute__',\n",
       " '__getstate__',\n",
       " '__gt__',\n",
       " '__hash__',\n",
       " '__init__',\n",
       " '__init_subclass__',\n",
       " '__le__',\n",
       " '__lt__',\n",
       " '__module__',\n",
       " '__ne__',\n",
       " '__new__',\n",
       " '__reduce__',\n",
       " '__reduce_ex__',\n",
       " '__repr__',\n",
       " '__setattr__',\n",
       " '__sizeof__',\n",
       " '__str__',\n",
       " '__subclasshook__',\n",
       " '__weakref__',\n",
       " '_api',\n",
       " '_json',\n",
       " 'author',\n",
       " 'contributors',\n",
       " 'coordinates',\n",
       " 'created_at',\n",
       " 'destroy',\n",
       " 'entities',\n",
       " 'favorite',\n",
       " 'favorite_count',\n",
       " 'favorited',\n",
       " 'geo',\n",
       " 'id',\n",
       " 'id_str',\n",
       " 'in_reply_to_screen_name',\n",
       " 'in_reply_to_status_id',\n",
       " 'in_reply_to_status_id_str',\n",
       " 'in_reply_to_user_id',\n",
       " 'in_reply_to_user_id_str',\n",
       " 'is_quote_status',\n",
       " 'lang',\n",
       " 'parse',\n",
       " 'parse_list',\n",
       " 'place',\n",
       " 'possibly_sensitive',\n",
       " 'possibly_sensitive_appealable',\n",
       " 'retweet',\n",
       " 'retweet_count',\n",
       " 'retweeted',\n",
       " 'retweets',\n",
       " 'source',\n",
       " 'source_url',\n",
       " 'text',\n",
       " 'truncated',\n",
       " 'user']"
      ]
     },
     "execution_count": 17,
     "metadata": {},
     "output_type": "execute_result"
    }
   ],
   "source": [
    "dir(status)"
   ]
  },
  {
   "cell_type": "markdown",
   "metadata": {},
   "source": [
    "## Look at Tweet attributes using different methods: \n",
    "* `text` shows the actual text of the tweet\n",
    "* `source` shows the device the tweet was sent from\n",
    "\n",
    "### Proxy for popularity of tweet: retweet and favorite counts\n",
    "* `retweet_count` shows how many times the tweet was retweeted\n",
    "* `favorite_count` how many time tagged as favorite tweet"
   ]
  },
  {
   "cell_type": "code",
   "execution_count": 18,
   "metadata": {},
   "outputs": [
    {
     "data": {
      "text/plain": [
       "\"While the world's eyes are on #PyeongChang2018, we want to wish a happy 68th birthday to our 9-time #Olympics champ… https://t.co/OGXM6wGhjC\""
      ]
     },
     "execution_count": 18,
     "metadata": {},
     "output_type": "execute_result"
    }
   ],
   "source": [
    "status.text"
   ]
  },
  {
   "cell_type": "code",
   "execution_count": 19,
   "metadata": {},
   "outputs": [
    {
     "data": {
      "text/plain": [
       "'Twitter for iPad'"
      ]
     },
     "execution_count": 19,
     "metadata": {},
     "output_type": "execute_result"
    }
   ],
   "source": [
    "status.source"
   ]
  },
  {
   "cell_type": "code",
   "execution_count": 20,
   "metadata": {},
   "outputs": [
    {
     "data": {
      "text/plain": [
       "28"
      ]
     },
     "execution_count": 20,
     "metadata": {},
     "output_type": "execute_result"
    }
   ],
   "source": [
    "status.retweet_count"
   ]
  },
  {
   "cell_type": "code",
   "execution_count": 21,
   "metadata": {},
   "outputs": [
    {
     "data": {
      "text/plain": [
       "159"
      ]
     },
     "execution_count": 21,
     "metadata": {},
     "output_type": "execute_result"
    }
   ],
   "source": [
    "status.favorite_count"
   ]
  },
  {
   "cell_type": "markdown",
   "metadata": {},
   "source": [
    "### Identify the Author of status (i.e., \"tweet\")\n",
    "* Itselt a user object, assigned to \"u\"\n",
    "* Look at attributes such as: name, account\n",
    "* Can jump from `user` object to `status` object, and from `status` to `user` **object using chain notation**"
   ]
  },
  {
   "cell_type": "code",
   "execution_count": 22,
   "metadata": {},
   "outputs": [],
   "source": [
    "u = status.author"
   ]
  },
  {
   "cell_type": "code",
   "execution_count": 23,
   "metadata": {},
   "outputs": [
    {
     "data": {
      "text/plain": [
       "'Indiana University'"
      ]
     },
     "execution_count": 23,
     "metadata": {},
     "output_type": "execute_result"
    }
   ],
   "source": [
    "u.name"
   ]
  },
  {
   "cell_type": "code",
   "execution_count": 24,
   "metadata": {},
   "outputs": [
    {
     "data": {
      "text/plain": [
       "'The official Twitter feed from the Bloomington campus of Indiana University. Go Hoosiers!'"
      ]
     },
     "execution_count": 24,
     "metadata": {},
     "output_type": "execute_result"
    }
   ],
   "source": [
    "u.description"
   ]
  },
  {
   "cell_type": "code",
   "execution_count": 25,
   "metadata": {},
   "outputs": [
    {
     "data": {
      "text/plain": [
       "'Indiana University'"
      ]
     },
     "execution_count": 25,
     "metadata": {},
     "output_type": "execute_result"
    }
   ],
   "source": [
    "status.author.name"
   ]
  },
  {
   "cell_type": "markdown",
   "metadata": {},
   "source": [
    "# Examine Retweets\n",
    "* Assign results of retweet() method with status object to \"retweets\"\n",
    "* Iterate through first 5 retweets using variable `r`, look at the text\n",
    "* Look at author's screen name"
   ]
  },
  {
   "cell_type": "code",
   "execution_count": 26,
   "metadata": {},
   "outputs": [
    {
     "name": "stdout",
     "output_type": "stream",
     "text": [
      "RT @IUBloomington: While the world's eyes are on #PyeongChang2018, we want to wish a happy 68th birthday to our 9-time #Olympics champion a…\n",
      "RT @IUBloomington: While the world's eyes are on #PyeongChang2018, we want to wish a happy 68th birthday to our 9-time #Olympics champion a…\n",
      "RT @IUBloomington: While the world's eyes are on #PyeongChang2018, we want to wish a happy 68th birthday to our 9-time #Olympics champion a…\n",
      "RT @IUBloomington: While the world's eyes are on #PyeongChang2018, we want to wish a happy 68th birthday to our 9-time #Olympics champion a…\n",
      "RT @IUBloomington: While the world's eyes are on #PyeongChang2018, we want to wish a happy 68th birthday to our 9-time #Olympics champion a…\n"
     ]
    }
   ],
   "source": [
    "retweets = status.retweets()\n",
    "\n",
    "for r in retweets[:5]:\n",
    "    print(r.text)"
   ]
  },
  {
   "cell_type": "code",
   "execution_count": 27,
   "metadata": {},
   "outputs": [
    {
     "name": "stdout",
     "output_type": "stream",
     "text": [
      "Who:\n",
      "Emiel34\n",
      "Who:\n",
      "farmbrat_\n",
      "Who:\n",
      "missesaunt\n",
      "Who:\n",
      "in_bureau\n",
      "Who:\n",
      "HoosierMick\n"
     ]
    }
   ],
   "source": [
    "for r in retweets[:5]:\n",
    "    print(\"Who:\")\n",
    "    print(r.author.screen_name)"
   ]
  },
  {
   "cell_type": "markdown",
   "metadata": {},
   "source": [
    "# Searching the Twitter API: \n",
    "* User `search()` with api object, save search results\n",
    "* Argument takes `q` for query, indicate search topic, e.g.: `#IUBB`, IU Basketball\n",
    "* Result returns a list of statuses, iteratable using a `for` loop\n",
    "\n",
    "### Language filter\n",
    "* Search may return foreign language status updates\n",
    "* Can indicate the language setting as argument for search, e.g., English = \"en\""
   ]
  },
  {
   "cell_type": "code",
   "execution_count": 28,
   "metadata": {},
   "outputs": [
    {
     "name": "stdout",
     "output_type": "stream",
     "text": [
      "RT @CGTNOfficial: Live: Preview the opening ceremony of #PyeongChang2018 which takes place at 20:00 local time in subzero temperatures http…\n",
      "2018-02-12 00:22:16\n",
      "**************************************************\n",
      "RT @tictoc: These are the biggest moments of the #PyeongChang2018 #Olympics opening ceremony https://t.co/FeOfCrrXJT https://t.co/HNpkW02xNx\n",
      "2018-02-12 00:22:12\n",
      "**************************************************\n",
      "RT @Olympics: Good morning from PyeongChang! #PyeongChang2018 #Olympics https://t.co/3ceCVCTjAM\n",
      "2018-02-12 00:22:12\n",
      "**************************************************\n",
      "What are we calling the camera used to film the #luge runs from the point of view of the sled as it goes down the c… https://t.co/jrHZT837J7\n",
      "2018-02-12 00:22:10\n",
      "**************************************************\n",
      "RT @reuterspictures: Redmond Gerard wins USA’s first gold medal of #PyeongChang2018 with his victory in the snowboarding slopestyle competi…\n",
      "2018-02-12 00:22:07\n",
      "**************************************************\n"
     ]
    }
   ],
   "source": [
    "search_results = api.search(q=\"#PyeongChang2018\", lang=\"en\")\n",
    "\n",
    "for status in search_results[:5]:\n",
    "    print(status.text)\n",
    "    print(status.created_at)\n",
    "    print(\"*\"*50)"
   ]
  },
  {
   "cell_type": "code",
   "execution_count": 29,
   "metadata": {},
   "outputs": [
    {
     "name": "stdout",
     "output_type": "stream",
     "text": [
      "RT @picardonhealth: #Kratom is hailed as a natural pain remedy, but it is chemically similar to #opioids, and it's deadly https://t.co/RyaQ…\n",
      "**************************************************\n",
      "RT @CannabisCulture: Medical Pot Is Our Best Hope to Fight the Opioid Epidemic #MMJ #addiction #opioids #epidemic https://t.co/VqoDUEpaIZ h…\n",
      "**************************************************\n",
      "RT @StormyVNV: #Military #Veterans defy Jeff Sessions, fight for #medical #marijuana to kick #opioids #Addiction https://t.co/lvs6Lqa3N6 #C…\n",
      "**************************************************\n",
      "RT @HollyKai2: \"There is no recovery for someone falsely accused\".   #ChronicPain patients are NOT addicts or \"addicted\" to #opioids becaus…\n",
      "**************************************************\n",
      "@realDonaldTrump u sure know how to pick them. Another judge #RoyMoore is what you had on Mitch @SenateMajLdr… https://t.co/tpJtyVu2Vz\n",
      "**************************************************\n",
      "RT @AAPainManage: Get the optimal management of chronic #pain, particularly using #opioids appropriately and managing patients’ risk for ha…\n",
      "**************************************************\n",
      "Medical #cannabis red tape forces thousands to turn to black market for pain relief (Aus) https://t.co/cU53DEXWEZ f… https://t.co/rFIC2EcGFH\n",
      "**************************************************\n",
      "RT @orlandohealth: #Opioids are powerful drugs to treat pain but are highly addictive, even when taken for a short period. Scott King, Phar…\n",
      "**************************************************\n",
      "RT @IBDeditorials: McCaughey on the #CDC: \"The new chief should focus on what's killing large numbers of Americans — obesity, #opioids and…\n",
      "**************************************************\n",
      "RT @StormyVNV: #Military #Veterans defy Jeff Sessions, fight for #medical #marijuana to kick #opioids #Addiction https://t.co/lvs6Lqa3N6 #C…\n",
      "**************************************************\n",
      "RT @AAPainManage: Get the optimal management of chronic #pain, particularly using #opioids appropriately and managing patients’ risk for ha…\n",
      "**************************************************\n",
      ".@aanawebupdates President-elect Garry Brydges discusses opioid-sparing #anesthesia. #Opioids https://t.co/tXwueKAJoU\n",
      "**************************************************\n",
      "2 studies show that #EDs &amp; episodic providers account for a small % of prescribed #opioids--evidence they play a sm… https://t.co/63HQ5SU3Z3\n",
      "**************************************************\n",
      "RT @StormyVNV: #Military #Veterans defy Jeff Sessions, fight for #medical #marijuana to kick #opioids #Addiction https://t.co/lvs6Lqa3N6 #C…\n",
      "**************************************************\n",
      "RT @StormyVNV: #Military #Veterans defy Jeff Sessions, fight for #medical #marijuana to kick #opioids #Addiction https://t.co/lvs6Lqa3N6 #C…\n",
      "**************************************************\n"
     ]
    }
   ],
   "source": [
    "search_results = api.search(q=\"#opioids\")\n",
    "\n",
    "for status in search_results:\n",
    "    print(status.text)\n",
    "    print(\"*\"*50)"
   ]
  },
  {
   "cell_type": "markdown",
   "metadata": {},
   "source": [
    "## Filter Search by Location: \n",
    "* Include `geocode` as argument in search() method \n",
    "* Three parameters: \"latitude, longitude, radius(km)"
   ]
  },
  {
   "cell_type": "code",
   "execution_count": 30,
   "metadata": {},
   "outputs": [
    {
     "name": "stdout",
     "output_type": "stream",
     "text": [
      "RT @cwillem: Vous êtes dispo demain? Avec @manuelapromo et toute l’équipe on vous donne rdv pour les 25 ans de @alpes_1 ambiance #Rio #live…\n",
      "**************************************************\n",
      "85km en moto, des vagues immenses, une plage secrète, 1800 coups de soleil, du glitter partout #rio #day2\n",
      "**************************************************\n",
      "RT @cwillem: Préparation tournée #Rio #live :-) j’espère que week-end était cool. Profitez de cette soirée au chaud. Take care 😊\n",
      "**************************************************\n",
      "RT @cwillem: Préparation tournée #Rio #live :-) j’espère que week-end était cool. Profitez de cette soirée au chaud. Take care 😊\n",
      "**************************************************\n",
      "RT @cwillem: Préparation tournée #Rio #live :-) j’espère que week-end était cool. Profitez de cette soirée au chaud. Take care 😊\n",
      "**************************************************\n"
     ]
    }
   ],
   "source": [
    "search_results = api.search(q=\"#rio\", geocode=\"48.86,2.35,20km\")\n",
    "\n",
    "for status in search_results[:5]:\n",
    "    print(status.text)\n",
    "    print(\"*\"*50)"
   ]
  },
  {
   "cell_type": "markdown",
   "metadata": {},
   "source": [
    "# Identifying Trends by Location (trends_place)\n",
    "* Location for the whole world is `1`\n",
    "* Location ID for the US is 23424977\n",
    "* Tweepy returns a JSON object \n",
    "\n",
    "## Unpacking the JSON object\n",
    "* Remove object from the list and take a look at what's inside\n",
    "* Dictionary has three keys: `as_of`, `created_at`, `locations`, `trends`\n",
    "* Take first item in theobject as the trends"
   ]
  },
  {
   "cell_type": "code",
   "execution_count": 31,
   "metadata": {
    "collapsed": true
   },
   "outputs": [],
   "source": [
    "trending_us = api.trends_place(23424977)\n",
    "\n",
    "theobject = trending_us[0]\n",
    "\n",
    "thetrends = theobject['trends']"
   ]
  },
  {
   "cell_type": "markdown",
   "metadata": {},
   "source": [
    "### See Trends object as list of dictionaries\n",
    "* Peeled away layers to see individual trends\n",
    "* Look at the first trend as dictionary, and select attributes using bracket notation"
   ]
  },
  {
   "cell_type": "code",
   "execution_count": 32,
   "metadata": {},
   "outputs": [
    {
     "data": {
      "text/plain": [
       "[{'name': 'Paul Pierce',\n",
       "  'promoted_content': None,\n",
       "  'query': '%22Paul+Pierce%22',\n",
       "  'tweet_volume': 91439,\n",
       "  'url': 'http://twitter.com/search?q=%22Paul+Pierce%22'},\n",
       " {'name': '#ThingsThatPushMyButton',\n",
       "  'promoted_content': None,\n",
       "  'query': '%23ThingsThatPushMyButton',\n",
       "  'tweet_volume': None,\n",
       "  'url': 'http://twitter.com/search?q=%23ThingsThatPushMyButton'},\n",
       " {'name': 'Frank Reich',\n",
       "  'promoted_content': None,\n",
       "  'query': '%22Frank+Reich%22',\n",
       "  'tweet_volume': 24349,\n",
       "  'url': 'http://twitter.com/search?q=%22Frank+Reich%22'},\n",
       " {'name': '#TypoYourResume',\n",
       "  'promoted_content': None,\n",
       "  'query': '%23TypoYourResume',\n",
       "  'tweet_volume': None,\n",
       "  'url': 'http://twitter.com/search?q=%23TypoYourResume'},\n",
       " {'name': 'Jan Maxwell',\n",
       "  'promoted_content': None,\n",
       "  'query': '%22Jan+Maxwell%22',\n",
       "  'tweet_volume': None,\n",
       "  'url': 'http://twitter.com/search?q=%22Jan+Maxwell%22'},\n",
       " {'name': '#NASCAR',\n",
       "  'promoted_content': None,\n",
       "  'query': '%23NASCAR',\n",
       "  'tweet_volume': 12236,\n",
       "  'url': 'http://twitter.com/search?q=%23NASCAR'},\n",
       " {'name': 'Greg Monroe',\n",
       "  'promoted_content': None,\n",
       "  'query': '%22Greg+Monroe%22',\n",
       "  'tweet_volume': None,\n",
       "  'url': 'http://twitter.com/search?q=%22Greg+Monroe%22'},\n",
       " {'name': 'Aetna',\n",
       "  'promoted_content': None,\n",
       "  'query': 'Aetna',\n",
       "  'tweet_volume': None,\n",
       "  'url': 'http://twitter.com/search?q=Aetna'},\n",
       " {'name': 'New Cavs',\n",
       "  'promoted_content': None,\n",
       "  'query': '%22New+Cavs%22',\n",
       "  'tweet_volume': 12686,\n",
       "  'url': 'http://twitter.com/search?q=%22New+Cavs%22'},\n",
       " {'name': '#SundayFunday',\n",
       "  'promoted_content': None,\n",
       "  'query': '%23SundayFunday',\n",
       "  'tweet_volume': 20335,\n",
       "  'url': 'http://twitter.com/search?q=%23SundayFunday'},\n",
       " {'name': '#MyOlympicTrainingIncludes',\n",
       "  'promoted_content': None,\n",
       "  'query': '%23MyOlympicTrainingIncludes',\n",
       "  'tweet_volume': None,\n",
       "  'url': 'http://twitter.com/search?q=%23MyOlympicTrainingIncludes'},\n",
       " {'name': 'Jose Alvarado',\n",
       "  'promoted_content': None,\n",
       "  'query': '%22Jose+Alvarado%22',\n",
       "  'tweet_volume': None,\n",
       "  'url': 'http://twitter.com/search?q=%22Jose+Alvarado%22'},\n",
       " {'name': 'Kevin Garnett',\n",
       "  'promoted_content': None,\n",
       "  'query': '%22Kevin+Garnett%22',\n",
       "  'tweet_volume': None,\n",
       "  'url': 'http://twitter.com/search?q=%22Kevin+Garnett%22'},\n",
       " {'name': 'Sammy Sosa',\n",
       "  'promoted_content': None,\n",
       "  'query': '%22Sammy+Sosa%22',\n",
       "  'tweet_volume': 14842,\n",
       "  'url': 'http://twitter.com/search?q=%22Sammy+Sosa%22'},\n",
       " {'name': 'Osman',\n",
       "  'promoted_content': None,\n",
       "  'query': 'Osman',\n",
       "  'tweet_volume': 25302,\n",
       "  'url': 'http://twitter.com/search?q=Osman'},\n",
       " {'name': 'Ted Potter',\n",
       "  'promoted_content': None,\n",
       "  'query': '%22Ted+Potter%22',\n",
       "  'tweet_volume': None,\n",
       "  'url': 'http://twitter.com/search?q=%22Ted+Potter%22'},\n",
       " {'name': 'James Posey',\n",
       "  'promoted_content': None,\n",
       "  'query': '%22James+Posey%22',\n",
       "  'tweet_volume': None,\n",
       "  'url': 'http://twitter.com/search?q=%22James+Posey%22'},\n",
       " {'name': 'Al Horford',\n",
       "  'promoted_content': None,\n",
       "  'query': '%22Al+Horford%22',\n",
       "  'tweet_volume': None,\n",
       "  'url': 'http://twitter.com/search?q=%22Al+Horford%22'},\n",
       " {'name': 'JJ Caldwell',\n",
       "  'promoted_content': None,\n",
       "  'query': '%22JJ+Caldwell%22',\n",
       "  'tweet_volume': None,\n",
       "  'url': 'http://twitter.com/search?q=%22JJ+Caldwell%22'},\n",
       " {'name': 'Paul Nehlen',\n",
       "  'promoted_content': None,\n",
       "  'query': '%22Paul+Nehlen%22',\n",
       "  'tweet_volume': 14883,\n",
       "  'url': 'http://twitter.com/search?q=%22Paul+Nehlen%22'},\n",
       " {'name': 'Mark Jackson',\n",
       "  'promoted_content': None,\n",
       "  'query': '%22Mark+Jackson%22',\n",
       "  'tweet_volume': None,\n",
       "  'url': 'http://twitter.com/search?q=%22Mark+Jackson%22'},\n",
       " {'name': 'Cedi',\n",
       "  'promoted_content': None,\n",
       "  'query': 'Cedi',\n",
       "  'tweet_volume': 22959,\n",
       "  'url': 'http://twitter.com/search?q=Cedi'},\n",
       " {'name': 'Terry Rozier',\n",
       "  'promoted_content': None,\n",
       "  'query': '%22Terry+Rozier%22',\n",
       "  'tweet_volume': None,\n",
       "  'url': 'http://twitter.com/search?q=%22Terry+Rozier%22'},\n",
       " {'name': 'Weinstein Company',\n",
       "  'promoted_content': None,\n",
       "  'query': '%22Weinstein+Company%22',\n",
       "  'tweet_volume': None,\n",
       "  'url': 'http://twitter.com/search?q=%22Weinstein+Company%22'},\n",
       " {'name': 'Midget Mac',\n",
       "  'promoted_content': None,\n",
       "  'query': '%22Midget+Mac%22',\n",
       "  'tweet_volume': None,\n",
       "  'url': 'http://twitter.com/search?q=%22Midget+Mac%22'},\n",
       " {'name': 'Reggie Bullock',\n",
       "  'promoted_content': None,\n",
       "  'query': '%22Reggie+Bullock%22',\n",
       "  'tweet_volume': None,\n",
       "  'url': 'http://twitter.com/search?q=%22Reggie+Bullock%22'},\n",
       " {'name': 'Marty Pollio',\n",
       "  'promoted_content': None,\n",
       "  'query': '%22Marty+Pollio%22',\n",
       "  'tweet_volume': None,\n",
       "  'url': 'http://twitter.com/search?q=%22Marty+Pollio%22'},\n",
       " {'name': 'K Love',\n",
       "  'promoted_content': None,\n",
       "  'query': '%22K+Love%22',\n",
       "  'tweet_volume': None,\n",
       "  'url': 'http://twitter.com/search?q=%22K+Love%22'},\n",
       " {'name': 'Wendell Carter',\n",
       "  'promoted_content': None,\n",
       "  'query': '%22Wendell+Carter%22',\n",
       "  'tweet_volume': None,\n",
       "  'url': 'http://twitter.com/search?q=%22Wendell+Carter%22'},\n",
       " {'name': 'Doris Burke',\n",
       "  'promoted_content': None,\n",
       "  'query': '%22Doris+Burke%22',\n",
       "  'tweet_volume': None,\n",
       "  'url': 'http://twitter.com/search?q=%22Doris+Burke%22'},\n",
       " {'name': 'Green Wave',\n",
       "  'promoted_content': None,\n",
       "  'query': '%22Green+Wave%22',\n",
       "  'tweet_volume': None,\n",
       "  'url': 'http://twitter.com/search?q=%22Green+Wave%22'},\n",
       " {'name': 'Oladipo',\n",
       "  'promoted_content': None,\n",
       "  'query': 'Oladipo',\n",
       "  'tweet_volume': None,\n",
       "  'url': 'http://twitter.com/search?q=Oladipo'},\n",
       " {'name': 'Diamond Bar',\n",
       "  'promoted_content': None,\n",
       "  'query': '%22Diamond+Bar%22',\n",
       "  'tweet_volume': None,\n",
       "  'url': 'http://twitter.com/search?q=%22Diamond+Bar%22'},\n",
       " {'name': 'Orlov',\n",
       "  'promoted_content': None,\n",
       "  'query': 'Orlov',\n",
       "  'tweet_volume': None,\n",
       "  'url': 'http://twitter.com/search?q=Orlov'},\n",
       " {'name': '#FakeRelationshipFacts',\n",
       "  'promoted_content': None,\n",
       "  'query': '%23FakeRelationshipFacts',\n",
       "  'tweet_volume': 16812,\n",
       "  'url': 'http://twitter.com/search?q=%23FakeRelationshipFacts'},\n",
       " {'name': '#WomenInScience',\n",
       "  'promoted_content': None,\n",
       "  'query': '%23WomenInScience',\n",
       "  'tweet_volume': 30652,\n",
       "  'url': 'http://twitter.com/search?q=%23WomenInScience'},\n",
       " {'name': '#fitnessedu',\n",
       "  'promoted_content': None,\n",
       "  'query': '%23fitnessedu',\n",
       "  'tweet_volume': None,\n",
       "  'url': 'http://twitter.com/search?q=%23fitnessedu'},\n",
       " {'name': '#CapsWings',\n",
       "  'promoted_content': None,\n",
       "  'query': '%23CapsWings',\n",
       "  'tweet_volume': None,\n",
       "  'url': 'http://twitter.com/search?q=%23CapsWings'},\n",
       " {'name': '#OlympicWinterGames',\n",
       "  'promoted_content': None,\n",
       "  'query': '%23OlympicWinterGames',\n",
       "  'tweet_volume': None,\n",
       "  'url': 'http://twitter.com/search?q=%23OlympicWinterGames'},\n",
       " {'name': '#BehindTheMovement',\n",
       "  'promoted_content': None,\n",
       "  'query': '%23BehindTheMovement',\n",
       "  'tweet_volume': None,\n",
       "  'url': 'http://twitter.com/search?q=%23BehindTheMovement'},\n",
       " {'name': '#KNEast',\n",
       "  'promoted_content': None,\n",
       "  'query': '%23KNEast',\n",
       "  'tweet_volume': None,\n",
       "  'url': 'http://twitter.com/search?q=%23KNEast'},\n",
       " {'name': '#WhatDoesYourFursonaSmellLike',\n",
       "  'promoted_content': None,\n",
       "  'query': '%23WhatDoesYourFursonaSmellLike',\n",
       "  'tweet_volume': None,\n",
       "  'url': 'http://twitter.com/search?q=%23WhatDoesYourFursonaSmellLike'},\n",
       " {'name': '#WGAAwards',\n",
       "  'promoted_content': None,\n",
       "  'query': '%23WGAAwards',\n",
       "  'tweet_volume': None,\n",
       "  'url': 'http://twitter.com/search?q=%23WGAAwards'},\n",
       " {'name': '#POstables',\n",
       "  'promoted_content': None,\n",
       "  'query': '%23POstables',\n",
       "  'tweet_volume': 16626,\n",
       "  'url': 'http://twitter.com/search?q=%23POstables'},\n",
       " {'name': '#TheThirdMan',\n",
       "  'promoted_content': None,\n",
       "  'query': '%23TheThirdMan',\n",
       "  'tweet_volume': None,\n",
       "  'url': 'http://twitter.com/search?q=%23TheThirdMan'},\n",
       " {'name': '#danielappreciationday',\n",
       "  'promoted_content': None,\n",
       "  'query': '%23danielappreciationday',\n",
       "  'tweet_volume': None,\n",
       "  'url': 'http://twitter.com/search?q=%23danielappreciationday'}]"
      ]
     },
     "execution_count": 32,
     "metadata": {},
     "output_type": "execute_result"
    }
   ],
   "source": [
    "thetrends"
   ]
  },
  {
   "cell_type": "code",
   "execution_count": 33,
   "metadata": {},
   "outputs": [
    {
     "data": {
      "text/plain": [
       "'Paul Pierce'"
      ]
     },
     "execution_count": 33,
     "metadata": {},
     "output_type": "execute_result"
    }
   ],
   "source": [
    "first_trend = thetrends[0]\n",
    "first_trend[\"name\"]"
   ]
  },
  {
   "cell_type": "code",
   "execution_count": 34,
   "metadata": {},
   "outputs": [
    {
     "data": {
      "text/plain": [
       "91439"
      ]
     },
     "execution_count": 34,
     "metadata": {},
     "output_type": "execute_result"
    }
   ],
   "source": [
    "first_trend['tweet_volume']"
   ]
  },
  {
   "cell_type": "code",
   "execution_count": 35,
   "metadata": {},
   "outputs": [
    {
     "data": {
      "text/plain": [
       "'%22Paul+Pierce%22'"
      ]
     },
     "execution_count": 35,
     "metadata": {},
     "output_type": "execute_result"
    }
   ],
   "source": [
    "first_trend['query']"
   ]
  },
  {
   "cell_type": "code",
   "execution_count": 36,
   "metadata": {},
   "outputs": [
    {
     "data": {
      "text/plain": [
       "'http://twitter.com/search?q=%22Paul+Pierce%22'"
      ]
     },
     "execution_count": 36,
     "metadata": {},
     "output_type": "execute_result"
    }
   ],
   "source": [
    "first_trend['url']"
   ]
  },
  {
   "cell_type": "markdown",
   "metadata": {},
   "source": [
    "## Iterate through trends\n",
    "* "
   ]
  },
  {
   "cell_type": "code",
   "execution_count": 37,
   "metadata": {},
   "outputs": [
    {
     "name": "stdout",
     "output_type": "stream",
     "text": [
      "Paul Pierce 91439\n",
      "#ThingsThatPushMyButton None\n",
      "Frank Reich 24349\n",
      "#TypoYourResume None\n",
      "Jan Maxwell None\n"
     ]
    }
   ],
   "source": [
    "for trend in thetrends[:5]:\n",
    "    print(trend['name'], trend['tweet_volume'])"
   ]
  },
  {
   "cell_type": "markdown",
   "metadata": {},
   "source": [
    "## Combine all steps in one line"
   ]
  },
  {
   "cell_type": "code",
   "execution_count": 38,
   "metadata": {},
   "outputs": [
    {
     "name": "stdout",
     "output_type": "stream",
     "text": [
      "#Ан148\n",
      "#СайризСосетВИнсту\n",
      "Почты России\n",
      "#Olympics\n",
      "Евгения Медведева\n"
     ]
    }
   ],
   "source": [
    "trends_russia = api.trends_place(23424936)\n",
    "\n",
    "for trend in trends_russia[0]['trends'][:5]:\n",
    "    print(trend['name'])\n",
    "    "
   ]
  },
  {
   "cell_type": "markdown",
   "metadata": {},
   "source": [
    "# ITERATING through large LISTS"
   ]
  },
  {
   "cell_type": "code",
   "execution_count": 39,
   "metadata": {},
   "outputs": [],
   "source": [
    "search_results = api.search(q=\"StarTrek50\")"
   ]
  },
  {
   "cell_type": "code",
   "execution_count": 40,
   "metadata": {},
   "outputs": [
    {
     "data": {
      "text/plain": [
       "15"
      ]
     },
     "execution_count": 40,
     "metadata": {},
     "output_type": "execute_result"
    }
   ],
   "source": [
    "len(search_results)"
   ]
  },
  {
   "cell_type": "code",
   "execution_count": 41,
   "metadata": {},
   "outputs": [
    {
     "data": {
      "text/plain": [
       "20"
      ]
     },
     "execution_count": 41,
     "metadata": {},
     "output_type": "execute_result"
    }
   ],
   "source": [
    "user = api.get_user(\"IUBloomington\")\n",
    "followers = user.followers()\n",
    "\n",
    "len(followers)"
   ]
  },
  {
   "cell_type": "code",
   "execution_count": 43,
   "metadata": {},
   "outputs": [
    {
     "data": {
      "text/plain": [
       "210813"
      ]
     },
     "execution_count": 43,
     "metadata": {},
     "output_type": "execute_result"
    }
   ],
   "source": [
    "user.followers_count"
   ]
  },
  {
   "cell_type": "markdown",
   "metadata": {},
   "source": [
    "## Built-in object called Cursor\n",
    "* Specify how many results you want, and it goes through results pages automatically\n",
    "* First need to make \"cursor\" object as variable c, using .cursor() method\n",
    "* Passing a function as argument to another function"
   ]
  },
  {
   "cell_type": "code",
   "execution_count": null,
   "metadata": {
    "collapsed": true
   },
   "outputs": [],
   "source": [
    "search_results = api.search(q=\"#PyeongChang2018\", lang=\"en\")"
   ]
  },
  {
   "cell_type": "code",
   "execution_count": 44,
   "metadata": {
    "collapsed": true
   },
   "outputs": [],
   "source": [
    "c = tweepy.Cursor(api.search, q=\"#PyeongChang2018\", lang=\"en\")"
   ]
  },
  {
   "cell_type": "code",
   "execution_count": 46,
   "metadata": {},
   "outputs": [
    {
     "data": {
      "text/plain": [
       "<tweepy.cursor.ItemIterator at 0x10d2bb5f8>"
      ]
     },
     "execution_count": 46,
     "metadata": {},
     "output_type": "execute_result"
    }
   ],
   "source": [
    "c.items(500)"
   ]
  },
  {
   "cell_type": "markdown",
   "metadata": {},
   "source": [
    "### Iterate through items in Cursor object\n",
    "* Initialize empty list\n",
    "* Iterate through status in cursor items, specifying the number of items\n",
    "* Save first 500 results, take status, get text, store in tweet store\n"
   ]
  },
  {
   "cell_type": "code",
   "execution_count": 47,
   "metadata": {
    "collapsed": true
   },
   "outputs": [],
   "source": [
    "tweet_store = []\n",
    "\n",
    "for status in c.items(500):\n",
    "    statustext = status.text\n",
    "    tweet_store.append(statustext)"
   ]
  },
  {
   "cell_type": "code",
   "execution_count": 48,
   "metadata": {},
   "outputs": [
    {
     "data": {
      "text/plain": [
       "500"
      ]
     },
     "execution_count": 48,
     "metadata": {},
     "output_type": "execute_result"
    }
   ],
   "source": [
    "len(tweet_store)"
   ]
  },
  {
   "cell_type": "code",
   "execution_count": 49,
   "metadata": {},
   "outputs": [
    {
     "data": {
      "text/plain": [
       "['Me: *watching Olympic freestyle skiing* \\n\\nNot a very sharp landing, that definitely costed her a tenth of a second.… https://t.co/bLctyD8c66',\n",
       " 'RT @FlowerPrince_CY: Watch out for the K-pop kings EXO @weareoneEXO in #ClosingCeremony of #Olympics #PyeongChang2018 \\nhttps://t.co/Vlu3QBi…',\n",
       " 'RT @intelnews: Intel Drone Light Show Breaks Guinness World Records Title at Olympic Winter Games #PyeongChang2018 https://t.co/vFKTkD1NQM…',\n",
       " 'RT @intel: #ExperienceTheMoment our Intel Shooting Star drones hit the slopes at #PyeongChang2018. More at https://t.co/Jkxn9vTpOt. https:/…',\n",
       " \"[VID] Lim Hyojun, winner of South Korea's first golden medal at the #PyeongChang2018 games, recommends #BLACKPINK's… https://t.co/Iova0LS5fm\",\n",
       " 'RT @olympicchannel: Congratulations! Chris @mazdzer has won silver for #USA in #luge 🥈👏\\n\\n#PyeongChang2018 More events here: https://t.co/sM…',\n",
       " 'RT @intel: #ExperienceTheMoment our Intel Shooting Star drones hit the slopes at #PyeongChang2018. More at https://t.co/Jkxn9vTpOt. https:/…',\n",
       " 'I feel like maybe, just maybe, I could compete in the luge. Take home top 10 AT LEAST. #PyeongChang2018 #Olympics #Luge',\n",
       " 'RT @TeamCanada: #TeamCanada is looking to land on the podium tonight in the #figureskating team event at #PyeongChang2018\\n\\nCheck out how fa…',\n",
       " '@Devin_Heroux On the edge of my seat, this has me so nervous for them! #TeamCanada #PyeongChang2018',\n",
       " 'RT @intel: Are you ready? Intel technology is helping to make the promise of #5G real at the Olympic Winter Games. #Pyeongchang2018 https:/…',\n",
       " 'RT @41matclayden: Fucking hell 😲\\n\\n#PyeongChang2018 https://t.co/DABAPqr4kp',\n",
       " 'RT @intel: #ExperienceTheMoment our Intel Shooting Star drones hit the slopes at #PyeongChang2018. More at https://t.co/Jkxn9vTpOt. https:/…',\n",
       " '@CBC @CBCOlympics Okay, okay message received 😂😂 #PyeongChang2018 #UpWithCBC #TeamCanada2018 #Olympics2018 #GoCanadaGo',\n",
       " 'RT @TwitterMoments: The #ArmyOfBeauties sang and danced while BTS, Bruno Mars and Kanye West played in the background at #PyeongChang2018 .…',\n",
       " \"RT @JENNIERATIONS: [VID] Lim Hyojun, winner of South Korea's first golden medal at the #PyeongChang2018 games, recommends #BLACKPINK's As I…\",\n",
       " 'RT @TwitterMoments: The #ArmyOfBeauties sang and danced while BTS, Bruno Mars and Kanye West played in the background at #PyeongChang2018 .…',\n",
       " 'RT @FaithfullyAeris: @MTV @PortalEXOBrasil Please do a special program about EXO at #pyeongchang2018 closing ceremony @weareoneEXO #EXOL #B…',\n",
       " 'RT @CBCOlympics: Mackenzie Boyd-Clowes advances to final in normal hill ski jump #PyeongChang2018 https://t.co/NGy4fS1mLS https://t.co/gzvf…',\n",
       " 'RT @Gfriendnl: GFRIEND YUJU is singing the South Korean national anthem at the #2018Olympics #PyeongChang2018 https://t.co/QgkBmVDCBx',\n",
       " 'RT @Cat_Kapow: SIGN✏#teamUSA #UnitedStates Olympic Committee Take a stand in #PyeongChang2018 against the #DogMeatTrade #SouthKorea✔https:/…',\n",
       " \"RT @JENNIERATIONS: [VID] Lim Hyojun, winner of South Korea's first golden medal at the #PyeongChang2018 games, recommends #BLACKPINK's As I…\",\n",
       " 'RT @intel: #ExperienceTheMoment our Intel Shooting Star drones hit the slopes at #PyeongChang2018. More at https://t.co/Jkxn9vTpOt. https:/…',\n",
       " 'I hate guns but I love biathlon, also Rebecca Lowe works for any sport #PyeongChang2018',\n",
       " 'RT @intel: #ExperienceTheMoment our Intel Shooting Star drones hit the slopes at #PyeongChang2018. More at https://t.co/Jkxn9vTpOt. https:/…',\n",
       " 'RT @Gfriendnl: GFRIEND YUJU is singing the South Korean national anthem at the #2018Olympics #PyeongChang2018 https://t.co/QgkBmVDCBx',\n",
       " 'damn snowboarding is pretty shitty today #PyeongChang2018',\n",
       " 'RT @rockerskating: Flying on. Adam Rippon with a new costume for the #Olympics. #PyeongChang2018 https://t.co/4Ll2Tdcn4D',\n",
       " 'RT @CBCOlympics: Here are the medal standings for day 2 of the Olympics! 🥈 🥈 🥈 🥉 \\n\\nhttps://t.co/MJvehG5Nu2\\n#PyeongChang2018\\n#CBCOlympics ht…',\n",
       " \"RT @CBCOlympics: Sorry, no women's giant slalom today due to strong winds 😞\\nNew date is TBA! #PyeongChang2018 https://t.co/g6I5m0Kxt1 https…\",\n",
       " 'RT @FaithfullyAeris: @MTV @PortalEXOBrasil Please do a special program about EXO at #pyeongchang2018 closing ceremony @weareoneEXO #EXOL #B…',\n",
       " 'RT @Olympics: Good morning from PyeongChang! #PyeongChang2018 #Olympics https://t.co/3ceCVCTjAM',\n",
       " 'RT @Gfriendnl: GFRIEND YUJU is singing the South Korean national anthem at the #2018Olympics #PyeongChang2018 https://t.co/QgkBmVDCBx',\n",
       " 'Who else watches the #Olympics and thinks; \"Well, it\\'s time to start training...\" (with no major professional athle… https://t.co/qd6SyXHihD',\n",
       " \"This isn't my reasoning/math but I'm almost certain its correct, if you're interested in seeing Canada win Gold (li… https://t.co/5GXM4DkwfM\",\n",
       " 'You don’t know stress until your watching your country at the Olympics #PyeongChang2018 #Canada',\n",
       " 'RT @WFLA: The #Olympics are a perfect time to get your kids excited about cleaning! #EverydayOlympics #PyeongChang2018 https://t.co/84iK5UP…',\n",
       " 'Team Mexico 🇲🇽 at the 2018 Winter Olympics:\\n\\nSarah Schleper: Alpine skiing\\nRodolfo Roberto Dickson: Alpine skiing\\nG… https://t.co/y20PfNEJQq',\n",
       " 'RT @intel: Are you ready? Intel technology is helping to make the promise of #5G real at the Olympic Winter Games. #Pyeongchang2018 https:/…',\n",
       " \"RT @CBCOlympics: It's all smiles for @tessavirtue and @ScottMoir as they wrap up their short dance in #PyeongChang2018 \\n\\n@VisaCA https://t.…\",\n",
       " 'RT @Canada_BTS: .@BTS_twt has been featured on @LP_LaPresse’s latest article: K-POP’s impact &amp; how it affects #PyeongChang2018\\xa0+ the politi…',\n",
       " 'RT @landorem: Oh yeah, baby. Feel up those British buns.\\nWinter #Olympics \\n#PyeongChang2018 \\n#VaPalFap https://t.co/vn0DqVqtHM',\n",
       " \"RT @olympicchannel: It's now. It's happening. This is the moment. #PyeongChang2018 https://t.co/UNbG9byNMt\",\n",
       " 'RT @buffalobills: Spotted at the @Olympics. 👀 #PyeongChang2018\\n\\n📷: Aubrey Megan https://t.co/3dsFPdqdjG',\n",
       " 'RT @pyeongchang2018: Good things come in 3s. We are on to Day 3 and have already given out 33 medals. 🥇🥈🥉#PyeongChang2018 https://t.co/zgAK…',\n",
       " \"RT @CryMeAnEXO: I don't think i need a caption for this @weareoneEXO #ClosingCeremony #PyeongChang2018 #Olympics https://t.co/8WJINjqz0j\",\n",
       " 'RT @Speedskater01: Wishing @MikaelKingsbury all the best in the moguls final! This is your moment man! Go get it!!! 🙌🔥🇨🇦\\n#PyeongChang2018 #…',\n",
       " \"RT @SugaBase_: North Korean is cheering their team on #PyeongChang2018 with showing their Korean ballet moves while BTS mega hit 'Blood, Sw…\",\n",
       " 'RT @chockolate02: Crush it in the Team Event @mirainagasu and @adaripp 💕 Love you two! #TeamUSA #PyeongChang2018 https://t.co/GkUOJmTABB',\n",
       " 'An interesting mini-documentary looking at the #KOR team imports.\\nx7 - #IceHockey\\nx3 - #Biathlon \\nx1 - #Luge\\nx1 -… https://t.co/pwcO3rIrDV',\n",
       " 'RT @heavenlydogz: Day 2 of 17 #DogMeat Protest: During #PyeongChang2018 I plan to hold daily protest at @NBCOlympics NBC Studios NYC. \\n➡️ht…',\n",
       " \"RT @olympicchannel: It's now. It's happening. This is the moment. #PyeongChang2018 https://t.co/UNbG9byNMt\",\n",
       " 'RT @olympicchannel: Start your day right with the @Olympics 🥞😋 #PyeongChang2018 https://t.co/MJYc7cyHjv',\n",
       " \"@wwffan7385 That shot by Kaitlyn Lawes was curling's version of a desperation heave/Hail Mary. #curling #Olympics #PyeongChang2018\",\n",
       " 'RT @TeamCanada: Those #PyeongChang2018 medal smiles 😁 \\n\\n@MaxParrot 🥈 &amp; @markmcmorris 🥉 were all smiles before stepping on the podium. #Team…',\n",
       " 'Where has #ChrisMazdzer been all my life?????   Hubba hubba.  🍆 \\n\\n#olympics\\xa0\\xa0\\xa0 #Luge\\xa0\\xa0 #LugeWorld #PyeongChang2018',\n",
       " 'RT @buffalobills: Spotted at the @Olympics. 👀 #PyeongChang2018\\n\\n📷: Aubrey Megan https://t.co/3dsFPdqdjG',\n",
       " 'RT @Olympics: Anything is possible. @markmcmorris #NeverGiveUp #PyeongChang2018 #Olympics https://t.co/485NH8MJUq',\n",
       " 'RT @NamiKim_DogsSK: #CharlotteKalla and .@maritbjoergen .@SWEOlympic the champions of these #Olympics #PyeongChang2018 because they spoke f…',\n",
       " 'RT @sunriseon7: Looks like @markberetta is loving his time at #Pyeongchang2018! Make sure you follow @7olympics as our Aussies go for gold.…',\n",
       " 'That medal is also the first #luge medal in #USA Winter Olympic history! #TeamUSA #Luge #Olympics #PyeongChang2018 #Silver #BestofUS 🇺🇸🥈',\n",
       " 'RT @Hopeesperanz: .@TheBlueHouseKR   #Olympics2018 #PyeongChang2018 kpop #PyeongChang2018 are showing the truth about #DogMeatTrade 🙏🏻take…',\n",
       " 'RT @FaithfullyAeris: @MTV @PortalEXOBrasil Please do a special program about EXO at #pyeongchang2018 closing ceremony @weareoneEXO #EXOL #B…',\n",
       " 'RT @absoluteskating: #PyeongChang2018 #FigureSkating Adam Rippon: \"I\\'m ready for anything\" \\nhttps://t.co/GgnRIsI5kG\\nHe will compete in the…',\n",
       " 'RT @TwitterMoments: The #ArmyOfBeauties sang and danced while BTS, Bruno Mars and Kanye West played in the background at #PyeongChang2018 .…',\n",
       " '#ExperienceTheMoment our Intel Shooting Star drones hit the slopes at #PyeongChang2018. More at… https://t.co/YswVV96qdP',\n",
       " 'RT @rockerskating: Flying on. Adam Rippon with a new costume for the #Olympics. #PyeongChang2018 https://t.co/4Ll2Tdcn4D',\n",
       " 'Start List for Team Event Final Day\\n\\nIce Dance Free Dance\\n1. @kanamuramoto33 / Reed 🇯🇵\\n2. Cappellini/@lanotte_luca… https://t.co/BQ2Spm4hRx',\n",
       " \"RT @SportsCentre: SILVER STREAK: Canada's Justine Dufour-Lapointe wins silver in Women's Moguls. https://t.co/yPfXtEIgLN #PyeongChang2018 h…\",\n",
       " 'Start List for Team Event Final Day\\n\\nLadies Free Skating\\n1. @mirai_nagasu 🇺🇸\\n2. Kaori Sakamoto 🇯🇵\\n3. @gabby_daleman… https://t.co/MAJb5L3hHL',\n",
       " 'Dusting of fresh on the balcony this AM. ❄️ Lovely bright day here in Pyeongchang. Worries about the wind for women… https://t.co/MQGMnwJrGq',\n",
       " 'RT @CBCOlympics: Charles Hamelin advances to the 1500m final with a photo finish #PyeongChang2018 @VisaCA https://t.co/NcBnxO9YDF',\n",
       " 'Start List for Team Event Final Day\\n\\nMen Free Skating\\n1. @MK_4ever (OAR)\\n2. Matteo Rizzo \\n3. @Adaripp 🇺🇸\\n4.… https://t.co/0EDtfVnFJg',\n",
       " 'RT @TwitterMoments: The #ArmyOfBeauties sang and danced while BTS, Bruno Mars and Kanye West played in the background at #PyeongChang2018 .…',\n",
       " 'Norway steals 1 in the 3rd after forcing Canada to go for a hard play around the horn. We have a game now \\nCAN 2-2… https://t.co/xwon4hJGL4',\n",
       " 'RT @Gfriendnl: GFRIEND YUJU is singing the South Korean national anthem at the #2018Olympics #PyeongChang2018 https://t.co/QgkBmVDCBx',\n",
       " 'RT @TwitterMoments: The #ArmyOfBeauties sang and danced while BTS, Bruno Mars and Kanye West played in the background at #PyeongChang2018 .…',\n",
       " \"RT @exo_lab: I'm so proud that the #Olympics opens in #PyeongChang2018. Especially, @weareoneEXO which appears in #ClosingCeremony is a gro…\",\n",
       " 'How does Kauf not qualify! #Olympics #PyeongChang2018 #TeamUSA 🇺🇸',\n",
       " 'RT @olympicchannel: Start your day right with the @Olympics 🥞😋 #PyeongChang2018 https://t.co/MJYc7cyHjv',\n",
       " 'RT @7olympics: A look ahead at what Day 3 at #PyeongChang2018 brings.\\n\\nWatch it on the screens of 7 and OlympicsOn7 app 👉 https://t.co/5HDG…',\n",
       " 'RT @TeamCanada: #OpeningCeremony views 😍🎇\\n\\n#TeamCanada | #PyeongChang2018 https://t.co/c6D5KofQIV',\n",
       " 'RT @RobTheHockeyGuy: There was a #KOR wardrobe malfunction during ice dancing #Pyeongchang2018 https://t.co/cRd6QKQdXF',\n",
       " 'RT @Olympics: Anything is possible. @markmcmorris #NeverGiveUp #PyeongChang2018 #Olympics https://t.co/485NH8MJUq',\n",
       " \"No Americans in the #FreestyleSkiing women's mogul finals #PyeongChang2018 #Olympics\",\n",
       " 'It seems dangerous and sucky for the athletes but as a viewer, I find the snow falling on the luge and slope style… https://t.co/WnjbLQEza4',\n",
       " \"RT @CBCOlympics: High-flying snowboard crew poised to deliver Canada's 1st medal of Games #PyeongChang2018\\nhttps://t.co/XZxBE1K9lc https://…\",\n",
       " 'One of the announcers just blamed the American skier\\'s failure on \"doing too many photoshoots\" and I think he just… https://t.co/x3QiUasUTT',\n",
       " 'watching the #moguls hurts my knees #PyeongChang2018 #teamusa',\n",
       " 'RT @wick_22: The @Olympics are all about support! #olympics #pyeongchang2018 https://t.co/gKPpSnfqsh',\n",
       " \"RT @JENNIERATIONS: [VID] Lim Hyojun, winner of South Korea's first golden medal at the #PyeongChang2018 games, recommends #BLACKPINK's As I…\",\n",
       " \"RT @JENNIERATIONS: [VID] Lim Hyojun, winner of South Korea's first golden medal at the #PyeongChang2018 games, recommends #BLACKPINK's As I…\",\n",
       " 'RT @nzolympics: Comp start delayed until 3pm NZT\\n#SnowboardSlopestyle\\n#Pyeongchang2018 \\n#EarnTheFern https://t.co/qaudXkA7sN',\n",
       " \"RT @JENNIERATIONS: [VID] Lim Hyojun, winner of South Korea's first golden medal at the #PyeongChang2018 games, recommends #BLACKPINK's As I…\",\n",
       " 'RT @Gfriendnl: GFRIEND YUJU is singing the South Korean national anthem at the #2018Olympics #PyeongChang2018 https://t.co/QgkBmVDCBx',\n",
       " 'RT @TwitterMoments: The #ArmyOfBeauties sang and danced while BTS, Bruno Mars and Kanye West played in the background at #PyeongChang2018 .…',\n",
       " 'RT @olympiko: Hello! 😆👋\\n#김연아 #평창동계올림픽 #2018평창 #올림픽 #pyeongchang2018 #olympics https://t.co/UOQwctR0gO',\n",
       " 'RT @HTC_SarahK: Selfies of the week for #SelfieSunday \\n\\nWho’s going to be watching &amp; cheering on #TeamUSA today? \\n\\n#pyeongchang2018 #Winter…',\n",
       " 'RT @olympicchannel: Start your day right with the @Olympics 🥞😋 #PyeongChang2018 https://t.co/MJYc7cyHjv',\n",
       " \"RT @JENNIERATIONS: [VID] Lim Hyojun, winner of South Korea's first golden medal at the #PyeongChang2018 games, recommends #BLACKPINK's As I…\"]"
      ]
     },
     "execution_count": 49,
     "metadata": {},
     "output_type": "execute_result"
    }
   ],
   "source": [
    "tweet_store[:100]"
   ]
  },
  {
   "cell_type": "markdown",
   "metadata": {},
   "source": [
    "### Getting a USER’s Tweets: user_timeline\n",
    "* Use user_timeline api method to get most recent tweets of a user\n",
    "* Combined with the Cursor method, we can get designated number of tweets from a designed user’s timeline\n",
    "\n"
   ]
  },
  {
   "cell_type": "code",
   "execution_count": 64,
   "metadata": {
    "collapsed": true
   },
   "outputs": [],
   "source": [
    "c = tweepy.Cursor(api.user_timeline, id=\"IndianaMBB\")"
   ]
  },
  {
   "cell_type": "code",
   "execution_count": 65,
   "metadata": {
    "collapsed": true
   },
   "outputs": [],
   "source": [
    "tweet_store = []\n",
    "\n",
    "for status in c.items(100):\n",
    "    statustext = status.text\n",
    "    tweet_store.append(statustext)"
   ]
  },
  {
   "cell_type": "code",
   "execution_count": 66,
   "metadata": {},
   "outputs": [
    {
     "name": "stdout",
     "output_type": "stream",
     "text": [
      "100\n"
     ]
    }
   ],
   "source": [
    "print(len(tweet_store))"
   ]
  },
  {
   "cell_type": "code",
   "execution_count": 67,
   "metadata": {},
   "outputs": [
    {
     "data": {
      "text/plain": [
       "['RT @IndianaMBB: The ⚪️🔴 put on a show last night. #IUBB https://t.co/J2SS7Ur73f',\n",
       " 'Wishing a Happy Birthday to Steve Bouchie today! 🎉 https://t.co/Ul6hWjGHgD',\n",
       " 'The ⚪️🔴 put on a show last night. #IUBB https://t.co/J2SS7Ur73f',\n",
       " 'RT @ToastyToast123: Thank you @Mcswain_Jr21 for taking some time out last night to make my sister’s day! She’s at her happiest attending al…',\n",
       " \"RT @IndianaMBB: 5️⃣ of last night's top plays with Don Fischer on the mic 🎙 #FischersFive #IUBB https://t.co/piAmJwuC5x\"]"
      ]
     },
     "execution_count": 67,
     "metadata": {},
     "output_type": "execute_result"
    }
   ],
   "source": [
    "tweet_store[:5]"
   ]
  },
  {
   "cell_type": "markdown",
   "metadata": {},
   "source": [
    "### LIMITATIONS\n",
    "* Twitter search API is limited to Tweets published in past 7 days\n",
    "* Places considerable restrictions on your final projects\n",
    "* If you want a corpus of tweets from a while ago – no dice*\n",
    "* If you want corpus of tweet produced in next few months…\n",
    "  * make sure you collect tweets within 7 days of the event, or they disappear from API\n",
    "* This limit does not apply to user timelines\n"
   ]
  }
 ],
 "metadata": {
  "kernelspec": {
   "display_name": "Python 3",
   "language": "python",
   "name": "python3"
  },
  "language_info": {
   "codemirror_mode": {
    "name": "ipython",
    "version": 3
   },
   "file_extension": ".py",
   "mimetype": "text/x-python",
   "name": "python",
   "nbconvert_exporter": "python",
   "pygments_lexer": "ipython3",
   "version": "3.6.1"
  }
 },
 "nbformat": 4,
 "nbformat_minor": 2
}
