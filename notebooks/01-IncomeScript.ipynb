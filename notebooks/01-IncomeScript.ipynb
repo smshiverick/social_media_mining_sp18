{
 "cells": [
  {
   "cell_type": "markdown",
   "metadata": {},
   "source": [
    "# Social Media Mining - Python Tutorial\n",
    "\n",
    "## Example: Income Adjustor\n",
    "* If you performance review is 3, you get 10% raise\n",
    "* If it was a 2, you get a 5% raise\n",
    "* If it was a 1, a 1% raise\n",
    "\n",
    "## 1. The Data\n",
    "* List of existing income scores\n",
    "* Write function with conditional statement to adjust the income\n",
    "* Iterate through the data to update the incomes\n",
    "\n",
    "### 1.1 Create variable to represent  list of current incomes and performance review scores. \n",
    "* Variable is a list of tuples\n",
    "* First element in each tuple is the person's review score \n",
    "* Second item is their current income"
   ]
  },
  {
   "cell_type": "code",
   "execution_count": 1,
   "metadata": {
    "collapsed": true
   },
   "outputs": [],
   "source": [
    "olddata = [\n",
    "\t(3, 31000),\n",
    "\t(2, 29000),\n",
    "\t(3, 30500),\n",
    "\t(2, 41000),\n",
    "\t(1, 52000),\n",
    "\t(2, 44000),\n",
    "\t(3, 57000),\n",
    "\t(1, 43000),\n",
    "\t(3, 25000),\n",
    "\t(3, 73000),\n",
    "\t(1, 57000)\n",
    "]"
   ]
  },
  {
   "cell_type": "markdown",
   "metadata": {},
   "source": [
    "##  2. Define a function\n",
    "* Define a function called `addbonus` that takes two arguments: (a) the person's performance review score and (b) their income. \n",
    "* `addbonus` function calculate a new income based on performance review score and returns the new income."
   ]
  },
  {
   "cell_type": "code",
   "execution_count": 2,
   "metadata": {
    "collapsed": true
   },
   "outputs": [],
   "source": [
    "def addbonus(prscore, income):\n",
    "\tif prscore == 3:\n",
    "\t\tnewincome = income + income * 0.1\n",
    "\telif prscore == 2:\n",
    "\t\tnewincome = income + income * 0.05\n",
    "\telif prscore == 1:\n",
    "\t\tnewincome = income + income * 0.01\n",
    "\treturn newincome"
   ]
  },
  {
   "cell_type": "markdown",
   "metadata": {},
   "source": [
    "## 3. Update Incomes list\n",
    "* Initialize an empty list to store the updated incomes\n",
    "* Use a `for` loop to iterate through each item in olddata and calculate a new income for each person. \n",
    "* Store the new incomes in the list `newincomes`."
   ]
  },
  {
   "cell_type": "code",
   "execution_count": 3,
   "metadata": {},
   "outputs": [],
   "source": [
    "newincomes = []\n",
    "\n",
    "for d in olddata:\n",
    "    newincome = addbonus(d[0], d[1])\n",
    "    newincomes.append(newincome)"
   ]
  },
  {
   "cell_type": "markdown",
   "metadata": {},
   "source": [
    "### 3.1 Examine updated income output\n",
    "* Take a look at what updated incomes list looks like."
   ]
  },
  {
   "cell_type": "code",
   "execution_count": 4,
   "metadata": {},
   "outputs": [
    {
     "data": {
      "text/plain": [
       "[34100.0,\n",
       " 30450.0,\n",
       " 33550.0,\n",
       " 43050.0,\n",
       " 52520.0,\n",
       " 46200.0,\n",
       " 62700.0,\n",
       " 43430.0,\n",
       " 27500.0,\n",
       " 80300.0,\n",
       " 57570.0]"
      ]
     },
     "execution_count": 4,
     "metadata": {},
     "output_type": "execute_result"
    }
   ],
   "source": [
    "newincomes"
   ]
  },
  {
   "cell_type": "code",
   "execution_count": null,
   "metadata": {
    "collapsed": true
   },
   "outputs": [],
   "source": []
  }
 ],
 "metadata": {
  "anaconda-cloud": {},
  "kernelspec": {
   "display_name": "Python 3",
   "language": "python",
   "name": "python3"
  },
  "language_info": {
   "codemirror_mode": {
    "name": "ipython",
    "version": 3
   },
   "file_extension": ".py",
   "mimetype": "text/x-python",
   "name": "python",
   "nbconvert_exporter": "python",
   "pygments_lexer": "ipython3",
   "version": "3.6.1"
  }
 },
 "nbformat": 4,
 "nbformat_minor": 1
}
