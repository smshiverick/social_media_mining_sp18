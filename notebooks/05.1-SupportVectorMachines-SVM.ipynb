{
 "cells": [
  {
   "cell_type": "markdown",
   "metadata": {
    "collapsed": true
   },
   "source": [
    "# Social Media Mining: Support Vector Machines\n",
    "### Vincent Malic - Spring 2018\n",
    "## Module 5.1 Support Vector Machines (SVM)\n",
    "* SVMs are mathematically intricate classification models that solve classification problems in a very intuitive, easy-to-gasp manner. \n",
    "* Be familiar with *what* SVMs are and *what they are doing*, but will not cover *how they do it*. \n",
    "* Given training data and labels, scikit-learn will perform mathematical calculations for us. \n",
    "\n",
    "### SVMs perform *classification* \n",
    "* Used in situations where the output is a finite set of labels. \n",
    "* In its most *basic* form, SVMs perform *binary* classification: they assign an input to one of two categories. \n",
    "* SVMs can easily be modified to handle multi-class problems, but we'll cover that later. \n",
    "\n",
    "### Iris dataset\n",
    "* Use only sepal length and sepal width, and for binary classification, leave out *Virginica*. \n",
    "* Classifier makes a binary decision: it either *is* *I. Setosa*, or it isn't (which is another way of saying it's *I. versicolor.*"
   ]
  },
  {
   "cell_type": "code",
   "execution_count": 1,
   "metadata": {
    "collapsed": true
   },
   "outputs": [],
   "source": [
    "from sklearn.datasets import load_iris\n",
    "\n",
    "X = load_iris().data\n",
    "y = load_iris().target\n",
    "\n",
    "# Import first 100 datapoints, not including I.Virginica\n",
    "X, y = X[:100, :], y[:100] \n",
    "\n",
    "setosa_slength = X[:50, 0]\n",
    "setosa_swidth = X[:50, 1]\n",
    "versicolor_slength = X[50:, 0]\n",
    "versicolor_swidth = X[50:, 1]"
   ]
  },
  {
   "cell_type": "markdown",
   "metadata": {},
   "source": [
    "## Binary Classification with SVM\n",
    "* In 2D feature space -Sepal length, Sepal width, depicted on a flat plot. \n",
    "* SVM finds a line that separates all the red data points from all the blue points. \n",
    "* Any new points above line classified as `Setosa` (red), points below line as `Versicolor`"
   ]
  },
  {
   "cell_type": "code",
   "execution_count": 2,
   "metadata": {},
   "outputs": [
    {
     "data": {
      "image/png": "[encoded data removed]",
      "text/plain": [
       "<matplotlib.figure.Figure at 0x11299aa90>"
      ]
     },
     "metadata": {},
     "output_type": "display_data"
    }
   ],
   "source": [
    "%matplotlib inline \n",
    "import matplotlib.pyplot as plt\n",
    "\n",
    "plt.plot(setosa_slength, setosa_swidth, \"ro\", label=\"Setosa\")\n",
    "plt.plot(versicolor_slength, versicolor_swidth, \"bo\", label=\"Versicolor\")\n",
    "plt.xlabel(\"Sepal Length (cm)\")\n",
    "plt.ylabel(\"Sepal Width (cm)\")\n",
    "plt.legend()\n",
    "plt.show()"
   ]
  },
  {
   "cell_type": "markdown",
   "metadata": {},
   "source": [
    "## Multi-feature classification with 3 features\n",
    "* Classification by 3 features: sepal length, sepal width, petal length. \n",
    "* In 3-dimensional plot, SVM finds *2 dimensional plane* - that separates the groups. \n",
    "* In 4-dimensions, SVM finds *3 dimensional hyperplane* that separates the points in 4D space. * With 100 features, SVM finds a n-1 dimensional hyperplane that separates two categories. \n",
    "\n",
    "NOTE: In principle, SVM can find separating hyperplane in a high-dimensional space.\n",
    "\n",
    "### SMV Classification using Scikit-Learn: SVC (\"Support Vector Classifier\")\n",
    "* Import SVM factory method, make an instance of an SVM classifier, \n",
    "* Fit it using the ``fit`` method, Include *all four* of features per iris \n",
    "* P redict using the ``predict`` method.\n",
    "\n",
    "#### Note: Pass argument to the factor function: ``kernel=\"linear\"``"
   ]
  },
  {
   "cell_type": "code",
   "execution_count": 3,
   "metadata": {},
   "outputs": [
    {
     "name": "stdout",
     "output_type": "stream",
     "text": [
      "1.0\n"
     ]
    }
   ],
   "source": [
    "import numpy as np\n",
    "from sklearn.model_selection import train_test_split\n",
    "from sklearn.metrics import accuracy_score\n",
    "\n",
    "np.random.seed(3057)\n",
    "\n",
    "X_train, X_test, y_train, y_test = train_test_split(X, y, test_size=0.33)\n",
    "\n",
    "from sklearn.svm import SVC\n",
    "\n",
    "clf = SVC(kernel=\"linear\")\n",
    "clf.fit(X_train, y_train)\n",
    "y_pred = clf.predict(X_test)\n",
    "print(accuracy_score(y_test, y_pred))"
   ]
  },
  {
   "cell_type": "markdown",
   "metadata": {},
   "source": [
    "### SVM model is trained on four-dimensional data\n",
    "* SVM produced a 3-dim. hyperplane that separated *I. Setosa* from *I. Virginica*. \n",
    "* Returns 100% accuracy on the *unseen* test data.\n",
    "\n",
    "## Linearly Separable\n",
    "* Two categories were *linearly seperable*, that you could draw a line to separate them. \n",
    "* Real world data is often messier, not linearly separable "
   ]
  },
  {
   "cell_type": "code",
   "execution_count": 4,
   "metadata": {},
   "outputs": [
    {
     "data": {
      "image/png": "[encoded data removed]",
      "text/plain": [
       "<matplotlib.figure.Figure at 0x1134edf98>"
      ]
     },
     "metadata": {},
     "output_type": "display_data"
    }
   ],
   "source": [
    "from sklearn.datasets import make_blobs\n",
    "\n",
    "X, y = make_blobs(n_samples=99, n_features=2, random_state=1234)\n",
    "y = y.reshape(-1, 1)\n",
    "d = np.append(X, y, axis=1)\n",
    "cat1x = [x[0] for x in d if x[2]==1]\n",
    "cat1y = [x[1] for x in d if x[2]==1]\n",
    "cat0x = [x[0] for x in d if x[2]==0]\n",
    "cat0y = [x[1] for x in d if x[2]==0]\n",
    "plt.plot(cat0x, cat0y, \"ro\", cat1x, cat1y, \"bo\")\n",
    "plt.show()"
   ]
  },
  {
   "cell_type": "markdown",
   "metadata": {},
   "source": [
    "## SVM finds line optimally separates two clusters\n",
    "* infinite number of lines that you could draw: there are lines at *many* angles that you could draw to cleanly separate these blobs. \n",
    "* SVM finds the one line that produces the \"widest gutter\" between itself and the two blobs. \n",
    "\n",
    "### What SVM does:\n",
    "1. Find points in each cluster closest to the other blob, points known as \"support vectors\".\n",
    "2. Find *the* line that is **maximially** distant from these support vectors."
   ]
  },
  {
   "cell_type": "code",
   "execution_count": 5,
   "metadata": {},
   "outputs": [
    {
     "data": {
      "text/plain": [
       "[<matplotlib.lines.Line2D at 0x1135e7588>,\n",
       " <matplotlib.lines.Line2D at 0x1135e7710>]"
      ]
     },
     "execution_count": 5,
     "metadata": {},
     "output_type": "execute_result"
    },
    {
     "data": {
      "image/png": "[encoded data removed]",
      "text/plain": [
       "<matplotlib.figure.Figure at 0x112e41550>"
      ]
     },
     "metadata": {},
     "output_type": "display_data"
    }
   ],
   "source": [
    "plt.plot(cat0x + [-3], cat0y+[4], \"ro\", cat1x, cat1y, \"bo\")"
   ]
  },
  {
   "cell_type": "markdown",
   "metadata": {},
   "source": [
    "## Outliers and SVM Decision Boundary\n",
    "* Add new red data point at coordinates $(-3, 4)$, and outlier red point \n",
    "* For SVM to find the \"best\" line, it threads line between red outlier and blue cluster. \n",
    "* Decision boundary is pushed far closer to blue blob than mass of the red blob. \n",
    "\n",
    "###  Misclassification and **Overfitting** \n",
    "* To accomodate red outlier, boundary line is pushed far closer to blue side \n",
    "* Tradeoff: extremely strict SVM accepts **no misclassifications**, may generalize poorly. \n",
    "* More \"forgiving\" SVM accepts some misclassifications for more generalizable line. \n",
    "\n",
    "## SVM Hyperparameter ``C`` = \"cost\"\n",
    "* Conceptually ``C`` represents the penalty for every point on the \"wrong\" side of the line. \n",
    "* Each misclassification penalizes one point, SVM algorithm finds line that keeps cost as low as possible. \n",
    "* Value of ``C`` becomes more important with data that *isn't* linearly separable. \n",
    "\n",
    "### Default value for ``C`` is 1.0. \n",
    "* Low value of ``C`` (0.01) SVM accept more misclassifications as it finds a line\n",
    "* High value of ``C`` (1000), SVM threads a line between two clusters with as few errors as possible \n",
    "\n",
    "You set a value of ``C`` when you create your classifier using the SVC factory function:\n",
    "```python\n",
    "clf = SVM(C=1000.0, kernel=\"linear\") # A very unforgiving SVM\n",
    "clf = SVM(C=0.0001, kernel=\"linear\") # A very forgiving SVM\n",
    "```\n",
    "### More Complicated Example:\n",
    "* SVM classifier has to make misclassification errors\n",
    "* Experiment with different values of ``C`` to find the optimal line.\n",
    "* Same ``C`` parameter applies regardless of feature dimensionality."
   ]
  },
  {
   "cell_type": "code",
   "execution_count": 6,
   "metadata": {},
   "outputs": [
    {
     "data": {
      "image/png": "[encoded data removed]",
      "text/plain": [
       "<matplotlib.figure.Figure at 0x1136df1d0>"
      ]
     },
     "metadata": {},
     "output_type": "display_data"
    }
   ],
   "source": [
    "X, y = make_blobs(n_samples=500, n_features=2, random_state=1234, centers=[[1, 1], [-1, -1]])\n",
    "y = y.reshape(-1, 1)\n",
    "d = np.append(X, y, axis=1)\n",
    "cat1x = [x[0] for x in d if x[2]==1]\n",
    "cat1y = [x[1] for x in d if x[2]==1]\n",
    "cat0x = [x[0] for x in d if x[2]==0]\n",
    "cat0y = [x[1] for x in d if x[2]==0]\n",
    "plt.plot(cat0x, cat0y, \"ro\", cat1x, cat1y, \"bo\")\n",
    "plt.show()"
   ]
  },
  {
   "cell_type": "markdown",
   "metadata": {},
   "source": [
    "# Kernels\n",
    "\n",
    "## Rexpressing Data in Higher Dimensions\n",
    "* With high-dimensional that defies linear separability, SVM searches for best separating hyperplane.\n",
    "* Classifier needs to separate blue dots in outer ring from red dots in the inner ring. \n",
    "* Examples below [from Eric Kim](http://www.eric-kim.net/eric-kim-net/posts/1/kernel_trick.html)\n",
    "<img src=\"http://ella.ils.indiana.edu/~vmalic/z639/tworings.png\">\n",
    "\n",
    "### Interesting approach: increasing the dimensionality of the data. \n",
    "* Each point has two features $(x, y)$: x-value, y-value. \n",
    "* Add third dimension and project 2D data into three dimensions \n",
    "* Representing each data point with *three coordinates* will be particularly useful if we do it like this: $(x, y, x^2 + y^2)$. \n",
    "\n",
    "The new coordinate in the third dim. is sum of first coordinate squared and the second coordinate squared. \n",
    "\n",
    "### Now plot the result in 3-dimensions:\n",
    "\n",
    "<img src=\"http://ella.ils.indiana.edu/~vmalic/z639/tworings_sep.png\">"
   ]
  },
  {
   "cell_type": "markdown",
   "metadata": {},
   "source": [
    "### Re-expressing the data in *higher-dimensions* \n",
    "* Follows specific formula; transformed data is **not** linearly seperable in **2 dimensions** is now linearly seperable in **3 dimensions**.\n",
    "\n",
    "### SVM dealing with $n$ dimensions, \n",
    "* SVM tries to find an $n-1$ hyperplane that separates the data. \n",
    "* In re-expressed data with 3 dimensions, SVM finds 3-1=2 dimensional hyperplane to separate the data: 2D hyperplane is just a plane. \n",
    "* Image on right shows you could insert a \"sheet of paper\" between the re-expressed blue and red groups. \n",
    "\n",
    "This is exactly what an SVM would do in this situation. \n",
    "\n",
    "We can actually back-transform the hyperplane onto the original 2-dimensional plot:\n",
    "\n",
    "<img src=\"http://ella.ils.indiana.edu/~vmalic/z639/tworings_back.png\">\n",
    "\n",
    "#### Note: SVM plane in 3 dimensions is a circle in the original dimensionality. \n",
    "* Increasing the dimensionality of the data is a form of **adding non-linearity to SVMs**. "
   ]
  },
  {
   "cell_type": "markdown",
   "metadata": {},
   "source": [
    "# Enter the Kernel\n",
    "* Given a dataset with $n$-dimensions, how do we express the higher dimensions? \n",
    "* How many dimensions do we need? If 3 didn't work, should we try 4? 10? 100? \n",
    "* Even if we did know how to re-express the data, this becomes computationally expensive. \n",
    "\n",
    "## **the kernel trick**. \n",
    "* [Eric Kim's blog post](http://www.eric-kim.net/eric-kim-net/posts/1/kernel_trick.html)\n",
    "* Set of kernels that have become \"standardized\" in that they work well in many situations. \n",
    "\n",
    "### Kernels address the problems described above by: \n",
    "* Increase the dimensionality of the data in a computationally cheap way.  \n",
    "* Scikit-learn offers: *radial basis function* RBF kernel and the *polynomial kernel*.\n",
    "* New hyperparameter that we have to designate when initializing an SVM. \n",
    "\n",
    "```python\n",
    "clf = SVC(kernel=\"linear\") # The \"standard\" SVM. \n",
    "clf = SVC(kernel=\"rbf\") # Radial basis function SVM\n",
    "clf = SVC(kernel=\"poly\", degree=2) # 2 degree polynomial \n",
    "```\n",
    "\n",
    "### Kernel parameters\n",
    "* ``RBF`` function is default kernel in scikit-learnEffective \n",
    "* ``kernel=\"linear\"`` recommended as starting point, try rbf is data is not linearly separable.\n",
    "* ``polynomial`` kernel adds *yet another* hyperparameter, the degree of the polynomial. \n",
    "\n",
    "\n",
    "# Multi-class classification \n",
    "* Scikit-learn promotes an SVM to multi-class problems through **one-vs-one** scheme. \n",
    "* With three classes (A, B, C) simply train multiple SVMs: A vs. B, A vs. C, and B vs. C. \n",
    "* When a new data point comes in, see what all 3 classifiers predict and choose the one that has the greatest margin; that is, choose the one where the point is \"furthest away\" from the decision boundary. \n",
    "\n",
    "## Note: if you have $n$ output classes: \n",
    "* The one-vs-one scheme will train $\\frac{n(n-1)}{2}$ separate classifiers. \n",
    "* If you have a huge number of classes, this will become computationally expensive to compute. \n",
    "\n",
    "### Scikit-learn's SVM functionalities automatically handle multi-class problems. \n",
    "* If it notices there are more than two categories in your label vector ``y``, it adjusts accordingly.\n",
    "\n",
    "\n",
    "\n",
    "# Visualizing Kernels\n",
    "* Visualizing decision boundaries discovered by a multi-class SVM on Iris data using different kernels. \n",
    "* In case of ``rbf`` and ``poly`` kernels, remember that in these instances the data was re-expressed in higher dimensions, so the decision boundaries you see are the ones that are projected back into two dimensions. \n",
    "* As we saw above, this allows non-linear boundaries, which is why the decision boundaries are curved in those instances.\n",
    "\n",
    "### Upper right visualization of \"LinearSVC (Linear Kernel)\" \n",
    "* Refers to a second implementation of linear SVMs that scikit-learn has. \n",
    "* Unlikely that we'll encounter data where the difference between ``SVC(kernel=\"linear\")`` and ``LinearSVC`` will be significant. \n",
    "* Read about the distinction on scikit-learn's documentation.\n",
    "\n",
    "\n",
    "<img src=\"http://ella.ils.indiana.edu/~vmalic/z639/kernels.png\">"
   ]
  },
  {
   "cell_type": "code",
   "execution_count": null,
   "metadata": {
    "collapsed": true
   },
   "outputs": [],
   "source": []
  }
 ],
 "metadata": {
  "anaconda-cloud": {},
  "kernelspec": {
   "display_name": "Python 3",
   "language": "python",
   "name": "python3"
  },
  "language_info": {
   "codemirror_mode": {
    "name": "ipython",
    "version": 3
   },
   "file_extension": ".py",
   "mimetype": "text/x-python",
   "name": "python",
   "nbconvert_exporter": "python",
   "pygments_lexer": "ipython3",
   "version": "3.6.1"
  }
 },
 "nbformat": 4,
 "nbformat_minor": 1
}
