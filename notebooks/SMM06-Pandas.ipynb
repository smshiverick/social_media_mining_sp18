{
 "cells": [
  {
   "cell_type": "markdown",
   "metadata": {},
   "source": [
    "# Social Media Mining: PANDAS\n",
    "### Vincent Malic - Spring 2018\n",
    "## Module 6.1 Python Pandas Library\n",
    "\n",
    "## Working with data in Tables\n",
    "* Here is a sample dataset, a list of lists\n",
    "* Four lists, with four attributes or features"
   ]
  },
  {
   "cell_type": "code",
   "execution_count": 1,
   "metadata": {
    "collapsed": true
   },
   "outputs": [],
   "source": [
    "data = [[\"Oleg\", 25, \"Student\", \"Computer Science\"],\n",
    "       [\"Anaya\", 23, \"Student\", \"informatics\"],\n",
    "       [\"Xiuying\", 43, \"Professor\", \"Statistics\"],\n",
    "       [\"Robert\", 62, \"Professor\", \"Computer Science\"]]"
   ]
  },
  {
   "cell_type": "markdown",
   "metadata": {},
   "source": [
    "## Find the department a person is in:\n",
    "* One approach is to use indexing to slice the data set"
   ]
  },
  {
   "cell_type": "code",
   "execution_count": 2,
   "metadata": {},
   "outputs": [
    {
     "data": {
      "text/plain": [
       "'Statistics'"
      ]
     },
     "execution_count": 2,
     "metadata": {},
     "output_type": "execute_result"
    }
   ],
   "source": [
    "data[2][3]"
   ]
  },
  {
   "cell_type": "markdown",
   "metadata": {},
   "source": [
    "### If we don't know the department \n",
    "* Can iterate throught the dataset, list by list\n",
    "* Unit it hits on given name and returns the desired info"
   ]
  },
  {
   "cell_type": "code",
   "execution_count": 3,
   "metadata": {},
   "outputs": [
    {
     "name": "stdout",
     "output_type": "stream",
     "text": [
      "Statistics\n"
     ]
    }
   ],
   "source": [
    "for row in data:\n",
    "    name = row[0]\n",
    "    if name == \"Xiuying\":\n",
    "        department = row[3]\n",
    "        print(department)"
   ]
  },
  {
   "cell_type": "markdown",
   "metadata": {},
   "source": [
    "# Pandas `DataFrame` object\n",
    "* Data is organized in table format, DataFrame in table format\n",
    "* We can call pandas data frame function with data as argument\n",
    "* Returns a dataframe, and we add column names"
   ]
  },
  {
   "cell_type": "code",
   "execution_count": 4,
   "metadata": {
    "collapsed": true
   },
   "outputs": [],
   "source": [
    "import pandas as pd"
   ]
  },
  {
   "cell_type": "code",
   "execution_count": 5,
   "metadata": {},
   "outputs": [
    {
     "data": {
      "text/html": [
       "<div>\n",
       "<style>\n",
       "    .dataframe thead tr:only-child th {\n",
       "        text-align: right;\n",
       "    }\n",
       "\n",
       "    .dataframe thead th {\n",
       "        text-align: left;\n",
       "    }\n",
       "\n",
       "    .dataframe tbody tr th {\n",
       "        vertical-align: top;\n",
       "    }\n",
       "</style>\n",
       "<table border=\"1\" class=\"dataframe\">\n",
       "  <thead>\n",
       "    <tr style=\"text-align: right;\">\n",
       "      <th></th>\n",
       "      <th>0</th>\n",
       "      <th>1</th>\n",
       "      <th>2</th>\n",
       "      <th>3</th>\n",
       "    </tr>\n",
       "  </thead>\n",
       "  <tbody>\n",
       "    <tr>\n",
       "      <th>0</th>\n",
       "      <td>Oleg</td>\n",
       "      <td>25</td>\n",
       "      <td>Student</td>\n",
       "      <td>Computer Science</td>\n",
       "    </tr>\n",
       "    <tr>\n",
       "      <th>1</th>\n",
       "      <td>Anaya</td>\n",
       "      <td>23</td>\n",
       "      <td>Student</td>\n",
       "      <td>informatics</td>\n",
       "    </tr>\n",
       "    <tr>\n",
       "      <th>2</th>\n",
       "      <td>Xiuying</td>\n",
       "      <td>43</td>\n",
       "      <td>Professor</td>\n",
       "      <td>Statistics</td>\n",
       "    </tr>\n",
       "    <tr>\n",
       "      <th>3</th>\n",
       "      <td>Robert</td>\n",
       "      <td>62</td>\n",
       "      <td>Professor</td>\n",
       "      <td>Computer Science</td>\n",
       "    </tr>\n",
       "  </tbody>\n",
       "</table>\n",
       "</div>"
      ],
      "text/plain": [
       "         0   1          2                 3\n",
       "0     Oleg  25    Student  Computer Science\n",
       "1    Anaya  23    Student       informatics\n",
       "2  Xiuying  43  Professor        Statistics\n",
       "3   Robert  62  Professor  Computer Science"
      ]
     },
     "execution_count": 5,
     "metadata": {},
     "output_type": "execute_result"
    }
   ],
   "source": [
    "df = pd.DataFrame(data)\n",
    "df"
   ]
  },
  {
   "cell_type": "code",
   "execution_count": 6,
   "metadata": {},
   "outputs": [
    {
     "data": {
      "text/html": [
       "<div>\n",
       "<style>\n",
       "    .dataframe thead tr:only-child th {\n",
       "        text-align: right;\n",
       "    }\n",
       "\n",
       "    .dataframe thead th {\n",
       "        text-align: left;\n",
       "    }\n",
       "\n",
       "    .dataframe tbody tr th {\n",
       "        vertical-align: top;\n",
       "    }\n",
       "</style>\n",
       "<table border=\"1\" class=\"dataframe\">\n",
       "  <thead>\n",
       "    <tr style=\"text-align: right;\">\n",
       "      <th></th>\n",
       "      <th>Name</th>\n",
       "      <th>Age</th>\n",
       "      <th>Status</th>\n",
       "      <th>Department</th>\n",
       "    </tr>\n",
       "  </thead>\n",
       "  <tbody>\n",
       "    <tr>\n",
       "      <th>0</th>\n",
       "      <td>Oleg</td>\n",
       "      <td>25</td>\n",
       "      <td>Student</td>\n",
       "      <td>Computer Science</td>\n",
       "    </tr>\n",
       "    <tr>\n",
       "      <th>1</th>\n",
       "      <td>Anaya</td>\n",
       "      <td>23</td>\n",
       "      <td>Student</td>\n",
       "      <td>informatics</td>\n",
       "    </tr>\n",
       "    <tr>\n",
       "      <th>2</th>\n",
       "      <td>Xiuying</td>\n",
       "      <td>43</td>\n",
       "      <td>Professor</td>\n",
       "      <td>Statistics</td>\n",
       "    </tr>\n",
       "    <tr>\n",
       "      <th>3</th>\n",
       "      <td>Robert</td>\n",
       "      <td>62</td>\n",
       "      <td>Professor</td>\n",
       "      <td>Computer Science</td>\n",
       "    </tr>\n",
       "  </tbody>\n",
       "</table>\n",
       "</div>"
      ],
      "text/plain": [
       "      Name  Age     Status        Department\n",
       "0     Oleg   25    Student  Computer Science\n",
       "1    Anaya   23    Student       informatics\n",
       "2  Xiuying   43  Professor        Statistics\n",
       "3   Robert   62  Professor  Computer Science"
      ]
     },
     "execution_count": 6,
     "metadata": {},
     "output_type": "execute_result"
    }
   ],
   "source": [
    "df.columns = [\"Name\", \"Age\", \"Status\", \"Department\"]\n",
    "df"
   ]
  },
  {
   "cell_type": "markdown",
   "metadata": {},
   "source": [
    "### Select data using indexing and column names"
   ]
  },
  {
   "cell_type": "code",
   "execution_count": 7,
   "metadata": {},
   "outputs": [
    {
     "data": {
      "text/plain": [
       "'Statistics'"
      ]
     },
     "execution_count": 7,
     "metadata": {},
     "output_type": "execute_result"
    }
   ],
   "source": [
    "df.loc[2]['Department']"
   ]
  },
  {
   "cell_type": "markdown",
   "metadata": {},
   "source": [
    "# Load Social Media Data\n",
    "* Initialize empty list for tweet_data\n",
    "* Iterate over 500 tweets, select key info about tweet\n",
    "* Append info into the tweet_data list"
   ]
  },
  {
   "cell_type": "code",
   "execution_count": 8,
   "metadata": {
    "collapsed": true
   },
   "outputs": [],
   "source": [
    "API_KEY = \"\"\n",
    "API_SECRET = \"\""
   ]
  },
  {
   "cell_type": "code",
   "execution_count": 9,
   "metadata": {
    "collapsed": true
   },
   "outputs": [],
   "source": [
    "import tweepy\n",
    "\n",
    "auth = tweepy.AppAuthHandler(API_KEY, API_SECRET)\n",
    "api = tweepy.API(auth, wait_on_rate_limit=True, wait_on_rate_limit_notify=True)\n",
    "\n",
    "c = tweepy.Cursor(api.user_timeline, id=\"IUBloomington\")"
   ]
  },
  {
   "cell_type": "code",
   "execution_count": 10,
   "metadata": {},
   "outputs": [],
   "source": [
    "tweet_data = []\n",
    "\n",
    "for tweet in c.items(500):\n",
    "    tid = tweet.id\n",
    "    hour_created = tweet.created_at.hour\n",
    "    favorite_count = tweet.favorite_count\n",
    "    retweet_count = tweet.retweet_count\n",
    "    source = tweet.source\n",
    "    text = tweet.text\n",
    "    this_tweet = [tid, hour_created, source, text, favorite_count, retweet_count]\n",
    "    tweet_data.append(this_tweet)\n",
    "    "
   ]
  },
  {
   "cell_type": "code",
   "execution_count": 11,
   "metadata": {},
   "outputs": [
    {
     "data": {
      "text/plain": [
       "[[967145459054718976,\n",
       "  21,\n",
       "  'Twitter Web Client',\n",
       "  'RT @IUStudentLife: Come celebrate Black History Month with @IULateNite at the @OfficialIMU tonight! From 9pm to 1am, dance, do arts and cra…',\n",
       "  0,\n",
       "  2],\n",
       " [967145385650278402,\n",
       "  21,\n",
       "  'Twitter Web Client',\n",
       "  'RT @unionboard: Come celebrate Black History Month with Late Nite! TONIGHT from 9PM-1AM, join us in the Union Commons for music, food, game…',\n",
       "  0,\n",
       "  3]]"
      ]
     },
     "execution_count": 11,
     "metadata": {},
     "output_type": "execute_result"
    }
   ],
   "source": [
    "tweet_data[:2]"
   ]
  },
  {
   "cell_type": "markdown",
   "metadata": {},
   "source": [
    "## Put tweet_data into Pandas dataFrame\n",
    "* Use dataFrame function, with tweet_data as argument\n",
    "* Label the column so that we can subset dataFrame\n",
    "* Designate twitter id \"tid\" as index label"
   ]
  },
  {
   "cell_type": "code",
   "execution_count": 12,
   "metadata": {},
   "outputs": [
    {
     "data": {
      "text/html": [
       "<div>\n",
       "<style>\n",
       "    .dataframe thead tr:only-child th {\n",
       "        text-align: right;\n",
       "    }\n",
       "\n",
       "    .dataframe thead th {\n",
       "        text-align: left;\n",
       "    }\n",
       "\n",
       "    .dataframe tbody tr th {\n",
       "        vertical-align: top;\n",
       "    }\n",
       "</style>\n",
       "<table border=\"1\" class=\"dataframe\">\n",
       "  <thead>\n",
       "    <tr style=\"text-align: right;\">\n",
       "      <th></th>\n",
       "      <th>tid</th>\n",
       "      <th>hour_created</th>\n",
       "      <th>source</th>\n",
       "      <th>text</th>\n",
       "      <th>favorite_count</th>\n",
       "      <th>retweet_count</th>\n",
       "    </tr>\n",
       "  </thead>\n",
       "  <tbody>\n",
       "    <tr>\n",
       "      <th>0</th>\n",
       "      <td>967145459054718976</td>\n",
       "      <td>21</td>\n",
       "      <td>Twitter Web Client</td>\n",
       "      <td>RT @IUStudentLife: Come celebrate Black Histor...</td>\n",
       "      <td>0</td>\n",
       "      <td>2</td>\n",
       "    </tr>\n",
       "    <tr>\n",
       "      <th>1</th>\n",
       "      <td>967145385650278402</td>\n",
       "      <td>21</td>\n",
       "      <td>Twitter Web Client</td>\n",
       "      <td>RT @unionboard: Come celebrate Black History M...</td>\n",
       "      <td>0</td>\n",
       "      <td>3</td>\n",
       "    </tr>\n",
       "    <tr>\n",
       "      <th>2</th>\n",
       "      <td>967122650047963136</td>\n",
       "      <td>19</td>\n",
       "      <td>Twitter Web Client</td>\n",
       "      <td>Before tonight's @IndianaMBB game, meet the 3 ...</td>\n",
       "      <td>18</td>\n",
       "      <td>5</td>\n",
       "    </tr>\n",
       "    <tr>\n",
       "      <th>3</th>\n",
       "      <td>967120052343525379</td>\n",
       "      <td>19</td>\n",
       "      <td>Twitter Web Client</td>\n",
       "      <td>RT @IndianaMBB: One last time for our seniors ...</td>\n",
       "      <td>0</td>\n",
       "      <td>63</td>\n",
       "    </tr>\n",
       "    <tr>\n",
       "      <th>4</th>\n",
       "      <td>967119396874457088</td>\n",
       "      <td>19</td>\n",
       "      <td>Twitter Web Client</td>\n",
       "      <td>RT @InsideIU: Campus Commute, which transports...</td>\n",
       "      <td>0</td>\n",
       "      <td>3</td>\n",
       "    </tr>\n",
       "  </tbody>\n",
       "</table>\n",
       "</div>"
      ],
      "text/plain": [
       "                  tid  hour_created              source  \\\n",
       "0  967145459054718976            21  Twitter Web Client   \n",
       "1  967145385650278402            21  Twitter Web Client   \n",
       "2  967122650047963136            19  Twitter Web Client   \n",
       "3  967120052343525379            19  Twitter Web Client   \n",
       "4  967119396874457088            19  Twitter Web Client   \n",
       "\n",
       "                                                text  favorite_count  \\\n",
       "0  RT @IUStudentLife: Come celebrate Black Histor...               0   \n",
       "1  RT @unionboard: Come celebrate Black History M...               0   \n",
       "2  Before tonight's @IndianaMBB game, meet the 3 ...              18   \n",
       "3  RT @IndianaMBB: One last time for our seniors ...               0   \n",
       "4  RT @InsideIU: Campus Commute, which transports...               0   \n",
       "\n",
       "   retweet_count  \n",
       "0              2  \n",
       "1              3  \n",
       "2              5  \n",
       "3             63  \n",
       "4              3  "
      ]
     },
     "execution_count": 12,
     "metadata": {},
     "output_type": "execute_result"
    }
   ],
   "source": [
    "df = pd.DataFrame(tweet_data)\n",
    "df.columns = [\"tid\",\"hour_created\",\"source\",\"text\",\"favorite_count\",\"retweet_count\"]\n",
    "\n",
    "df.head()"
   ]
  },
  {
   "cell_type": "code",
   "execution_count": 14,
   "metadata": {},
   "outputs": [
    {
     "data": {
      "text/html": [
       "<div>\n",
       "<style>\n",
       "    .dataframe thead tr:only-child th {\n",
       "        text-align: right;\n",
       "    }\n",
       "\n",
       "    .dataframe thead th {\n",
       "        text-align: left;\n",
       "    }\n",
       "\n",
       "    .dataframe tbody tr th {\n",
       "        vertical-align: top;\n",
       "    }\n",
       "</style>\n",
       "<table border=\"1\" class=\"dataframe\">\n",
       "  <thead>\n",
       "    <tr style=\"text-align: right;\">\n",
       "      <th></th>\n",
       "      <th>tid</th>\n",
       "      <th>hour_created</th>\n",
       "      <th>source</th>\n",
       "      <th>text</th>\n",
       "      <th>favorite_count</th>\n",
       "      <th>retweet_count</th>\n",
       "    </tr>\n",
       "    <tr>\n",
       "      <th>tid</th>\n",
       "      <th></th>\n",
       "      <th></th>\n",
       "      <th></th>\n",
       "      <th></th>\n",
       "      <th></th>\n",
       "      <th></th>\n",
       "    </tr>\n",
       "  </thead>\n",
       "  <tbody>\n",
       "    <tr>\n",
       "      <th>967145459054718976</th>\n",
       "      <td>967145459054718976</td>\n",
       "      <td>21</td>\n",
       "      <td>Twitter Web Client</td>\n",
       "      <td>RT @IUStudentLife: Come celebrate Black Histor...</td>\n",
       "      <td>0</td>\n",
       "      <td>2</td>\n",
       "    </tr>\n",
       "    <tr>\n",
       "      <th>967145385650278402</th>\n",
       "      <td>967145385650278402</td>\n",
       "      <td>21</td>\n",
       "      <td>Twitter Web Client</td>\n",
       "      <td>RT @unionboard: Come celebrate Black History M...</td>\n",
       "      <td>0</td>\n",
       "      <td>3</td>\n",
       "    </tr>\n",
       "    <tr>\n",
       "      <th>967122650047963136</th>\n",
       "      <td>967122650047963136</td>\n",
       "      <td>19</td>\n",
       "      <td>Twitter Web Client</td>\n",
       "      <td>Before tonight's @IndianaMBB game, meet the 3 ...</td>\n",
       "      <td>18</td>\n",
       "      <td>5</td>\n",
       "    </tr>\n",
       "    <tr>\n",
       "      <th>967120052343525379</th>\n",
       "      <td>967120052343525379</td>\n",
       "      <td>19</td>\n",
       "      <td>Twitter Web Client</td>\n",
       "      <td>RT @IndianaMBB: One last time for our seniors ...</td>\n",
       "      <td>0</td>\n",
       "      <td>63</td>\n",
       "    </tr>\n",
       "    <tr>\n",
       "      <th>967119396874457088</th>\n",
       "      <td>967119396874457088</td>\n",
       "      <td>19</td>\n",
       "      <td>Twitter Web Client</td>\n",
       "      <td>RT @InsideIU: Campus Commute, which transports...</td>\n",
       "      <td>0</td>\n",
       "      <td>3</td>\n",
       "    </tr>\n",
       "  </tbody>\n",
       "</table>\n",
       "</div>"
      ],
      "text/plain": [
       "                                   tid  hour_created              source  \\\n",
       "tid                                                                        \n",
       "967145459054718976  967145459054718976            21  Twitter Web Client   \n",
       "967145385650278402  967145385650278402            21  Twitter Web Client   \n",
       "967122650047963136  967122650047963136            19  Twitter Web Client   \n",
       "967120052343525379  967120052343525379            19  Twitter Web Client   \n",
       "967119396874457088  967119396874457088            19  Twitter Web Client   \n",
       "\n",
       "                                                                 text  \\\n",
       "tid                                                                     \n",
       "967145459054718976  RT @IUStudentLife: Come celebrate Black Histor...   \n",
       "967145385650278402  RT @unionboard: Come celebrate Black History M...   \n",
       "967122650047963136  Before tonight's @IndianaMBB game, meet the 3 ...   \n",
       "967120052343525379  RT @IndianaMBB: One last time for our seniors ...   \n",
       "967119396874457088  RT @InsideIU: Campus Commute, which transports...   \n",
       "\n",
       "                    favorite_count  retweet_count  \n",
       "tid                                                \n",
       "967145459054718976               0              2  \n",
       "967145385650278402               0              3  \n",
       "967122650047963136              18              5  \n",
       "967120052343525379               0             63  \n",
       "967119396874457088               0              3  "
      ]
     },
     "execution_count": 14,
     "metadata": {},
     "output_type": "execute_result"
    }
   ],
   "source": [
    "df.index = df['tid']\n",
    "df.head()"
   ]
  },
  {
   "cell_type": "code",
   "execution_count": 15,
   "metadata": {},
   "outputs": [
    {
     "data": {
      "text/html": [
       "<div>\n",
       "<style>\n",
       "    .dataframe thead tr:only-child th {\n",
       "        text-align: right;\n",
       "    }\n",
       "\n",
       "    .dataframe thead th {\n",
       "        text-align: left;\n",
       "    }\n",
       "\n",
       "    .dataframe tbody tr th {\n",
       "        vertical-align: top;\n",
       "    }\n",
       "</style>\n",
       "<table border=\"1\" class=\"dataframe\">\n",
       "  <thead>\n",
       "    <tr style=\"text-align: right;\">\n",
       "      <th></th>\n",
       "      <th>hour_created</th>\n",
       "      <th>source</th>\n",
       "      <th>text</th>\n",
       "      <th>favorite_count</th>\n",
       "      <th>retweet_count</th>\n",
       "    </tr>\n",
       "    <tr>\n",
       "      <th>tid</th>\n",
       "      <th></th>\n",
       "      <th></th>\n",
       "      <th></th>\n",
       "      <th></th>\n",
       "      <th></th>\n",
       "    </tr>\n",
       "  </thead>\n",
       "  <tbody>\n",
       "    <tr>\n",
       "      <th>967145459054718976</th>\n",
       "      <td>21</td>\n",
       "      <td>Twitter Web Client</td>\n",
       "      <td>RT @IUStudentLife: Come celebrate Black Histor...</td>\n",
       "      <td>0</td>\n",
       "      <td>2</td>\n",
       "    </tr>\n",
       "    <tr>\n",
       "      <th>967145385650278402</th>\n",
       "      <td>21</td>\n",
       "      <td>Twitter Web Client</td>\n",
       "      <td>RT @unionboard: Come celebrate Black History M...</td>\n",
       "      <td>0</td>\n",
       "      <td>3</td>\n",
       "    </tr>\n",
       "    <tr>\n",
       "      <th>967122650047963136</th>\n",
       "      <td>19</td>\n",
       "      <td>Twitter Web Client</td>\n",
       "      <td>Before tonight's @IndianaMBB game, meet the 3 ...</td>\n",
       "      <td>18</td>\n",
       "      <td>5</td>\n",
       "    </tr>\n",
       "    <tr>\n",
       "      <th>967120052343525379</th>\n",
       "      <td>19</td>\n",
       "      <td>Twitter Web Client</td>\n",
       "      <td>RT @IndianaMBB: One last time for our seniors ...</td>\n",
       "      <td>0</td>\n",
       "      <td>63</td>\n",
       "    </tr>\n",
       "    <tr>\n",
       "      <th>967119396874457088</th>\n",
       "      <td>19</td>\n",
       "      <td>Twitter Web Client</td>\n",
       "      <td>RT @InsideIU: Campus Commute, which transports...</td>\n",
       "      <td>0</td>\n",
       "      <td>3</td>\n",
       "    </tr>\n",
       "  </tbody>\n",
       "</table>\n",
       "</div>"
      ],
      "text/plain": [
       "                    hour_created              source  \\\n",
       "tid                                                    \n",
       "967145459054718976            21  Twitter Web Client   \n",
       "967145385650278402            21  Twitter Web Client   \n",
       "967122650047963136            19  Twitter Web Client   \n",
       "967120052343525379            19  Twitter Web Client   \n",
       "967119396874457088            19  Twitter Web Client   \n",
       "\n",
       "                                                                 text  \\\n",
       "tid                                                                     \n",
       "967145459054718976  RT @IUStudentLife: Come celebrate Black Histor...   \n",
       "967145385650278402  RT @unionboard: Come celebrate Black History M...   \n",
       "967122650047963136  Before tonight's @IndianaMBB game, meet the 3 ...   \n",
       "967120052343525379  RT @IndianaMBB: One last time for our seniors ...   \n",
       "967119396874457088  RT @InsideIU: Campus Commute, which transports...   \n",
       "\n",
       "                    favorite_count  retweet_count  \n",
       "tid                                                \n",
       "967145459054718976               0              2  \n",
       "967145385650278402               0              3  \n",
       "967122650047963136              18              5  \n",
       "967120052343525379               0             63  \n",
       "967119396874457088               0              3  "
      ]
     },
     "execution_count": 15,
     "metadata": {},
     "output_type": "execute_result"
    }
   ],
   "source": [
    "del df['tid']\n",
    "df.head()"
   ]
  },
  {
   "cell_type": "markdown",
   "metadata": {},
   "source": [
    "## Selecting Columns in a DataFrame\n",
    "* Subset the dataset, select a column using name inside bracket notation\n",
    "* Subset by list of strings, to return more than one column"
   ]
  },
  {
   "cell_type": "code",
   "execution_count": 24,
   "metadata": {},
   "outputs": [
    {
     "data": {
      "text/plain": [
       "tid\n",
       "967145459054718976    RT @IUStudentLife: Come celebrate Black Histor...\n",
       "967145385650278402    RT @unionboard: Come celebrate Black History M...\n",
       "967122650047963136    Before tonight's @IndianaMBB game, meet the 3 ...\n",
       "967120052343525379    RT @IndianaMBB: One last time for our seniors ...\n",
       "967119396874457088    RT @InsideIU: Campus Commute, which transports...\n",
       "Name: text, dtype: object"
      ]
     },
     "execution_count": 24,
     "metadata": {},
     "output_type": "execute_result"
    }
   ],
   "source": [
    "sample = df.head()\n",
    "sample[\"text\"]"
   ]
  },
  {
   "cell_type": "code",
   "execution_count": 19,
   "metadata": {},
   "outputs": [
    {
     "data": {
      "text/html": [
       "<div>\n",
       "<style>\n",
       "    .dataframe thead tr:only-child th {\n",
       "        text-align: right;\n",
       "    }\n",
       "\n",
       "    .dataframe thead th {\n",
       "        text-align: left;\n",
       "    }\n",
       "\n",
       "    .dataframe tbody tr th {\n",
       "        vertical-align: top;\n",
       "    }\n",
       "</style>\n",
       "<table border=\"1\" class=\"dataframe\">\n",
       "  <thead>\n",
       "    <tr style=\"text-align: right;\">\n",
       "      <th></th>\n",
       "      <th>hour_created</th>\n",
       "      <th>source</th>\n",
       "    </tr>\n",
       "    <tr>\n",
       "      <th>tid</th>\n",
       "      <th></th>\n",
       "      <th></th>\n",
       "    </tr>\n",
       "  </thead>\n",
       "  <tbody>\n",
       "    <tr>\n",
       "      <th>967145459054718976</th>\n",
       "      <td>21</td>\n",
       "      <td>Twitter Web Client</td>\n",
       "    </tr>\n",
       "    <tr>\n",
       "      <th>967145385650278402</th>\n",
       "      <td>21</td>\n",
       "      <td>Twitter Web Client</td>\n",
       "    </tr>\n",
       "    <tr>\n",
       "      <th>967122650047963136</th>\n",
       "      <td>19</td>\n",
       "      <td>Twitter Web Client</td>\n",
       "    </tr>\n",
       "    <tr>\n",
       "      <th>967120052343525379</th>\n",
       "      <td>19</td>\n",
       "      <td>Twitter Web Client</td>\n",
       "    </tr>\n",
       "    <tr>\n",
       "      <th>967119396874457088</th>\n",
       "      <td>19</td>\n",
       "      <td>Twitter Web Client</td>\n",
       "    </tr>\n",
       "  </tbody>\n",
       "</table>\n",
       "</div>"
      ],
      "text/plain": [
       "                    hour_created              source\n",
       "tid                                                 \n",
       "967145459054718976            21  Twitter Web Client\n",
       "967145385650278402            21  Twitter Web Client\n",
       "967122650047963136            19  Twitter Web Client\n",
       "967120052343525379            19  Twitter Web Client\n",
       "967119396874457088            19  Twitter Web Client"
      ]
     },
     "execution_count": 19,
     "metadata": {},
     "output_type": "execute_result"
    }
   ],
   "source": [
    "sample[[\"hour_created\", \"source\"]]"
   ]
  },
  {
   "cell_type": "markdown",
   "metadata": {},
   "source": [
    "## Label-based indexing for rows: `loc` method\n",
    "* Put the name of the row that you want in the brackets with loc method"
   ]
  },
  {
   "cell_type": "code",
   "execution_count": 20,
   "metadata": {},
   "outputs": [
    {
     "data": {
      "text/plain": [
       "hour_created                                                     19\n",
       "source                                           Twitter Web Client\n",
       "text              RT @IndianaMBB: One last time for our seniors ...\n",
       "favorite_count                                                    0\n",
       "retweet_count                                                    63\n",
       "Name: 967120052343525379, dtype: object"
      ]
     },
     "execution_count": 20,
     "metadata": {},
     "output_type": "execute_result"
    }
   ],
   "source": [
    "sample.loc[967120052343525379\t]"
   ]
  },
  {
   "cell_type": "code",
   "execution_count": 21,
   "metadata": {},
   "outputs": [
    {
     "data": {
      "text/html": [
       "<div>\n",
       "<style>\n",
       "    .dataframe thead tr:only-child th {\n",
       "        text-align: right;\n",
       "    }\n",
       "\n",
       "    .dataframe thead th {\n",
       "        text-align: left;\n",
       "    }\n",
       "\n",
       "    .dataframe tbody tr th {\n",
       "        vertical-align: top;\n",
       "    }\n",
       "</style>\n",
       "<table border=\"1\" class=\"dataframe\">\n",
       "  <thead>\n",
       "    <tr style=\"text-align: right;\">\n",
       "      <th></th>\n",
       "      <th>hour_created</th>\n",
       "      <th>source</th>\n",
       "      <th>text</th>\n",
       "      <th>favorite_count</th>\n",
       "      <th>retweet_count</th>\n",
       "    </tr>\n",
       "    <tr>\n",
       "      <th>tid</th>\n",
       "      <th></th>\n",
       "      <th></th>\n",
       "      <th></th>\n",
       "      <th></th>\n",
       "      <th></th>\n",
       "    </tr>\n",
       "  </thead>\n",
       "  <tbody>\n",
       "    <tr>\n",
       "      <th>967120052343525379</th>\n",
       "      <td>19</td>\n",
       "      <td>Twitter Web Client</td>\n",
       "      <td>RT @IndianaMBB: One last time for our seniors ...</td>\n",
       "      <td>0</td>\n",
       "      <td>63</td>\n",
       "    </tr>\n",
       "    <tr>\n",
       "      <th>967119396874457088</th>\n",
       "      <td>19</td>\n",
       "      <td>Twitter Web Client</td>\n",
       "      <td>RT @InsideIU: Campus Commute, which transports...</td>\n",
       "      <td>0</td>\n",
       "      <td>3</td>\n",
       "    </tr>\n",
       "  </tbody>\n",
       "</table>\n",
       "</div>"
      ],
      "text/plain": [
       "                    hour_created              source  \\\n",
       "tid                                                    \n",
       "967120052343525379            19  Twitter Web Client   \n",
       "967119396874457088            19  Twitter Web Client   \n",
       "\n",
       "                                                                 text  \\\n",
       "tid                                                                     \n",
       "967120052343525379  RT @IndianaMBB: One last time for our seniors ...   \n",
       "967119396874457088  RT @InsideIU: Campus Commute, which transports...   \n",
       "\n",
       "                    favorite_count  retweet_count  \n",
       "tid                                                \n",
       "967120052343525379               0             63  \n",
       "967119396874457088               0              3  "
      ]
     },
     "execution_count": 21,
     "metadata": {},
     "output_type": "execute_result"
    }
   ],
   "source": [
    "sample.loc[[967120052343525379,967119396874457088]]"
   ]
  },
  {
   "cell_type": "markdown",
   "metadata": {},
   "source": [
    "## Positional Index to find a particular row: `iloc` method\n",
    "* Use iloc method to select the row that is in position 2\n",
    "* Pasa list of positions to get more than one item, second and fourth rows"
   ]
  },
  {
   "cell_type": "code",
   "execution_count": 22,
   "metadata": {},
   "outputs": [
    {
     "data": {
      "text/plain": [
       "hour_created                                                     19\n",
       "source                                           Twitter Web Client\n",
       "text              Before tonight's @IndianaMBB game, meet the 3 ...\n",
       "favorite_count                                                   18\n",
       "retweet_count                                                     5\n",
       "Name: 967122650047963136, dtype: object"
      ]
     },
     "execution_count": 22,
     "metadata": {},
     "output_type": "execute_result"
    }
   ],
   "source": [
    "sample.iloc[2]"
   ]
  },
  {
   "cell_type": "code",
   "execution_count": 23,
   "metadata": {},
   "outputs": [
    {
     "data": {
      "text/html": [
       "<div>\n",
       "<style>\n",
       "    .dataframe thead tr:only-child th {\n",
       "        text-align: right;\n",
       "    }\n",
       "\n",
       "    .dataframe thead th {\n",
       "        text-align: left;\n",
       "    }\n",
       "\n",
       "    .dataframe tbody tr th {\n",
       "        vertical-align: top;\n",
       "    }\n",
       "</style>\n",
       "<table border=\"1\" class=\"dataframe\">\n",
       "  <thead>\n",
       "    <tr style=\"text-align: right;\">\n",
       "      <th></th>\n",
       "      <th>hour_created</th>\n",
       "      <th>source</th>\n",
       "      <th>text</th>\n",
       "      <th>favorite_count</th>\n",
       "      <th>retweet_count</th>\n",
       "    </tr>\n",
       "    <tr>\n",
       "      <th>tid</th>\n",
       "      <th></th>\n",
       "      <th></th>\n",
       "      <th></th>\n",
       "      <th></th>\n",
       "      <th></th>\n",
       "    </tr>\n",
       "  </thead>\n",
       "  <tbody>\n",
       "    <tr>\n",
       "      <th>967145385650278402</th>\n",
       "      <td>21</td>\n",
       "      <td>Twitter Web Client</td>\n",
       "      <td>RT @unionboard: Come celebrate Black History M...</td>\n",
       "      <td>0</td>\n",
       "      <td>3</td>\n",
       "    </tr>\n",
       "    <tr>\n",
       "      <th>967120052343525379</th>\n",
       "      <td>19</td>\n",
       "      <td>Twitter Web Client</td>\n",
       "      <td>RT @IndianaMBB: One last time for our seniors ...</td>\n",
       "      <td>0</td>\n",
       "      <td>63</td>\n",
       "    </tr>\n",
       "  </tbody>\n",
       "</table>\n",
       "</div>"
      ],
      "text/plain": [
       "                    hour_created              source  \\\n",
       "tid                                                    \n",
       "967145385650278402            21  Twitter Web Client   \n",
       "967120052343525379            19  Twitter Web Client   \n",
       "\n",
       "                                                                 text  \\\n",
       "tid                                                                     \n",
       "967145385650278402  RT @unionboard: Come celebrate Black History M...   \n",
       "967120052343525379  RT @IndianaMBB: One last time for our seniors ...   \n",
       "\n",
       "                    favorite_count  retweet_count  \n",
       "tid                                                \n",
       "967145385650278402               0              3  \n",
       "967120052343525379               0             63  "
      ]
     },
     "execution_count": 23,
     "metadata": {},
     "output_type": "execute_result"
    }
   ],
   "source": [
    "sample.iloc[[1,3]]"
   ]
  },
  {
   "cell_type": "markdown",
   "metadata": {},
   "source": [
    "## Use loc and iloc to select particular cell in DF\n",
    "* Pass name of row and name of the column at the same time\n",
    "* Pass multiple values to row and columns\n",
    "* What is before comma in brackets is ROWS, after the comma is COLUMNS"
   ]
  },
  {
   "cell_type": "code",
   "execution_count": 25,
   "metadata": {},
   "outputs": [
    {
     "data": {
      "text/plain": [
       "'Twitter Web Client'"
      ]
     },
     "execution_count": 25,
     "metadata": {},
     "output_type": "execute_result"
    }
   ],
   "source": [
    "sample.loc[967122650047963136, \"source\"]"
   ]
  },
  {
   "cell_type": "code",
   "execution_count": 30,
   "metadata": {},
   "outputs": [
    {
     "data": {
      "text/html": [
       "<div>\n",
       "<style>\n",
       "    .dataframe thead tr:only-child th {\n",
       "        text-align: right;\n",
       "    }\n",
       "\n",
       "    .dataframe thead th {\n",
       "        text-align: left;\n",
       "    }\n",
       "\n",
       "    .dataframe tbody tr th {\n",
       "        vertical-align: top;\n",
       "    }\n",
       "</style>\n",
       "<table border=\"1\" class=\"dataframe\">\n",
       "  <thead>\n",
       "    <tr style=\"text-align: right;\">\n",
       "      <th></th>\n",
       "      <th>source</th>\n",
       "      <th>text</th>\n",
       "    </tr>\n",
       "    <tr>\n",
       "      <th>tid</th>\n",
       "      <th></th>\n",
       "      <th></th>\n",
       "    </tr>\n",
       "  </thead>\n",
       "  <tbody>\n",
       "    <tr>\n",
       "      <th>967120052343525379</th>\n",
       "      <td>Twitter Web Client</td>\n",
       "      <td>RT @IndianaMBB: One last time for our seniors ...</td>\n",
       "    </tr>\n",
       "    <tr>\n",
       "      <th>967119396874457088</th>\n",
       "      <td>Twitter Web Client</td>\n",
       "      <td>RT @InsideIU: Campus Commute, which transports...</td>\n",
       "    </tr>\n",
       "  </tbody>\n",
       "</table>\n",
       "</div>"
      ],
      "text/plain": [
       "                                source  \\\n",
       "tid                                      \n",
       "967120052343525379  Twitter Web Client   \n",
       "967119396874457088  Twitter Web Client   \n",
       "\n",
       "                                                                 text  \n",
       "tid                                                                    \n",
       "967120052343525379  RT @IndianaMBB: One last time for our seniors ...  \n",
       "967119396874457088  RT @InsideIU: Campus Commute, which transports...  "
      ]
     },
     "execution_count": 30,
     "metadata": {},
     "output_type": "execute_result"
    }
   ],
   "source": [
    "# Select two rows and two columns\n",
    "sample.loc[[967120052343525379,967119396874457088],[\"source\", \"text\"]]"
   ]
  },
  {
   "cell_type": "markdown",
   "metadata": {},
   "source": [
    "# Boolean Indexing\n",
    "* Subsetting the rows by TRUE and FALSE statements"
   ]
  },
  {
   "cell_type": "code",
   "execution_count": 34,
   "metadata": {},
   "outputs": [
    {
     "data": {
      "text/html": [
       "<div>\n",
       "<style>\n",
       "    .dataframe thead tr:only-child th {\n",
       "        text-align: right;\n",
       "    }\n",
       "\n",
       "    .dataframe thead th {\n",
       "        text-align: left;\n",
       "    }\n",
       "\n",
       "    .dataframe tbody tr th {\n",
       "        vertical-align: top;\n",
       "    }\n",
       "</style>\n",
       "<table border=\"1\" class=\"dataframe\">\n",
       "  <thead>\n",
       "    <tr style=\"text-align: right;\">\n",
       "      <th></th>\n",
       "      <th>hour_created</th>\n",
       "      <th>source</th>\n",
       "      <th>text</th>\n",
       "      <th>favorite_count</th>\n",
       "      <th>retweet_count</th>\n",
       "    </tr>\n",
       "    <tr>\n",
       "      <th>tid</th>\n",
       "      <th></th>\n",
       "      <th></th>\n",
       "      <th></th>\n",
       "      <th></th>\n",
       "      <th></th>\n",
       "    </tr>\n",
       "  </thead>\n",
       "  <tbody>\n",
       "    <tr>\n",
       "      <th>967122650047963136</th>\n",
       "      <td>19</td>\n",
       "      <td>Twitter Web Client</td>\n",
       "      <td>Before tonight's @IndianaMBB game, meet the 3 ...</td>\n",
       "      <td>18</td>\n",
       "      <td>5</td>\n",
       "    </tr>\n",
       "    <tr>\n",
       "      <th>967119396874457088</th>\n",
       "      <td>19</td>\n",
       "      <td>Twitter Web Client</td>\n",
       "      <td>RT @InsideIU: Campus Commute, which transports...</td>\n",
       "      <td>0</td>\n",
       "      <td>3</td>\n",
       "    </tr>\n",
       "  </tbody>\n",
       "</table>\n",
       "</div>"
      ],
      "text/plain": [
       "                    hour_created              source  \\\n",
       "tid                                                    \n",
       "967122650047963136            19  Twitter Web Client   \n",
       "967119396874457088            19  Twitter Web Client   \n",
       "\n",
       "                                                                 text  \\\n",
       "tid                                                                     \n",
       "967122650047963136  Before tonight's @IndianaMBB game, meet the 3 ...   \n",
       "967119396874457088  RT @InsideIU: Campus Commute, which transports...   \n",
       "\n",
       "                    favorite_count  retweet_count  \n",
       "tid                                                \n",
       "967122650047963136              18              5  \n",
       "967119396874457088               0              3  "
      ]
     },
     "execution_count": 34,
     "metadata": {},
     "output_type": "execute_result"
    }
   ],
   "source": [
    "# Create ROW index for this and fifth rows\n",
    "b_index = [False, False, True, False, True]\n",
    "\n",
    "sample[b_index]"
   ]
  },
  {
   "cell_type": "markdown",
   "metadata": {},
   "source": [
    "## Conditional Subsetting\n",
    "* Take subset of data that meets a condition of our research\n",
    "* Want to analyze most popular tweets: favoriate_count > 5\n",
    "* Need Boolean indexing and booleans on a column of data\n",
    "\n",
    "### Use Boolean operator on entire Column\n",
    "* Want to take a subset of all rows that  meet this condition\n",
    "* Use Boolean indexing on this subset"
   ]
  },
  {
   "cell_type": "code",
   "execution_count": 35,
   "metadata": {},
   "outputs": [
    {
     "data": {
      "text/plain": [
       "tid\n",
       "967145459054718976     0\n",
       "967145385650278402     0\n",
       "967122650047963136    18\n",
       "967120052343525379     0\n",
       "967119396874457088     0\n",
       "Name: favorite_count, dtype: int64"
      ]
     },
     "execution_count": 35,
     "metadata": {},
     "output_type": "execute_result"
    }
   ],
   "source": [
    "sample[\"favorite_count\"]"
   ]
  },
  {
   "cell_type": "code",
   "execution_count": 36,
   "metadata": {},
   "outputs": [
    {
     "data": {
      "text/plain": [
       "tid\n",
       "967145459054718976    False\n",
       "967145385650278402    False\n",
       "967122650047963136     True\n",
       "967120052343525379    False\n",
       "967119396874457088    False\n",
       "Name: favorite_count, dtype: bool"
      ]
     },
     "execution_count": 36,
     "metadata": {},
     "output_type": "execute_result"
    }
   ],
   "source": [
    "sample[\"favorite_count\"] > 0 "
   ]
  },
  {
   "cell_type": "code",
   "execution_count": 37,
   "metadata": {
    "collapsed": true
   },
   "outputs": [],
   "source": [
    "meets_conditions = sample[\"favorite_count\"] > 0 "
   ]
  },
  {
   "cell_type": "code",
   "execution_count": 39,
   "metadata": {},
   "outputs": [
    {
     "data": {
      "text/html": [
       "<div>\n",
       "<style>\n",
       "    .dataframe thead tr:only-child th {\n",
       "        text-align: right;\n",
       "    }\n",
       "\n",
       "    .dataframe thead th {\n",
       "        text-align: left;\n",
       "    }\n",
       "\n",
       "    .dataframe tbody tr th {\n",
       "        vertical-align: top;\n",
       "    }\n",
       "</style>\n",
       "<table border=\"1\" class=\"dataframe\">\n",
       "  <thead>\n",
       "    <tr style=\"text-align: right;\">\n",
       "      <th></th>\n",
       "      <th>hour_created</th>\n",
       "      <th>source</th>\n",
       "      <th>text</th>\n",
       "      <th>favorite_count</th>\n",
       "      <th>retweet_count</th>\n",
       "    </tr>\n",
       "    <tr>\n",
       "      <th>tid</th>\n",
       "      <th></th>\n",
       "      <th></th>\n",
       "      <th></th>\n",
       "      <th></th>\n",
       "      <th></th>\n",
       "    </tr>\n",
       "  </thead>\n",
       "  <tbody>\n",
       "    <tr>\n",
       "      <th>967122650047963136</th>\n",
       "      <td>19</td>\n",
       "      <td>Twitter Web Client</td>\n",
       "      <td>Before tonight's @IndianaMBB game, meet the 3 ...</td>\n",
       "      <td>18</td>\n",
       "      <td>5</td>\n",
       "    </tr>\n",
       "  </tbody>\n",
       "</table>\n",
       "</div>"
      ],
      "text/plain": [
       "                    hour_created              source  \\\n",
       "tid                                                    \n",
       "967122650047963136            19  Twitter Web Client   \n",
       "\n",
       "                                                                 text  \\\n",
       "tid                                                                     \n",
       "967122650047963136  Before tonight's @IndianaMBB game, meet the 3 ...   \n",
       "\n",
       "                    favorite_count  retweet_count  \n",
       "tid                                                \n",
       "967122650047963136              18              5  "
      ]
     },
     "execution_count": 39,
     "metadata": {},
     "output_type": "execute_result"
    }
   ],
   "source": [
    "# Data is subset according to a particular condition\n",
    "\n",
    "row_meets_conditions = sample[meets_conditions]\n",
    "row_meets_conditions"
   ]
  },
  {
   "cell_type": "markdown",
   "metadata": {},
   "source": [
    "## Look at original dataset\n",
    "* Do the same Boolean subsetting on entire dataset\n",
    "* Df has 500 instances and 5 rows"
   ]
  },
  {
   "cell_type": "code",
   "execution_count": 40,
   "metadata": {},
   "outputs": [
    {
     "data": {
      "text/plain": [
       "(500, 5)"
      ]
     },
     "execution_count": 40,
     "metadata": {},
     "output_type": "execute_result"
    }
   ],
   "source": [
    "df.shape"
   ]
  },
  {
   "cell_type": "code",
   "execution_count": 42,
   "metadata": {},
   "outputs": [
    {
     "data": {
      "text/plain": [
       "(212, 5)"
      ]
     },
     "execution_count": 42,
     "metadata": {},
     "output_type": "execute_result"
    }
   ],
   "source": [
    "subset = df[ df['favorite_count'] > 0 ]\n",
    "subset.shape"
   ]
  },
  {
   "cell_type": "markdown",
   "metadata": {},
   "source": [
    "### Subset of non-zero favorite counts returns 212 tweets\n",
    "* Subset of tweets sent from iPhone using double bracket index\n",
    "* Returns 56 tweets from Twitter iPhone"
   ]
  },
  {
   "cell_type": "code",
   "execution_count": 43,
   "metadata": {},
   "outputs": [
    {
     "data": {
      "text/html": [
       "<div>\n",
       "<style>\n",
       "    .dataframe thead tr:only-child th {\n",
       "        text-align: right;\n",
       "    }\n",
       "\n",
       "    .dataframe thead th {\n",
       "        text-align: left;\n",
       "    }\n",
       "\n",
       "    .dataframe tbody tr th {\n",
       "        vertical-align: top;\n",
       "    }\n",
       "</style>\n",
       "<table border=\"1\" class=\"dataframe\">\n",
       "  <thead>\n",
       "    <tr style=\"text-align: right;\">\n",
       "      <th></th>\n",
       "      <th>hour_created</th>\n",
       "      <th>source</th>\n",
       "      <th>text</th>\n",
       "      <th>favorite_count</th>\n",
       "      <th>retweet_count</th>\n",
       "    </tr>\n",
       "    <tr>\n",
       "      <th>tid</th>\n",
       "      <th></th>\n",
       "      <th></th>\n",
       "      <th></th>\n",
       "      <th></th>\n",
       "      <th></th>\n",
       "    </tr>\n",
       "  </thead>\n",
       "  <tbody>\n",
       "    <tr>\n",
       "      <th>967122650047963136</th>\n",
       "      <td>19</td>\n",
       "      <td>Twitter Web Client</td>\n",
       "      <td>Before tonight's @IndianaMBB game, meet the 3 ...</td>\n",
       "      <td>18</td>\n",
       "      <td>5</td>\n",
       "    </tr>\n",
       "    <tr>\n",
       "      <th>967080829397725184</th>\n",
       "      <td>16</td>\n",
       "      <td>Twitter Web Client</td>\n",
       "      <td>We are proud to be one of the top public unive...</td>\n",
       "      <td>18</td>\n",
       "      <td>10</td>\n",
       "    </tr>\n",
       "    <tr>\n",
       "      <th>967052484995960832</th>\n",
       "      <td>15</td>\n",
       "      <td>Twitter Web Client</td>\n",
       "      <td>Guardian of the Galaxy: Professor Lisa Pratt d...</td>\n",
       "      <td>33</td>\n",
       "      <td>8</td>\n",
       "    </tr>\n",
       "    <tr>\n",
       "      <th>966888513626030080</th>\n",
       "      <td>4</td>\n",
       "      <td>Sprout Social</td>\n",
       "      <td>@thevirdas @IUAHCouncil Thank you for sharing ...</td>\n",
       "      <td>3</td>\n",
       "      <td>0</td>\n",
       "    </tr>\n",
       "    <tr>\n",
       "      <th>966778382963953664</th>\n",
       "      <td>20</td>\n",
       "      <td>Sprout Social</td>\n",
       "      <td>@zachy__t @IUBCampusBus</td>\n",
       "      <td>4</td>\n",
       "      <td>0</td>\n",
       "    </tr>\n",
       "  </tbody>\n",
       "</table>\n",
       "</div>"
      ],
      "text/plain": [
       "                    hour_created              source  \\\n",
       "tid                                                    \n",
       "967122650047963136            19  Twitter Web Client   \n",
       "967080829397725184            16  Twitter Web Client   \n",
       "967052484995960832            15  Twitter Web Client   \n",
       "966888513626030080             4       Sprout Social   \n",
       "966778382963953664            20       Sprout Social   \n",
       "\n",
       "                                                                 text  \\\n",
       "tid                                                                     \n",
       "967122650047963136  Before tonight's @IndianaMBB game, meet the 3 ...   \n",
       "967080829397725184  We are proud to be one of the top public unive...   \n",
       "967052484995960832  Guardian of the Galaxy: Professor Lisa Pratt d...   \n",
       "966888513626030080  @thevirdas @IUAHCouncil Thank you for sharing ...   \n",
       "966778382963953664                            @zachy__t @IUBCampusBus   \n",
       "\n",
       "                    favorite_count  retweet_count  \n",
       "tid                                                \n",
       "967122650047963136              18              5  \n",
       "967080829397725184              18             10  \n",
       "967052484995960832              33              8  \n",
       "966888513626030080               3              0  \n",
       "966778382963953664               4              0  "
      ]
     },
     "execution_count": 43,
     "metadata": {},
     "output_type": "execute_result"
    }
   ],
   "source": [
    "subset.head()"
   ]
  },
  {
   "cell_type": "code",
   "execution_count": 44,
   "metadata": {},
   "outputs": [
    {
     "data": {
      "text/plain": [
       "(56, 5)"
      ]
     },
     "execution_count": 44,
     "metadata": {},
     "output_type": "execute_result"
    }
   ],
   "source": [
    "iphonetweets = df[df['source'] == \"Twitter for iPhone\"]\n",
    "iphonetweets.shape"
   ]
  },
  {
   "cell_type": "code",
   "execution_count": 46,
   "metadata": {},
   "outputs": [
    {
     "data": {
      "text/html": [
       "<div>\n",
       "<style>\n",
       "    .dataframe thead tr:only-child th {\n",
       "        text-align: right;\n",
       "    }\n",
       "\n",
       "    .dataframe thead th {\n",
       "        text-align: left;\n",
       "    }\n",
       "\n",
       "    .dataframe tbody tr th {\n",
       "        vertical-align: top;\n",
       "    }\n",
       "</style>\n",
       "<table border=\"1\" class=\"dataframe\">\n",
       "  <thead>\n",
       "    <tr style=\"text-align: right;\">\n",
       "      <th></th>\n",
       "      <th>hour_created</th>\n",
       "      <th>source</th>\n",
       "      <th>text</th>\n",
       "      <th>favorite_count</th>\n",
       "      <th>retweet_count</th>\n",
       "    </tr>\n",
       "    <tr>\n",
       "      <th>tid</th>\n",
       "      <th></th>\n",
       "      <th></th>\n",
       "      <th></th>\n",
       "      <th></th>\n",
       "      <th></th>\n",
       "    </tr>\n",
       "  </thead>\n",
       "  <tbody>\n",
       "    <tr>\n",
       "      <th>966165408704270337</th>\n",
       "      <td>4</td>\n",
       "      <td>Twitter for iPhone</td>\n",
       "      <td>RT @IUHoosiers: Eight straight B1G wins ties a...</td>\n",
       "      <td>0</td>\n",
       "      <td>33</td>\n",
       "    </tr>\n",
       "    <tr>\n",
       "      <th>966165307101515779</th>\n",
       "      <td>4</td>\n",
       "      <td>Twitter for iPhone</td>\n",
       "      <td>RT @IndianaWBB: Make it 8-straight! \\n\\nHoosie...</td>\n",
       "      <td>0</td>\n",
       "      <td>106</td>\n",
       "    </tr>\n",
       "    <tr>\n",
       "      <th>966067062111121413</th>\n",
       "      <td>21</td>\n",
       "      <td>Twitter for iPhone</td>\n",
       "      <td>Did someone request a day of spring? You're we...</td>\n",
       "      <td>229</td>\n",
       "      <td>15</td>\n",
       "    </tr>\n",
       "    <tr>\n",
       "      <th>966066038168223744</th>\n",
       "      <td>21</td>\n",
       "      <td>Twitter for iPhone</td>\n",
       "      <td>RT @IndianaMBB: B1G game tonight vs. the Huske...</td>\n",
       "      <td>0</td>\n",
       "      <td>45</td>\n",
       "    </tr>\n",
       "    <tr>\n",
       "      <th>965261806506795008</th>\n",
       "      <td>16</td>\n",
       "      <td>Twitter for iPhone</td>\n",
       "      <td>RT @ACC_IU: Don't forget! Tomorrow we will be ...</td>\n",
       "      <td>0</td>\n",
       "      <td>3</td>\n",
       "    </tr>\n",
       "  </tbody>\n",
       "</table>\n",
       "</div>"
      ],
      "text/plain": [
       "                    hour_created              source  \\\n",
       "tid                                                    \n",
       "966165408704270337             4  Twitter for iPhone   \n",
       "966165307101515779             4  Twitter for iPhone   \n",
       "966067062111121413            21  Twitter for iPhone   \n",
       "966066038168223744            21  Twitter for iPhone   \n",
       "965261806506795008            16  Twitter for iPhone   \n",
       "\n",
       "                                                                 text  \\\n",
       "tid                                                                     \n",
       "966165408704270337  RT @IUHoosiers: Eight straight B1G wins ties a...   \n",
       "966165307101515779  RT @IndianaWBB: Make it 8-straight! \\n\\nHoosie...   \n",
       "966067062111121413  Did someone request a day of spring? You're we...   \n",
       "966066038168223744  RT @IndianaMBB: B1G game tonight vs. the Huske...   \n",
       "965261806506795008  RT @ACC_IU: Don't forget! Tomorrow we will be ...   \n",
       "\n",
       "                    favorite_count  retweet_count  \n",
       "tid                                                \n",
       "966165408704270337               0             33  \n",
       "966165307101515779               0            106  \n",
       "966067062111121413             229             15  \n",
       "966066038168223744               0             45  \n",
       "965261806506795008               0              3  "
      ]
     },
     "execution_count": 46,
     "metadata": {},
     "output_type": "execute_result"
    }
   ],
   "source": [
    "iphonetweets.head()"
   ]
  },
  {
   "cell_type": "markdown",
   "metadata": {},
   "source": [
    "# Explore the data using PANDAS\n",
    "* Isolate a single column, 'favorites', assign to variable\n",
    "* Can obtain descriptives using dataFrame methods (mean, std, max)\n",
    "* `Describe` method provides summary of data, \"five figure summary\""
   ]
  },
  {
   "cell_type": "code",
   "execution_count": 48,
   "metadata": {},
   "outputs": [],
   "source": [
    "favorites = df['favorite_count']"
   ]
  },
  {
   "cell_type": "code",
   "execution_count": 49,
   "metadata": {},
   "outputs": [
    {
     "data": {
      "text/plain": [
       "17.772"
      ]
     },
     "execution_count": 49,
     "metadata": {},
     "output_type": "execute_result"
    }
   ],
   "source": [
    "favorites.mean()"
   ]
  },
  {
   "cell_type": "code",
   "execution_count": 50,
   "metadata": {},
   "outputs": [
    {
     "data": {
      "text/plain": [
       "66.10373229134389"
      ]
     },
     "execution_count": 50,
     "metadata": {},
     "output_type": "execute_result"
    }
   ],
   "source": [
    "favorites.std()"
   ]
  },
  {
   "cell_type": "code",
   "execution_count": 51,
   "metadata": {},
   "outputs": [
    {
     "data": {
      "text/plain": [
       "684"
      ]
     },
     "execution_count": 51,
     "metadata": {},
     "output_type": "execute_result"
    }
   ],
   "source": [
    "favorites.max()"
   ]
  },
  {
   "cell_type": "code",
   "execution_count": 52,
   "metadata": {},
   "outputs": [
    {
     "data": {
      "text/plain": [
       "count    500.000000\n",
       "mean      17.772000\n",
       "std       66.103732\n",
       "min        0.000000\n",
       "25%        0.000000\n",
       "50%        0.000000\n",
       "75%        9.000000\n",
       "max      684.000000\n",
       "Name: favorite_count, dtype: float64"
      ]
     },
     "execution_count": 52,
     "metadata": {},
     "output_type": "execute_result"
    }
   ],
   "source": [
    "favorites.describe()"
   ]
  },
  {
   "cell_type": "markdown",
   "metadata": {},
   "source": [
    "## Look at relation between Favorites and Retweet Count"
   ]
  },
  {
   "cell_type": "code",
   "execution_count": 61,
   "metadata": {
    "collapsed": true
   },
   "outputs": [],
   "source": [
    "%matplotlib inline\n",
    "import matplotlib.pyplot as plt\n",
    "plt.ioff()\n",
    "\n",
    "retweets = df['retweet_count']"
   ]
  },
  {
   "cell_type": "code",
   "execution_count": 68,
   "metadata": {},
   "outputs": [
    {
     "data": {
      "image/png": "[encoded data removed]",
      "text/plain": [
       "<matplotlib.figure.Figure at 0x11e037dd8>"
      ]
     },
     "metadata": {},
     "output_type": "display_data"
    }
   ],
   "source": [
    "plt.boxplot([favorites, retweets], labels=[\"Favorite Count\", \"Retweet Count\"])\n",
    "plt.show()"
   ]
  },
  {
   "cell_type": "code",
   "execution_count": 67,
   "metadata": {},
   "outputs": [
    {
     "data": {
      "image/png": "[encoded data removed]",
      "text/plain": [
       "<matplotlib.figure.Figure at 0x11e037f28>"
      ]
     },
     "metadata": {},
     "output_type": "display_data"
    }
   ],
   "source": [
    "plt.plot(favorites, retweets, \"ro\")\n",
    "plt.xlabel(\"Favorite Count\")\n",
    "plt.ylabel(\"Retweet Count\")\n",
    "plt.show()"
   ]
  },
  {
   "cell_type": "markdown",
   "metadata": {},
   "source": [
    "### Scatterplot of Favorites by Retweets\n",
    "* Plot shows there is not a strong relationship between favorites and retweets\n",
    "* Large number of retweets that were never favorited (0).\n",
    "* Removing outliers may show relationship"
   ]
  },
  {
   "cell_type": "markdown",
   "metadata": {},
   "source": [
    "# `Group_by` function \n",
    "* Obtain ggregated statistics by category (iPhone, etc.) in Pandas DF\n",
    "* Average number of favorites, retweets, from iPhone vs. Android\n",
    "* Assign group by object to source_group, look at simple counts"
   ]
  },
  {
   "cell_type": "code",
   "execution_count": 69,
   "metadata": {},
   "outputs": [
    {
     "data": {
      "text/plain": [
       "<pandas.core.groupby.DataFrameGroupBy object at 0x11e19e240>"
      ]
     },
     "execution_count": 69,
     "metadata": {},
     "output_type": "execute_result"
    }
   ],
   "source": [
    "source_group = df.groupby(\"source\")\n",
    "source_group"
   ]
  },
  {
   "cell_type": "markdown",
   "metadata": {},
   "source": [
    "## Aggregated statistics from groupby object\n",
    "* Indicate column to group by [\"source\"] and how to aggregate (\"count\") \n",
    "* Look at the mean (average) favorite_count for each source group"
   ]
  },
  {
   "cell_type": "code",
   "execution_count": 70,
   "metadata": {},
   "outputs": [
    {
     "data": {
      "text/plain": [
       "source\n",
       "Sprout Social          196\n",
       "Twitter Web Client     219\n",
       "Twitter for Android     14\n",
       "Twitter for iPad        15\n",
       "Twitter for iPhone      56\n",
       "Name: source, dtype: int64"
      ]
     },
     "execution_count": 70,
     "metadata": {},
     "output_type": "execute_result"
    }
   ],
   "source": [
    "source_group[\"source\"].agg(\"count\")"
   ]
  },
  {
   "cell_type": "code",
   "execution_count": 72,
   "metadata": {},
   "outputs": [
    {
     "data": {
      "text/plain": [
       "source\n",
       "Sprout Social           6.892857\n",
       "Twitter Web Client     21.694064\n",
       "Twitter for Android    51.000000\n",
       "Twitter for iPad       62.066667\n",
       "Twitter for iPhone     20.339286\n",
       "Name: favorite_count, dtype: float64"
      ]
     },
     "execution_count": 72,
     "metadata": {},
     "output_type": "execute_result"
    }
   ],
   "source": [
    "source_group[\"favorite_count\"].agg(\"mean\")"
   ]
  },
  {
   "cell_type": "markdown",
   "metadata": {},
   "source": [
    "### Understand Characteristics of Dataset: What is Sprout Social?\n",
    "* Although Sprout Social is the second highest source of tweets by source group\n",
    "* The average favorite count for Sprout Social is significatnly lower than every other source\n",
    "* See patterns and ask questions about the data (e.g., Sprout Social used to repond to tweets)"
   ]
  },
  {
   "cell_type": "markdown",
   "metadata": {},
   "source": [
    "## Aggregate Statistics by Multiple Columns\n",
    "* Returns descriptives by column"
   ]
  },
  {
   "cell_type": "code",
   "execution_count": 73,
   "metadata": {},
   "outputs": [
    {
     "data": {
      "text/html": [
       "<div>\n",
       "<style>\n",
       "    .dataframe thead tr:only-child th {\n",
       "        text-align: right;\n",
       "    }\n",
       "\n",
       "    .dataframe thead th {\n",
       "        text-align: left;\n",
       "    }\n",
       "\n",
       "    .dataframe tbody tr th {\n",
       "        vertical-align: top;\n",
       "    }\n",
       "</style>\n",
       "<table border=\"1\" class=\"dataframe\">\n",
       "  <thead>\n",
       "    <tr style=\"text-align: right;\">\n",
       "      <th></th>\n",
       "      <th>favorite_count</th>\n",
       "      <th>retweet_count</th>\n",
       "    </tr>\n",
       "    <tr>\n",
       "      <th>source</th>\n",
       "      <th></th>\n",
       "      <th></th>\n",
       "    </tr>\n",
       "  </thead>\n",
       "  <tbody>\n",
       "    <tr>\n",
       "      <th>Sprout Social</th>\n",
       "      <td>6.892857</td>\n",
       "      <td>8.418367</td>\n",
       "    </tr>\n",
       "    <tr>\n",
       "      <th>Twitter Web Client</th>\n",
       "      <td>21.694064</td>\n",
       "      <td>20.260274</td>\n",
       "    </tr>\n",
       "    <tr>\n",
       "      <th>Twitter for Android</th>\n",
       "      <td>51.000000</td>\n",
       "      <td>3.071429</td>\n",
       "    </tr>\n",
       "    <tr>\n",
       "      <th>Twitter for iPad</th>\n",
       "      <td>62.066667</td>\n",
       "      <td>14.200000</td>\n",
       "    </tr>\n",
       "    <tr>\n",
       "      <th>Twitter for iPhone</th>\n",
       "      <td>20.339286</td>\n",
       "      <td>50.589286</td>\n",
       "    </tr>\n",
       "  </tbody>\n",
       "</table>\n",
       "</div>"
      ],
      "text/plain": [
       "                     favorite_count  retweet_count\n",
       "source                                            \n",
       "Sprout Social              6.892857       8.418367\n",
       "Twitter Web Client        21.694064      20.260274\n",
       "Twitter for Android       51.000000       3.071429\n",
       "Twitter for iPad          62.066667      14.200000\n",
       "Twitter for iPhone        20.339286      50.589286"
      ]
     },
     "execution_count": 73,
     "metadata": {},
     "output_type": "execute_result"
    }
   ],
   "source": [
    "source_group[[\"favorite_count\", \"retweet_count\"]].agg(\"mean\")"
   ]
  },
  {
   "cell_type": "markdown",
   "metadata": {},
   "source": [
    "## Save Data frame to external five with sav"
   ]
  },
  {
   "cell_type": "code",
   "execution_count": 75,
   "metadata": {},
   "outputs": [],
   "source": [
    "df.to_csv(\"IUB500Tweets.csv\")"
   ]
  },
  {
   "cell_type": "markdown",
   "metadata": {},
   "source": [
    "## Load Data file from CSV"
   ]
  },
  {
   "cell_type": "code",
   "execution_count": 76,
   "metadata": {},
   "outputs": [
    {
     "data": {
      "text/html": [
       "<div>\n",
       "<style>\n",
       "    .dataframe thead tr:only-child th {\n",
       "        text-align: right;\n",
       "    }\n",
       "\n",
       "    .dataframe thead th {\n",
       "        text-align: left;\n",
       "    }\n",
       "\n",
       "    .dataframe tbody tr th {\n",
       "        vertical-align: top;\n",
       "    }\n",
       "</style>\n",
       "<table border=\"1\" class=\"dataframe\">\n",
       "  <thead>\n",
       "    <tr style=\"text-align: right;\">\n",
       "      <th></th>\n",
       "      <th>hour_created</th>\n",
       "      <th>source</th>\n",
       "      <th>text</th>\n",
       "      <th>favorite_count</th>\n",
       "      <th>retweet_count</th>\n",
       "    </tr>\n",
       "    <tr>\n",
       "      <th>tid</th>\n",
       "      <th></th>\n",
       "      <th></th>\n",
       "      <th></th>\n",
       "      <th></th>\n",
       "      <th></th>\n",
       "    </tr>\n",
       "  </thead>\n",
       "  <tbody>\n",
       "    <tr>\n",
       "      <th>967145459054718976</th>\n",
       "      <td>21</td>\n",
       "      <td>Twitter Web Client</td>\n",
       "      <td>RT @IUStudentLife: Come celebrate Black Histor...</td>\n",
       "      <td>0</td>\n",
       "      <td>2</td>\n",
       "    </tr>\n",
       "    <tr>\n",
       "      <th>967145385650278402</th>\n",
       "      <td>21</td>\n",
       "      <td>Twitter Web Client</td>\n",
       "      <td>RT @unionboard: Come celebrate Black History M...</td>\n",
       "      <td>0</td>\n",
       "      <td>3</td>\n",
       "    </tr>\n",
       "    <tr>\n",
       "      <th>967122650047963136</th>\n",
       "      <td>19</td>\n",
       "      <td>Twitter Web Client</td>\n",
       "      <td>Before tonight's @IndianaMBB game, meet the 3 ...</td>\n",
       "      <td>18</td>\n",
       "      <td>5</td>\n",
       "    </tr>\n",
       "    <tr>\n",
       "      <th>967120052343525379</th>\n",
       "      <td>19</td>\n",
       "      <td>Twitter Web Client</td>\n",
       "      <td>RT @IndianaMBB: One last time for our seniors ...</td>\n",
       "      <td>0</td>\n",
       "      <td>63</td>\n",
       "    </tr>\n",
       "    <tr>\n",
       "      <th>967119396874457088</th>\n",
       "      <td>19</td>\n",
       "      <td>Twitter Web Client</td>\n",
       "      <td>RT @InsideIU: Campus Commute, which transports...</td>\n",
       "      <td>0</td>\n",
       "      <td>3</td>\n",
       "    </tr>\n",
       "  </tbody>\n",
       "</table>\n",
       "</div>"
      ],
      "text/plain": [
       "                    hour_created              source  \\\n",
       "tid                                                    \n",
       "967145459054718976            21  Twitter Web Client   \n",
       "967145385650278402            21  Twitter Web Client   \n",
       "967122650047963136            19  Twitter Web Client   \n",
       "967120052343525379            19  Twitter Web Client   \n",
       "967119396874457088            19  Twitter Web Client   \n",
       "\n",
       "                                                                 text  \\\n",
       "tid                                                                     \n",
       "967145459054718976  RT @IUStudentLife: Come celebrate Black Histor...   \n",
       "967145385650278402  RT @unionboard: Come celebrate Black History M...   \n",
       "967122650047963136  Before tonight's @IndianaMBB game, meet the 3 ...   \n",
       "967120052343525379  RT @IndianaMBB: One last time for our seniors ...   \n",
       "967119396874457088  RT @InsideIU: Campus Commute, which transports...   \n",
       "\n",
       "                    favorite_count  retweet_count  \n",
       "tid                                                \n",
       "967145459054718976               0              2  \n",
       "967145385650278402               0              3  \n",
       "967122650047963136              18              5  \n",
       "967120052343525379               0             63  \n",
       "967119396874457088               0              3  "
      ]
     },
     "execution_count": 76,
     "metadata": {},
     "output_type": "execute_result"
    }
   ],
   "source": [
    "new_df = pd.read_csv(\"IUB500Tweets.csv\", index_col=0, encoding=\"latin1\")\n",
    "new_df.head()"
   ]
  },
  {
   "cell_type": "markdown",
   "metadata": {},
   "source": [
    "## PANDA and SKlearn: Iris dataset as DataFrame\n",
    "* Construct dataFrame, identify features and target variables\n",
    "* Use dataframe for classification with Iris dataset"
   ]
  },
  {
   "cell_type": "code",
   "execution_count": 78,
   "metadata": {},
   "outputs": [
    {
     "data": {
      "text/html": [
       "<div>\n",
       "<style>\n",
       "    .dataframe thead tr:only-child th {\n",
       "        text-align: right;\n",
       "    }\n",
       "\n",
       "    .dataframe thead th {\n",
       "        text-align: left;\n",
       "    }\n",
       "\n",
       "    .dataframe tbody tr th {\n",
       "        vertical-align: top;\n",
       "    }\n",
       "</style>\n",
       "<table border=\"1\" class=\"dataframe\">\n",
       "  <thead>\n",
       "    <tr style=\"text-align: right;\">\n",
       "      <th></th>\n",
       "      <th>sepal_length</th>\n",
       "      <th>sepal_width</th>\n",
       "      <th>petal_length</th>\n",
       "      <th>petal_width</th>\n",
       "      <th>species</th>\n",
       "    </tr>\n",
       "  </thead>\n",
       "  <tbody>\n",
       "    <tr>\n",
       "      <th>0</th>\n",
       "      <td>5.1</td>\n",
       "      <td>3.5</td>\n",
       "      <td>1.4</td>\n",
       "      <td>0.2</td>\n",
       "      <td>0.0</td>\n",
       "    </tr>\n",
       "    <tr>\n",
       "      <th>1</th>\n",
       "      <td>4.9</td>\n",
       "      <td>3.0</td>\n",
       "      <td>1.4</td>\n",
       "      <td>0.2</td>\n",
       "      <td>0.0</td>\n",
       "    </tr>\n",
       "    <tr>\n",
       "      <th>2</th>\n",
       "      <td>4.7</td>\n",
       "      <td>3.2</td>\n",
       "      <td>1.3</td>\n",
       "      <td>0.2</td>\n",
       "      <td>0.0</td>\n",
       "    </tr>\n",
       "    <tr>\n",
       "      <th>3</th>\n",
       "      <td>4.6</td>\n",
       "      <td>3.1</td>\n",
       "      <td>1.5</td>\n",
       "      <td>0.2</td>\n",
       "      <td>0.0</td>\n",
       "    </tr>\n",
       "    <tr>\n",
       "      <th>4</th>\n",
       "      <td>5.0</td>\n",
       "      <td>3.6</td>\n",
       "      <td>1.4</td>\n",
       "      <td>0.2</td>\n",
       "      <td>0.0</td>\n",
       "    </tr>\n",
       "  </tbody>\n",
       "</table>\n",
       "</div>"
      ],
      "text/plain": [
       "   sepal_length  sepal_width  petal_length  petal_width  species\n",
       "0           5.1          3.5           1.4          0.2      0.0\n",
       "1           4.9          3.0           1.4          0.2      0.0\n",
       "2           4.7          3.2           1.3          0.2      0.0\n",
       "3           4.6          3.1           1.5          0.2      0.0\n",
       "4           5.0          3.6           1.4          0.2      0.0"
      ]
     },
     "execution_count": 78,
     "metadata": {},
     "output_type": "execute_result"
    }
   ],
   "source": [
    "import numpy as np\n",
    "\n",
    "from sklearn.datasets import load_iris\n",
    "iris = load_iris()\n",
    "\n",
    "alldata = np.hstack((iris.data, iris.target.reshape(-1,1)))\n",
    "df = pd.DataFrame(alldata, columns=[\"sepal_length\", \"sepal_width\", \"petal_length\", \"petal_width\", \"species\"])\n",
    "df.head()"
   ]
  },
  {
   "cell_type": "code",
   "execution_count": 80,
   "metadata": {},
   "outputs": [],
   "source": [
    "from sklearn.svm import SVC\n",
    "from sklearn.model_selection import train_test_split\n",
    "from sklearn.metrics import accuracy_score"
   ]
  },
  {
   "cell_type": "code",
   "execution_count": 81,
   "metadata": {},
   "outputs": [
    {
     "data": {
      "text/html": [
       "<div>\n",
       "<style>\n",
       "    .dataframe thead tr:only-child th {\n",
       "        text-align: right;\n",
       "    }\n",
       "\n",
       "    .dataframe thead th {\n",
       "        text-align: left;\n",
       "    }\n",
       "\n",
       "    .dataframe tbody tr th {\n",
       "        vertical-align: top;\n",
       "    }\n",
       "</style>\n",
       "<table border=\"1\" class=\"dataframe\">\n",
       "  <thead>\n",
       "    <tr style=\"text-align: right;\">\n",
       "      <th></th>\n",
       "      <th>sepal_length</th>\n",
       "      <th>sepal_width</th>\n",
       "      <th>petal_length</th>\n",
       "      <th>petal_width</th>\n",
       "    </tr>\n",
       "  </thead>\n",
       "  <tbody>\n",
       "    <tr>\n",
       "      <th>0</th>\n",
       "      <td>5.1</td>\n",
       "      <td>3.5</td>\n",
       "      <td>1.4</td>\n",
       "      <td>0.2</td>\n",
       "    </tr>\n",
       "    <tr>\n",
       "      <th>1</th>\n",
       "      <td>4.9</td>\n",
       "      <td>3.0</td>\n",
       "      <td>1.4</td>\n",
       "      <td>0.2</td>\n",
       "    </tr>\n",
       "    <tr>\n",
       "      <th>2</th>\n",
       "      <td>4.7</td>\n",
       "      <td>3.2</td>\n",
       "      <td>1.3</td>\n",
       "      <td>0.2</td>\n",
       "    </tr>\n",
       "    <tr>\n",
       "      <th>3</th>\n",
       "      <td>4.6</td>\n",
       "      <td>3.1</td>\n",
       "      <td>1.5</td>\n",
       "      <td>0.2</td>\n",
       "    </tr>\n",
       "    <tr>\n",
       "      <th>4</th>\n",
       "      <td>5.0</td>\n",
       "      <td>3.6</td>\n",
       "      <td>1.4</td>\n",
       "      <td>0.2</td>\n",
       "    </tr>\n",
       "  </tbody>\n",
       "</table>\n",
       "</div>"
      ],
      "text/plain": [
       "   sepal_length  sepal_width  petal_length  petal_width\n",
       "0           5.1          3.5           1.4          0.2\n",
       "1           4.9          3.0           1.4          0.2\n",
       "2           4.7          3.2           1.3          0.2\n",
       "3           4.6          3.1           1.5          0.2\n",
       "4           5.0          3.6           1.4          0.2"
      ]
     },
     "execution_count": 81,
     "metadata": {},
     "output_type": "execute_result"
    }
   ],
   "source": [
    "X = df[[\"sepal_length\", \"sepal_width\", \"petal_length\", \"petal_width\"]]\n",
    "X.head()"
   ]
  },
  {
   "cell_type": "code",
   "execution_count": 82,
   "metadata": {},
   "outputs": [
    {
     "data": {
      "text/plain": [
       "0    0.0\n",
       "1    0.0\n",
       "2    0.0\n",
       "3    0.0\n",
       "4    0.0\n",
       "Name: species, dtype: float64"
      ]
     },
     "execution_count": 82,
     "metadata": {},
     "output_type": "execute_result"
    }
   ],
   "source": [
    "y = df[\"species\"]\n",
    "y.head()"
   ]
  },
  {
   "cell_type": "code",
   "execution_count": 92,
   "metadata": {
    "collapsed": true
   },
   "outputs": [],
   "source": [
    "X_train, X_test, y_train, y_test = train_test_split(X, y, test_size=0.33)"
   ]
  },
  {
   "cell_type": "code",
   "execution_count": 93,
   "metadata": {},
   "outputs": [
    {
     "data": {
      "text/plain": [
       "0.97999999999999998"
      ]
     },
     "execution_count": 93,
     "metadata": {},
     "output_type": "execute_result"
    }
   ],
   "source": [
    "clf = SVC()\n",
    "clf.fit(X_train, y_train)\n",
    "y_pred = clf.predict(X_test)\n",
    "accuracy_score(y_test, y_pred)"
   ]
  },
  {
   "cell_type": "code",
   "execution_count": null,
   "metadata": {
    "collapsed": true
   },
   "outputs": [],
   "source": []
  }
 ],
 "metadata": {
  "kernelspec": {
   "display_name": "Python 3",
   "language": "python",
   "name": "python3"
  },
  "language_info": {
   "codemirror_mode": {
    "name": "ipython",
    "version": 3
   },
   "file_extension": ".py",
   "mimetype": "text/x-python",
   "name": "python",
   "nbconvert_exporter": "python",
   "pygments_lexer": "ipython3",
   "version": "3.6.1"
  }
 },
 "nbformat": 4,
 "nbformat_minor": 2
}
