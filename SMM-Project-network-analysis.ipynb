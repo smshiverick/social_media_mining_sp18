{
 "cells": [
  {
   "cell_type": "markdown",
   "metadata": {},
   "source": [
    "# Social Media Mining: Course Project\n",
    "### Sean M. Shiverick - Spring 2018\n",
    "\n",
    "# Network Analysis\n",
    "* Make an undirected graph that we'll use to demonstrate network measures. \n",
    "* Import twitter data with pandas `read_csv`\n",
    "* Create tuple of user and reply in new column as list "
   ]
  },
  {
   "cell_type": "code",
   "execution_count": 1,
   "metadata": {},
   "outputs": [
    {
     "data": {
      "text/html": [
       "<div>\n",
       "<style>\n",
       "    .dataframe thead tr:only-child th {\n",
       "        text-align: right;\n",
       "    }\n",
       "\n",
       "    .dataframe thead th {\n",
       "        text-align: left;\n",
       "    }\n",
       "\n",
       "    .dataframe tbody tr th {\n",
       "        vertical-align: top;\n",
       "    }\n",
       "</style>\n",
       "<table border=\"1\" class=\"dataframe\">\n",
       "  <thead>\n",
       "    <tr style=\"text-align: right;\">\n",
       "      <th></th>\n",
       "      <th>userName</th>\n",
       "      <th>userID</th>\n",
       "      <th>repliedTo</th>\n",
       "      <th>Mention</th>\n",
       "    </tr>\n",
       "  </thead>\n",
       "  <tbody>\n",
       "    <tr>\n",
       "      <th>0</th>\n",
       "      <td>Shaun</td>\n",
       "      <td>2.108887e+07</td>\n",
       "      <td>2.005528e+07</td>\n",
       "      <td>teapartyfortoni</td>\n",
       "    </tr>\n",
       "    <tr>\n",
       "      <th>1</th>\n",
       "      <td>louisa_lutz</td>\n",
       "      <td>2.383569e+08</td>\n",
       "      <td>3.286923e+09</td>\n",
       "      <td>Carobailey864</td>\n",
       "    </tr>\n",
       "    <tr>\n",
       "      <th>2</th>\n",
       "      <td>louisa_lutz</td>\n",
       "      <td>2.383569e+08</td>\n",
       "      <td>2.862885e+07</td>\n",
       "      <td>greggutfeld</td>\n",
       "    </tr>\n",
       "    <tr>\n",
       "      <th>3</th>\n",
       "      <td>Brxndxn</td>\n",
       "      <td>9.540000e+17</td>\n",
       "      <td>2.974186e+09</td>\n",
       "      <td>clovergurl</td>\n",
       "    </tr>\n",
       "    <tr>\n",
       "      <th>4</th>\n",
       "      <td>Mathias_Luger</td>\n",
       "      <td>9.010000e+17</td>\n",
       "      <td>9.706549e+07</td>\n",
       "      <td>process_x</td>\n",
       "    </tr>\n",
       "  </tbody>\n",
       "</table>\n",
       "</div>"
      ],
      "text/plain": [
       "        userName        userID     repliedTo          Mention\n",
       "0          Shaun  2.108887e+07  2.005528e+07  teapartyfortoni\n",
       "1    louisa_lutz  2.383569e+08  3.286923e+09   Carobailey864 \n",
       "2    louisa_lutz  2.383569e+08  2.862885e+07      greggutfeld\n",
       "3        Brxndxn  9.540000e+17  2.974186e+09       clovergurl\n",
       "4  Mathias_Luger  9.010000e+17  9.706549e+07        process_x"
      ]
     },
     "execution_count": 1,
     "metadata": {},
     "output_type": "execute_result"
    }
   ],
   "source": [
    "import numpy as np\n",
    "import pandas as pd\n",
    "\n",
    "file = pd.read_csv('SMM-alltweets-2d.csv')\n",
    "df = pd.DataFrame(file)\n",
    "\n",
    "df.head()"
   ]
  },
  {
   "cell_type": "code",
   "execution_count": 2,
   "metadata": {},
   "outputs": [
    {
     "data": {
      "text/html": [
       "<div>\n",
       "<style>\n",
       "    .dataframe thead tr:only-child th {\n",
       "        text-align: right;\n",
       "    }\n",
       "\n",
       "    .dataframe thead th {\n",
       "        text-align: left;\n",
       "    }\n",
       "\n",
       "    .dataframe tbody tr th {\n",
       "        vertical-align: top;\n",
       "    }\n",
       "</style>\n",
       "<table border=\"1\" class=\"dataframe\">\n",
       "  <thead>\n",
       "    <tr style=\"text-align: right;\">\n",
       "      <th></th>\n",
       "      <th>userName</th>\n",
       "      <th>userID</th>\n",
       "      <th>repliedTo</th>\n",
       "      <th>Mention</th>\n",
       "      <th>edges</th>\n",
       "    </tr>\n",
       "  </thead>\n",
       "  <tbody>\n",
       "    <tr>\n",
       "      <th>0</th>\n",
       "      <td>Shaun</td>\n",
       "      <td>2.108887e+07</td>\n",
       "      <td>2.005528e+07</td>\n",
       "      <td>teapartyfortoni</td>\n",
       "      <td>(Shaun, teapartyfortoni)</td>\n",
       "    </tr>\n",
       "    <tr>\n",
       "      <th>1</th>\n",
       "      <td>louisa_lutz</td>\n",
       "      <td>2.383569e+08</td>\n",
       "      <td>3.286923e+09</td>\n",
       "      <td>Carobailey864</td>\n",
       "      <td>(louisa_lutz, Carobailey864 )</td>\n",
       "    </tr>\n",
       "    <tr>\n",
       "      <th>2</th>\n",
       "      <td>louisa_lutz</td>\n",
       "      <td>2.383569e+08</td>\n",
       "      <td>2.862885e+07</td>\n",
       "      <td>greggutfeld</td>\n",
       "      <td>(louisa_lutz, greggutfeld)</td>\n",
       "    </tr>\n",
       "    <tr>\n",
       "      <th>3</th>\n",
       "      <td>Brxndxn</td>\n",
       "      <td>9.540000e+17</td>\n",
       "      <td>2.974186e+09</td>\n",
       "      <td>clovergurl</td>\n",
       "      <td>(Brxndxn, clovergurl)</td>\n",
       "    </tr>\n",
       "    <tr>\n",
       "      <th>4</th>\n",
       "      <td>Mathias_Luger</td>\n",
       "      <td>9.010000e+17</td>\n",
       "      <td>9.706549e+07</td>\n",
       "      <td>process_x</td>\n",
       "      <td>(Mathias_Luger, process_x)</td>\n",
       "    </tr>\n",
       "  </tbody>\n",
       "</table>\n",
       "</div>"
      ],
      "text/plain": [
       "        userName        userID     repliedTo          Mention  \\\n",
       "0          Shaun  2.108887e+07  2.005528e+07  teapartyfortoni   \n",
       "1    louisa_lutz  2.383569e+08  3.286923e+09   Carobailey864    \n",
       "2    louisa_lutz  2.383569e+08  2.862885e+07      greggutfeld   \n",
       "3        Brxndxn  9.540000e+17  2.974186e+09       clovergurl   \n",
       "4  Mathias_Luger  9.010000e+17  9.706549e+07        process_x   \n",
       "\n",
       "                           edges  \n",
       "0       (Shaun, teapartyfortoni)  \n",
       "1  (louisa_lutz, Carobailey864 )  \n",
       "2     (louisa_lutz, greggutfeld)  \n",
       "3          (Brxndxn, clovergurl)  \n",
       "4     (Mathias_Luger, process_x)  "
      ]
     },
     "execution_count": 2,
     "metadata": {},
     "output_type": "execute_result"
    }
   ],
   "source": [
    "df['edges'] = list(zip(df.userName, df.Mention))\n",
    "df.head()"
   ]
  },
  {
   "cell_type": "code",
   "execution_count": 3,
   "metadata": {},
   "outputs": [
    {
     "data": {
      "text/plain": [
       "[('Shaun', 'teapartyfortoni'),\n",
       " ('louisa_lutz', 'Carobailey864 '),\n",
       " ('louisa_lutz', 'greggutfeld'),\n",
       " ('Brxndxn', 'clovergurl'),\n",
       " ('Mathias_Luger', 'process_x'),\n",
       " ('Seth_Diamond', 'jlukes '),\n",
       " ('Seth_Diamond', 'cmav00'),\n",
       " ('Seth_Diamond', 'MyGolfSpy'),\n",
       " ('Paula', 'xeroxtina'),\n",
       " ('Eve_Moneypenny', 'LeChiffrey'),\n",
       " ('Angel_A', '1452468846'),\n",
       " ('dan_bolger', 'BrandeisCFR '),\n",
       " ('lil_boom_boom', 'TheHellerSchool '),\n",
       " ('Rain_shipping_hell', 'andrewkolodny '),\n",
       " ('Food_Thoyd', 'BrandeisU'),\n",
       " ('JMK', 'newartillery'),\n",
       " ('louisa_lutz', 'StopBadDocs'),\n",
       " ('louisa_lutz', 'Shasta77777 '),\n",
       " ('louisa_lutz', 'ShareOurPainAR'),\n",
       " ('louisa_lutz', 'muffsgirl68'),\n",
       " ('louisa_lutz', 'aander1987'),\n",
       " ('louisa_lutz', 'bluelilly40 '),\n",
       " ('louisa_lutz', 'ThomasKlineMD '),\n",
       " ('louisa_lutz', 'djwilliams35'),\n",
       " ('louisa_lutz', 'dadgum5'),\n",
       " ('louisa_lutz', 'dadgum5 '),\n",
       " ('louisa_lutz', 'RogueWolf2001'),\n",
       " ('louisa_lutz', 'StarvinLarry '),\n",
       " ('louisa_lutz', 'peggy2176ilgma1'),\n",
       " ('louisa_lutz', 'marykayconsult3'),\n",
       " ('louisa_lutz', 'ravensspirit68'),\n",
       " ('louisa_lutz', 'geokids0769'),\n",
       " ('louisa_lutz', 'chronicpainwar '),\n",
       " ('louisa_lutz', 'beachnut826'),\n",
       " ('louisa_lutz', 'ADAWnews '),\n",
       " ('louisa_lutz', 'LelenaPeacock'),\n",
       " ('louisa_lutz', ' ellewoodsruns'),\n",
       " ('louisa_lutz', 'Wanita1 '),\n",
       " ('louisa_lutz', 'emergVictorious'),\n",
       " ('louisa_lutz', 'Deeenst'),\n",
       " ('louisa_lutz', 'headdock'),\n",
       " ('louisa_lutz', 'sleepingkoala45'),\n",
       " ('louisa_lutz', 'NicoleInPain'),\n",
       " ('louisa_lutz', 'CaptCRPS'),\n",
       " ('louisa_lutz', 'PatrickDoyle_35'),\n",
       " ('louisa_lutz', 'pamelakarnbach'),\n",
       " ('louisa_lutz', 'WhosAGrumpyBear'),\n",
       " ('louisa_lutz', 'GhostinGeek'),\n",
       " ('louisa_lutz', 'ColeridgeSammy'),\n",
       " ('louisa_lutz', 'HELP_AB '),\n",
       " ('louisa_lutz', 'earth_to_jen'),\n",
       " ('louisa_lutz', 'YourDrunkAunt'),\n",
       " ('louisa_lutz', 'Btully41Tully'),\n",
       " ('louisa_lutz', 'Rxpalli8r'),\n",
       " ('louisa_lutz', 'cao812 '),\n",
       " ('louisa_lutz', 'StaceyF62'),\n",
       " ('louisa_lutz', 'drrickbarnett'),\n",
       " ('louisa_lutz', 'MotherJones'),\n",
       " ('louisa_lutz', 'andrewkolodny '),\n",
       " ('louisa_lutz', 'CarrieKHutchens '),\n",
       " ('louisa_lutz', 'PainPtFightBack'),\n",
       " ('louisa_lutz', 'StapletonPBPost'),\n",
       " ('louisa_lutz', 'Beyerstein'),\n",
       " ('louisa_lutz', 'JeffreyFudin '),\n",
       " ('louisa_lutz', 'OpioidSteward '),\n",
       " ('louisa_lutz', 'DreamPharmD'),\n",
       " ('louisa_lutz', 'UChicago'),\n",
       " ('madeline', 'greggutfeld'),\n",
       " ('DJ_Freq_Waves', '28606788'),\n",
       " ('Sally_Dunn', 'SimonRoffe'),\n",
       " ('Gummy_Bear_Mess', 'Totalbiscuit'),\n",
       " ('Gummy_Bear_Mess', 'MrRyanMorrison')]"
      ]
     },
     "execution_count": 3,
     "metadata": {},
     "output_type": "execute_result"
    }
   ],
   "source": [
    "edges = df['edges'].tolist()\n",
    "edges"
   ]
  },
  {
   "cell_type": "code",
   "execution_count": 4,
   "metadata": {
    "collapsed": true
   },
   "outputs": [],
   "source": [
    "import networkx as nx\n",
    "\n",
    "G = nx.Graph()\n",
    "\n",
    "G.add_edges_from(edges)"
   ]
  },
  {
   "cell_type": "code",
   "execution_count": 14,
   "metadata": {},
   "outputs": [
    {
     "data": {
      "image/png": "[encoded data removed]",
      "text/plain": [
       "<matplotlib.figure.Figure at 0x113e08358>"
      ]
     },
     "metadata": {},
     "output_type": "display_data"
    }
   ],
   "source": [
    "%matplotlib inline\n",
    "import matplotlib.pyplot as plt\n",
    "\n",
    "pos = nx.spring_layout(G, iterations=100)\n",
    "nx.draw_networkx_nodes(G, pos, node_size = 300)\n",
    "nx.draw_networkx_edges(G, pos)\n",
    "nx.draw_networkx_labels(G, pos, font_size=10)\n",
    "plt.axis(\"off\")\n",
    "#plt.show()\n",
    "\n",
    "plt.savefig('smm-edges1.png')"
   ]
  },
  {
   "cell_type": "code",
   "execution_count": 9,
   "metadata": {},
   "outputs": [
    {
     "data": {
      "text/plain": [
       "[('Shaun', 'teapartyfortoni'),\n",
       " ('louisa_lutz', 'Carobailey864 '),\n",
       " ('louisa_lutz', 'greggutfeld'),\n",
       " ('louisa_lutz', 'StopBadDocs'),\n",
       " ('louisa_lutz', 'Shasta77777 '),\n",
       " ('louisa_lutz', 'ShareOurPainAR'),\n",
       " ('louisa_lutz', 'muffsgirl68'),\n",
       " ('louisa_lutz', 'aander1987'),\n",
       " ('louisa_lutz', 'bluelilly40 '),\n",
       " ('louisa_lutz', 'ThomasKlineMD ')]"
      ]
     },
     "execution_count": 9,
     "metadata": {},
     "output_type": "execute_result"
    }
   ],
   "source": [
    "G.edges()[:10]"
   ]
  },
  {
   "cell_type": "code",
   "execution_count": 8,
   "metadata": {},
   "outputs": [
    {
     "data": {
      "text/plain": [
       "['Shaun',\n",
       " 'teapartyfortoni',\n",
       " 'louisa_lutz',\n",
       " 'Carobailey864 ',\n",
       " 'greggutfeld',\n",
       " 'Brxndxn',\n",
       " 'clovergurl',\n",
       " 'Mathias_Luger',\n",
       " 'process_x',\n",
       " 'Seth_Diamond']"
      ]
     },
     "execution_count": 8,
     "metadata": {},
     "output_type": "execute_result"
    }
   ],
   "source": [
    "G.nodes()[:10]"
   ]
  },
  {
   "cell_type": "markdown",
   "metadata": {},
   "source": [
    "# Degree Centrality\n",
    "* Quantifies importance of a node is to simply take into account how many edges they have. \n",
    "* A node with a lot of edges is important, a node with fewer edges is less important. "
   ]
  },
  {
   "cell_type": "code",
   "execution_count": 17,
   "metadata": {},
   "outputs": [
    {
     "data": {
      "text/plain": [
       "53"
      ]
     },
     "execution_count": 17,
     "metadata": {},
     "output_type": "execute_result"
    }
   ],
   "source": [
    "G.degree(\"louisa_lutz\")"
   ]
  },
  {
   "cell_type": "markdown",
   "metadata": {},
   "source": [
    "## Networkx function ``degree_centrality`` \n",
    "* Calculates the *normalized degree* for every node in a graph. \n",
    "* Normalized by the highest number of connections a node may possibly have: \n",
    "* If the number of nodes in a network is $n$, then degree centrality is normalized by $n-1$."
   ]
  },
  {
   "cell_type": "code",
   "execution_count": 12,
   "metadata": {},
   "outputs": [
    {
     "data": {
      "text/plain": [
       "{' ellewoodsruns': 0.011627906976744186,\n",
       " '1452468846': 0.011627906976744186,\n",
       " '28606788': 0.011627906976744186,\n",
       " 'ADAWnews ': 0.011627906976744186,\n",
       " 'Angel_A': 0.011627906976744186,\n",
       " 'Beyerstein': 0.011627906976744186,\n",
       " 'BrandeisCFR ': 0.011627906976744186,\n",
       " 'BrandeisU': 0.011627906976744186,\n",
       " 'Brxndxn': 0.011627906976744186,\n",
       " 'Btully41Tully': 0.011627906976744186,\n",
       " 'CaptCRPS': 0.011627906976744186,\n",
       " 'Carobailey864 ': 0.011627906976744186,\n",
       " 'CarrieKHutchens ': 0.011627906976744186,\n",
       " 'ColeridgeSammy': 0.011627906976744186,\n",
       " 'DJ_Freq_Waves': 0.011627906976744186,\n",
       " 'Deeenst': 0.011627906976744186,\n",
       " 'DreamPharmD': 0.011627906976744186,\n",
       " 'Eve_Moneypenny': 0.011627906976744186,\n",
       " 'Food_Thoyd': 0.011627906976744186,\n",
       " 'GhostinGeek': 0.011627906976744186,\n",
       " 'Gummy_Bear_Mess': 0.023255813953488372,\n",
       " 'HELP_AB ': 0.011627906976744186,\n",
       " 'JMK': 0.011627906976744186,\n",
       " 'JeffreyFudin ': 0.011627906976744186,\n",
       " 'LeChiffrey': 0.011627906976744186,\n",
       " 'LelenaPeacock': 0.011627906976744186,\n",
       " 'Mathias_Luger': 0.011627906976744186,\n",
       " 'MotherJones': 0.011627906976744186,\n",
       " 'MrRyanMorrison': 0.011627906976744186,\n",
       " 'MyGolfSpy': 0.011627906976744186,\n",
       " 'NicoleInPain': 0.011627906976744186,\n",
       " 'OpioidSteward ': 0.011627906976744186,\n",
       " 'PainPtFightBack': 0.011627906976744186,\n",
       " 'PatrickDoyle_35': 0.011627906976744186,\n",
       " 'Paula': 0.011627906976744186,\n",
       " 'Rain_shipping_hell': 0.011627906976744186,\n",
       " 'RogueWolf2001': 0.011627906976744186,\n",
       " 'Rxpalli8r': 0.011627906976744186,\n",
       " 'Sally_Dunn': 0.011627906976744186,\n",
       " 'Seth_Diamond': 0.03488372093023256,\n",
       " 'ShareOurPainAR': 0.011627906976744186,\n",
       " 'Shasta77777 ': 0.011627906976744186,\n",
       " 'Shaun': 0.011627906976744186,\n",
       " 'SimonRoffe': 0.011627906976744186,\n",
       " 'StaceyF62': 0.011627906976744186,\n",
       " 'StapletonPBPost': 0.011627906976744186,\n",
       " 'StarvinLarry ': 0.011627906976744186,\n",
       " 'StopBadDocs': 0.011627906976744186,\n",
       " 'TheHellerSchool ': 0.011627906976744186,\n",
       " 'ThomasKlineMD ': 0.011627906976744186,\n",
       " 'Totalbiscuit': 0.011627906976744186,\n",
       " 'UChicago': 0.011627906976744186,\n",
       " 'Wanita1 ': 0.011627906976744186,\n",
       " 'WhosAGrumpyBear': 0.011627906976744186,\n",
       " 'YourDrunkAunt': 0.011627906976744186,\n",
       " 'aander1987': 0.011627906976744186,\n",
       " 'andrewkolodny ': 0.023255813953488372,\n",
       " 'beachnut826': 0.011627906976744186,\n",
       " 'bluelilly40 ': 0.011627906976744186,\n",
       " 'cao812 ': 0.011627906976744186,\n",
       " 'chronicpainwar ': 0.011627906976744186,\n",
       " 'clovergurl': 0.011627906976744186,\n",
       " 'cmav00': 0.011627906976744186,\n",
       " 'dadgum5': 0.011627906976744186,\n",
       " 'dadgum5 ': 0.011627906976744186,\n",
       " 'dan_bolger': 0.011627906976744186,\n",
       " 'djwilliams35': 0.011627906976744186,\n",
       " 'drrickbarnett': 0.011627906976744186,\n",
       " 'earth_to_jen': 0.011627906976744186,\n",
       " 'emergVictorious': 0.011627906976744186,\n",
       " 'geokids0769': 0.011627906976744186,\n",
       " 'greggutfeld': 0.023255813953488372,\n",
       " 'headdock': 0.011627906976744186,\n",
       " 'jlukes ': 0.011627906976744186,\n",
       " 'lil_boom_boom': 0.011627906976744186,\n",
       " 'louisa_lutz': 0.6162790697674418,\n",
       " 'madeline': 0.011627906976744186,\n",
       " 'marykayconsult3': 0.011627906976744186,\n",
       " 'muffsgirl68': 0.011627906976744186,\n",
       " 'newartillery': 0.011627906976744186,\n",
       " 'pamelakarnbach': 0.011627906976744186,\n",
       " 'peggy2176ilgma1': 0.011627906976744186,\n",
       " 'process_x': 0.011627906976744186,\n",
       " 'ravensspirit68': 0.011627906976744186,\n",
       " 'sleepingkoala45': 0.011627906976744186,\n",
       " 'teapartyfortoni': 0.011627906976744186,\n",
       " 'xeroxtina': 0.011627906976744186}"
      ]
     },
     "execution_count": 12,
     "metadata": {},
     "output_type": "execute_result"
    }
   ],
   "source": [
    "nx.degree_centrality(G)"
   ]
  },
  {
   "cell_type": "code",
   "execution_count": 13,
   "metadata": {},
   "outputs": [
    {
     "data": {
      "text/plain": [
       "{' ellewoodsruns': 0.0,\n",
       " '1452468846': 0.0,\n",
       " '28606788': 0.0,\n",
       " 'ADAWnews ': 0.0,\n",
       " 'Angel_A': 0.0,\n",
       " 'Beyerstein': 0.0,\n",
       " 'BrandeisCFR ': 0.0,\n",
       " 'BrandeisU': 0.0,\n",
       " 'Brxndxn': 0.0,\n",
       " 'Btully41Tully': 0.0,\n",
       " 'CaptCRPS': 0.0,\n",
       " 'Carobailey864 ': 0.0,\n",
       " 'CarrieKHutchens ': 0.0,\n",
       " 'ColeridgeSammy': 0.0,\n",
       " 'DJ_Freq_Waves': 0.0,\n",
       " 'Deeenst': 0.0,\n",
       " 'DreamPharmD': 0.0,\n",
       " 'Eve_Moneypenny': 0.0,\n",
       " 'Food_Thoyd': 0.0,\n",
       " 'GhostinGeek': 0.0,\n",
       " 'Gummy_Bear_Mess': 0.00027359781121751026,\n",
       " 'HELP_AB ': 0.0,\n",
       " 'JMK': 0.0,\n",
       " 'JeffreyFudin ': 0.0,\n",
       " 'LeChiffrey': 0.0,\n",
       " 'LelenaPeacock': 0.0,\n",
       " 'Mathias_Luger': 0.0,\n",
       " 'MotherJones': 0.0,\n",
       " 'MrRyanMorrison': 0.0,\n",
       " 'MyGolfSpy': 0.0,\n",
       " 'NicoleInPain': 0.0,\n",
       " 'OpioidSteward ': 0.0,\n",
       " 'PainPtFightBack': 0.0,\n",
       " 'PatrickDoyle_35': 0.0,\n",
       " 'Paula': 0.0,\n",
       " 'Rain_shipping_hell': 0.0,\n",
       " 'RogueWolf2001': 0.0,\n",
       " 'Rxpalli8r': 0.0,\n",
       " 'Sally_Dunn': 0.0,\n",
       " 'Seth_Diamond': 0.0008207934336525308,\n",
       " 'ShareOurPainAR': 0.0,\n",
       " 'Shasta77777 ': 0.0,\n",
       " 'Shaun': 0.0,\n",
       " 'SimonRoffe': 0.0,\n",
       " 'StaceyF62': 0.0,\n",
       " 'StapletonPBPost': 0.0,\n",
       " 'StarvinLarry ': 0.0,\n",
       " 'StopBadDocs': 0.0,\n",
       " 'TheHellerSchool ': 0.0,\n",
       " 'ThomasKlineMD ': 0.0,\n",
       " 'Totalbiscuit': 0.0,\n",
       " 'UChicago': 0.0,\n",
       " 'Wanita1 ': 0.0,\n",
       " 'WhosAGrumpyBear': 0.0,\n",
       " 'YourDrunkAunt': 0.0,\n",
       " 'aander1987': 0.0,\n",
       " 'andrewkolodny ': 0.014774281805745554,\n",
       " 'beachnut826': 0.0,\n",
       " 'bluelilly40 ': 0.0,\n",
       " 'cao812 ': 0.0,\n",
       " 'chronicpainwar ': 0.0,\n",
       " 'clovergurl': 0.0,\n",
       " 'cmav00': 0.0,\n",
       " 'dadgum5': 0.0,\n",
       " 'dadgum5 ': 0.0,\n",
       " 'dan_bolger': 0.0,\n",
       " 'djwilliams35': 0.0,\n",
       " 'drrickbarnett': 0.0,\n",
       " 'earth_to_jen': 0.0,\n",
       " 'emergVictorious': 0.0,\n",
       " 'geokids0769': 0.0,\n",
       " 'greggutfeld': 0.014774281805745554,\n",
       " 'headdock': 0.0,\n",
       " 'jlukes ': 0.0,\n",
       " 'lil_boom_boom': 0.0,\n",
       " 'louisa_lutz': 0.4057455540355677,\n",
       " 'madeline': 0.0,\n",
       " 'marykayconsult3': 0.0,\n",
       " 'muffsgirl68': 0.0,\n",
       " 'newartillery': 0.0,\n",
       " 'pamelakarnbach': 0.0,\n",
       " 'peggy2176ilgma1': 0.0,\n",
       " 'process_x': 0.0,\n",
       " 'ravensspirit68': 0.0,\n",
       " 'sleepingkoala45': 0.0,\n",
       " 'teapartyfortoni': 0.0,\n",
       " 'xeroxtina': 0.0}"
      ]
     },
     "execution_count": 13,
     "metadata": {},
     "output_type": "execute_result"
    }
   ],
   "source": [
    "nx.betweenness_centrality(G)"
   ]
  },
  {
   "cell_type": "code",
   "execution_count": 19,
   "metadata": {},
   "outputs": [
    {
     "data": {
      "text/plain": [
       "[('louisa_lutz', 'Carobailey864 '),\n",
       " ('louisa_lutz', 'greggutfeld'),\n",
       " ('louisa_lutz', 'StopBadDocs'),\n",
       " ('louisa_lutz', 'Shasta77777 '),\n",
       " ('louisa_lutz', 'ShareOurPainAR'),\n",
       " ('louisa_lutz', 'muffsgirl68'),\n",
       " ('louisa_lutz', 'aander1987'),\n",
       " ('louisa_lutz', 'bluelilly40 '),\n",
       " ('louisa_lutz', 'ThomasKlineMD '),\n",
       " ('louisa_lutz', 'djwilliams35'),\n",
       " ('louisa_lutz', 'dadgum5'),\n",
       " ('louisa_lutz', 'dadgum5 '),\n",
       " ('louisa_lutz', 'RogueWolf2001'),\n",
       " ('louisa_lutz', 'StarvinLarry '),\n",
       " ('louisa_lutz', 'peggy2176ilgma1'),\n",
       " ('louisa_lutz', 'marykayconsult3'),\n",
       " ('louisa_lutz', 'ravensspirit68'),\n",
       " ('louisa_lutz', 'geokids0769'),\n",
       " ('louisa_lutz', 'chronicpainwar '),\n",
       " ('louisa_lutz', 'beachnut826'),\n",
       " ('louisa_lutz', 'ADAWnews '),\n",
       " ('louisa_lutz', 'LelenaPeacock'),\n",
       " ('louisa_lutz', ' ellewoodsruns'),\n",
       " ('louisa_lutz', 'Wanita1 '),\n",
       " ('louisa_lutz', 'emergVictorious'),\n",
       " ('louisa_lutz', 'Deeenst'),\n",
       " ('louisa_lutz', 'headdock'),\n",
       " ('louisa_lutz', 'sleepingkoala45'),\n",
       " ('louisa_lutz', 'NicoleInPain'),\n",
       " ('louisa_lutz', 'CaptCRPS'),\n",
       " ('louisa_lutz', 'PatrickDoyle_35'),\n",
       " ('louisa_lutz', 'pamelakarnbach'),\n",
       " ('louisa_lutz', 'WhosAGrumpyBear'),\n",
       " ('louisa_lutz', 'GhostinGeek'),\n",
       " ('louisa_lutz', 'ColeridgeSammy'),\n",
       " ('louisa_lutz', 'HELP_AB '),\n",
       " ('louisa_lutz', 'earth_to_jen'),\n",
       " ('louisa_lutz', 'YourDrunkAunt'),\n",
       " ('louisa_lutz', 'Btully41Tully'),\n",
       " ('louisa_lutz', 'Rxpalli8r'),\n",
       " ('louisa_lutz', 'cao812 '),\n",
       " ('louisa_lutz', 'StaceyF62'),\n",
       " ('louisa_lutz', 'drrickbarnett'),\n",
       " ('louisa_lutz', 'MotherJones'),\n",
       " ('louisa_lutz', 'andrewkolodny '),\n",
       " ('louisa_lutz', 'CarrieKHutchens '),\n",
       " ('louisa_lutz', 'PainPtFightBack'),\n",
       " ('louisa_lutz', 'StapletonPBPost'),\n",
       " ('louisa_lutz', 'Beyerstein'),\n",
       " ('louisa_lutz', 'JeffreyFudin '),\n",
       " ('louisa_lutz', 'OpioidSteward '),\n",
       " ('louisa_lutz', 'DreamPharmD'),\n",
       " ('louisa_lutz', 'UChicago')]"
      ]
     },
     "execution_count": 19,
     "metadata": {},
     "output_type": "execute_result"
    }
   ],
   "source": [
    "G.edges('louisa_lutz')"
   ]
  },
  {
   "cell_type": "code",
   "execution_count": null,
   "metadata": {
    "collapsed": true
   },
   "outputs": [],
   "source": []
  }
 ],
 "metadata": {
  "kernelspec": {
   "display_name": "Python 3",
   "language": "python",
   "name": "python3"
  },
  "language_info": {
   "codemirror_mode": {
    "name": "ipython",
    "version": 3
   },
   "file_extension": ".py",
   "mimetype": "text/x-python",
   "name": "python",
   "nbconvert_exporter": "python",
   "pygments_lexer": "ipython3",
   "version": "3.6.1"
  }
 },
 "nbformat": 4,
 "nbformat_minor": 2
}
